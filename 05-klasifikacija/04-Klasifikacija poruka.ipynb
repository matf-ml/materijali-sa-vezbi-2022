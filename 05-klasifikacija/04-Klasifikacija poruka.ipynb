{
 "cells": [
  {
   "cell_type": "markdown",
   "metadata": {},
   "source": [
    "# Klasifikacija SMS poruka"
   ]
  },
  {
   "cell_type": "code",
   "execution_count": 1,
   "metadata": {},
   "outputs": [],
   "source": [
    "import os\n",
    "import numpy as np\n",
    "from matplotlib import pyplot as plt"
   ]
  },
  {
   "cell_type": "code",
   "execution_count": 2,
   "metadata": {},
   "outputs": [],
   "source": [
    "import nltk\n",
    "import string"
   ]
  },
  {
   "cell_type": "code",
   "execution_count": 3,
   "metadata": {},
   "outputs": [],
   "source": [
    "from sklearn import linear_model\n",
    "from sklearn import svm\n",
    "from sklearn import neighbors\n",
    "from sklearn import model_selection\n",
    "from sklearn import metrics\n",
    "from sklearn import preprocessing\n",
    "from sklearn import feature_extraction"
   ]
  },
  {
   "cell_type": "markdown",
   "metadata": {},
   "source": [
    "U prethodnom primeru smo videli na koje načine možemo da kreiramo `vokabular`, skup svih reči koje se pojavljuju u kolekciji tekstova kojom raspolažemo. Obično su ove reči leksikografski uređene, nalik popisu reči u rečnicima. U ovom primeru želimo da vidimo kako možemo doći do reprezentacija pogodnih za primenu algoritama mašinskog učenja. "
   ]
  },
  {
   "cell_type": "markdown",
   "metadata": {},
   "source": [
    "Tekstualna kolekcija nad kojom ćemo dalje eksperimentisati sadrži dve rečenice. To mogu biti i dva pasusa, dva dokumenta ili bilo koje druge tekstualne forme. "
   ]
  },
  {
   "cell_type": "code",
   "execution_count": 4,
   "metadata": {},
   "outputs": [],
   "source": [
    "corpus = ['This is so so so interesting!', 'Interesting is always better than non interesting.']"
   ]
  },
  {
   "cell_type": "markdown",
   "metadata": {},
   "source": [
    "## Vreća reci (engl. Bag of Words)\n",
    "\n",
    "Pretpostavimo da u vokabularu imamo `|V|` reči i da su one leksikografski uređene. Rečima možemo dodeliti redne brojeve koji odgovaraju pozicijama na kojima se nalaze. Rečenicu teksta stoga možemo predstaviti kao vektor dimenzije `|V|` u kojem se na poziciji `i` nalazi `1` ukoliko je `i`-ta reč vokabulara prisutna u rečenici ili `0` ukoliko se `i`-ta reč vokabulara ne nalazi u njoj. Ovakva reprezentacija rečenica (u opštem slučaju bilo kojih fragmenata teksta) gubi informaciju o povezanosti reči (rečenice *Tom likes Mary* i *Mary likes Tom* imaju iste reprezentacije i sasvim različitu semantiku) kao i informaciju o broju pojavljivanja određenih reči (što može biti važno za određivanje npr. teme teksta). Zato se ova reprezentacija može nadgraditi reprezentacijom u kojoj se na poziciji `i` nalazi `broj pojavljivanja reči` ili `0` ukoliko se ta reč ne javlja u rečenici. Ovakve reprezentacije i dalje nisu savršene jer ne uzimaju u obzir dužinu teksta - ukoliko je tekst dug reči se mogu pojavljivati neopravdano sa većom frekvencijom, i obratno.\n",
    "\n",
    "<img src='assets/count_vectorizer.png'>\n",
    "\n",
    "Bibiloteka `scikit-learn` sadrži klasu `CountVectorizer` koja nudi funkcionalnost vektorizacije teksta u model vreće reči sa frekvencijama (brojem pojavljivanja)."
   ]
  },
  {
   "cell_type": "code",
   "execution_count": null,
   "metadata": {},
   "outputs": [],
   "source": []
  },
  {
   "cell_type": "code",
   "execution_count": null,
   "metadata": {},
   "outputs": [],
   "source": []
  },
  {
   "cell_type": "code",
   "execution_count": null,
   "metadata": {},
   "outputs": [],
   "source": []
  },
  {
   "cell_type": "code",
   "execution_count": null,
   "metadata": {},
   "outputs": [],
   "source": []
  },
  {
   "cell_type": "code",
   "execution_count": null,
   "metadata": {},
   "outputs": [],
   "source": []
  },
  {
   "cell_type": "code",
   "execution_count": null,
   "metadata": {},
   "outputs": [],
   "source": []
  },
  {
   "cell_type": "code",
   "execution_count": null,
   "metadata": {},
   "outputs": [],
   "source": []
  },
  {
   "cell_type": "code",
   "execution_count": null,
   "metadata": {},
   "outputs": [],
   "source": []
  },
  {
   "cell_type": "code",
   "execution_count": null,
   "metadata": {},
   "outputs": [],
   "source": []
  },
  {
   "cell_type": "markdown",
   "metadata": {},
   "source": [
    "## TF-IDF (Term Frequency - Inverse Document Frequency)\n",
    "\n",
    "Reprezentacija rečenica vrećom reči (sa frekvencijama) se može unaprediti prelaskom na reprezentaciju sa trežinama. Težine bi trebale da reflektuju važnost reči u samoj rečenici, ali i važnost u odnosu na druge rečenice kolekcije. Jedna takva vektorska reprezentacija je Tf-Idf reprezentacija koja se uspešno koristi u mnogim NLP zadacima, na primer, u pretraživanju informacija (engl. information retrieval) ili istraživanju teksta (engl. text mining).\n",
    "Tf je skraćenica od `term frequency`, a Idf skraćenica od `inverse document frequency`. U primeru koji mi razmatramo dokumenti su zapravo rečenice, ali se time ne gubi na opštosti ovog pristupa.\n",
    "\n",
    "Neka je dalje: \n",
    "- $D = \\{d_1, d_2\\}$ - kolekcija rečenica/dokumenata\n",
    "- $d_1 = $ 'This is so so so interesting!' - prva rečenica/dokument\n",
    "- $d_2 = $ 'Interesting is always better than non interesting.' - druga rečenica/dokument\n",
    "\n",
    "\n",
    "\n",
    "### Izračunavanje  Tf-Idf težina\n",
    "Težina *tf-idf* je proizvod dva faktora:\n",
    "- $Tf(t, d)$ - koji predstavlja količnik broja pojavljivanja reči/termina $t$ u dokumentu $d$ i ukupnog broja reči u dokumentu $d$\n",
    "$$Tf(t, d) = \\frac{count(t)}{|d|}$$\n",
    "- $Idf(t, D)$ - koji predstavlja logaritam količnika ukupnog broja dokumenata skupa $D$ i broja dokumenata (iz skupa \n",
    "$D$) u kojima se pojavljuje termin $t$\n",
    "$$Idf(t, D) = log(\\frac{|D|}{N_t})$$\n",
    "\n",
    "\n",
    "Dakle, $$TfIdf(t, d, D) =Tf(t, d)\\cdot Idf(t, D)$$\n",
    "\n",
    "Važnost termina (reči) raste sa rastom broja njegovog pojavljivanja u dokumentu, ali se otežava njegovim ukupnim brojem pojavljivanja u celokupnom skupu dokumenata (rečima koje se pojavljuju u većem broju dokumenata pridružuje se manja vrednost jer je i njihova diskriminativnost manja).\n",
    "\n",
    "Postoje i mnoge varijacije na ovu temu o kojima se može više pročitati u članku na [Vikipediji](https://en.wikipedia.org/wiki/Tf%E2%80%93idf). "
   ]
  },
  {
   "cell_type": "code",
   "execution_count": null,
   "metadata": {},
   "outputs": [],
   "source": []
  },
  {
   "cell_type": "markdown",
   "metadata": {},
   "source": [
    "#### Primer\n",
    "Razmotrimo dokument $d$ koji sadrži 100 reči u kojima se reč *mačka* pojavljuje 3 puta.\n",
    "\n",
    "Tf(\"mačka\", $d$) = $\\frac{3}{100}$ = 0.03\n",
    "\n",
    "Pretpostavimo da imamo *10 miliona* dokumenata i da se reč \"mačka\" pojavljuje u 1000 njih. \n",
    "\n",
    "Idf(\"mačka\", $D$) = $\\log{(\\frac{10 000 000}{1 000})} = 4$\n",
    "\n",
    "Mera *tf-idf* predstavlja proizvod nadjenih vrednosti, odnosno $TfIdf = 0.03 \\cdot 4 = 0.12$."
   ]
  },
  {
   "cell_type": "code",
   "execution_count": null,
   "metadata": {},
   "outputs": [],
   "source": []
  },
  {
   "cell_type": "markdown",
   "metadata": {},
   "source": [
    "Bibiloteka `scikit-learn` sadrži klasu `TfIdfVectorizer` koja nudi funkcionalnost vektorizacije teksta na gore opisani način."
   ]
  },
  {
   "cell_type": "code",
   "execution_count": null,
   "metadata": {},
   "outputs": [],
   "source": []
  },
  {
   "cell_type": "code",
   "execution_count": null,
   "metadata": {},
   "outputs": [],
   "source": []
  },
  {
   "cell_type": "code",
   "execution_count": null,
   "metadata": {},
   "outputs": [],
   "source": []
  },
  {
   "cell_type": "code",
   "execution_count": null,
   "metadata": {},
   "outputs": [],
   "source": []
  },
  {
   "cell_type": "code",
   "execution_count": null,
   "metadata": {},
   "outputs": [],
   "source": []
  },
  {
   "cell_type": "code",
   "execution_count": null,
   "metadata": {},
   "outputs": [],
   "source": []
  },
  {
   "cell_type": "code",
   "execution_count": null,
   "metadata": {},
   "outputs": [],
   "source": []
  },
  {
   "cell_type": "markdown",
   "metadata": {},
   "source": [
    "## Kasifikacija SMS poruka na poželjne i nepoželjne"
   ]
  },
  {
   "cell_type": "markdown",
   "metadata": {},
   "source": [
    "U ovom primeru želimo da testiramo efektnost reprezentacija u zadatku klasifikacije sms poruka na spam i ne-spam poruke. "
   ]
  },
  {
   "cell_type": "markdown",
   "metadata": {},
   "source": [
    "### Učitavanje i priprema skupa podataka"
   ]
  },
  {
   "cell_type": "markdown",
   "metadata": {},
   "source": [
    "U direktorijumu `smsspam` nalazi se datoteka `SMSSpamCollection` u kojoj se nalaze pomenute porukice.\n",
    "\n",
    "Struktura je jedne linije dokumenta je sledeća:\n",
    "```txt\n",
    "LABELA\\tSADRZAJ\\n\n",
    "```\n",
    "Odnosno, prvo je navedena labela \n",
    "- `spam` - ukoliko je poruka spam\n",
    "- `ham` - ukoliko poruka nije spam\n",
    "\n",
    "potom karakter `\\t`, a potom i sadržaj sms poruke sve do karaktera `\\n`.\n"
   ]
  },
  {
   "cell_type": "code",
   "execution_count": null,
   "metadata": {},
   "outputs": [],
   "source": []
  },
  {
   "cell_type": "code",
   "execution_count": null,
   "metadata": {},
   "outputs": [],
   "source": []
  },
  {
   "cell_type": "code",
   "execution_count": null,
   "metadata": {},
   "outputs": [],
   "source": []
  },
  {
   "cell_type": "code",
   "execution_count": null,
   "metadata": {},
   "outputs": [],
   "source": []
  },
  {
   "cell_type": "code",
   "execution_count": null,
   "metadata": {},
   "outputs": [],
   "source": []
  },
  {
   "cell_type": "code",
   "execution_count": null,
   "metadata": {},
   "outputs": [],
   "source": []
  },
  {
   "cell_type": "code",
   "execution_count": null,
   "metadata": {},
   "outputs": [],
   "source": []
  },
  {
   "cell_type": "markdown",
   "metadata": {},
   "source": [
    "### Model logističke regresije"
   ]
  },
  {
   "cell_type": "code",
   "execution_count": null,
   "metadata": {},
   "outputs": [],
   "source": []
  },
  {
   "cell_type": "code",
   "execution_count": null,
   "metadata": {},
   "outputs": [],
   "source": []
  },
  {
   "cell_type": "code",
   "execution_count": null,
   "metadata": {},
   "outputs": [],
   "source": []
  },
  {
   "cell_type": "code",
   "execution_count": null,
   "metadata": {},
   "outputs": [],
   "source": []
  },
  {
   "cell_type": "code",
   "execution_count": null,
   "metadata": {},
   "outputs": [],
   "source": []
  },
  {
   "cell_type": "markdown",
   "metadata": {},
   "source": [
    "### Linearni SVM model"
   ]
  },
  {
   "cell_type": "code",
   "execution_count": null,
   "metadata": {},
   "outputs": [],
   "source": []
  },
  {
   "cell_type": "code",
   "execution_count": null,
   "metadata": {},
   "outputs": [],
   "source": []
  },
  {
   "cell_type": "code",
   "execution_count": null,
   "metadata": {},
   "outputs": [],
   "source": []
  },
  {
   "cell_type": "code",
   "execution_count": null,
   "metadata": {},
   "outputs": [],
   "source": []
  },
  {
   "cell_type": "code",
   "execution_count": null,
   "metadata": {},
   "outputs": [],
   "source": []
  },
  {
   "cell_type": "markdown",
   "metadata": {},
   "source": [
    "### Model k-najbližih suseda"
   ]
  },
  {
   "cell_type": "code",
   "execution_count": null,
   "metadata": {},
   "outputs": [],
   "source": []
  },
  {
   "cell_type": "code",
   "execution_count": null,
   "metadata": {},
   "outputs": [],
   "source": []
  },
  {
   "cell_type": "code",
   "execution_count": null,
   "metadata": {},
   "outputs": [],
   "source": []
  },
  {
   "cell_type": "code",
   "execution_count": null,
   "metadata": {},
   "outputs": [],
   "source": []
  },
  {
   "cell_type": "code",
   "execution_count": null,
   "metadata": {},
   "outputs": [],
   "source": []
  },
  {
   "cell_type": "code",
   "execution_count": null,
   "metadata": {},
   "outputs": [],
   "source": []
  },
  {
   "cell_type": "code",
   "execution_count": null,
   "metadata": {},
   "outputs": [],
   "source": []
  },
  {
   "cell_type": "markdown",
   "metadata": {},
   "source": [
    "Funkcija kojom se prikazuju reči vokabulara najzaslužnije za klasifikovanje poruka na spam i ne-spam poruke."
   ]
  },
  {
   "cell_type": "code",
   "execution_count": 5,
   "metadata": {},
   "outputs": [],
   "source": [
    "def visualize_coefficients(title, classifier, feature_names, n_top_features=25):\n",
    "    coefs = classifier.coef_.ravel()\n",
    "    \n",
    "    positive_coefficients_indices = np.argsort(coefs)[-n_top_features:]\n",
    "    negative_coefficients_indices = np.argsort(coefs)[:n_top_features]\n",
    "    \n",
    "    interesting_coefficients_indices =\\\n",
    "        np.hstack([negative_coefficients_indices,\n",
    "                   positive_coefficients_indices])\n",
    "    \n",
    "    plt.figure(figsize=(15,5))\n",
    "    plt.title(title)\n",
    "    colors = ['orange' if c < 0 else 'cadetblue' for c in coefs[interesting_coefficients_indices]]\n",
    "    plt.bar(np.arange(2 * n_top_features),\n",
    "            coefs[interesting_coefficients_indices], color=colors)\n",
    "    feature_names = np.array(feature_names)\n",
    "    plt.xticks(np.arange(2*n_top_features), feature_names[interesting_coefficients_indices], rotation=60, ha='right')"
   ]
  },
  {
   "cell_type": "code",
   "execution_count": null,
   "metadata": {},
   "outputs": [],
   "source": []
  }
 ],
 "metadata": {
  "kernelspec": {
   "display_name": "Python 3",
   "language": "python",
   "name": "python3"
  },
  "language_info": {
   "codemirror_mode": {
    "name": "ipython",
    "version": 3
   },
   "file_extension": ".py",
   "mimetype": "text/x-python",
   "name": "python",
   "nbconvert_exporter": "python",
   "pygments_lexer": "ipython3",
   "version": "3.8.3"
  }
 },
 "nbformat": 4,
 "nbformat_minor": 2
}
