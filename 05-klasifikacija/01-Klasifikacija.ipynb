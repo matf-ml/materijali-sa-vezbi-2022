{
 "cells": [
  {
   "cell_type": "markdown",
   "metadata": {},
   "source": [
    "# Klasifikacija"
   ]
  },
  {
   "cell_type": "markdown",
   "metadata": {},
   "source": [
    "Zadatak klasifikacije je određivanje modela kojim se predviđaju vrednosti diskretne ciljne promenljive. Diskretnim promenljivim se smatraju promenljive koje uzimaju konačan broj vrednosti među kojima nema uređenja. Neki tipični zadaci klasifikacije su određivanje da li je poruka poželjna ili nepoželjna, da li je detektovani tumor benigni ili maligni, da li je obavljena transakcija regularna ili ne, ... Navedeni primeri su primeri **binarne** klasifikacije jer ciljna promenljiva može imati samo dve vrednosti. Ukoliko ciljna promenljiva može imati više mogućih vrednosti (više od dve) reč je o **višeklasnoj klasifikaciji**. Na primer, određivanje da li je novinski članak iz domena politike, sporta ili kulture ili određivanje da li je na slici mačka, slon ili leptir su zadaci višeklasne klasifikacije. Bilo da je reč o binarnoj ili višeklasnoj klasifikaciji, ciljna promenljiva uzima tačno jednu vrednost. U slučaju **višelabelarne klasifikacije**, ciljna promenljiva može uzeti i više vrednosti. Na primer, jedan post na blogu može pripada istovremeno kategorijama *turizam*, *Italija* i *hrana*.   "
   ]
  },
  {
   "cell_type": "markdown",
   "metadata": {},
   "source": [
    "<img src=\"assets/multiclass_multilabel_classification.png\" width=400>"
   ]
  },
  {
   "cell_type": "code",
   "execution_count": null,
   "metadata": {},
   "outputs": [],
   "source": []
  },
  {
   "cell_type": "markdown",
   "metadata": {},
   "source": [
    "Za evaluaciju klasifikacionih modela najčešće se koriste **tačnost** (engl. accuracy), **preciznost** (engl. precision), **odziv** (engl. recall) i **F1 mera**. Ove mere će zbog jednostavnosti biti definisane u terminima binarne klasifikacije. Za slučaj višeklasne klasifikacije ove mere se izračunavaju za svaku od klasa pojedinačno po principu *one-vs-rest*. \n",
    "\n",
    "Sve četiri mere kvaliteta modela se zasnivaju na **matrici konfuzije** (engl. confusion matrix) u kojoj se sumiraju rezultati testiranja klasifikatora. To je matrica $C$ ciji element $c_{ij}$ predstavlja broj instanci klase $i$ koje su klasifikovane u klasu $j$. Elementi na glavnoj dijagonali predstavljaju broj instanci koje su ispravno klasifikovane, dok nedijagonalni elementi označavaju greške. To znači da je klasifikacija najbolja kada je matrica konfuzije dijagonalna. U slučaju binarne klasifikacije matrica konfuzije ima karakterističan oblik:\n",
    "\n",
    "<img src=\"assets/confusion_matrix.png\" width=300>\n",
    "\n",
    "*Stvarno pozitivne* (engl. true positive) instance su instance iz pozitivne klase za koje je predviđena klasa takođe pozitivna. Broj takvih instanci označen je sa **TP**. *Stvarno negativne* (engl. true negative) instance su negativne instance za koje model predviđa negativnu klasu. Broj takvih instanci označen je sa **TN**. *Lažno pozitivne* (engl. false positive) instance su instance negativne klase a koje je model prepoznao kao pozitivne. Broj takvih instanci označen je sa **FP**. *Lažno negativne* (eng. false negative) instance su pozitivne instance za koje model predviđa negativnu klasu. Broj takvih instanci je označen sa **FN**."
   ]
  },
  {
   "cell_type": "code",
   "execution_count": null,
   "metadata": {},
   "outputs": [],
   "source": []
  },
  {
   "cell_type": "markdown",
   "metadata": {},
   "source": [
    "`Tačnost` predstavlja ocenu ukupnog broja uspešno klasifikovanih instanci i izračunava se po formuli: $$Acc = \\frac{TP + TN}{TP + FN + FP + TN}$$\n",
    "\n",
    "Ova mera je obično prvi izbor kod problema klasifikacije, međutim ona ne daje uvek dobru ocenu modela. U slučaju nebalansiranih klasa model koji uvek (ili skoro uvek) predviđa većinsku klasu imaće visoku tačnost na datom skupu podataka, a da pritom nije ništa naučio iz podataka (osim koja je klasa većinska). Takav model ima izuzetno lošu sposobnost predviđanja i iz tog razloga se pri radu sa nebalansiranim skupom podataka ova mera nikada ne koristi ili se koristi zajedno sa još nekom merom koja nije osetljiva na nebalansiranost klasa."
   ]
  },
  {
   "cell_type": "markdown",
   "metadata": {},
   "source": [
    "`Preciznost` predstavlja ocenu broja pozitivno klasifikovanih instanci i izračunava se po formuli: $$P = \\frac{TP}{TP + FP}$$\n",
    "<br> \n",
    "`Odziv` predstavlja ocenu broja prepoznatih pozitivnih instanci i računa se po formuli: $$R = \\frac{TP}{TP + FN}$$\n",
    "<br>\n",
    " \n",
    " \n",
    " Preciznost i odziv se gotovo uvek razmatraju zajedno:\n",
    "- visoka preciznost a nizak odziv modela ukazuje da model retko klasifikuje instance kao pozitivne, i samim tim još manje pravi grešku da neku instancu koja je negativna proglasi za pozitivnu, ili\n",
    "- visok odziv a niska preciznost modela ukazuje da model često klasifikuje instance kao pozitivne, i time retko za neku instancu koja je pozitivna predviđa negativnu klasu."
   ]
  },
  {
   "cell_type": "markdown",
   "metadata": {},
   "source": [
    "`F1 mera` kombinuje preciznost i odziv i predstavlja njihovu harmonijsku sredinu: \n",
    "\n",
    "$$F1 = 2\\frac{Prec \\cdot Rec}{Prec + Rec}$$\n"
   ]
  },
  {
   "cell_type": "code",
   "execution_count": null,
   "metadata": {},
   "outputs": [],
   "source": []
  }
 ],
 "metadata": {
  "kernelspec": {
   "display_name": "Python 3",
   "language": "python",
   "name": "python3"
  },
  "language_info": {
   "codemirror_mode": {
    "name": "ipython",
    "version": 3
   },
   "file_extension": ".py",
   "mimetype": "text/x-python",
   "name": "python",
   "nbconvert_exporter": "python",
   "pygments_lexer": "ipython3",
   "version": "3.8.3"
  }
 },
 "nbformat": 4,
 "nbformat_minor": 2
}
