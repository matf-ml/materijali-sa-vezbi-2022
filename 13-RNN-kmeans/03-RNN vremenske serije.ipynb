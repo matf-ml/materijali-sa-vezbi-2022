{
 "cells": [
  {
   "cell_type": "markdown",
   "metadata": {},
   "source": [
    "# Rekurentne neuronske mreže i vremenske serije"
   ]
  },
  {
   "cell_type": "markdown",
   "metadata": {},
   "source": [
    "Ovaj primer ilustruje rad sa rekurentnim neuronskim mrežama u analizi vremenskih serija. \n",
    "\n",
    "U radu će se koristiti podaci meteorološke stanice Maks Plank instituta u Jeni. U periodu od 2009. godine do 2016. godine na svakih 10 minuta merene su vrednosti 14 različitih parametara kao što su temperatura, atmosferski pritisak, vlažnost vazduha, pravac vetra i drugi. Naš zadatak će biti da osmislimo model koji će predvidjati vrednosti `temperature` u toku jednog dana na osnovu nekoliko prethodnih merenja.\n",
    "\n",
    "Skup podataka se može preuzeti sa [ove](https://www.kaggle.com/stytch16/jena-climate-2009-2016) adrese."
   ]
  },
  {
   "cell_type": "code",
   "execution_count": null,
   "metadata": {},
   "outputs": [],
   "source": []
  },
  {
   "cell_type": "markdown",
   "metadata": {},
   "source": [
    "Prvo ćemo učitati potrebne biblioteke."
   ]
  },
  {
   "cell_type": "code",
   "execution_count": 1,
   "metadata": {},
   "outputs": [],
   "source": [
    "import os\n",
    "import numpy as np \n",
    "from matplotlib import pyplot as plt"
   ]
  },
  {
   "cell_type": "code",
   "execution_count": 2,
   "metadata": {},
   "outputs": [],
   "source": [
    "import tensorflow as tf\n",
    "from tensorflow import keras"
   ]
  },
  {
   "cell_type": "code",
   "execution_count": 3,
   "metadata": {},
   "outputs": [],
   "source": [
    "from tensorflow.keras.preprocessing import sequence\n",
    "from tensorflow.keras.layers import Dense, GRU\n",
    "from tensorflow.keras.models import Sequential, load_model"
   ]
  },
  {
   "cell_type": "code",
   "execution_count": 4,
   "metadata": {},
   "outputs": [],
   "source": [
    "np.random.seed(7)"
   ]
  },
  {
   "cell_type": "markdown",
   "metadata": {},
   "source": [
    "## 1. korak: Učitavanje i analiza raspoloživih podataka"
   ]
  },
  {
   "cell_type": "code",
   "execution_count": 6,
   "metadata": {},
   "outputs": [],
   "source": [
    "with open('data/jena_climate_2009-2016.csv', 'r') as f:\n",
    "    data = f.read()"
   ]
  },
  {
   "cell_type": "markdown",
   "metadata": {},
   "source": [
    "Ovako pročitani podaci su u tekstualnoj formi i potrebno ih je dalje obraditi. Prvo ćemo izdvojiti linije ovog fajla."
   ]
  },
  {
   "cell_type": "code",
   "execution_count": 7,
   "metadata": {},
   "outputs": [
    {
     "data": {
      "text/plain": [
       "420552"
      ]
     },
     "execution_count": 7,
     "metadata": {},
     "output_type": "execute_result"
    }
   ],
   "source": [
    "all_lines = data.split('\\n')\n",
    "number_of_lines = len(all_lines)\n",
    "number_of_lines"
   ]
  },
  {
   "cell_type": "markdown",
   "metadata": {},
   "source": [
    "Prva linija sadržaja je zaglavlje sa imenima kolona merenih parametara."
   ]
  },
  {
   "cell_type": "code",
   "execution_count": 8,
   "metadata": {},
   "outputs": [
    {
     "name": "stdout",
     "output_type": "stream",
     "text": [
      "\"Date Time\",\"p (mbar)\",\"T (degC)\",\"Tpot (K)\",\"Tdew (degC)\",\"rh (%)\",\"VPmax (mbar)\",\"VPact (mbar)\",\"VPdef (mbar)\",\"sh (g/kg)\",\"H2OC (mmol/mol)\",\"rho (g/m**3)\",\"wv (m/s)\",\"max. wv (m/s)\",\"wd (deg)\"\n"
     ]
    }
   ],
   "source": [
    "header = all_lines[0]\n",
    "print(header)"
   ]
  },
  {
   "cell_type": "code",
   "execution_count": 9,
   "metadata": {},
   "outputs": [],
   "source": [
    "header = header.split(',')"
   ]
  },
  {
   "cell_type": "code",
   "execution_count": 10,
   "metadata": {},
   "outputs": [
    {
     "data": {
      "text/plain": [
       "['\"Date Time\"',\n",
       " '\"p (mbar)\"',\n",
       " '\"T (degC)\"',\n",
       " '\"Tpot (K)\"',\n",
       " '\"Tdew (degC)\"',\n",
       " '\"rh (%)\"',\n",
       " '\"VPmax (mbar)\"',\n",
       " '\"VPact (mbar)\"',\n",
       " '\"VPdef (mbar)\"',\n",
       " '\"sh (g/kg)\"',\n",
       " '\"H2OC (mmol/mol)\"',\n",
       " '\"rho (g/m**3)\"',\n",
       " '\"wv (m/s)\"',\n",
       " '\"max. wv (m/s)\"',\n",
       " '\"wd (deg)\"']"
      ]
     },
     "execution_count": 10,
     "metadata": {},
     "output_type": "execute_result"
    }
   ],
   "source": [
    "header"
   ]
  },
  {
   "cell_type": "markdown",
   "metadata": {},
   "source": [
    "Parametara ima ukupno 15 uključujući i vreme merenja `'Date Time'`."
   ]
  },
  {
   "cell_type": "code",
   "execution_count": 11,
   "metadata": {},
   "outputs": [
    {
     "data": {
      "text/plain": [
       "15"
      ]
     },
     "execution_count": 11,
     "metadata": {},
     "output_type": "execute_result"
    }
   ],
   "source": [
    "len(header)"
   ]
  },
  {
   "cell_type": "markdown",
   "metadata": {},
   "source": [
    "Preostale linije sadržaja su linije sa podacima. "
   ]
  },
  {
   "cell_type": "code",
   "execution_count": 12,
   "metadata": {},
   "outputs": [],
   "source": [
    "lines = all_lines[1:]"
   ]
  },
  {
   "cell_type": "code",
   "execution_count": 13,
   "metadata": {},
   "outputs": [
    {
     "data": {
      "text/plain": [
       "'01.01.2009 00:20:00,996.57,-8.41,265.01,-9.28,93.40,3.23,3.02,0.21,1.89,3.03,1309.80,0.72,1.50,136.10'"
      ]
     },
     "execution_count": 13,
     "metadata": {},
     "output_type": "execute_result"
    }
   ],
   "source": [
    "lines[1]"
   ]
  },
  {
   "cell_type": "code",
   "execution_count": null,
   "metadata": {},
   "outputs": [],
   "source": []
  },
  {
   "cell_type": "markdown",
   "metadata": {},
   "source": [
    "Podatke je dalje potrebno prebaciti u numeričku formu. Prilikom prebacivanja vrednosti ćemo ignorisati informaciju o vremenu merenja."
   ]
  },
  {
   "cell_type": "code",
   "execution_count": 14,
   "metadata": {},
   "outputs": [],
   "source": [
    "number_of_features = len(header)-1\n",
    "number_of_mesurements = len(lines)\n",
    "float_data = np.zeros((number_of_mesurements, number_of_features))"
   ]
  },
  {
   "cell_type": "code",
   "execution_count": 15,
   "metadata": {},
   "outputs": [],
   "source": [
    "for i, line in enumerate(lines):\n",
    "    values = [ float(m) for m in line.split(',')[1:]]\n",
    "    float_data[i, :] = values"
   ]
  },
  {
   "cell_type": "code",
   "execution_count": 16,
   "metadata": {},
   "outputs": [
    {
     "data": {
      "text/plain": [
       "(420551, 14)"
      ]
     },
     "execution_count": 16,
     "metadata": {},
     "output_type": "execute_result"
    }
   ],
   "source": [
    "float_data.shape"
   ]
  },
  {
   "cell_type": "markdown",
   "metadata": {},
   "source": [
    "Matrica sa podacima je `float_data` i dimenzija je `420551 x 14`."
   ]
  },
  {
   "cell_type": "markdown",
   "metadata": {},
   "source": [
    "Možemo prikazati kako izgleda grafik promene temeprature u ovom periodu."
   ]
  },
  {
   "cell_type": "code",
   "execution_count": 17,
   "metadata": {},
   "outputs": [
    {
     "data": {
      "image/png": "[encoded data removed]",
      "text/plain": [
       "<Figure size 432x288 with 1 Axes>"
      ]
     },
     "metadata": {
      "needs_background": "light"
     },
     "output_type": "display_data"
    }
   ],
   "source": [
    "temp = float_data[:, 1]\n",
    "plt.title('Grafik promene temperature u periodu 2009-2016')\n",
    "plt.plot(range(0, number_of_mesurements) , temp)\n",
    "plt.show()"
   ]
  },
  {
   "cell_type": "markdown",
   "metadata": {},
   "source": [
    "Merenja su vršena na svakih 10 minuta, tj. 6 puta u satu vremena tj. 6x24 = 144 puta u toku jednog dana. "
   ]
  },
  {
   "cell_type": "code",
   "execution_count": 18,
   "metadata": {},
   "outputs": [
    {
     "data": {
      "image/png": "[encoded data removed]",
      "text/plain": [
       "<Figure size 432x288 with 1 Axes>"
      ]
     },
     "metadata": {
      "needs_background": "light"
     },
     "output_type": "display_data"
    }
   ],
   "source": [
    "plt.title(\"Grafik promene temperature u prvih 10 dana 2009. godine\")\n",
    "plt.plot(range(0, 1440) , temp[0:1440])\n",
    "plt.show()"
   ]
  },
  {
   "cell_type": "code",
   "execution_count": null,
   "metadata": {},
   "outputs": [],
   "source": []
  },
  {
   "cell_type": "markdown",
   "metadata": {},
   "source": [
    "Kako je potrebno kreirati model koji će predvidjati vrednosti temperature u budućnosti (za 24 sata tj. 144 vrednosti unapred), opredelićemo se za predikcije na osnovu svakog šestog merenja (jednom u satu) u protekllih 720 merenja (5 dana). Motivacija za preskakanje nekih vrednosti prethodnih merenja je nepromenljivost temperature u kratkim vremenskim periodima kao što je period od 10 minuta."
   ]
  },
  {
   "cell_type": "markdown",
   "metadata": {},
   "source": [
    "Broj prethodnih merenja ćemo obeležiti promenljivom `lookback`, a frekvenciju sa kojom će se uzimati prethodna merenja `steps`."
   ]
  },
  {
   "cell_type": "code",
   "execution_count": 19,
   "metadata": {},
   "outputs": [],
   "source": [
    "lookback = 720"
   ]
  },
  {
   "cell_type": "code",
   "execution_count": 20,
   "metadata": {},
   "outputs": [],
   "source": [
    "steps = 6 "
   ]
  },
  {
   "cell_type": "markdown",
   "metadata": {},
   "source": [
    "Promenljiva `delay` će predstavljati udaljenost trenutka u budućnosti u kojem treba dati ocenu temperature."
   ]
  },
  {
   "cell_type": "code",
   "execution_count": 21,
   "metadata": {},
   "outputs": [],
   "source": [
    "delay = 144 "
   ]
  },
  {
   "cell_type": "markdown",
   "metadata": {},
   "source": [
    "<img src='assets/jena_dataset.jpg'>"
   ]
  },
  {
   "cell_type": "markdown",
   "metadata": {},
   "source": [
    "## 2. korak: Generisanje skupova za treniranje, validaciju i testiranje"
   ]
  },
  {
   "cell_type": "markdown",
   "metadata": {},
   "source": [
    "Skupovi za treniranje, validaciju i testiranje treba da sadrže vrednosti merenja sa odgovarajućim vremenskim razmakom i temperature koje su im odgovarale u trenucima u budućnosti. Da bi se održala disjunktnost ovih skupova, merenja će biti birana iz različitih opsega vrednosti određenih svojom donjom i gornjom granicom. Merenja u skupu za treniranje treba da prethode merenjima u validacionom skupa, a ona zajedno, treba da prethode merenjima u skupu za testiranje. "
   ]
  },
  {
   "cell_type": "markdown",
   "metadata": {},
   "source": [
    "Nadalje sledi funkcija koja vraća odgovarajuće generatore vrednosti. Argumenti ove funkcije su redom: \n",
    "- `data`: zadati podaci\n",
    "- `lookback`: broj merenja iz prošlosti koje treba uzeti u obzir\n",
    "- `delay`: broj merenja u budućnosti za koji treba dati ocene merenja\n",
    "- `min_index`, `max_index`: vrednosti koje predstavljaju donju i gornju granicu merenja \n",
    "- `shuffle`: indikator mešanja podataka\n",
    "- `batch_size`: veličina skupa podataka koje treba generisati\n",
    "- `step`: korak sa kojim će biti birana merenja iz prošlosti"
   ]
  },
  {
   "cell_type": "code",
   "execution_count": 22,
   "metadata": {},
   "outputs": [
    {
     "data": {
      "text/plain": [
       "14"
      ]
     },
     "execution_count": 22,
     "metadata": {},
     "output_type": "execute_result"
    }
   ],
   "source": [
    "number_of_features"
   ]
  },
  {
   "cell_type": "code",
   "execution_count": 23,
   "metadata": {},
   "outputs": [
    {
     "data": {
      "text/plain": [
       "(420551, 14)"
      ]
     },
     "execution_count": 23,
     "metadata": {},
     "output_type": "execute_result"
    }
   ],
   "source": [
    "float_data.shape"
   ]
  },
  {
   "cell_type": "code",
   "execution_count": 24,
   "metadata": {},
   "outputs": [],
   "source": [
    "def generator(data, lookback, delay, min_index, max_index, shuffle=False, batch_size=128, step=6):       \n",
    "        \n",
    "        # za slucaj da max_index nije zadat, bira se vrednost koja garantuje izbor odgovarajuceg broj predikcija\n",
    "        if max_index is None: \n",
    "            max_index = len(data) - delay -1\n",
    "            \n",
    "            \n",
    "        # indeks i oznavacava minimalni indeks merenja od kojeg se mogu birati podaci za zeljeni skup \n",
    "        # izraz garantuje da postoji odgovarajuci broj merenja u proslosti\n",
    "        \n",
    "        i = min_index + lookback \n",
    "        \n",
    "        # U smernicama Keras biblioteke za implementaciju generatorske funkcije stoji: \n",
    "        # The generator is expected to loop over its data indefinitely.\n",
    "        while True: \n",
    "            \n",
    "            # generise se odgovarajuci skup indeksa vrednosti merenja:\n",
    "            # ukupno njih batch_size iz dozvoljenih granica\n",
    "            if shuffle: \n",
    "                rows = np.random.randint(low=i, high=max_index, size=batch_size)\n",
    "            else: \n",
    "                if i + batch_size >= max_index:\n",
    "                    i = min_index + lookback\n",
    "                rows = np.arange(i, min(i + batch_size, max_index))\n",
    "                \n",
    "                i += len(rows)\n",
    "\n",
    "            # samples niz ce biti skup odgovarajucih merenja\n",
    "            samples = np.zeros((len(rows), lookback//step, number_of_features))\n",
    "            \n",
    "            # targets niz ce biti skup odgovarajucih predikcija \n",
    "            targets = np.zeros(len(rows))\n",
    "            \n",
    "            for j, row in enumerate(rows):\n",
    "                indexes = range(rows[j]-lookback, rows[j], step)\n",
    "                samples[j] = data[indexes]\n",
    "                targets[j] = data[rows[j] + delay][1]\n",
    "    \n",
    "    \n",
    "            # generator će generisati odgovarajuće uzorke i njihova merenja\n",
    "            yield samples, targets"
   ]
  },
  {
   "cell_type": "code",
   "execution_count": null,
   "metadata": {},
   "outputs": [],
   "source": []
  },
  {
   "cell_type": "markdown",
   "metadata": {},
   "source": [
    "Fiksiraćemo broj instanci iz kojeg se bira skup za treniranje."
   ]
  },
  {
   "cell_type": "code",
   "execution_count": 42,
   "metadata": {},
   "outputs": [],
   "source": [
    "number_of_training_data = 200000"
   ]
  },
  {
   "cell_type": "markdown",
   "metadata": {},
   "source": [
    "Pre treniranja izvršićemo standardizaciju podataka. "
   ]
  },
  {
   "cell_type": "code",
   "execution_count": 43,
   "metadata": {},
   "outputs": [],
   "source": [
    "mean = float_data[: number_of_training_data].mean(axis=0)\n",
    "float_data -= mean\n",
    "std = float_data[: number_of_training_data].std(axis=0)\n",
    "float_data /= std"
   ]
  },
  {
   "cell_type": "markdown",
   "metadata": {},
   "source": [
    "Fiksiraćemo i veličinu skupova koje treba generisati."
   ]
  },
  {
   "cell_type": "code",
   "execution_count": 44,
   "metadata": {},
   "outputs": [],
   "source": [
    "batch_size = 32"
   ]
  },
  {
   "cell_type": "markdown",
   "metadata": {},
   "source": [
    "Zatim ćemo pozivom implementirane funkcije kreirati redom generatore skupa za treniranje, skup za validaciju i skup za testiranje."
   ]
  },
  {
   "cell_type": "code",
   "execution_count": 45,
   "metadata": {},
   "outputs": [],
   "source": [
    "train_gen = generator(float_data, lookback, delay, min_index=0, max_index=200000, shuffle=True, batch_size=batch_size, step=steps)\n",
    "val_gen = generator(float_data, lookback, delay, min_index =200001, max_index=300000, shuffle=True, batch_size=batch_size, step=steps)\n",
    "test_gen = generator(float_data, lookback, delay, min_index=300001, max_index=None, shuffle=True, batch_size=batch_size, step=steps)"
   ]
  },
  {
   "cell_type": "markdown",
   "metadata": {},
   "source": [
    "U skladu sa korišćenim granicama, odredićemo i broj validacionih i test koraka."
   ]
  },
  {
   "cell_type": "code",
   "execution_count": 46,
   "metadata": {},
   "outputs": [],
   "source": [
    "val_steps = (300000 - 200001 - lookback) // batch_size\n",
    "test_steps = (len(float_data) - 300001 - lookback) // batch_size"
   ]
  },
  {
   "cell_type": "code",
   "execution_count": null,
   "metadata": {},
   "outputs": [],
   "source": []
  },
  {
   "cell_type": "markdown",
   "metadata": {},
   "source": [
    "## 3. korak: Kreiranje i treniranje mreže"
   ]
  },
  {
   "cell_type": "markdown",
   "metadata": {},
   "source": [
    "Naša mreža za predikciju temperature će sadržati jedan rekurentni sloj GRU ćelija veličine 32 sa podrazumevanom hiperboličkom aktivacijom i jedan gusti sloj sa jednom ćelijom (jer mreža radi predikciju temperature) i linearnom aktivacijom.  "
   ]
  },
  {
   "cell_type": "code",
   "execution_count": 47,
   "metadata": {},
   "outputs": [
    {
     "data": {
      "text/plain": [
       "14"
      ]
     },
     "execution_count": 47,
     "metadata": {},
     "output_type": "execute_result"
    }
   ],
   "source": [
    "float_data.shape[-1]"
   ]
  },
  {
   "cell_type": "code",
   "execution_count": 48,
   "metadata": {},
   "outputs": [],
   "source": [
    "model = Sequential()\n",
    "model.add(GRU(32, input_shape = (lookback//steps, number_of_features)))\n",
    "model.add(Dense(1))"
   ]
  },
  {
   "cell_type": "code",
   "execution_count": 49,
   "metadata": {},
   "outputs": [
    {
     "name": "stdout",
     "output_type": "stream",
     "text": [
      "Model: \"sequential_1\"\n",
      "_________________________________________________________________\n",
      "Layer (type)                 Output Shape              Param #   \n",
      "=================================================================\n",
      "gru_1 (GRU)                  (None, 32)                4608      \n",
      "_________________________________________________________________\n",
      "dense_1 (Dense)              (None, 1)                 33        \n",
      "=================================================================\n",
      "Total params: 4,641\n",
      "Trainable params: 4,641\n",
      "Non-trainable params: 0\n",
      "_________________________________________________________________\n"
     ]
    }
   ],
   "source": [
    "model.summary()"
   ]
  },
  {
   "cell_type": "markdown",
   "metadata": {},
   "source": [
    "Mreža će koristiti optimizator RMSProp i srednju apsolutnu grešku kao funkciju gubitka. "
   ]
  },
  {
   "cell_type": "code",
   "execution_count": 50,
   "metadata": {},
   "outputs": [],
   "source": [
    "model.compile(optimizer='rmsprop', loss='mae')"
   ]
  },
  {
   "cell_type": "code",
   "execution_count": null,
   "metadata": {},
   "outputs": [],
   "source": []
  },
  {
   "cell_type": "markdown",
   "metadata": {},
   "source": [
    "Mrežu ćemo obučavati koristeći metodu `fit_generator` koja je ekvivalentna `fit` metodi uz izuzetak korišćenja generatorskih funkcija za kreiranje paketića za treniranje. Argumentom `steps_per_epoch` se kontroliše koliko obrađenih paketića traje jedna epoha. Ova metoda koristi generatorske funkcije i za kreiranje paketića za validaciju. Argument `validation_steps` kontroliše koliko validacionih paketića treba generisati na nivou jedne epohe. \n",
    "\n",
    "Više o ovoj funkciji  možete pronaći i u [zvaničnoj dokumentaciji](https://keras.io/models/sequential/#fit_generator)."
   ]
  },
  {
   "cell_type": "markdown",
   "metadata": {},
   "source": [
    "Mrežu ćemo trenirati 20 epoha koristeći 500 paketića po epohi. Treniranje mreže može da potraje nešto duže. "
   ]
  },
  {
   "cell_type": "code",
   "execution_count": 51,
   "metadata": {},
   "outputs": [],
   "source": [
    "epochs = 20\n",
    "steps_per_epoch=500"
   ]
  },
  {
   "cell_type": "code",
   "execution_count": null,
   "metadata": {},
   "outputs": [],
   "source": []
  },
  {
   "cell_type": "code",
   "execution_count": 52,
   "metadata": {},
   "outputs": [
    {
     "name": "stdout",
     "output_type": "stream",
     "text": [
      "Epoch 1/20\n",
      "500/500 [==============================] - 60s 120ms/step - loss: 0.3047 - val_loss: 0.2749\n",
      "Epoch 2/20\n",
      "500/500 [==============================] - 64s 127ms/step - loss: 0.2936 - val_loss: 0.2764\n",
      "Epoch 3/20\n",
      "500/500 [==============================] - 58s 116ms/step - loss: 0.2909 - val_loss: 0.2675\n",
      "Epoch 4/20\n",
      "500/500 [==============================] - 59s 119ms/step - loss: 0.2828 - val_loss: 0.2776\n",
      "Epoch 5/20\n",
      "500/500 [==============================] - 64s 128ms/step - loss: 0.2833 - val_loss: 0.2648\n",
      "Epoch 6/20\n",
      "500/500 [==============================] - 60s 120ms/step - loss: 0.2794 - val_loss: 0.2781\n",
      "Epoch 7/20\n",
      "500/500 [==============================] - 59s 118ms/step - loss: 0.2753 - val_loss: 0.2728\n",
      "Epoch 8/20\n",
      "500/500 [==============================] - 59s 119ms/step - loss: 0.2758 - val_loss: 0.2661\n",
      "Epoch 9/20\n",
      "500/500 [==============================] - 58s 117ms/step - loss: 0.2720 - val_loss: 0.2683\n",
      "Epoch 10/20\n",
      "500/500 [==============================] - 58s 117ms/step - loss: 0.2699 - val_loss: 0.2677\n",
      "Epoch 11/20\n",
      "500/500 [==============================] - 58s 116ms/step - loss: 0.2681 - val_loss: 0.2681\n",
      "Epoch 12/20\n",
      "500/500 [==============================] - 57s 114ms/step - loss: 0.2645 - val_loss: 0.2692\n",
      "Epoch 13/20\n",
      "500/500 [==============================] - 57s 115ms/step - loss: 0.2657 - val_loss: 0.2746\n",
      "Epoch 14/20\n",
      "500/500 [==============================] - 61s 122ms/step - loss: 0.2620 - val_loss: 0.2674\n",
      "Epoch 15/20\n",
      "500/500 [==============================] - 57s 114ms/step - loss: 0.2585 - val_loss: 0.2691\n",
      "Epoch 16/20\n",
      "500/500 [==============================] - 58s 116ms/step - loss: 0.2601 - val_loss: 0.2704\n",
      "Epoch 17/20\n",
      "500/500 [==============================] - 65s 130ms/step - loss: 0.2557 - val_loss: 0.2679\n",
      "Epoch 18/20\n",
      "500/500 [==============================] - 64s 128ms/step - loss: 0.2519 - val_loss: 0.2700\n",
      "Epoch 19/20\n",
      "500/500 [==============================] - 56s 113ms/step - loss: 0.2484 - val_loss: 0.2797\n",
      "Epoch 20/20\n",
      "500/500 [==============================] - 66s 131ms/step - loss: 0.2495 - val_loss: 0.2712\n"
     ]
    }
   ],
   "source": [
    "history = model.fit(train_gen, steps_per_epoch=steps_per_epoch, epochs=epochs, \\\n",
    "                              validation_data=val_gen, validation_steps=val_steps)"
   ]
  },
  {
   "cell_type": "code",
   "execution_count": null,
   "metadata": {},
   "outputs": [],
   "source": []
  },
  {
   "cell_type": "markdown",
   "metadata": {},
   "source": [
    "Nacrtaćemo i grafik gubitka funkcije na skupu za treniranje i skupu za validaciju."
   ]
  },
  {
   "cell_type": "code",
   "execution_count": 53,
   "metadata": {},
   "outputs": [
    {
     "data": {
      "image/png": "[encoded data removed]",
      "text/plain": [
       "<Figure size 432x288 with 1 Axes>"
      ]
     },
     "metadata": {
      "needs_background": "light"
     },
     "output_type": "display_data"
    }
   ],
   "source": [
    "loss = history.history['loss']\n",
    "val_loss = history.history['val_loss']\n",
    "epochs_range = range(0, epochs)\n",
    "plt.plot(epochs_range, loss, label ='loss')\n",
    "plt.plot(epochs_range, val_loss, label='val_loss', linestyle ='--', color='orange')\n",
    "plt.legend(loc='best')\n",
    "plt.show()"
   ]
  },
  {
   "cell_type": "markdown",
   "metadata": {},
   "source": [
    "Po formi dobijenih vrednosti funkcija gubitka se primerćuje da mreža uči, ali su vrednosti greške koje se dobijaju dosta velike pa bi imalo smisla probati sa nešto dužim treniranjem i predloženim popravkama iz sekcije za vežbu. "
   ]
  },
  {
   "cell_type": "code",
   "execution_count": null,
   "metadata": {},
   "outputs": [],
   "source": []
  },
  {
   "cell_type": "code",
   "execution_count": 37,
   "metadata": {},
   "outputs": [
    {
     "name": "stdout",
     "output_type": "stream",
     "text": [
      "0.27362653613090515\n"
     ]
    }
   ],
   "source": [
    "min_val_loss = np.min(val_loss)\n",
    "print(min_val_loss)"
   ]
  },
  {
   "cell_type": "markdown",
   "metadata": {},
   "source": [
    "Najmanja greška na validacionom skupu je oko 2.078. "
   ]
  },
  {
   "cell_type": "markdown",
   "metadata": {},
   "source": [
    "## 4. korak: Evaluacija"
   ]
  },
  {
   "cell_type": "markdown",
   "metadata": {},
   "source": [
    "Za evaluaciju modela se može iskoristiti funkcija `evaluate` sa prosleđenim generatorom kao prvim argumentom. Ova funkcija radi slično drugim `evaluate` funkcijama tj. predviđa vrednosti i upoređuje ih sa pravim vrednostima koristeći metrike modela. Za generisanje paraova test instanci i njihovih vrednosti oblika `(samples, targets)` koristićemo `test_gen` generator."
   ]
  },
  {
   "cell_type": "code",
   "execution_count": 39,
   "metadata": {},
   "outputs": [
    {
     "name": "stdout",
     "output_type": "stream",
     "text": [
      "3744/3744 [==============================] - 44s 12ms/step - loss: 0.2885\n"
     ]
    },
    {
     "data": {
      "text/plain": [
       "0.2884719669818878"
      ]
     },
     "execution_count": 39,
     "metadata": {},
     "output_type": "execute_result"
    }
   ],
   "source": [
    "model.evaluate(test_gen, steps=test_steps)"
   ]
  },
  {
   "cell_type": "code",
   "execution_count": 40,
   "metadata": {},
   "outputs": [
    {
     "data": {
      "text/plain": [
       "['loss']"
      ]
     },
     "execution_count": 40,
     "metadata": {},
     "output_type": "execute_result"
    }
   ],
   "source": [
    "model.metrics_names"
   ]
  },
  {
   "cell_type": "markdown",
   "metadata": {},
   "source": [
    "I ova vrednost funkcije gubitka (srednje apsolutne greške) ukazuje da model treba još unapređivati."
   ]
  },
  {
   "cell_type": "code",
   "execution_count": null,
   "metadata": {},
   "outputs": [],
   "source": []
  }
 ],
 "metadata": {
  "kernelspec": {
   "display_name": "Python 3",
   "language": "python",
   "name": "python3"
  },
  "language_info": {
   "codemirror_mode": {
    "name": "ipython",
    "version": 3
   },
   "file_extension": ".py",
   "mimetype": "text/x-python",
   "name": "python",
   "nbconvert_exporter": "python",
   "pygments_lexer": "ipython3",
   "version": "3.8.3"
  }
 },
 "nbformat": 4,
 "nbformat_minor": 2
}
