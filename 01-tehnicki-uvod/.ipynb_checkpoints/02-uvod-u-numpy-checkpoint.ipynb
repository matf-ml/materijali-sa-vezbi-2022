{
 "cells": [
  {
   "cell_type": "markdown",
   "metadata": {},
   "source": [
    "# NumPy biblioteka"
   ]
  },
  {
   "cell_type": "markdown",
   "metadata": {},
   "source": [
    "**NumPy** je Python biblioteka koja podržava rad sa višedimenzionalnim nizovima, kao i brojnim matematičkim operacijama koje se mogu primeniti nad njima. Na [ovom](http://www.numpy.org/) linku se nalazi zvanična stranica biblioteke, a [ovde](https://docs.scipy.org/doc/numpy/user/quickstart.html) se može pronaći koristan tutorijal."
   ]
  },
  {
   "cell_type": "code",
   "execution_count": 1,
   "metadata": {},
   "outputs": [],
   "source": [
    "import numpy as np"
   ]
  },
  {
   "cell_type": "code",
   "execution_count": null,
   "metadata": {},
   "outputs": [],
   "source": []
  },
  {
   "cell_type": "markdown",
   "metadata": {},
   "source": [
    "Osnovna struktura kojom raspolaže biblioteka NumPy je `višedimenzioni niz`. Svi elementi višedimenzionog niza moraju biti istog tipa. Sledeći zadatak ukazuje na način kreiranja ovakvih nizova, kao i na neke njihove osnovne osobine."
   ]
  },
  {
   "cell_type": "markdown",
   "metadata": {},
   "source": [
    "**1.** Kreirati niz $a$ od 3 elementa i matricu $M$ dimenzija $2 \\times 3$ čiji su elementi tipa `float32`. Ispisati oblik, veličinu, broj dimenzija i tip elemenata niza $a$, odnosno matrice $M$."
   ]
  },
  {
   "cell_type": "markdown",
   "metadata": {},
   "source": [
    "Višedimenizoni nizovi se kreiraju pozivima funkcije `array` koja uz same elemente može sadržati i parametar `dtype` kojim se navodi tip elemenata nizova."
   ]
  },
  {
   "cell_type": "code",
   "execution_count": 2,
   "metadata": {},
   "outputs": [
    {
     "name": "stdout",
     "output_type": "stream",
     "text": [
      "Niz a:\n",
      "[1 2 3]\n",
      "shape = (3,)\n",
      "size = 3\n",
      "ndim = 1\n",
      "dtype = int64\n",
      "\n"
     ]
    }
   ],
   "source": [
    "a = np.array([1, 2, 3])\n",
    "\n",
    "print('Niz a:')\n",
    "print(a)\n",
    "print('shape =', a.shape)\n",
    "print('size =', a.size)\n",
    "print('ndim =', a.ndim)\n",
    "print('dtype =', a.dtype, end='\\n\\n')"
   ]
  },
  {
   "cell_type": "code",
   "execution_count": 3,
   "metadata": {},
   "outputs": [
    {
     "name": "stdout",
     "output_type": "stream",
     "text": [
      "Matrica M:\n",
      "[[1. 2. 3.]\n",
      " [4. 5. 6.]]\n",
      "shape = (2, 3)\n",
      "size = 6\n",
      "ndim = 2\n",
      "dtype = float32\n"
     ]
    }
   ],
   "source": [
    "M = np.array([[1, 2, 3], [4, 5, 6]], dtype='float32')\n",
    "\n",
    "print('Matrica M:')\n",
    "print(M)\n",
    "print('shape =', M.shape)\n",
    "print('size =', M.size)\n",
    "print('ndim =', M.ndim)\n",
    "print('dtype =', M.dtype)"
   ]
  },
  {
   "cell_type": "code",
   "execution_count": null,
   "metadata": {},
   "outputs": [],
   "source": []
  },
  {
   "cell_type": "markdown",
   "metadata": {},
   "source": [
    "NumPy paket podržava podrazumevane tipove kao što su `int_`, `float_`, `bool_` i `complex_`, ali nudi mogućnost i rada sa tipovima drugačijih opsega i preciznosti poput `int8`, `int16`, `uint8`, `float32`, `float64`, `complex128` i slično."
   ]
  },
  {
   "cell_type": "code",
   "execution_count": 4,
   "metadata": {},
   "outputs": [],
   "source": [
    "M = np.array([[1, 2, 3], [4, 5, 6]], dtype=np.float32)"
   ]
  },
  {
   "cell_type": "code",
   "execution_count": 5,
   "metadata": {},
   "outputs": [
    {
     "data": {
      "text/plain": [
       "array([[1., 2., 3.],\n",
       "       [4., 5., 6.]], dtype=float32)"
      ]
     },
     "execution_count": 5,
     "metadata": {},
     "output_type": "execute_result"
    }
   ],
   "source": [
    "M"
   ]
  },
  {
   "cell_type": "code",
   "execution_count": null,
   "metadata": {},
   "outputs": [],
   "source": []
  },
  {
   "cell_type": "markdown",
   "metadata": {},
   "source": [
    "U radu su nam često potrebni višedimenzioni nizovi specifičnih oblika. Sledeći zadatak ukazuje na mogućnosti biblioteke u tom domenu."
   ]
  },
  {
   "cell_type": "markdown",
   "metadata": {},
   "source": [
    "**2.** Generisati nizove i matrice na sledeći način:\n"
   ]
  },
  {
   "cell_type": "markdown",
   "metadata": {},
   "source": [
    "* Niz $a_1$ tako što se zadaju početna i krajnja tačka sa odgovarajućim korakom."
   ]
  },
  {
   "cell_type": "code",
   "execution_count": 6,
   "metadata": {},
   "outputs": [],
   "source": [
    "a1 = np.arange(1, 10, 2)"
   ]
  },
  {
   "cell_type": "code",
   "execution_count": 7,
   "metadata": {},
   "outputs": [
    {
     "data": {
      "text/plain": [
       "array([1, 3, 5, 7, 9])"
      ]
     },
     "execution_count": 7,
     "metadata": {},
     "output_type": "execute_result"
    }
   ],
   "source": [
    "a1"
   ]
  },
  {
   "cell_type": "markdown",
   "metadata": {},
   "source": [
    "* Niz $a_2$ gde se zadaju početna i krajnja tačka i broj ekvidistantnih elemenata u datom intervalu."
   ]
  },
  {
   "cell_type": "code",
   "execution_count": 8,
   "metadata": {},
   "outputs": [],
   "source": [
    "a2 = np.linspace(1, 3, 21)"
   ]
  },
  {
   "cell_type": "code",
   "execution_count": 9,
   "metadata": {},
   "outputs": [
    {
     "data": {
      "text/plain": [
       "array([1. , 1.1, 1.2, 1.3, 1.4, 1.5, 1.6, 1.7, 1.8, 1.9, 2. , 2.1, 2.2,\n",
       "       2.3, 2.4, 2.5, 2.6, 2.7, 2.8, 2.9, 3. ])"
      ]
     },
     "execution_count": 9,
     "metadata": {},
     "output_type": "execute_result"
    }
   ],
   "source": [
    "a2"
   ]
  },
  {
   "cell_type": "markdown",
   "metadata": {},
   "source": [
    "* Niz $a_3$ koji se sastoji samo od nula."
   ]
  },
  {
   "cell_type": "code",
   "execution_count": 10,
   "metadata": {},
   "outputs": [],
   "source": [
    "a3 = np.zeros(6)"
   ]
  },
  {
   "cell_type": "code",
   "execution_count": 11,
   "metadata": {},
   "outputs": [
    {
     "data": {
      "text/plain": [
       "array([0., 0., 0., 0., 0., 0.])"
      ]
     },
     "execution_count": 11,
     "metadata": {},
     "output_type": "execute_result"
    }
   ],
   "source": [
    "a3"
   ]
  },
  {
   "cell_type": "markdown",
   "metadata": {},
   "source": [
    "* Niz $a_4$ koji sadrži brojeve iz uniformne raspodele [0, 1)."
   ]
  },
  {
   "cell_type": "code",
   "execution_count": 12,
   "metadata": {},
   "outputs": [],
   "source": [
    "a4 = np.random.uniform(2, 5, 5)"
   ]
  },
  {
   "cell_type": "code",
   "execution_count": 13,
   "metadata": {},
   "outputs": [
    {
     "data": {
      "text/plain": [
       "array([4.83799041, 4.34203046, 2.2841512 , 4.67610752, 4.13579054])"
      ]
     },
     "execution_count": 13,
     "metadata": {},
     "output_type": "execute_result"
    }
   ],
   "source": [
    "a4"
   ]
  },
  {
   "cell_type": "markdown",
   "metadata": {},
   "source": [
    "* Matricu $M_1$ koja se sastoji samo od jedinica."
   ]
  },
  {
   "cell_type": "code",
   "execution_count": 14,
   "metadata": {},
   "outputs": [],
   "source": [
    "M1 = np.ones((2, 3))"
   ]
  },
  {
   "cell_type": "code",
   "execution_count": 15,
   "metadata": {},
   "outputs": [
    {
     "data": {
      "text/plain": [
       "array([[1., 1., 1.],\n",
       "       [1., 1., 1.]])"
      ]
     },
     "execution_count": 15,
     "metadata": {},
     "output_type": "execute_result"
    }
   ],
   "source": [
    "M1"
   ]
  },
  {
   "cell_type": "markdown",
   "metadata": {},
   "source": [
    "* Jediničnu matricu $M_2$ dimenzije 3."
   ]
  },
  {
   "cell_type": "code",
   "execution_count": 16,
   "metadata": {},
   "outputs": [],
   "source": [
    "M2 = np.eye(3)"
   ]
  },
  {
   "cell_type": "code",
   "execution_count": 17,
   "metadata": {},
   "outputs": [
    {
     "data": {
      "text/plain": [
       "array([[1., 0., 0.],\n",
       "       [0., 1., 0.],\n",
       "       [0., 0., 1.]])"
      ]
     },
     "execution_count": 17,
     "metadata": {},
     "output_type": "execute_result"
    }
   ],
   "source": [
    "M2"
   ]
  },
  {
   "cell_type": "markdown",
   "metadata": {},
   "source": [
    "* Dijagonalnu matricu $M_3$ na čijoj se glavnoj dijagonali nalaze redom brojevi 4, 3, 2 i 1."
   ]
  },
  {
   "cell_type": "code",
   "execution_count": 18,
   "metadata": {},
   "outputs": [],
   "source": [
    "M3 = np.diag([4, 3, 2, 1])"
   ]
  },
  {
   "cell_type": "code",
   "execution_count": 19,
   "metadata": {},
   "outputs": [
    {
     "data": {
      "text/plain": [
       "array([[4, 0, 0, 0],\n",
       "       [0, 3, 0, 0],\n",
       "       [0, 0, 2, 0],\n",
       "       [0, 0, 0, 1]])"
      ]
     },
     "execution_count": 19,
     "metadata": {},
     "output_type": "execute_result"
    }
   ],
   "source": [
    "M3"
   ]
  },
  {
   "cell_type": "markdown",
   "metadata": {},
   "source": [
    "* Matricu $M_4$ čiji su elementi iz standardne normalne raspodele."
   ]
  },
  {
   "cell_type": "code",
   "execution_count": 20,
   "metadata": {},
   "outputs": [],
   "source": [
    "M4 = np.random.randn(4, 3)"
   ]
  },
  {
   "cell_type": "code",
   "execution_count": 21,
   "metadata": {},
   "outputs": [
    {
     "data": {
      "text/plain": [
       "array([[-0.25906524, -1.38925078, -1.0581853 ],\n",
       "       [ 0.41657491, -0.46972386,  0.95228635],\n",
       "       [-0.46495299, -0.50336683, -0.68758002],\n",
       "       [-0.26571577, -0.40696342,  0.07248226]])"
      ]
     },
     "execution_count": 21,
     "metadata": {},
     "output_type": "execute_result"
    }
   ],
   "source": [
    "M4"
   ]
  },
  {
   "cell_type": "markdown",
   "metadata": {},
   "source": [
    "Funkcija `np.random.randn(...)` vraća proizvoljnu vrednost iz standardne normalne raspodele $N(0, 1)$. Za generisanje proizvoljne vrednosti iz normalne raspodele $N(\\mu, \\sigma^2)$ može se koristiti izraz `sigma * np.random.randn(...) + mu` ili funkcija `np.random.normal(...)` sa parametrima $\\mu$ i $\\sigma$."
   ]
  },
  {
   "cell_type": "code",
   "execution_count": 22,
   "metadata": {},
   "outputs": [
    {
     "name": "stdout",
     "output_type": "stream",
     "text": [
      "[[-1.70023929 -1.37605374 -1.15383353]\n",
      " [-2.20675205 -1.94540773 -1.79233432]]\n"
     ]
    }
   ],
   "source": [
    "M5 = np.random.normal(-2, 0.5, (2, 3))\n",
    "print(M5)"
   ]
  },
  {
   "cell_type": "code",
   "execution_count": null,
   "metadata": {},
   "outputs": [],
   "source": []
  },
  {
   "cell_type": "markdown",
   "metadata": {},
   "source": [
    "Sledeći zadatak ukazuje na operacije koje se mogu izvoditi nad višedimenzionim nizovima."
   ]
  },
  {
   "cell_type": "markdown",
   "metadata": {},
   "source": [
    "**3.** Date su matrice $M_1=\\begin{bmatrix}1&3&5\\\\7&9&11\\\\13&15&17\\end{bmatrix}$ i $M_2=\\begin{bmatrix}2&4&6\\\\8&10&12\\\\14&16&18\\end{bmatrix}$. \\\\\n",
    "\n",
    "Odrediti vrednosti sledećih matrica:\n",
    "\n",
    "* $M_1 + M_2$, gde operacija $+$ označava sabiranje po koordinatama;"
   ]
  },
  {
   "cell_type": "code",
   "execution_count": 23,
   "metadata": {},
   "outputs": [],
   "source": [
    "M1 = np.array([[1, 3, 5], [7, 9, 11], [13, 15, 17]])"
   ]
  },
  {
   "cell_type": "code",
   "execution_count": 24,
   "metadata": {},
   "outputs": [
    {
     "data": {
      "text/plain": [
       "array([[ 1,  3,  5],\n",
       "       [ 7,  9, 11],\n",
       "       [13, 15, 17]])"
      ]
     },
     "execution_count": 24,
     "metadata": {},
     "output_type": "execute_result"
    }
   ],
   "source": [
    "M1"
   ]
  },
  {
   "cell_type": "code",
   "execution_count": 25,
   "metadata": {},
   "outputs": [],
   "source": [
    "M2 = np.array([[2, 4, 6], [8, 10, 12], [14, 16, 18]])"
   ]
  },
  {
   "cell_type": "code",
   "execution_count": 26,
   "metadata": {},
   "outputs": [
    {
     "data": {
      "text/plain": [
       "array([[ 2,  4,  6],\n",
       "       [ 8, 10, 12],\n",
       "       [14, 16, 18]])"
      ]
     },
     "execution_count": 26,
     "metadata": {},
     "output_type": "execute_result"
    }
   ],
   "source": [
    "M2"
   ]
  },
  {
   "cell_type": "code",
   "execution_count": 27,
   "metadata": {},
   "outputs": [
    {
     "name": "stdout",
     "output_type": "stream",
     "text": [
      "M1 + M2 =\n",
      " [[ 3  7 11]\n",
      " [15 19 23]\n",
      " [27 31 35]]\n"
     ]
    }
   ],
   "source": [
    "print('M1 + M2 =\\n', M1 + M2)"
   ]
  },
  {
   "cell_type": "markdown",
   "metadata": {},
   "source": [
    "* $M_1 \\cdot M_2$, gde operacija $\\cdot$ označava sabiranje po koordinatama;"
   ]
  },
  {
   "cell_type": "code",
   "execution_count": 28,
   "metadata": {},
   "outputs": [
    {
     "name": "stdout",
     "output_type": "stream",
     "text": [
      "M1 * M2 =\n",
      " [[  2  12  30]\n",
      " [ 56  90 132]\n",
      " [182 240 306]]\n"
     ]
    }
   ],
   "source": [
    "print('M1 * M2 =\\n', M1 * M2)"
   ]
  },
  {
   "cell_type": "markdown",
   "metadata": {},
   "source": [
    "* $M_1 \\times M_2$, gde operacija $\\times$ označava matrično množenje;"
   ]
  },
  {
   "cell_type": "code",
   "execution_count": 29,
   "metadata": {},
   "outputs": [
    {
     "name": "stdout",
     "output_type": "stream",
     "text": [
      "M1 x M2 =\n",
      " [[ 96 114 132]\n",
      " [240 294 348]\n",
      " [384 474 564]]\n"
     ]
    }
   ],
   "source": [
    "print('M1 x M2 =\\n', M1.dot(M2))"
   ]
  },
  {
   "cell_type": "code",
   "execution_count": 30,
   "metadata": {},
   "outputs": [
    {
     "name": "stdout",
     "output_type": "stream",
     "text": [
      "M1 x M2 =\n",
      " [[ 96 114 132]\n",
      " [240 294 348]\n",
      " [384 474 564]]\n"
     ]
    }
   ],
   "source": [
    "print('M1 x M2 =\\n', np.dot(M1, M2))"
   ]
  },
  {
   "cell_type": "markdown",
   "metadata": {},
   "source": [
    "* transponovanu matricu $M_1^T$ matrice $M_1$;"
   ]
  },
  {
   "cell_type": "code",
   "execution_count": 31,
   "metadata": {},
   "outputs": [
    {
     "name": "stdout",
     "output_type": "stream",
     "text": [
      "transpose(M1) =\n",
      " [[ 1  7 13]\n",
      " [ 3  9 15]\n",
      " [ 5 11 17]]\n"
     ]
    }
   ],
   "source": [
    "print('transpose(M1) =\\n', M1.T)"
   ]
  },
  {
   "cell_type": "code",
   "execution_count": 32,
   "metadata": {},
   "outputs": [
    {
     "name": "stdout",
     "output_type": "stream",
     "text": [
      "transpose(M1) =\n",
      " [[ 1  7 13]\n",
      " [ 3  9 15]\n",
      " [ 5 11 17]]\n"
     ]
    }
   ],
   "source": [
    "print('transpose(M1) =\\n', M1.transpose())"
   ]
  },
  {
   "cell_type": "markdown",
   "metadata": {},
   "source": [
    "* $\\sin (M_1)$, gde se vrednost funkcije $\\sin x$ računa po koordinatama;"
   ]
  },
  {
   "cell_type": "code",
   "execution_count": 33,
   "metadata": {},
   "outputs": [
    {
     "name": "stdout",
     "output_type": "stream",
     "text": [
      "sin(M1) =\n",
      " [[ 0.84147098  0.14112001 -0.95892427]\n",
      " [ 0.6569866   0.41211849 -0.99999021]\n",
      " [ 0.42016704  0.65028784 -0.96139749]]\n"
     ]
    }
   ],
   "source": [
    "print('sin(M1) =\\n', np.sin(M1))"
   ]
  },
  {
   "cell_type": "markdown",
   "metadata": {},
   "source": [
    "* $\\exp (M_2)$, gde se vrednost funkcije $e^x$ računa po koordinatama."
   ]
  },
  {
   "cell_type": "code",
   "execution_count": 34,
   "metadata": {},
   "outputs": [
    {
     "name": "stdout",
     "output_type": "stream",
     "text": [
      "exp(M2) =\n",
      " [[7.38905610e+00 5.45981500e+01 4.03428793e+02]\n",
      " [2.98095799e+03 2.20264658e+04 1.62754791e+05]\n",
      " [1.20260428e+06 8.88611052e+06 6.56599691e+07]]\n"
     ]
    }
   ],
   "source": [
    "print('exp(M2) =\\n', np.exp(M2))"
   ]
  },
  {
   "cell_type": "code",
   "execution_count": null,
   "metadata": {},
   "outputs": [],
   "source": []
  },
  {
   "cell_type": "markdown",
   "metadata": {},
   "source": [
    "Biblioteka nudi mogućnost kreiranja višedimenzionih nizova na osnovu već postojećih nizova."
   ]
  },
  {
   "cell_type": "markdown",
   "metadata": {},
   "source": [
    "**4.** Dati su nizovi $x = [1, 2, 3]$ i $y = [5, 6, 7]$. \n",
    "\n",
    "* Nadovezati ih po vertikali i po horizontali."
   ]
  },
  {
   "cell_type": "code",
   "execution_count": 35,
   "metadata": {},
   "outputs": [],
   "source": [
    "x = np.array([1, 2, 3])\n",
    "y = np.array([4, 5, 6])"
   ]
  },
  {
   "cell_type": "code",
   "execution_count": 36,
   "metadata": {},
   "outputs": [
    {
     "name": "stdout",
     "output_type": "stream",
     "text": [
      "[[1 2 3]\n",
      " [4 5 6]]\n"
     ]
    }
   ],
   "source": [
    "xy_vertical = np.vstack((x, y))\n",
    "print(xy_vertical)"
   ]
  },
  {
   "cell_type": "code",
   "execution_count": 37,
   "metadata": {},
   "outputs": [
    {
     "name": "stdout",
     "output_type": "stream",
     "text": [
      "[1 2 3 4 5 6]\n"
     ]
    }
   ],
   "source": [
    "xy_horizontal = np.hstack((x, y))\n",
    "print(xy_horizontal)"
   ]
  },
  {
   "cell_type": "markdown",
   "metadata": {},
   "source": [
    "* Odrediti njihov skalarni proizvod."
   ]
  },
  {
   "cell_type": "code",
   "execution_count": 38,
   "metadata": {},
   "outputs": [
    {
     "name": "stdout",
     "output_type": "stream",
     "text": [
      "32\n"
     ]
    }
   ],
   "source": [
    "print(np.sum(x * y))"
   ]
  },
  {
   "cell_type": "markdown",
   "metadata": {},
   "source": [
    "* Odrediti maksimalni element niza *x*."
   ]
  },
  {
   "cell_type": "code",
   "execution_count": 39,
   "metadata": {},
   "outputs": [
    {
     "name": "stdout",
     "output_type": "stream",
     "text": [
      "3\n"
     ]
    }
   ],
   "source": [
    "print(np.max(x))"
   ]
  },
  {
   "cell_type": "markdown",
   "metadata": {},
   "source": [
    "* Odrediti minimalni element niza *y*."
   ]
  },
  {
   "cell_type": "code",
   "execution_count": 40,
   "metadata": {},
   "outputs": [
    {
     "name": "stdout",
     "output_type": "stream",
     "text": [
      "4\n"
     ]
    }
   ],
   "source": [
    "print(y.min())"
   ]
  },
  {
   "cell_type": "markdown",
   "metadata": {},
   "source": [
    "* Odrediti sve elemente niza *x* koji su veći od 1.5."
   ]
  },
  {
   "cell_type": "code",
   "execution_count": 41,
   "metadata": {},
   "outputs": [
    {
     "name": "stdout",
     "output_type": "stream",
     "text": [
      "[2 3]\n"
     ]
    }
   ],
   "source": [
    "print(x[x > 1.5])"
   ]
  },
  {
   "cell_type": "code",
   "execution_count": null,
   "metadata": {},
   "outputs": [],
   "source": []
  },
  {
   "cell_type": "markdown",
   "metadata": {},
   "source": [
    "**5.** Date su matrice $A=\\begin{bmatrix}1&2&3\\\\4&5&6\\end{bmatrix}$ i $B=\\begin{bmatrix}1&2&3\\\\4&6&6\\end{bmatrix}$. \n",
    "\n",
    "* Proveriti da li su matrice jednake.\n",
    "* Proveriti da li su matrice jednake po svakoj koordinati.\n",
    "* Izvršiti preraspodelu elemenata matrice *A* tako da se dobije matrica $3 \\times 2$.\n",
    "* Izvršiti sravnjivanje elemenata matrice *A* tj. svodjenje matrice na niz.\n",
    "* Odrediti sumu elemenata matrice *B* koji su jednaki 6."
   ]
  },
  {
   "cell_type": "code",
   "execution_count": 42,
   "metadata": {},
   "outputs": [],
   "source": [
    "A = np.array([[1, 2, 3], [4, 5, 6]])"
   ]
  },
  {
   "cell_type": "code",
   "execution_count": 43,
   "metadata": {},
   "outputs": [
    {
     "data": {
      "text/plain": [
       "array([[1, 2, 3],\n",
       "       [4, 5, 6]])"
      ]
     },
     "execution_count": 43,
     "metadata": {},
     "output_type": "execute_result"
    }
   ],
   "source": [
    "A"
   ]
  },
  {
   "cell_type": "code",
   "execution_count": 44,
   "metadata": {},
   "outputs": [],
   "source": [
    "B = np.array([[1, 2, 3], [4, 6, 6]])"
   ]
  },
  {
   "cell_type": "code",
   "execution_count": 45,
   "metadata": {},
   "outputs": [
    {
     "data": {
      "text/plain": [
       "array([[1, 2, 3],\n",
       "       [4, 6, 6]])"
      ]
     },
     "execution_count": 45,
     "metadata": {},
     "output_type": "execute_result"
    }
   ],
   "source": [
    "B"
   ]
  },
  {
   "cell_type": "markdown",
   "metadata": {},
   "source": [
    "Za proveru jednakosti matrica, može se koristiti funkcija `array_equal`."
   ]
  },
  {
   "cell_type": "code",
   "execution_count": 46,
   "metadata": {},
   "outputs": [
    {
     "name": "stdout",
     "output_type": "stream",
     "text": [
      "False\n"
     ]
    }
   ],
   "source": [
    "print(np.array_equal(A, B))"
   ]
  },
  {
   "cell_type": "markdown",
   "metadata": {},
   "source": [
    "Za proveru jednakosti matrica po koordinatama, može se koristiti operator poređenja `==`."
   ]
  },
  {
   "cell_type": "code",
   "execution_count": 47,
   "metadata": {},
   "outputs": [
    {
     "name": "stdout",
     "output_type": "stream",
     "text": [
      "[[ True  True  True]\n",
      " [ True False  True]]\n"
     ]
    }
   ],
   "source": [
    "print(A == B)"
   ]
  },
  {
   "cell_type": "markdown",
   "metadata": {},
   "source": [
    "Preraspodela elemenata matrice može se vršiti uz pomoć funkcije `reshape`."
   ]
  },
  {
   "cell_type": "code",
   "execution_count": 48,
   "metadata": {},
   "outputs": [
    {
     "name": "stdout",
     "output_type": "stream",
     "text": [
      "[[1 2]\n",
      " [3 4]\n",
      " [5 6]]\n"
     ]
    }
   ],
   "source": [
    "print(A.reshape(3, 2))"
   ]
  },
  {
   "cell_type": "markdown",
   "metadata": {},
   "source": [
    "Za svođenje matrice na niz može se koristiti funkcija `flatten`."
   ]
  },
  {
   "cell_type": "code",
   "execution_count": 49,
   "metadata": {},
   "outputs": [
    {
     "name": "stdout",
     "output_type": "stream",
     "text": [
      "[1 2 3 4 5 6]\n"
     ]
    }
   ],
   "source": [
    "print(A.flatten())"
   ]
  },
  {
   "cell_type": "markdown",
   "metadata": {},
   "source": [
    "Za izračunavanje sume elemenata može se koristiti funkcija `sum`."
   ]
  },
  {
   "cell_type": "code",
   "execution_count": 50,
   "metadata": {},
   "outputs": [
    {
     "name": "stdout",
     "output_type": "stream",
     "text": [
      "12\n"
     ]
    }
   ],
   "source": [
    "# suma elemenata koji su jednaki 6\n",
    "print(np.sum(B[B == 6]))"
   ]
  },
  {
   "cell_type": "code",
   "execution_count": null,
   "metadata": {},
   "outputs": [],
   "source": []
  },
  {
   "cell_type": "markdown",
   "metadata": {},
   "source": [
    "**6.** Za $M = \\begin{bmatrix}1&2&3\\\\4&5&6\\end{bmatrix}$ i $x = [10, 20, 30]$ izračunati vrednosti $2M$, $x-3$ i $M+x$. "
   ]
  },
  {
   "cell_type": "code",
   "execution_count": 51,
   "metadata": {},
   "outputs": [],
   "source": [
    "M = np.array([[1, 2, 3], [4, 5, 6]])"
   ]
  },
  {
   "cell_type": "code",
   "execution_count": 52,
   "metadata": {},
   "outputs": [
    {
     "data": {
      "text/plain": [
       "array([[1, 2, 3],\n",
       "       [4, 5, 6]])"
      ]
     },
     "execution_count": 52,
     "metadata": {},
     "output_type": "execute_result"
    }
   ],
   "source": [
    "M"
   ]
  },
  {
   "cell_type": "code",
   "execution_count": 53,
   "metadata": {},
   "outputs": [],
   "source": [
    "x = np.array([10, 20, 30])"
   ]
  },
  {
   "cell_type": "code",
   "execution_count": 54,
   "metadata": {},
   "outputs": [
    {
     "data": {
      "text/plain": [
       "array([10, 20, 30])"
      ]
     },
     "execution_count": 54,
     "metadata": {},
     "output_type": "execute_result"
    }
   ],
   "source": [
    "x"
   ]
  },
  {
   "cell_type": "code",
   "execution_count": 55,
   "metadata": {},
   "outputs": [
    {
     "name": "stdout",
     "output_type": "stream",
     "text": [
      "[[ 2  4  6]\n",
      " [ 8 10 12]]\n"
     ]
    }
   ],
   "source": [
    "print(2*M)"
   ]
  },
  {
   "cell_type": "code",
   "execution_count": 56,
   "metadata": {},
   "outputs": [
    {
     "name": "stdout",
     "output_type": "stream",
     "text": [
      "[ 7 17 27]\n"
     ]
    }
   ],
   "source": [
    "print(x - 3)"
   ]
  },
  {
   "cell_type": "code",
   "execution_count": 57,
   "metadata": {},
   "outputs": [
    {
     "name": "stdout",
     "output_type": "stream",
     "text": [
      "[[11 22 33]\n",
      " [14 25 36]]\n"
     ]
    }
   ],
   "source": [
    "print(M + x)"
   ]
  },
  {
   "cell_type": "markdown",
   "metadata": {},
   "source": [
    "Prethodni slučajevi ukazuju na izvršavanje računskih operacija između struktura koje su različitih dimenzija. Moguće je sabirati niz ili matricu sa skalarom tako što se izvrši sabiranje po svakoj koordinati ili izvršavati sabiranje matrice dimenzije $p \\times q$ i niza od $q$ elemenata. Ova pojava se u Python jeziku naziva *broadcasting* i može se uopštiti i na slučajeve sa više dimenzija. O njoj treba voditi računa jer se neke greške u pogledu neusaglašenosti dimenzija mogu teže otkriti. "
   ]
  },
  {
   "cell_type": "markdown",
   "metadata": {},
   "source": [
    "Evo još jednog primera emitovanja dimenzija."
   ]
  },
  {
   "cell_type": "markdown",
   "metadata": {},
   "source": [
    "<img src=\"assets/broadcasting.png\" width=\"500\" align=\"left\">"
   ]
  },
  {
   "cell_type": "code",
   "execution_count": 58,
   "metadata": {},
   "outputs": [
    {
     "name": "stdout",
     "output_type": "stream",
     "text": [
      "[[10 11 12]\n",
      " [20 21 22]\n",
      " [30 31 32]]\n"
     ]
    }
   ],
   "source": [
    "x = np.array([0, 10, 20]).reshape((3, 1))\n",
    "y = np.array([10, 11, 12])\n",
    "print(x + y)"
   ]
  },
  {
   "cell_type": "code",
   "execution_count": null,
   "metadata": {},
   "outputs": [],
   "source": []
  },
  {
   "cell_type": "markdown",
   "metadata": {},
   "source": [
    "**7.** Odrediti sumu onih elemenata matrice koji su veći od njenog prosečnog elementa."
   ]
  },
  {
   "cell_type": "code",
   "execution_count": 59,
   "metadata": {},
   "outputs": [],
   "source": [
    "M = np.arange(9).reshape(3, 3)"
   ]
  },
  {
   "cell_type": "code",
   "execution_count": 60,
   "metadata": {},
   "outputs": [
    {
     "data": {
      "text/plain": [
       "array([[0, 1, 2],\n",
       "       [3, 4, 5],\n",
       "       [6, 7, 8]])"
      ]
     },
     "execution_count": 60,
     "metadata": {},
     "output_type": "execute_result"
    }
   ],
   "source": [
    "M"
   ]
  },
  {
   "cell_type": "markdown",
   "metadata": {},
   "source": [
    "Za računanje proseka elemenata niza može se koristiti funkcija `average`."
   ]
  },
  {
   "cell_type": "code",
   "execution_count": 61,
   "metadata": {},
   "outputs": [],
   "source": [
    "average = np.average(M)"
   ]
  },
  {
   "cell_type": "code",
   "execution_count": 62,
   "metadata": {},
   "outputs": [
    {
     "name": "stdout",
     "output_type": "stream",
     "text": [
      "26\n"
     ]
    }
   ],
   "source": [
    "print(np.sum(M[M > average]))"
   ]
  },
  {
   "cell_type": "markdown",
   "metadata": {},
   "source": [
    "Prosečna vrednost u matrici je 4, pa je $5 + 6 + 7 + 8 = 26$."
   ]
  },
  {
   "cell_type": "code",
   "execution_count": null,
   "metadata": {},
   "outputs": [],
   "source": []
  },
  {
   "cell_type": "markdown",
   "metadata": {},
   "source": [
    "**8.** Konstruisati matricu koja na sporednoj dijagonali ima redom elemente 4, 3, 2 i 1, a na osalim pozicijama nule."
   ]
  },
  {
   "cell_type": "code",
   "execution_count": 63,
   "metadata": {},
   "outputs": [],
   "source": [
    "n = 4\n",
    "M = np.zeros((n, n))"
   ]
  },
  {
   "cell_type": "code",
   "execution_count": 64,
   "metadata": {},
   "outputs": [],
   "source": [
    "for i in range(n):\n",
    "    M[n-1-i,i] = i + 1"
   ]
  },
  {
   "cell_type": "code",
   "execution_count": 65,
   "metadata": {},
   "outputs": [
    {
     "data": {
      "text/plain": [
       "array([[0., 0., 0., 4.],\n",
       "       [0., 0., 3., 0.],\n",
       "       [0., 2., 0., 0.],\n",
       "       [1., 0., 0., 0.]])"
      ]
     },
     "execution_count": 65,
     "metadata": {},
     "output_type": "execute_result"
    }
   ],
   "source": [
    "M"
   ]
  },
  {
   "cell_type": "code",
   "execution_count": null,
   "metadata": {},
   "outputs": [],
   "source": []
  },
  {
   "cell_type": "markdown",
   "metadata": {},
   "source": [
    "**9.**"
   ]
  },
  {
   "cell_type": "markdown",
   "metadata": {},
   "source": [
    "Neka je $M = \\begin{bmatrix}1&2&3&4\\\\5&6&7&8\\\\9&10&11&12\\end{bmatrix}$.\n",
    "\n",
    "U nastavku su dati neki primeri ispisa elemenata matrice $M$ (enumeracija počinje od 0):"
   ]
  },
  {
   "cell_type": "code",
   "execution_count": 66,
   "metadata": {},
   "outputs": [],
   "source": [
    "M = np.array([[1,2,3,4], [5,6,7,8], [9,10,11,12]])"
   ]
  },
  {
   "cell_type": "code",
   "execution_count": 67,
   "metadata": {},
   "outputs": [
    {
     "name": "stdout",
     "output_type": "stream",
     "text": [
      "Pojedinacni element: 7\n"
     ]
    }
   ],
   "source": [
    "print('Pojedinacni element:', M[1,2])"
   ]
  },
  {
   "cell_type": "code",
   "execution_count": 68,
   "metadata": {},
   "outputs": [
    {
     "name": "stdout",
     "output_type": "stream",
     "text": [
      "Prva vrsta: [5 6 7 8]\n"
     ]
    }
   ],
   "source": [
    "print('Prva vrsta:', M[1])"
   ]
  },
  {
   "cell_type": "code",
   "execution_count": 69,
   "metadata": {},
   "outputs": [
    {
     "name": "stdout",
     "output_type": "stream",
     "text": [
      "Nulta kolona: [1 5 9]\n"
     ]
    }
   ],
   "source": [
    "print('Nulta kolona:', M[:,0])"
   ]
  },
  {
   "cell_type": "code",
   "execution_count": 70,
   "metadata": {},
   "outputs": [
    {
     "name": "stdout",
     "output_type": "stream",
     "text": [
      "Svaki drugi element poslednje kolone: [ 4 12]\n"
     ]
    }
   ],
   "source": [
    "print('Svaki drugi element poslednje kolone:', M[::2, -1])"
   ]
  },
  {
   "cell_type": "code",
   "execution_count": 71,
   "metadata": {},
   "outputs": [
    {
     "name": "stdout",
     "output_type": "stream",
     "text": [
      "Elementi na pozicijama (1,2) i (1,3): [7 8]\n"
     ]
    }
   ],
   "source": [
    "# pozicije se generisu na osnovu prvih i drugih koordinata\n",
    "print('Elementi na pozicijama (1,2) i (1,3):', M[(1,1), (2,3)])"
   ]
  },
  {
   "cell_type": "code",
   "execution_count": null,
   "metadata": {},
   "outputs": [],
   "source": []
  },
  {
   "cell_type": "markdown",
   "metadata": {},
   "source": [
    "Neka je $M = \\begin{bmatrix}1&2&3&4&5\\\\6&7&8&9&10\\\\11&12&13&14&15\\\\16&17&18&19&20\\\\21&22&23&24&25\\end{bmatrix}$. U nastavku su dati neki primeri ispisa elemenata matrice $M$:"
   ]
  },
  {
   "cell_type": "code",
   "execution_count": 72,
   "metadata": {},
   "outputs": [],
   "source": [
    "M = np.arange(25).reshape(5, 5) + 1"
   ]
  },
  {
   "cell_type": "code",
   "execution_count": 73,
   "metadata": {},
   "outputs": [
    {
     "name": "stdout",
     "output_type": "stream",
     "text": [
      "Vrednosti od 3. do 4. elementa u nultom redu: [4 5]\n"
     ]
    }
   ],
   "source": [
    "print('Vrednosti od 3. do 4. elementa u nultom redu:', M[0,3:5])"
   ]
  },
  {
   "cell_type": "code",
   "execution_count": 74,
   "metadata": {},
   "outputs": [
    {
     "name": "stdout",
     "output_type": "stream",
     "text": [
      "Kvadratna podmatrica reda 2 u donjem desnom uglu:\n",
      " [[19 20]\n",
      " [24 25]]\n"
     ]
    }
   ],
   "source": [
    "print('Kvadratna podmatrica reda 2 u donjem desnom uglu:\\n', M[-2:,-2:])"
   ]
  },
  {
   "cell_type": "code",
   "execution_count": 75,
   "metadata": {},
   "outputs": [
    {
     "name": "stdout",
     "output_type": "stream",
     "text": [
      "Elementi svakog drugog reda pocev od 2. i elementi svake druge kolone:\n",
      " [[11 13 15]\n",
      " [21 23 25]]\n"
     ]
    }
   ],
   "source": [
    "print('Elementi svakog drugog reda pocev od 2. i elementi svake druge kolone:\\n', M[2::2,::2])"
   ]
  },
  {
   "cell_type": "code",
   "execution_count": 76,
   "metadata": {},
   "outputs": [
    {
     "name": "stdout",
     "output_type": "stream",
     "text": [
      "Elementi sa koordinatama (0,2), (1,3), (2,4): [ 3  9 15]\n"
     ]
    }
   ],
   "source": [
    "print('Elementi sa koordinatama (0,2), (1,3), (2,4):', M[(0,1,2),(2,3,4)])"
   ]
  },
  {
   "cell_type": "code",
   "execution_count": null,
   "metadata": {},
   "outputs": [],
   "source": []
  },
  {
   "cell_type": "markdown",
   "metadata": {},
   "source": [
    "U radu sa matricama često su nam potrebne i funkcije za pronalaženje maksimuma, minimuma, sume, proizvoda (takozvane funkcije za redukciju višedimenzionog niza). Sledeći primer ukazu je neke takve scenarije. "
   ]
  },
  {
   "cell_type": "markdown",
   "metadata": {},
   "source": [
    "**10.** Odrediti sumu elemenata proizvoljne matrice $M$ po vrstama, po kolonama, kao i svih elemenata."
   ]
  },
  {
   "cell_type": "code",
   "execution_count": 77,
   "metadata": {},
   "outputs": [],
   "source": [
    "M = np.arange(0, 15).reshape((3, 5))"
   ]
  },
  {
   "cell_type": "code",
   "execution_count": 78,
   "metadata": {},
   "outputs": [
    {
     "data": {
      "text/plain": [
       "array([[ 0,  1,  2,  3,  4],\n",
       "       [ 5,  6,  7,  8,  9],\n",
       "       [10, 11, 12, 13, 14]])"
      ]
     },
     "execution_count": 78,
     "metadata": {},
     "output_type": "execute_result"
    }
   ],
   "source": [
    "M"
   ]
  },
  {
   "cell_type": "markdown",
   "metadata": {},
   "source": [
    "Za navođenje dimenzije (kaže se i ose) niza duž koje treba primeniti operaciju koristi se parametar `axis`."
   ]
  },
  {
   "cell_type": "markdown",
   "metadata": {},
   "source": [
    "Za klasične matrice i sumiranje duž kolone navodi vrednost 0, dok se za sumiranje duž vrste navodi vrednost 1. "
   ]
  },
  {
   "cell_type": "code",
   "execution_count": 79,
   "metadata": {},
   "outputs": [
    {
     "data": {
      "text/plain": [
       "array([15, 18, 21, 24, 27])"
      ]
     },
     "execution_count": 79,
     "metadata": {},
     "output_type": "execute_result"
    }
   ],
   "source": [
    "M.sum(axis=0)"
   ]
  },
  {
   "cell_type": "code",
   "execution_count": 80,
   "metadata": {},
   "outputs": [
    {
     "data": {
      "text/plain": [
       "array([10, 35, 60])"
      ]
     },
     "execution_count": 80,
     "metadata": {},
     "output_type": "execute_result"
    }
   ],
   "source": [
    "M.sum(axis=1)"
   ]
  },
  {
   "cell_type": "markdown",
   "metadata": {},
   "source": [
    "Ukoliko se ne navede osa, vrši se sumiranje svih elemenata."
   ]
  },
  {
   "cell_type": "code",
   "execution_count": 81,
   "metadata": {},
   "outputs": [
    {
     "data": {
      "text/plain": [
       "105"
      ]
     },
     "execution_count": 81,
     "metadata": {},
     "output_type": "execute_result"
    }
   ],
   "source": [
    "M.sum()"
   ]
  },
  {
   "cell_type": "markdown",
   "metadata": {},
   "source": [
    "Na sledećoj slici možemo ispratiti značenja osa za nizove različitih dimenzija."
   ]
  },
  {
   "cell_type": "markdown",
   "metadata": {},
   "source": [
    "<img src=\"assets/axis.png\" width=\"500\" align=\"left\">"
   ]
  },
  {
   "cell_type": "code",
   "execution_count": null,
   "metadata": {},
   "outputs": [],
   "source": []
  },
  {
   "cell_type": "markdown",
   "metadata": {},
   "source": [
    "O nekim detaljima koji se tiču fizičke organizacije memorije, možete više pročitati u [ovoj](./misc/upravljanje-memorijom.ipynb) svesci. "
   ]
  },
  {
   "cell_type": "code",
   "execution_count": null,
   "metadata": {},
   "outputs": [],
   "source": []
  }
 ],
 "metadata": {
  "kernelspec": {
   "display_name": "Python 3",
   "language": "python",
   "name": "python3"
  },
  "language_info": {
   "codemirror_mode": {
    "name": "ipython",
    "version": 3
   },
   "file_extension": ".py",
   "mimetype": "text/x-python",
   "name": "python",
   "nbconvert_exporter": "python",
   "pygments_lexer": "ipython3",
   "version": "3.7.6"
  }
 },
 "nbformat": 4,
 "nbformat_minor": 2
}
