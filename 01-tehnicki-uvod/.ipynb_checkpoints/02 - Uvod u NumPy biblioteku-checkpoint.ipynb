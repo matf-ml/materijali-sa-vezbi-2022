{
 "cells": [
  {
   "cell_type": "markdown",
   "id": "6daf66c6",
   "metadata": {},
   "source": [
    "**NumPy** je Python biblioteka koja podrzava rad sa visedimenzionalnim nizovima, kao i brojne matematicke operacije koje se mogu primeniti nad njima. Na [ovom](http://www.numpy.org/) linku se nalazi zvanična stranica biblioteke, a [ovde](https://docs.scipy.org/doc/numpy/user/quickstart.html) se može pronaći koristan tutorijal."
   ]
  },
  {
   "cell_type": "markdown",
   "id": "85e014d4",
   "metadata": {},
   "source": [
    "Osnovna struktura podataka koju koristi NumPy biblioteka je **ndarray** (n-dimensional array). U pitanju je struktura kojom se predstavljaju visedimenzioni nizovi ciji svi elementi moraju biti istog tipa."
   ]
  },
  {
   "cell_type": "code",
   "execution_count": 1,
   "id": "f8757434",
   "metadata": {},
   "outputs": [],
   "source": [
    "import numpy as np\n",
    "from numpy import linalg as LA"
   ]
  },
  {
   "cell_type": "code",
   "execution_count": 2,
   "id": "1dc24e6f",
   "metadata": {},
   "outputs": [],
   "source": [
    "a = np.array([1, 2, 3])\n",
    "A = np.array([[1, 2, 3], [4, 5, 6]])"
   ]
  },
  {
   "cell_type": "code",
   "execution_count": 3,
   "id": "2fc35df8",
   "metadata": {},
   "outputs": [
    {
     "name": "stdout",
     "output_type": "stream",
     "text": [
      "Niz a:\n",
      "[1 2 3]\n",
      "shape =  (3,)\n",
      "ndim =  1\n",
      "size =  3\n",
      "dtype =  int64\n"
     ]
    }
   ],
   "source": [
    "print('Niz a:')\n",
    "print(a)\n",
    "print('shape = ', a.shape)     #dimenzije visedimenzionog niza\n",
    "print('ndim = ', a.ndim)       #broj dimenzija visedimezionog niza\n",
    "print('size = ', a.size)       #ukupan broj elemenata u visedimenzionom nizu\n",
    "print('dtype = ', a.dtype)     #tip elemenata visedimenzionog niza"
   ]
  },
  {
   "cell_type": "code",
   "execution_count": 4,
   "id": "22f4bcf7",
   "metadata": {},
   "outputs": [
    {
     "name": "stdout",
     "output_type": "stream",
     "text": [
      "Matrica A:\n",
      "[[1 2 3]\n",
      " [4 5 6]]\n",
      "shape =  (2, 3)\n",
      "ndim =  2\n",
      "size =  6\n",
      "dtype =  int64\n"
     ]
    }
   ],
   "source": [
    "print('Matrica A:')\n",
    "print(A)\n",
    "print('shape = ', A.shape)    \n",
    "print('ndim = ', A.ndim)      \n",
    "print('size = ', A.size)      \n",
    "print('dtype = ', A.dtype)     "
   ]
  },
  {
   "cell_type": "markdown",
   "id": "2729b403",
   "metadata": {},
   "source": [
    "Kroz <code>dtype</code> svojstvo moze se uticati na tip podataka elemenata visedimenzionog niza. NumPy biblioteka podrzava ugradjene Python tipove, ali nudi i mogucnost rada sa tipovima drugacijih opsega i preciznosti kroz svoje tipove kao sto su npr. <code>int8</code>, <code>int16</code>, <code>uint8</code>, <code>float32</code>, <code>float64</code>, <code>complex128</code>, itd. \n"
   ]
  },
  {
   "cell_type": "code",
   "execution_count": 5,
   "id": "4971a050",
   "metadata": {},
   "outputs": [
    {
     "name": "stdout",
     "output_type": "stream",
     "text": [
      "[[[2.1  3.  ]\n",
      "  [4.4  5.  ]]\n",
      "\n",
      " [[6.   7.58]\n",
      "  [8.   9.  ]]]\n"
     ]
    }
   ],
   "source": [
    "A = np.array([[[2.1, 3], [4.4, 5]], [[6, 7.58], [8, 9]]], dtype = 'float32')\n",
    "print(A)"
   ]
  },
  {
   "cell_type": "code",
   "execution_count": 6,
   "id": "6d6f7d2d",
   "metadata": {},
   "outputs": [
    {
     "name": "stdout",
     "output_type": "stream",
     "text": [
      "[[[2.1  3.  ]\n",
      "  [4.4  5.  ]]\n",
      "\n",
      " [[6.   7.58]\n",
      "  [8.   9.  ]]]\n"
     ]
    }
   ],
   "source": [
    "#II nacin\n",
    "A = np.array([[[2.1, 3], [4.4, 5]], [[6, 7.58], [8, 9]]], dtype = np.float32)\n",
    "print(A)"
   ]
  },
  {
   "cell_type": "markdown",
   "id": "232e3651",
   "metadata": {},
   "source": [
    "# Kreiranje specificnih NumPy nizova"
   ]
  },
  {
   "cell_type": "markdown",
   "id": "91c069eb",
   "metadata": {},
   "source": [
    "Jednodimenzioni niz uzastopnih vrednosti iz datog opsega sa korakom koji odgovara trecem argumentu"
   ]
  },
  {
   "cell_type": "code",
   "execution_count": 7,
   "id": "c2e42121",
   "metadata": {},
   "outputs": [
    {
     "name": "stdout",
     "output_type": "stream",
     "text": [
      "[1 3 5 7 9]\n"
     ]
    }
   ],
   "source": [
    "a = np.arange(1, 10, 2)\n",
    "print(a)"
   ]
  },
  {
   "cell_type": "markdown",
   "id": "77f6e159",
   "metadata": {},
   "source": [
    "Jednodimenzioni niz se reshape-uje u visedimenzioni"
   ]
  },
  {
   "cell_type": "code",
   "execution_count": 8,
   "id": "0ce1b16f",
   "metadata": {},
   "outputs": [
    {
     "name": "stdout",
     "output_type": "stream",
     "text": [
      "[[ 1  2  3  4]\n",
      " [ 5  6  7  8]\n",
      " [ 9 10 11 12]]\n"
     ]
    }
   ],
   "source": [
    "A = np.arange(1, 13).reshape((3, 4))\n",
    "print(A)"
   ]
  },
  {
   "cell_type": "markdown",
   "id": "a07cbbdd",
   "metadata": {},
   "source": [
    "Ekvidistantna mreza vrednosti iz datog intervala sa brojem tacaka koji odgovara trecem argumentu"
   ]
  },
  {
   "cell_type": "code",
   "execution_count": 9,
   "id": "ebbf458d",
   "metadata": {},
   "outputs": [
    {
     "name": "stdout",
     "output_type": "stream",
     "text": [
      "[1.  1.5 2.  2.5 3.  3.5 4.  4.5 5. ]\n"
     ]
    }
   ],
   "source": [
    "A = np.linspace(1, 5, 9)\n",
    "print(A)"
   ]
  },
  {
   "cell_type": "markdown",
   "id": "b63d5984",
   "metadata": {},
   "source": [
    "Prazan jednodimenzioni niz"
   ]
  },
  {
   "cell_type": "code",
   "execution_count": 10,
   "id": "99ddc511",
   "metadata": {},
   "outputs": [
    {
     "name": "stdout",
     "output_type": "stream",
     "text": [
      "[[3.20000076e+01 2.04800049e+03]\n",
      " [7.60217658e+04 2.62144063e+05]]\n"
     ]
    }
   ],
   "source": [
    "A = np.empty((2, 2))\n",
    "print(A)"
   ]
  },
  {
   "cell_type": "markdown",
   "id": "ea0923d0",
   "metadata": {},
   "source": [
    "Nula vektor (jednodimenzioni niz)"
   ]
  },
  {
   "cell_type": "code",
   "execution_count": 11,
   "id": "7f640911",
   "metadata": {},
   "outputs": [
    {
     "name": "stdout",
     "output_type": "stream",
     "text": [
      "[0. 0. 0. 0. 0. 0.]\n"
     ]
    }
   ],
   "source": [
    "a = np.zeros(6)\n",
    "print(a)"
   ]
  },
  {
   "cell_type": "markdown",
   "id": "e9848dda",
   "metadata": {},
   "source": [
    "Nula matrica (dvodimenzioni niz)"
   ]
  },
  {
   "cell_type": "code",
   "execution_count": 12,
   "id": "42447108",
   "metadata": {},
   "outputs": [
    {
     "name": "stdout",
     "output_type": "stream",
     "text": [
      "[[0. 0.]\n",
      " [0. 0.]\n",
      " [0. 0.]]\n"
     ]
    }
   ],
   "source": [
    "A = np.zeros((3, 2))\n",
    "print(A)"
   ]
  },
  {
   "cell_type": "markdown",
   "id": "bf153c6e",
   "metadata": {},
   "source": [
    "Niz jedinica"
   ]
  },
  {
   "cell_type": "code",
   "execution_count": 13,
   "id": "98ba7efa",
   "metadata": {},
   "outputs": [
    {
     "name": "stdout",
     "output_type": "stream",
     "text": [
      "[1. 1. 1.]\n"
     ]
    }
   ],
   "source": [
    "a = np.ones(3)\n",
    "print(a)"
   ]
  },
  {
   "cell_type": "markdown",
   "id": "2d71f603",
   "metadata": {},
   "source": [
    "Matrica jedinica"
   ]
  },
  {
   "cell_type": "code",
   "execution_count": 14,
   "id": "eeff518b",
   "metadata": {},
   "outputs": [
    {
     "name": "stdout",
     "output_type": "stream",
     "text": [
      "[[[1. 1. 1.]\n",
      "  [1. 1. 1.]]\n",
      "\n",
      " [[1. 1. 1.]\n",
      "  [1. 1. 1.]]\n",
      "\n",
      " [[1. 1. 1.]\n",
      "  [1. 1. 1.]]\n",
      "\n",
      " [[1. 1. 1.]\n",
      "  [1. 1. 1.]]]\n"
     ]
    }
   ],
   "source": [
    "A = np.ones((4, 2, 3))\n",
    "print(A)"
   ]
  },
  {
   "cell_type": "markdown",
   "id": "16f8ec11",
   "metadata": {},
   "source": [
    "Jedinicna matrica"
   ]
  },
  {
   "cell_type": "code",
   "execution_count": 15,
   "id": "75d50a99",
   "metadata": {},
   "outputs": [
    {
     "name": "stdout",
     "output_type": "stream",
     "text": [
      "[[1. 0. 0.]\n",
      " [0. 1. 0.]\n",
      " [0. 0. 1.]]\n"
     ]
    }
   ],
   "source": [
    "A = np.eye(3)\n",
    "print(A)"
   ]
  },
  {
   "cell_type": "markdown",
   "id": "6b9388dc",
   "metadata": {},
   "source": [
    "Dijagonalna matrica sa datim elementima na dijagonali"
   ]
  },
  {
   "cell_type": "code",
   "execution_count": 16,
   "id": "c095ec72",
   "metadata": {},
   "outputs": [
    {
     "name": "stdout",
     "output_type": "stream",
     "text": [
      "[[1 0 0 0]\n",
      " [0 2 0 0]\n",
      " [0 0 3 0]\n",
      " [0 0 0 4]]\n"
     ]
    }
   ],
   "source": [
    "A = np.diag([1, 2, 3, 4])\n",
    "print(A)"
   ]
  },
  {
   "cell_type": "markdown",
   "id": "fb614104",
   "metadata": {},
   "source": [
    "Niz random vrednosti iz uniformne raspodele $U[0, 1)$"
   ]
  },
  {
   "cell_type": "code",
   "execution_count": 17,
   "id": "e7cb8bf5",
   "metadata": {},
   "outputs": [
    {
     "name": "stdout",
     "output_type": "stream",
     "text": [
      "[0.25006417 0.10715734 0.57701783]\n"
     ]
    }
   ],
   "source": [
    "a = np.random.rand(3)\n",
    "print(a)"
   ]
  },
  {
   "cell_type": "markdown",
   "id": "e2e685a1",
   "metadata": {},
   "source": [
    "Matrica random vrednosti iz uniformne raspodele $U[0, 1)$"
   ]
  },
  {
   "cell_type": "code",
   "execution_count": 18,
   "id": "4a94b14b",
   "metadata": {},
   "outputs": [
    {
     "name": "stdout",
     "output_type": "stream",
     "text": [
      "[[0.25497085 0.03487621 0.75726543]\n",
      " [0.50189294 0.54693856 0.59668605]]\n"
     ]
    }
   ],
   "source": [
    "A = np.random.rand(2, 3)\n",
    "print(A)"
   ]
  },
  {
   "cell_type": "markdown",
   "id": "8300e5da",
   "metadata": {},
   "source": [
    "Niz random vrednosti iz uniformne raspodele $U[2, 5)$"
   ]
  },
  {
   "cell_type": "code",
   "execution_count": 19,
   "id": "c417ddf4",
   "metadata": {},
   "outputs": [
    {
     "name": "stdout",
     "output_type": "stream",
     "text": [
      "[3.83508011 4.73974153 2.65257738 2.1239155  4.27431819]\n"
     ]
    }
   ],
   "source": [
    "a = np.random.uniform(2, 5, 5)\n",
    "print(a)"
   ]
  },
  {
   "cell_type": "markdown",
   "id": "4286c2db",
   "metadata": {},
   "source": [
    "Matrica random vrednosti iz uniformne raspodele $U[2, 5)$"
   ]
  },
  {
   "cell_type": "code",
   "execution_count": 20,
   "id": "3f12615a",
   "metadata": {},
   "outputs": [
    {
     "name": "stdout",
     "output_type": "stream",
     "text": [
      "[[2.85126814 2.39675448]\n",
      " [3.37029099 4.11084268]]\n"
     ]
    }
   ],
   "source": [
    "A = np.random.uniform(2, 5, (2, 2))\n",
    "print(A)"
   ]
  },
  {
   "cell_type": "markdown",
   "id": "c363244c",
   "metadata": {},
   "source": [
    "Niz random vrednosti iz normalne raspodele $N(0, 1)$"
   ]
  },
  {
   "cell_type": "code",
   "execution_count": 21,
   "id": "c82f2948",
   "metadata": {},
   "outputs": [
    {
     "name": "stdout",
     "output_type": "stream",
     "text": [
      "[-0.85880737  0.01333977  0.97780906  0.74741532 -0.25339552]\n"
     ]
    }
   ],
   "source": [
    "a = np.random.randn(5)\n",
    "print(a)"
   ]
  },
  {
   "cell_type": "markdown",
   "id": "6cd34e50",
   "metadata": {},
   "source": [
    "Matrica random vrednosti iz normalne raspodele $N(0, 1)$"
   ]
  },
  {
   "cell_type": "code",
   "execution_count": 22,
   "id": "2780d419",
   "metadata": {},
   "outputs": [
    {
     "name": "stdout",
     "output_type": "stream",
     "text": [
      "[[ 2.33414174  0.24441602]\n",
      " [-2.06555057  0.39280875]\n",
      " [ 0.01254679 -0.55195549]]\n"
     ]
    }
   ],
   "source": [
    "A = np.random.randn(3, 2)\n",
    "print(A)"
   ]
  },
  {
   "cell_type": "markdown",
   "id": "e4a134ef",
   "metadata": {},
   "source": [
    "Funkcija <code>np.random.randn()</code> vraca random vrednosti iz standardne normalne raspodele $N(0, 1)$. Za generisanje random vrednosti iz normalne raspodele $N(\\mu, \\sigma^2)$ moze se koristiti sledeci izraz:\n",
    "<code>sigma * np.radnom.randn() + mi</code> ili funkcija <code>np.normal()</code> sa parametrima $\\mu$ i $\\sigma$."
   ]
  },
  {
   "cell_type": "code",
   "execution_count": 23,
   "id": "0d203b4d",
   "metadata": {},
   "outputs": [
    {
     "name": "stdout",
     "output_type": "stream",
     "text": [
      "-2.1562198384399225\n"
     ]
    }
   ],
   "source": [
    "x = np.random.normal(-2, 0.5)\n",
    "print(x)"
   ]
  },
  {
   "cell_type": "code",
   "execution_count": 24,
   "id": "c2f92cc7",
   "metadata": {},
   "outputs": [
    {
     "name": "stdout",
     "output_type": "stream",
     "text": [
      "[-1.84014293 -2.82421393 -1.82607555 -1.73292271]\n"
     ]
    }
   ],
   "source": [
    "a = np.random.normal(-2, 0.5, 4)\n",
    "print(a)"
   ]
  },
  {
   "cell_type": "code",
   "execution_count": 25,
   "id": "c99eefff",
   "metadata": {},
   "outputs": [
    {
     "name": "stdout",
     "output_type": "stream",
     "text": [
      "[[-2.90746419]\n",
      " [-2.31072169]]\n"
     ]
    }
   ],
   "source": [
    "A = np.random.normal(-2, 0.5, (2, 1))\n",
    "print(A)"
   ]
  },
  {
   "cell_type": "markdown",
   "id": "98d197cb",
   "metadata": {},
   "source": [
    "# Indeksiranje i izdvajanje elemenata (eng. slicing) NumPy nizova"
   ]
  },
  {
   "cell_type": "code",
   "execution_count": 26,
   "id": "742547ce",
   "metadata": {},
   "outputs": [
    {
     "name": "stdout",
     "output_type": "stream",
     "text": [
      "[[ 1  2  3  4]\n",
      " [ 5  6  7  8]\n",
      " [ 9 10 11 12]]\n"
     ]
    }
   ],
   "source": [
    "A = np.arange(1, 13).reshape(3, 4)\n",
    "print(A)"
   ]
  },
  {
   "cell_type": "markdown",
   "id": "56859ec1",
   "metadata": {},
   "source": [
    "Pristup pojedinacnim elementima"
   ]
  },
  {
   "cell_type": "code",
   "execution_count": 27,
   "id": "c01bf6b1",
   "metadata": {},
   "outputs": [
    {
     "name": "stdout",
     "output_type": "stream",
     "text": [
      "7\n"
     ]
    }
   ],
   "source": [
    "print(A[1, 2])         #NAPOMENA: kod matrice koja je lista listi pristup elementu je A[1][2]!"
   ]
  },
  {
   "cell_type": "markdown",
   "id": "70606b75",
   "metadata": {},
   "source": [
    "Izdvajanje vrste"
   ]
  },
  {
   "cell_type": "code",
   "execution_count": 28,
   "id": "db51a895",
   "metadata": {},
   "outputs": [
    {
     "name": "stdout",
     "output_type": "stream",
     "text": [
      "[5 6 7 8]\n"
     ]
    }
   ],
   "source": [
    "print(A[1])"
   ]
  },
  {
   "cell_type": "code",
   "execution_count": 29,
   "id": "ebf10dbc",
   "metadata": {},
   "outputs": [
    {
     "name": "stdout",
     "output_type": "stream",
     "text": [
      "[5 6 7 8]\n"
     ]
    }
   ],
   "source": [
    "#II nacin\n",
    "print(A[1, :])"
   ]
  },
  {
   "cell_type": "markdown",
   "id": "3dfaecdd",
   "metadata": {},
   "source": [
    "Izdvajanje kolone"
   ]
  },
  {
   "cell_type": "code",
   "execution_count": 30,
   "id": "3cb35daa",
   "metadata": {},
   "outputs": [
    {
     "name": "stdout",
     "output_type": "stream",
     "text": [
      "[ 2  6 10]\n"
     ]
    }
   ],
   "source": [
    "print(A[:, 1])"
   ]
  },
  {
   "cell_type": "markdown",
   "id": "c7c2092b",
   "metadata": {},
   "source": [
    "Izdvajanje elemenata pomocu slicing operatora"
   ]
  },
  {
   "cell_type": "code",
   "execution_count": 31,
   "id": "38ff51f7",
   "metadata": {},
   "outputs": [
    {
     "name": "stdout",
     "output_type": "stream",
     "text": [
      "[ 9 11]\n"
     ]
    }
   ],
   "source": [
    "print(A[-1, ::2])"
   ]
  },
  {
   "cell_type": "markdown",
   "id": "7a04abe4",
   "metadata": {},
   "source": [
    "Izdvajanje vise elemenata odjednom na datim indeksima"
   ]
  },
  {
   "cell_type": "code",
   "execution_count": 32,
   "id": "ddb85077",
   "metadata": {},
   "outputs": [
    {
     "name": "stdout",
     "output_type": "stream",
     "text": [
      "[7 8 9]\n"
     ]
    }
   ],
   "source": [
    "print(A[(1, 1, 2), (2, 3, 0)])"
   ]
  },
  {
   "cell_type": "code",
   "execution_count": 33,
   "id": "cdd54d29",
   "metadata": {},
   "outputs": [
    {
     "name": "stdout",
     "output_type": "stream",
     "text": [
      "[7 8 9]\n"
     ]
    }
   ],
   "source": [
    "print(A[[1, 1, 2], [2, 3, 0]])"
   ]
  },
  {
   "cell_type": "markdown",
   "id": "0213a4f2",
   "metadata": {},
   "source": [
    "Izdvajanje elemenata filtriranjem <code>bool</code> indeksima"
   ]
  },
  {
   "cell_type": "code",
   "execution_count": 34,
   "id": "637977eb",
   "metadata": {},
   "outputs": [
    {
     "name": "stdout",
     "output_type": "stream",
     "text": [
      "[6 8]\n"
     ]
    }
   ],
   "source": [
    "maska = np.array([0, 1, 0, 1], dtype=bool)\n",
    "print(A[1, maska])"
   ]
  },
  {
   "cell_type": "code",
   "execution_count": 35,
   "id": "4a15fd37",
   "metadata": {},
   "outputs": [
    {
     "name": "stdout",
     "output_type": "stream",
     "text": [
      "[ 6  8 10 12]\n"
     ]
    }
   ],
   "source": [
    "maska = np.array([[0, 0, 0, 0], [0, 1, 0, 1], [0, 1, 0, 1]], dtype=bool)\n",
    "print(A[maska])"
   ]
  },
  {
   "cell_type": "code",
   "execution_count": 36,
   "id": "ff64d4e0",
   "metadata": {},
   "outputs": [
    {
     "data": {
      "text/plain": [
       "array([[False, False,  True, False],\n",
       "       [False,  True, False, False],\n",
       "       [ True, False, False,  True]])"
      ]
     },
     "execution_count": 36,
     "metadata": {},
     "output_type": "execute_result"
    }
   ],
   "source": [
    "A % 3 == 0"
   ]
  },
  {
   "cell_type": "code",
   "execution_count": 37,
   "id": "797112cf",
   "metadata": {},
   "outputs": [
    {
     "name": "stdout",
     "output_type": "stream",
     "text": [
      "[ 3  6  9 12]\n"
     ]
    }
   ],
   "source": [
    "print(A[A % 3 == 0])"
   ]
  },
  {
   "cell_type": "markdown",
   "id": "872979d3",
   "metadata": {},
   "source": [
    "Izdvajanje jedinstvenih vrednosi matrice"
   ]
  },
  {
   "cell_type": "code",
   "execution_count": 38,
   "id": "32f72de0",
   "metadata": {},
   "outputs": [
    {
     "name": "stdout",
     "output_type": "stream",
     "text": [
      "[ 1  2  3  4  5  6  7  8  9 10 11 12]\n"
     ]
    }
   ],
   "source": [
    "print(np.unique(A))"
   ]
  },
  {
   "cell_type": "markdown",
   "id": "1aa2f44f",
   "metadata": {},
   "source": [
    "# Neke transformacija nad NumPy nizovima"
   ]
  },
  {
   "cell_type": "markdown",
   "id": "6d7cd572",
   "metadata": {},
   "source": [
    "## Promena dimenzija niza"
   ]
  },
  {
   "cell_type": "markdown",
   "id": "b2dcfbf3",
   "metadata": {},
   "source": [
    "<img src=\"assets/reshape.png\" width=\"300\" align=left>"
   ]
  },
  {
   "cell_type": "code",
   "execution_count": 39,
   "id": "0731ba5e",
   "metadata": {},
   "outputs": [
    {
     "name": "stdout",
     "output_type": "stream",
     "text": [
      "[0 1 2 3 4 5]\n"
     ]
    }
   ],
   "source": [
    "a = np.arange(6)\n",
    "print(a)"
   ]
  },
  {
   "cell_type": "code",
   "execution_count": 40,
   "id": "a7bb205e",
   "metadata": {},
   "outputs": [
    {
     "name": "stdout",
     "output_type": "stream",
     "text": [
      "[[0 1]\n",
      " [2 3]\n",
      " [4 5]]\n"
     ]
    }
   ],
   "source": [
    "print(a.reshape(3, 2))"
   ]
  },
  {
   "cell_type": "markdown",
   "id": "8486e4c4",
   "metadata": {},
   "source": [
    "Prethodni poziv <code>reshape</code> funkcije je mogao biti i <code>a.reshape(3, -1)</code> ili <code>a.reshape(-1, 2)</code>. Argument -1 na mestu jedne od dimenzija ukazuje na to da Python interpreter sam treba da izracuna tu dimenziju na osnovu druge poznate dimenzije."
   ]
  },
  {
   "cell_type": "code",
   "execution_count": 41,
   "id": "b6606cf5",
   "metadata": {},
   "outputs": [
    {
     "name": "stdout",
     "output_type": "stream",
     "text": [
      "[[0 1]\n",
      " [2 3]\n",
      " [4 5]]\n"
     ]
    }
   ],
   "source": [
    "print(a.reshape(3, -1))"
   ]
  },
  {
   "cell_type": "code",
   "execution_count": 42,
   "id": "633228fb",
   "metadata": {},
   "outputs": [
    {
     "name": "stdout",
     "output_type": "stream",
     "text": [
      "[[0 1]\n",
      " [2 3]\n",
      " [4 5]]\n"
     ]
    }
   ],
   "source": [
    "print(a.reshape(-1, 2))"
   ]
  },
  {
   "cell_type": "markdown",
   "id": "c3e9f02a",
   "metadata": {},
   "source": [
    "## Razmotavanje visedimenzionalnih nizova u jednodimezionalni"
   ]
  },
  {
   "cell_type": "code",
   "execution_count": 43,
   "id": "5ae52467",
   "metadata": {},
   "outputs": [
    {
     "name": "stdout",
     "output_type": "stream",
     "text": [
      "[[0 1 2]\n",
      " [3 4 5]\n",
      " [6 7 8]]\n"
     ]
    }
   ],
   "source": [
    "A = np.arange(9).reshape(3, 3)\n",
    "print(A)"
   ]
  },
  {
   "cell_type": "code",
   "execution_count": 44,
   "id": "259302db",
   "metadata": {},
   "outputs": [
    {
     "name": "stdout",
     "output_type": "stream",
     "text": [
      "[0 1 2 3 4 5 6 7 8]\n"
     ]
    }
   ],
   "source": [
    "a = A.flatten()      \n",
    "print(a)"
   ]
  },
  {
   "cell_type": "code",
   "execution_count": 45,
   "id": "357e096e",
   "metadata": {},
   "outputs": [
    {
     "name": "stdout",
     "output_type": "stream",
     "text": [
      "[0 1 2 3 4 5 6 7 8]\n"
     ]
    }
   ],
   "source": [
    "#II nacin\n",
    "a = A.ravel()\n",
    "print(a)"
   ]
  },
  {
   "cell_type": "markdown",
   "id": "99dccdb0",
   "metadata": {},
   "source": [
    "## Slaganje nizova horizontalno i vertikalno"
   ]
  },
  {
   "cell_type": "code",
   "execution_count": 46,
   "id": "abe221ba",
   "metadata": {},
   "outputs": [],
   "source": [
    "x = np.array([1, 2, 3])\n",
    "y = np.array([4, 5, 6])\n",
    "z = np.array([7, 8, 9])"
   ]
  },
  {
   "cell_type": "code",
   "execution_count": 47,
   "id": "ab5acd21",
   "metadata": {},
   "outputs": [
    {
     "name": "stdout",
     "output_type": "stream",
     "text": [
      "[1 2 3 4 5 6 7 8 9]\n"
     ]
    }
   ],
   "source": [
    "A = np.hstack((x, y, z))\n",
    "print(A)"
   ]
  },
  {
   "cell_type": "code",
   "execution_count": 48,
   "id": "155e1409",
   "metadata": {},
   "outputs": [
    {
     "name": "stdout",
     "output_type": "stream",
     "text": [
      "[[1 2 3]\n",
      " [4 5 6]\n",
      " [7 8 9]]\n"
     ]
    }
   ],
   "source": [
    "A = np.vstack((x, y, z))\n",
    "print(A)"
   ]
  },
  {
   "cell_type": "markdown",
   "id": "018ad5ff",
   "metadata": {},
   "source": [
    "# Operacije za rad sa NumPy nizovima"
   ]
  },
  {
   "cell_type": "code",
   "execution_count": 49,
   "id": "3d8b1f04",
   "metadata": {},
   "outputs": [
    {
     "name": "stdout",
     "output_type": "stream",
     "text": [
      "[[ 0  1  2  3]\n",
      " [ 4  5  6  7]\n",
      " [ 8  9 10 11]]\n"
     ]
    }
   ],
   "source": [
    "A = np.arange(12).reshape(3, 4)\n",
    "print(A)"
   ]
  },
  {
   "cell_type": "markdown",
   "id": "38161e04",
   "metadata": {},
   "source": [
    "Sabiranje, oduzimanje, mnozenje i deljenje skalarom se realizuje pokoordinatno."
   ]
  },
  {
   "cell_type": "code",
   "execution_count": 50,
   "id": "82f8522b",
   "metadata": {},
   "outputs": [
    {
     "name": "stdout",
     "output_type": "stream",
     "text": [
      "[[ 1  2  3  4]\n",
      " [ 5  6  7  8]\n",
      " [ 9 10 11 12]]\n",
      "[[-1  0  1  2]\n",
      " [ 3  4  5  6]\n",
      " [ 7  8  9 10]]\n",
      "[[ 0  2  4  6]\n",
      " [ 8 10 12 14]\n",
      " [16 18 20 22]]\n"
     ]
    }
   ],
   "source": [
    "print(A + 1)\n",
    "print(A - 1)\n",
    "print(A * 2)"
   ]
  },
  {
   "cell_type": "markdown",
   "id": "b00d97b7",
   "metadata": {},
   "source": [
    "U prethodnom primeru su pokazani slucajevi kada se vrse racunske operacije izmedju dve strukture koje su razlicitih dimenzija (sabiranje matrice sa skalarom). Slicno je moguce izvrsiti npr. sabiranje matrice dimenzija $p \\times q$ i niza (vektora) od $q$ elemenata. Ova pojava se u Python jeziku naziva **broadcasting** i moze se uopstiti i na slucajeve sa vise dimenzija i jos nekih vrsta nekompatibilnosti dimenzija (ne sve!).\n",
    "\n",
    "**Broadcasting** je termin kojim se opisuje nacin na koji NumPy biblioteka tretira nizove razlicitih dimenzija prilikom primene aritmetickih operacija. Pravilo je da se niz manje dimenzije broadcast-uje u niz vece dimenzije tako da imaju kompatibilne dimenzije. \n",
    "\n",
    "**NAPOMENA**:O ovom pravilu treba voditi racuna, i uvek proveravati dimenzije nizova pre primene aritmetickih operacija nad njima, jer je upravo broadcasting razlog zasto neke greske u pogledu neusaglasenosti dimenzija mogu ostati prikrivene!"
   ]
  },
  {
   "cell_type": "markdown",
   "id": "cae99dc7",
   "metadata": {},
   "source": [
    "<img src=\"assets/broadcasting.png\" width=\"500\" align=left>"
   ]
  },
  {
   "cell_type": "code",
   "execution_count": 51,
   "id": "a0ff3dc2",
   "metadata": {},
   "outputs": [
    {
     "ename": "ValueError",
     "evalue": "operands could not be broadcast together with shapes (3,4) (3,) ",
     "output_type": "error",
     "traceback": [
      "\u001b[0;31m---------------------------------------------------------------------------\u001b[0m",
      "\u001b[0;31mValueError\u001b[0m                                Traceback (most recent call last)",
      "\u001b[0;32m<ipython-input-51-b734758064b0>\u001b[0m in \u001b[0;36m<module>\u001b[0;34m\u001b[0m\n\u001b[1;32m      1\u001b[0m \u001b[0mx\u001b[0m \u001b[0;34m=\u001b[0m \u001b[0mnp\u001b[0m\u001b[0;34m.\u001b[0m\u001b[0marray\u001b[0m\u001b[0;34m(\u001b[0m\u001b[0;34m[\u001b[0m\u001b[0;36m10\u001b[0m\u001b[0;34m,\u001b[0m \u001b[0;36m20\u001b[0m\u001b[0;34m,\u001b[0m \u001b[0;36m30\u001b[0m\u001b[0;34m]\u001b[0m\u001b[0;34m)\u001b[0m\u001b[0;34m\u001b[0m\u001b[0;34m\u001b[0m\u001b[0m\n\u001b[0;32m----> 2\u001b[0;31m \u001b[0mprint\u001b[0m\u001b[0;34m(\u001b[0m\u001b[0mA\u001b[0m \u001b[0;34m+\u001b[0m \u001b[0mx\u001b[0m\u001b[0;34m)\u001b[0m\u001b[0;34m\u001b[0m\u001b[0;34m\u001b[0m\u001b[0m\n\u001b[0m",
      "\u001b[0;31mValueError\u001b[0m: operands could not be broadcast together with shapes (3,4) (3,) "
     ]
    }
   ],
   "source": [
    "x = np.array([10, 20, 30])\n",
    "print(A + x)"
   ]
  },
  {
   "cell_type": "markdown",
   "id": "c079a7da",
   "metadata": {},
   "source": [
    "Dimenzija <code>(3,)</code> zapravo odgovara dimenziji <code>(1, 3)</code>, a kako matrice dimenzija <code>(3, 4)</code> i <code>(1, 3)</code> nisu kompatibilne (imaju razlicitu drugu dimenziju) nije moguce izvrsiti broadcasting."
   ]
  },
  {
   "cell_type": "code",
   "execution_count": 52,
   "id": "37ae173f",
   "metadata": {},
   "outputs": [
    {
     "name": "stdout",
     "output_type": "stream",
     "text": [
      "[[10 21 32 43]\n",
      " [14 25 36 47]\n",
      " [18 29 40 51]]\n"
     ]
    }
   ],
   "source": [
    "x = np.array([10, 20, 30, 40])\n",
    "print(A + x)"
   ]
  },
  {
   "cell_type": "markdown",
   "id": "6a10fd00",
   "metadata": {},
   "source": [
    "Transponovanje matrice"
   ]
  },
  {
   "cell_type": "code",
   "execution_count": 53,
   "id": "9460ea6e",
   "metadata": {},
   "outputs": [
    {
     "name": "stdout",
     "output_type": "stream",
     "text": [
      "[[ 0  4  8]\n",
      " [ 1  5  9]\n",
      " [ 2  6 10]\n",
      " [ 3  7 11]]\n"
     ]
    }
   ],
   "source": [
    "print(A.T)             "
   ]
  },
  {
   "cell_type": "code",
   "execution_count": 54,
   "id": "2a4d297c",
   "metadata": {},
   "outputs": [
    {
     "name": "stdout",
     "output_type": "stream",
     "text": [
      "[[ 0  4  8]\n",
      " [ 1  5  9]\n",
      " [ 2  6 10]\n",
      " [ 3  7 11]]\n"
     ]
    }
   ],
   "source": [
    "#II nacin\n",
    "print(np.transpose(A))"
   ]
  },
  {
   "cell_type": "markdown",
   "id": "cb44b378",
   "metadata": {},
   "source": [
    "Maksimalni element matrice"
   ]
  },
  {
   "cell_type": "code",
   "execution_count": 55,
   "id": "69117db4",
   "metadata": {},
   "outputs": [
    {
     "name": "stdout",
     "output_type": "stream",
     "text": [
      "11\n"
     ]
    }
   ],
   "source": [
    "print(A.max())          "
   ]
  },
  {
   "cell_type": "code",
   "execution_count": 56,
   "id": "d55d9dee",
   "metadata": {},
   "outputs": [
    {
     "name": "stdout",
     "output_type": "stream",
     "text": [
      "11\n"
     ]
    }
   ],
   "source": [
    "#II nacin\n",
    "print(np.max(A)) "
   ]
  },
  {
   "cell_type": "markdown",
   "id": "922ac58e",
   "metadata": {},
   "source": [
    "Minimalni element matrice"
   ]
  },
  {
   "cell_type": "code",
   "execution_count": 57,
   "id": "dca32d78",
   "metadata": {},
   "outputs": [
    {
     "name": "stdout",
     "output_type": "stream",
     "text": [
      "0\n"
     ]
    }
   ],
   "source": [
    "print(A.min())           "
   ]
  },
  {
   "cell_type": "code",
   "execution_count": 58,
   "id": "927ac43e",
   "metadata": {},
   "outputs": [
    {
     "name": "stdout",
     "output_type": "stream",
     "text": [
      "0\n"
     ]
    }
   ],
   "source": [
    "#II nacin\n",
    "print(np.min(A))"
   ]
  },
  {
   "cell_type": "markdown",
   "id": "da592a0b",
   "metadata": {},
   "source": [
    "Suma svih elemenata matrice"
   ]
  },
  {
   "cell_type": "code",
   "execution_count": 59,
   "id": "27897424",
   "metadata": {},
   "outputs": [
    {
     "name": "stdout",
     "output_type": "stream",
     "text": [
      "66\n"
     ]
    }
   ],
   "source": [
    "print(A.sum())          "
   ]
  },
  {
   "cell_type": "code",
   "execution_count": 60,
   "id": "d7229069",
   "metadata": {},
   "outputs": [
    {
     "name": "stdout",
     "output_type": "stream",
     "text": [
      "66\n"
     ]
    }
   ],
   "source": [
    "#II nacin\n",
    "print(np.sum(A))"
   ]
  },
  {
   "cell_type": "markdown",
   "id": "99a44509",
   "metadata": {},
   "source": [
    "Prosek vrednosti elemenata matrice"
   ]
  },
  {
   "cell_type": "code",
   "execution_count": 61,
   "id": "5d1b3edc",
   "metadata": {},
   "outputs": [
    {
     "name": "stdout",
     "output_type": "stream",
     "text": [
      "5.5\n"
     ]
    }
   ],
   "source": [
    "print(A.mean())"
   ]
  },
  {
   "cell_type": "code",
   "execution_count": 62,
   "id": "394ec6eb",
   "metadata": {},
   "outputs": [
    {
     "name": "stdout",
     "output_type": "stream",
     "text": [
      "5.5\n"
     ]
    }
   ],
   "source": [
    "#II nacin\n",
    "print(np.mean(A))"
   ]
  },
  {
   "cell_type": "code",
   "execution_count": 63,
   "id": "6f410adb",
   "metadata": {},
   "outputs": [
    {
     "name": "stdout",
     "output_type": "stream",
     "text": [
      "5.5\n"
     ]
    }
   ],
   "source": [
    "#III nacin\n",
    "print(np.average(A))"
   ]
  },
  {
   "cell_type": "markdown",
   "id": "683ed1e8",
   "metadata": {},
   "source": [
    "Primena trigonometrijskih funkcije pokoordinatno"
   ]
  },
  {
   "cell_type": "code",
   "execution_count": 64,
   "id": "46b0c636",
   "metadata": {},
   "outputs": [
    {
     "name": "stdout",
     "output_type": "stream",
     "text": [
      "[[ 0.          0.84147098  0.90929743  0.14112001]\n",
      " [-0.7568025  -0.95892427 -0.2794155   0.6569866 ]\n",
      " [ 0.98935825  0.41211849 -0.54402111 -0.99999021]]\n"
     ]
    }
   ],
   "source": [
    "print(np.sin(A))"
   ]
  },
  {
   "cell_type": "code",
   "execution_count": 65,
   "id": "5d1c3a00",
   "metadata": {},
   "outputs": [
    {
     "name": "stdout",
     "output_type": "stream",
     "text": [
      "[[ 1.          0.54030231 -0.41614684 -0.9899925 ]\n",
      " [-0.65364362  0.28366219  0.96017029  0.75390225]\n",
      " [-0.14550003 -0.91113026 -0.83907153  0.0044257 ]]\n"
     ]
    }
   ],
   "source": [
    "print(np.cos(A))"
   ]
  },
  {
   "cell_type": "markdown",
   "id": "caaad581",
   "metadata": {},
   "source": [
    "Primena eksponencijalne i logaritamske funkcije pokoordinatno"
   ]
  },
  {
   "cell_type": "code",
   "execution_count": 66,
   "id": "a14e1e03",
   "metadata": {},
   "outputs": [
    {
     "name": "stdout",
     "output_type": "stream",
     "text": [
      "[[1.00000000e+00 2.71828183e+00 7.38905610e+00 2.00855369e+01]\n",
      " [5.45981500e+01 1.48413159e+02 4.03428793e+02 1.09663316e+03]\n",
      " [2.98095799e+03 8.10308393e+03 2.20264658e+04 5.98741417e+04]]\n"
     ]
    }
   ],
   "source": [
    "print(np.exp(A))"
   ]
  },
  {
   "cell_type": "code",
   "execution_count": 67,
   "id": "ec659194",
   "metadata": {},
   "outputs": [
    {
     "name": "stdout",
     "output_type": "stream",
     "text": [
      "[[0.         0.69314718 1.09861229 1.38629436]\n",
      " [1.60943791 1.79175947 1.94591015 2.07944154]\n",
      " [2.19722458 2.30258509 2.39789527 2.48490665]]\n"
     ]
    }
   ],
   "source": [
    "print(np.log(A + 1))          #NAPOMENA: A + 1 zbog toga sto log(0) nije def!"
   ]
  },
  {
   "cell_type": "markdown",
   "id": "f67d6cbc",
   "metadata": {},
   "source": [
    "Pokoordinatno mnozenje matrica"
   ]
  },
  {
   "cell_type": "code",
   "execution_count": 68,
   "id": "b7851646",
   "metadata": {},
   "outputs": [
    {
     "name": "stdout",
     "output_type": "stream",
     "text": [
      "[[  0   1   4   9]\n",
      " [ 16  25  36  49]\n",
      " [ 64  81 100 121]]\n"
     ]
    }
   ],
   "source": [
    "print(A * A)"
   ]
  },
  {
   "cell_type": "markdown",
   "id": "2c4d1ca0",
   "metadata": {},
   "source": [
    "Matricno mnozenje"
   ]
  },
  {
   "cell_type": "code",
   "execution_count": 69,
   "id": "762a05fb",
   "metadata": {},
   "outputs": [
    {
     "name": "stdout",
     "output_type": "stream",
     "text": [
      "[[ 14  38  62]\n",
      " [ 38 126 214]\n",
      " [ 62 214 366]]\n"
     ]
    }
   ],
   "source": [
    "print(A.dot(A.T))       "
   ]
  },
  {
   "cell_type": "code",
   "execution_count": 70,
   "id": "673df01f",
   "metadata": {},
   "outputs": [
    {
     "name": "stdout",
     "output_type": "stream",
     "text": [
      "[[ 14  38  62]\n",
      " [ 38 126 214]\n",
      " [ 62 214 366]]\n"
     ]
    }
   ],
   "source": [
    "#II nacin\n",
    "print(np.dot(A, A.T))"
   ]
  },
  {
   "cell_type": "markdown",
   "id": "f6b7be25",
   "metadata": {},
   "source": [
    "Pokoordinatno poredjenje matrica"
   ]
  },
  {
   "cell_type": "code",
   "execution_count": 71,
   "id": "bec96c4d",
   "metadata": {},
   "outputs": [],
   "source": [
    "A = np.ones((2, 3))\n",
    "B = np.ones((2, 3))"
   ]
  },
  {
   "cell_type": "code",
   "execution_count": 72,
   "id": "61e4f980",
   "metadata": {},
   "outputs": [
    {
     "name": "stdout",
     "output_type": "stream",
     "text": [
      "[[ True  True  True]\n",
      " [ True  True  True]]\n"
     ]
    }
   ],
   "source": [
    "print(A == B)"
   ]
  },
  {
   "cell_type": "code",
   "execution_count": 73,
   "id": "99ec4ed6",
   "metadata": {},
   "outputs": [
    {
     "name": "stdout",
     "output_type": "stream",
     "text": [
      "[[ True  True  True]\n",
      " [ True  True  True]]\n"
     ]
    }
   ],
   "source": [
    "#II nacin\n",
    "print(np.equal(A, B))"
   ]
  },
  {
   "cell_type": "markdown",
   "id": "d074b978",
   "metadata": {},
   "source": [
    "Poredjenje matrica u celosti"
   ]
  },
  {
   "cell_type": "code",
   "execution_count": 74,
   "id": "e6e47bf8",
   "metadata": {},
   "outputs": [
    {
     "name": "stdout",
     "output_type": "stream",
     "text": [
      "True\n"
     ]
    }
   ],
   "source": [
    "print(np.array_equal(A, B))"
   ]
  }
 ],
 "metadata": {
  "kernelspec": {
   "display_name": "Python 3",
   "language": "python",
   "name": "python3"
  },
  "language_info": {
   "codemirror_mode": {
    "name": "ipython",
    "version": 3
   },
   "file_extension": ".py",
   "mimetype": "text/x-python",
   "name": "python",
   "nbconvert_exporter": "python",
   "pygments_lexer": "ipython3",
   "version": "3.8.8"
  }
 },
 "nbformat": 4,
 "nbformat_minor": 5
}
