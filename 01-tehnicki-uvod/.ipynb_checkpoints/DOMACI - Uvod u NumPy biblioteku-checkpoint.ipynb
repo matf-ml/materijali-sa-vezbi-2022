{
 "cells": [
  {
   "cell_type": "code",
   "execution_count": 1,
   "metadata": {},
   "outputs": [],
   "source": [
    "import numpy as np"
   ]
  },
  {
   "cell_type": "markdown",
   "metadata": {},
   "source": [
    "**1.** Kreirati porizvoljan niz $a$ od 3 elementa i matricu $M$ dimenzija $2 \\times 3$ čiji su elementi tipa `float32`. Ispisati oblik, veličinu, broj dimenzija i tip elemenata niza $a$, odnosno matrice $M$."
   ]
  },
  {
   "cell_type": "code",
   "execution_count": null,
   "metadata": {},
   "outputs": [],
   "source": []
  },
  {
   "cell_type": "markdown",
   "metadata": {},
   "source": [
    "**2.** Generisati nizove i matrice na sledeći način:\n",
    "\n",
    "* Niz $a_1$ tako što se zadaju početna $1$ i krajnja tačka $10$ sa korakom $2$.\n",
    "* Niz $a_2$ gde se zadaju početna $1$ i krajnja tačka $3$ i broj ekvidistantnih elemenata u datom intervalu $21$.\n",
    "* Niz $a_3$ koji se sastoji samo od nula.\n",
    "* Niz $a_4$ koji sadrži 5 elemenata iz uniformne raspodele na intervalu [2, 5).\n",
    "* Matricu $M_1$ koja se sastoji samo od jedinica.\n",
    "* Jediničnu matricu $M_2$ dimenzije 3.\n",
    "* Dijagonalnu matricu $M_3$ na čijoj se glavnoj dijagonali nalaze redom brojevi 4, 3, 2 i 1.\n",
    "* Matricu $M_4$ dimenzije $3 \\times 4$ čiji su elementi iz standardne normalne raspodele."
   ]
  },
  {
   "cell_type": "code",
   "execution_count": null,
   "metadata": {},
   "outputs": [],
   "source": []
  },
  {
   "cell_type": "markdown",
   "metadata": {},
   "source": [
    "**3.** Date su matrice $M_1=\\begin{bmatrix}1&3&5\\\\7&9&11\\\\13&15&17\\end{bmatrix}$ i $M_2=\\begin{bmatrix}2&4&6\\\\8&10&12\\\\14&16&18\\end{bmatrix}$. Odrediti vrednosti sledećih matrica:\n",
    "\n",
    "* $M_1 + M_2$, gde operacija $+$ označava sabiranje po koordinatama;\n",
    "* $M_1 \\cdot M_2$, gde operacija $\\cdot$ označava sabiranje po koordinatama;\n",
    "* $M_1 \\times M_2$, gde operacija $\\times$ označava matrično množenje;\n",
    "* transponovanu matricu $M_1^T$ matrice $M_1$;\n",
    "* $\\sin (M_1)$, gde se vrednost funkcije $\\sin x$ računa po koordinatama;\n",
    "* $\\exp (M_2)$, gde se vrednost funkcije $e^x$ računa po koordinatama."
   ]
  },
  {
   "cell_type": "code",
   "execution_count": null,
   "metadata": {},
   "outputs": [],
   "source": []
  },
  {
   "cell_type": "markdown",
   "metadata": {},
   "source": [
    "**4.** Dati su nizovi $x = [1, 2, 3]$ i $y = [5, 6, 7]$. \n",
    "\n",
    "* Nadovezati ih po vertikali i po horizontali.\n",
    "* Odrediti njihov skalarni proizvod.\n",
    "* Odrediti maksimalni element niza *x*.\n",
    "* Odrediti minimalni element niza *y*.\n",
    "* Odrediti sve elemente niza *x* koji su veći od 1.5."
   ]
  },
  {
   "cell_type": "code",
   "execution_count": null,
   "metadata": {},
   "outputs": [],
   "source": []
  },
  {
   "cell_type": "markdown",
   "metadata": {},
   "source": [
    "**5.** Date su matrice $A=\\begin{bmatrix}1&2&3\\\\4&5&6\\end{bmatrix}$ i $B=\\begin{bmatrix}1&2&3\\\\4&6&6\\end{bmatrix}$. \n",
    "\n",
    "* Proveriti da li su matrice jednake.\n",
    "* Proveriti da li su matrice jednake po svakoj koordinati.\n",
    "* Izvršiti preraspodelu elemenata matrice *A* tako da se dobije matrica $3 \\times 2$.\n",
    "* Izvršiti sravnjivanje elemenata matrice *A* tj. svodjenje matrice na niz.\n",
    "* Odrediti sumu elemenata matrice *B* koji su jednaki 6."
   ]
  },
  {
   "cell_type": "code",
   "execution_count": null,
   "metadata": {},
   "outputs": [],
   "source": []
  },
  {
   "cell_type": "markdown",
   "metadata": {},
   "source": [
    "**6.** Za $M = \\begin{bmatrix}1&2&3\\\\4&5&6\\end{bmatrix}$ i $x = [10, 20, 30]$ izračunati vrednosti $2M$, $x-3$ i $M+x$. "
   ]
  },
  {
   "cell_type": "code",
   "execution_count": null,
   "metadata": {},
   "outputs": [],
   "source": []
  },
  {
   "cell_type": "markdown",
   "metadata": {},
   "source": [
    "**7.** Odrediti sumu onih elemenata matrice $M$ koji su veći od njenog prosečnog elementa."
   ]
  },
  {
   "cell_type": "code",
   "execution_count": null,
   "metadata": {},
   "outputs": [],
   "source": []
  },
  {
   "cell_type": "markdown",
   "metadata": {},
   "source": [
    "**8.** Konstruisati matricu koja na sporednoj dijagonali ima redom elemente 4, 3, 2 i 1, a na osalim pozicijama nule."
   ]
  },
  {
   "cell_type": "code",
   "execution_count": null,
   "metadata": {},
   "outputs": [],
   "source": []
  },
  {
   "cell_type": "markdown",
   "metadata": {},
   "source": [
    "**9.**"
   ]
  },
  {
   "cell_type": "markdown",
   "metadata": {},
   "source": [
    "Neka je $M = \\begin{bmatrix}1&2&3&4\\\\5&6&7&8\\\\9&10&11&12\\end{bmatrix}$. Ispisati:\n",
    "\n",
    "* element matrice na poziciji (1, 2)\n",
    "* niz koji se sastoji od elemenata matrice na pozicijama (0, 1), (1, 2) i (2, 3) \n",
    "* prvu vrstu matrice\n",
    "* prvu kolonu matrice\n",
    "* svaki drugi element poslednje kolone matrice\n",
    "* kvadratnu podmatricu $2 \\times 2$ u donjem desnom uglu\n",
    "* svaki drugi element svake druge kolone"
   ]
  },
  {
   "cell_type": "code",
   "execution_count": null,
   "metadata": {},
   "outputs": [],
   "source": []
  }
 ],
 "metadata": {
  "kernelspec": {
   "display_name": "Python 3",
   "language": "python",
   "name": "python3"
  },
  "language_info": {
   "codemirror_mode": {
    "name": "ipython",
    "version": 3
   },
   "file_extension": ".py",
   "mimetype": "text/x-python",
   "name": "python",
   "nbconvert_exporter": "python",
   "pygments_lexer": "ipython3",
   "version": "3.8.8"
  }
 },
 "nbformat": 4,
 "nbformat_minor": 2
}
