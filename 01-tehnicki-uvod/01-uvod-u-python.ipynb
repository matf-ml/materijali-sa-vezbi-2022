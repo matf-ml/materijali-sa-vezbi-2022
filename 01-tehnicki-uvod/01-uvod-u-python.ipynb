{
 "cells": [
  {
   "cell_type": "markdown",
   "id": "cff3c781",
   "metadata": {},
   "source": [
    "# Programski jezik Python"
   ]
  },
  {
   "cell_type": "markdown",
   "id": "355f01b8",
   "metadata": {},
   "source": [
    "## Deklaracija promenljivih i ugrađeni tipovi podataka"
   ]
  },
  {
   "cell_type": "markdown",
   "id": "023f1d00",
   "metadata": {},
   "source": [
    "Programski jezik Python prati uobičajene konvencije o imenovanju promenljivih - identifikatori mogu sadržati mala i velika slova, cifre (ne na početku) i podvlaku. Praksa je da identifikatori koji se sastoje od više reči za razdvajanje koriste podvlaku (zmija notacija). Za pridruživanje vrednosti promenljivoj koristi se operator dodele `=`."
   ]
  },
  {
   "cell_type": "code",
   "execution_count": 1,
   "id": "201f4734",
   "metadata": {},
   "outputs": [],
   "source": [
    "n = 10 "
   ]
  },
  {
   "cell_type": "code",
   "execution_count": 2,
   "id": "bd7da43e",
   "metadata": {},
   "outputs": [],
   "source": [
    "n = 13.5"
   ]
  },
  {
   "cell_type": "code",
   "execution_count": 3,
   "id": "d1df2177",
   "metadata": {},
   "outputs": [],
   "source": [
    "n = 'Zdravo svima'"
   ]
  },
  {
   "cell_type": "code",
   "execution_count": 4,
   "id": "34cb3c30",
   "metadata": {},
   "outputs": [],
   "source": [
    "n, m = True, 12"
   ]
  },
  {
   "cell_type": "code",
   "execution_count": 5,
   "id": "8bd053e3",
   "metadata": {},
   "outputs": [],
   "source": [
    "avg_temp = 23.5"
   ]
  },
  {
   "cell_type": "markdown",
   "id": "30be1bf4",
   "metadata": {},
   "source": [
    "Na slici ispod prikazani su neki od primitivnih tipova koje podržava jezik Python. Možemo izdvojiti logički tip, numeričke tipove (`int`, `float` i `complex`), tipove sekvenci (liste, torke i opsege), niske, skupove, mape. Uz ove tipove postoje i tipovi za rad sa binarnim sekvencama (`bytes`, `bytearray`, `memoryview`), funkcije, moduli, klase, objekat `None`, itd."
   ]
  },
  {
   "cell_type": "markdown",
   "id": "5863cddb",
   "metadata": {},
   "source": [
    "<img src=\"assets/python_ugradjeni_tipovi.png\" width=\"400\" align=left>"
   ]
  },
  {
   "cell_type": "markdown",
   "id": "e378775f",
   "metadata": {},
   "source": [
    "Za proveru tipa promenljive može se koristiti funkcija `type`."
   ]
  },
  {
   "cell_type": "code",
   "execution_count": 6,
   "id": "159297df",
   "metadata": {},
   "outputs": [
    {
     "data": {
      "text/plain": [
       "bool"
      ]
     },
     "execution_count": 6,
     "metadata": {},
     "output_type": "execute_result"
    }
   ],
   "source": [
    "type(n)"
   ]
  },
  {
   "cell_type": "markdown",
   "id": "e81aab10",
   "metadata": {},
   "source": [
    "Skup podržanih operacija zavisi od tipa promenljivih. O tome će biti više reči u nastavku."
   ]
  },
  {
   "cell_type": "code",
   "execution_count": null,
   "id": "7d026c95",
   "metadata": {},
   "outputs": [],
   "source": []
  },
  {
   "cell_type": "markdown",
   "id": "d97e3f6a",
   "metadata": {},
   "source": [
    "# Python I/0"
   ]
  },
  {
   "cell_type": "markdown",
   "id": "6e7c749a",
   "metadata": {},
   "source": [
    "## Ispis podataka na standardni izlaz"
   ]
  },
  {
   "cell_type": "markdown",
   "id": "7bb4e650",
   "metadata": {},
   "source": [
    "Za ispis podataka koristi se funkcija `print`."
   ]
  },
  {
   "cell_type": "code",
   "execution_count": 7,
   "id": "dfaeab73",
   "metadata": {},
   "outputs": [
    {
     "name": "stdout",
     "output_type": "stream",
     "text": [
      "Zdravo svima!\n"
     ]
    }
   ],
   "source": [
    "print('Zdravo svima!')"
   ]
  },
  {
   "cell_type": "code",
   "execution_count": 8,
   "id": "d00c2a03",
   "metadata": {},
   "outputs": [
    {
     "name": "stdout",
     "output_type": "stream",
     "text": [
      "Zdravo svima!\n"
     ]
    }
   ],
   "source": [
    "s = 'Zdravo svima!'\n",
    "print(s)"
   ]
  },
  {
   "cell_type": "code",
   "execution_count": 9,
   "id": "09a7d558",
   "metadata": {
    "ExecuteTime": {
     "end_time": "2021-09-17T11:02:16.931619Z",
     "start_time": "2021-09-17T11:02:16.927220Z"
    }
   },
   "outputs": [
    {
     "name": "stdout",
     "output_type": "stream",
     "text": [
      "10\n"
     ]
    }
   ],
   "source": [
    "print(10)"
   ]
  },
  {
   "cell_type": "code",
   "execution_count": 10,
   "id": "d9c17978",
   "metadata": {
    "ExecuteTime": {
     "end_time": "2021-09-17T11:02:34.795020Z",
     "start_time": "2021-09-17T11:02:34.792064Z"
    }
   },
   "outputs": [],
   "source": [
    "n = 10"
   ]
  },
  {
   "cell_type": "code",
   "execution_count": 11,
   "id": "818934dc",
   "metadata": {},
   "outputs": [
    {
     "name": "stdout",
     "output_type": "stream",
     "text": [
      "10\n"
     ]
    }
   ],
   "source": [
    "print(n)"
   ]
  },
  {
   "cell_type": "code",
   "execution_count": 12,
   "id": "8d6b81dd",
   "metadata": {},
   "outputs": [
    {
     "name": "stdout",
     "output_type": "stream",
     "text": [
      "Vrednost promenljive n je  10\n"
     ]
    }
   ],
   "source": [
    "print('Vrednost promenljive n je ', n)"
   ]
  },
  {
   "cell_type": "code",
   "execution_count": null,
   "id": "fcc5d13a",
   "metadata": {},
   "outputs": [],
   "source": []
  },
  {
   "cell_type": "markdown",
   "id": "da71770f",
   "metadata": {},
   "source": [
    "Za formatirani ispis podataka može se koristiti metod <code>format()</code> klase <code>str</code>."
   ]
  },
  {
   "cell_type": "code",
   "execution_count": 13,
   "id": "8e45e0fa",
   "metadata": {},
   "outputs": [
    {
     "name": "stdout",
     "output_type": "stream",
     "text": [
      "a = 5, b = 6\n"
     ]
    }
   ],
   "source": [
    "a = 5\n",
    "b = 6\n",
    "print('a = {}, b = {}'.format(a, b))"
   ]
  },
  {
   "cell_type": "code",
   "execution_count": 14,
   "id": "ccfe7aac",
   "metadata": {},
   "outputs": [
    {
     "name": "stdout",
     "output_type": "stream",
     "text": [
      "x = 1.23\n"
     ]
    }
   ],
   "source": [
    "x = 1.2345\n",
    "print('x = {:.2f}'.format(x))"
   ]
  },
  {
   "cell_type": "code",
   "execution_count": null,
   "id": "9a702e18",
   "metadata": {},
   "outputs": [],
   "source": []
  },
  {
   "cell_type": "markdown",
   "id": "d21ad299",
   "metadata": {
    "ExecuteTime": {
     "end_time": "2021-09-17T11:02:56.130344Z",
     "start_time": "2021-09-17T11:02:56.128190Z"
    }
   },
   "source": [
    "## Učitavanje podataka sa standardnog ulaza"
   ]
  },
  {
   "cell_type": "markdown",
   "id": "ad3e347f",
   "metadata": {},
   "source": [
    "Za učitavanje podataka sa standardnog ulaza može se koristiti funkcija `input`."
   ]
  },
  {
   "cell_type": "code",
   "execution_count": 15,
   "id": "405c503f",
   "metadata": {
    "ExecuteTime": {
     "end_time": "2021-09-17T11:07:17.537452Z",
     "start_time": "2021-09-17T11:07:10.359889Z"
    }
   },
   "outputs": [
    {
     "name": "stdout",
     "output_type": "stream",
     "text": [
      "Masinsko ucenje\n",
      "Masinsko ucenje\n"
     ]
    }
   ],
   "source": [
    "ulaz = input()\n",
    "print(ulaz)"
   ]
  },
  {
   "cell_type": "code",
   "execution_count": 16,
   "id": "813754b8",
   "metadata": {},
   "outputs": [
    {
     "name": "stdout",
     "output_type": "stream",
     "text": [
      "Unesite ceo broj: 10\n"
     ]
    }
   ],
   "source": [
    "n = input('Unesite ceo broj: ')"
   ]
  },
  {
   "cell_type": "markdown",
   "id": "03feca98",
   "metadata": {},
   "source": [
    "Funkcija <code>input</code> ne vodi računa o tipu podataka koje očitava. Ako nam je, na primer, potrebno da učitamo podatak tipa <code>int</code> a ne nekog drugog tipa, možemo iskoristiti funkciju <code>int</code> za konverziju koja će generisati grešku ukoliko se unese bilo nešto što nije tipa <code>int</code>."
   ]
  },
  {
   "cell_type": "code",
   "execution_count": 17,
   "id": "c792bd56",
   "metadata": {
    "ExecuteTime": {
     "end_time": "2021-09-17T11:25:22.397541Z",
     "start_time": "2021-09-17T11:25:19.311226Z"
    }
   },
   "outputs": [
    {
     "name": "stdout",
     "output_type": "stream",
     "text": [
      "Masinsko ucenje\n"
     ]
    },
    {
     "ename": "ValueError",
     "evalue": "invalid literal for int() with base 10: 'Masinsko ucenje'",
     "output_type": "error",
     "traceback": [
      "\u001b[0;31m---------------------------------------------------------------------------\u001b[0m",
      "\u001b[0;31mValueError\u001b[0m                                Traceback (most recent call last)",
      "\u001b[0;32m<ipython-input-17-7e8a3db572a8>\u001b[0m in \u001b[0;36m<module>\u001b[0;34m\u001b[0m\n\u001b[0;32m----> 1\u001b[0;31m \u001b[0mn\u001b[0m \u001b[0;34m=\u001b[0m \u001b[0mint\u001b[0m\u001b[0;34m(\u001b[0m\u001b[0minput\u001b[0m\u001b[0;34m(\u001b[0m\u001b[0;34m)\u001b[0m\u001b[0;34m)\u001b[0m\u001b[0;34m\u001b[0m\u001b[0;34m\u001b[0m\u001b[0m\n\u001b[0m",
      "\u001b[0;31mValueError\u001b[0m: invalid literal for int() with base 10: 'Masinsko ucenje'"
     ]
    }
   ],
   "source": [
    "n = int(input())"
   ]
  },
  {
   "cell_type": "markdown",
   "id": "35ed967d",
   "metadata": {},
   "source": [
    "Kontrolu pojave grešaka možemo ostvariti korišćenjem `try-except` konstrukcija."
   ]
  },
  {
   "cell_type": "code",
   "execution_count": 18,
   "id": "362d3027",
   "metadata": {},
   "outputs": [
    {
     "name": "stdout",
     "output_type": "stream",
     "text": [
      "Masinsko ucenje\n",
      "Neispravan unos!\n"
     ]
    }
   ],
   "source": [
    "try:\n",
    "    n = int(input())\n",
    "except:\n",
    "    print('Neispravan unos!')"
   ]
  },
  {
   "cell_type": "markdown",
   "id": "a9344bcb",
   "metadata": {},
   "source": [
    "U konstrukciji `try-except` može se navesti više <code>except</code> naredbi koje će obrađivati različite tipove grešaka."
   ]
  },
  {
   "cell_type": "code",
   "execution_count": 19,
   "id": "8ff8e565",
   "metadata": {},
   "outputs": [
    {
     "name": "stdout",
     "output_type": "stream",
     "text": [
      "Masinsko ucenje\n",
      "Value error - neispravan unos!\n"
     ]
    }
   ],
   "source": [
    "try:\n",
    "    a = int(input())\n",
    "except ValueError:\n",
    "    print('Value error - neispravan unos!')\n",
    "except:\n",
    "    print('Nepoznata greska!')"
   ]
  },
  {
   "cell_type": "code",
   "execution_count": null,
   "id": "c19149bb",
   "metadata": {},
   "outputs": [],
   "source": []
  },
  {
   "cell_type": "markdown",
   "id": "f998865c",
   "metadata": {},
   "source": [
    "## Upis podataka u datoteku"
   ]
  },
  {
   "cell_type": "markdown",
   "id": "77350e4e",
   "metadata": {},
   "source": [
    "Za pisanje u datoteku može da se koristi funkcija `write`. Pre pisanja, datoteku je potrebno pripremiti pozivom funkcije `open` nad argumentima koji predstavljaju ime datoteke i mod za pisanje `w`."
   ]
  },
  {
   "cell_type": "code",
   "execution_count": 20,
   "id": "2709b7a3",
   "metadata": {},
   "outputs": [],
   "source": [
    "try:\n",
    "    izlaz = open('izlaz.txt', 'w')\n",
    "    izlaz.write('Ovo je sadrzaj izlazne datoteke!')\n",
    "    izlaz.close()\n",
    "except:\n",
    "    print('Doslo je do greske!')"
   ]
  },
  {
   "cell_type": "markdown",
   "id": "3a3320ec",
   "metadata": {},
   "source": [
    "Nakon upisa, datoteku je moguće zatvoriti pozivom funkcije `close`. Ako se datoteka tj. izlazni tok podataka vezan za datoteku ne zatvori, podaci neće biti upisani u datoteku sve dok se program ne završi, tj. dok se ne zatvori Jupyter sveska."
   ]
  },
  {
   "cell_type": "markdown",
   "id": "1a5c9434",
   "metadata": {},
   "source": [
    "## Čitanje podataka iz datoteke"
   ]
  },
  {
   "cell_type": "markdown",
   "id": "0800b85b",
   "metadata": {},
   "source": [
    "Za čitanje podataka iz datoteke može se korisiti funkcije `read`.  Baš kao i u slučaju pisanja, datoteku je potrebno pripremiti pozivom funkcije `open` nad argumentima koji predstavljaju ime datoteke i mod za pisanje `r`. "
   ]
  },
  {
   "cell_type": "code",
   "execution_count": 21,
   "id": "404adea4",
   "metadata": {},
   "outputs": [
    {
     "name": "stdout",
     "output_type": "stream",
     "text": [
      "Ovo je sadrzaj ulazne datoteke\n",
      "Sastoji se od dve linije teksta\n"
     ]
    }
   ],
   "source": [
    "ulaz = open('ulaz.txt', 'r')\n",
    "sadrzaj_dat = ulaz.read()\n",
    "print(sadrzaj_dat)"
   ]
  },
  {
   "cell_type": "markdown",
   "id": "d5b72e23",
   "metadata": {},
   "source": [
    "Za čitanje podataka može se koristiti i funkcija `readlines` koja redove datoteke smešta u listu."
   ]
  },
  {
   "cell_type": "code",
   "execution_count": 22,
   "id": "c0c0a361",
   "metadata": {},
   "outputs": [
    {
     "name": "stdout",
     "output_type": "stream",
     "text": [
      "['Ovo je sadrzaj ulazne datoteke\\n', 'Sastoji se od dve linije teksta']\n"
     ]
    }
   ],
   "source": [
    "ulaz = open('ulaz.txt', 'r')\n",
    "linije  = ulaz.readlines()\n",
    "print(linije)"
   ]
  },
  {
   "cell_type": "markdown",
   "id": "295332e9",
   "metadata": {},
   "source": [
    "Uobičajeno, ukoliko se prilikom čitanja navede ime nepostojeće datoteke doći će do greške."
   ]
  },
  {
   "cell_type": "code",
   "execution_count": 23,
   "id": "6b6b2f09",
   "metadata": {},
   "outputs": [
    {
     "name": "stdout",
     "output_type": "stream",
     "text": [
      "Doslo je do greske!\n"
     ]
    }
   ],
   "source": [
    "try:\n",
    "    ulaz = open('nepostojeca_datoteka.txt', 'r')\n",
    "    sadrzaj_dat = ulaz.read()\n",
    "    print(sadrzaj_dat)\n",
    "except:\n",
    "    print('Doslo je do greske!')"
   ]
  },
  {
   "cell_type": "code",
   "execution_count": null,
   "id": "a8571b3e",
   "metadata": {},
   "outputs": [],
   "source": []
  },
  {
   "cell_type": "markdown",
   "id": "e66c55c5",
   "metadata": {},
   "source": [
    "# Naredbe kontrole toka programa"
   ]
  },
  {
   "cell_type": "markdown",
   "id": "420aecf7",
   "metadata": {},
   "source": [
    "## Naredbe grananja"
   ]
  },
  {
   "cell_type": "code",
   "execution_count": 24,
   "id": "b15f3ee8",
   "metadata": {},
   "outputs": [
    {
     "name": "stdout",
     "output_type": "stream",
     "text": [
      "Godina 2000 je prestupna\n"
     ]
    }
   ],
   "source": [
    "godina = 2000\n",
    "\n",
    "if (godina % 4 == 0 and godina % 100 != 0) or (godina % 400 == 0):\n",
    "    print('Godina {} je prestupna'.format(godina))\n",
    "else:\n",
    "    print('Godina {} nije prestupna'.format(godina))"
   ]
  },
  {
   "cell_type": "code",
   "execution_count": 25,
   "id": "531a9778",
   "metadata": {},
   "outputs": [
    {
     "name": "stdout",
     "output_type": "stream",
     "text": [
      "Unesite ceo broj: 5\n",
      "Uneti broj daje ostatak 2 pri deljenju sa 3\n"
     ]
    }
   ],
   "source": [
    "try:\n",
    "    a = int(input('Unesite ceo broj: '))\n",
    "    \n",
    "    if a % 3 == 0:\n",
    "        print('Uneti broj je deljiv sa 3')\n",
    "    elif a % 3 == 1:\n",
    "        print('Uneti broj daje ostatak 1 pri deljenju sa 3')\n",
    "    else:\n",
    "        print('Uneti broj daje ostatak 2 pri deljenju sa 3')\n",
    "except:\n",
    "    print('Neispravravan unos!')"
   ]
  },
  {
   "cell_type": "markdown",
   "id": "0d0d5977",
   "metadata": {},
   "source": [
    "## Petlje"
   ]
  },
  {
   "cell_type": "code",
   "execution_count": 26,
   "id": "f4b7402f",
   "metadata": {},
   "outputs": [
    {
     "name": "stdout",
     "output_type": "stream",
     "text": [
      "0\n",
      "1\n",
      "2\n",
      "3\n",
      "4\n"
     ]
    }
   ],
   "source": [
    "i = 0\n",
    "while i < 5:\n",
    "    print(i)\n",
    "    i += 1        #NAPOMENA: operator ++ nije podrzan!"
   ]
  },
  {
   "cell_type": "markdown",
   "id": "fad0f0ea",
   "metadata": {},
   "source": [
    "U Python-u postoji samo <code>for</code> petlja koja omogućava iteriranje kroz kolekcije."
   ]
  },
  {
   "cell_type": "code",
   "execution_count": 27,
   "id": "08ea2dad",
   "metadata": {},
   "outputs": [
    {
     "name": "stdout",
     "output_type": "stream",
     "text": [
      "0\n",
      "1\n",
      "2\n",
      "3\n",
      "4\n"
     ]
    }
   ],
   "source": [
    "for i in range(0, 5):\n",
    "    print(i)"
   ]
  },
  {
   "cell_type": "code",
   "execution_count": 28,
   "id": "c33204cc",
   "metadata": {},
   "outputs": [
    {
     "name": "stdout",
     "output_type": "stream",
     "text": [
      "ana\n",
      "voli\n",
      "milovana\n"
     ]
    }
   ],
   "source": [
    "lista = [\"ana\", \"voli\", \"milovana\"]\n",
    "\n",
    "for elem in lista:\n",
    "    print(elem)"
   ]
  },
  {
   "cell_type": "code",
   "execution_count": 29,
   "id": "24c08d83",
   "metadata": {},
   "outputs": [
    {
     "name": "stdout",
     "output_type": "stream",
     "text": [
      "index: 0, elem: ana\n",
      "index: 1, elem: voli\n",
      "index: 2, elem: milovana\n"
     ]
    }
   ],
   "source": [
    "lista = [\"ana\", \"voli\", \"milovana\"]\n",
    "\n",
    "for i, elem in enumerate(lista):\n",
    "    print(\"index: {}, elem: {}\".format(i, elem))"
   ]
  },
  {
   "cell_type": "code",
   "execution_count": null,
   "id": "20ecfdf0",
   "metadata": {},
   "outputs": [],
   "source": []
  },
  {
   "cell_type": "markdown",
   "id": "f837e59d",
   "metadata": {},
   "source": [
    "# Ugrađeni tipovi podataka - detaljnije"
   ]
  },
  {
   "cell_type": "markdown",
   "id": "1081c571",
   "metadata": {},
   "source": [
    "## Liste"
   ]
  },
  {
   "cell_type": "markdown",
   "id": "bb7a61ca",
   "metadata": {},
   "source": [
    "U jeziku Python liste se koriste za skladištenje sekvence objekata potencijalno različitog tipa. Liste su promenljivog tipa, što znači da im se može menjati sadržaj i nakon kreiranja."
   ]
  },
  {
   "cell_type": "markdown",
   "id": "d0dee85f",
   "metadata": {},
   "source": [
    "<img src=\"assets/list_vs_array.png\" align=left>"
   ]
  },
  {
   "cell_type": "code",
   "execution_count": 30,
   "id": "a16e920c",
   "metadata": {},
   "outputs": [],
   "source": [
    "lista = [1, \"s\", 3.4, [5, 6, 7]]"
   ]
  },
  {
   "cell_type": "code",
   "execution_count": 31,
   "id": "dc369bc1",
   "metadata": {},
   "outputs": [
    {
     "name": "stdout",
     "output_type": "stream",
     "text": [
      "[1, 's', 3.4, [5, 6, 7]]\n"
     ]
    }
   ],
   "source": [
    "print(lista)"
   ]
  },
  {
   "cell_type": "markdown",
   "id": "8193e7a3",
   "metadata": {},
   "source": [
    "Broj elemenata liste može se očitati uz pomoć funkcije `len`."
   ]
  },
  {
   "cell_type": "code",
   "execution_count": 32,
   "id": "0c4942af",
   "metadata": {},
   "outputs": [
    {
     "name": "stdout",
     "output_type": "stream",
     "text": [
      "Duzina liste je 4\n"
     ]
    }
   ],
   "source": [
    "print('Duzina liste je {}'.format(len(lista)))"
   ]
  },
  {
   "cell_type": "markdown",
   "id": "72d5dfd8",
   "metadata": {},
   "source": [
    "### Pristup elementima liste"
   ]
  },
  {
   "cell_type": "markdown",
   "id": "49cff4bb",
   "metadata": {},
   "source": [
    "Elementima liste može se pristupiti korišćenjem numeričkih indeksa. Indeksiranje počinje nulom."
   ]
  },
  {
   "cell_type": "code",
   "execution_count": 33,
   "id": "0a8c193e",
   "metadata": {},
   "outputs": [],
   "source": [
    "lista = [1, 2, 3, 4]"
   ]
  },
  {
   "cell_type": "code",
   "execution_count": 34,
   "id": "3754b0ca",
   "metadata": {},
   "outputs": [
    {
     "name": "stdout",
     "output_type": "stream",
     "text": [
      "1\n"
     ]
    }
   ],
   "source": [
    "print(lista[0])"
   ]
  },
  {
   "cell_type": "markdown",
   "id": "58c7dbc8",
   "metadata": {},
   "source": [
    "Jezik Python dozvoljava korišćenje negativnih indeksa za indeksiranje sa kraja liste. Indeks <code>-1</code> odnosi na poslednji element, indeks <code>-2</code> na pretposlednji, itd."
   ]
  },
  {
   "cell_type": "code",
   "execution_count": 35,
   "id": "f2d153b0",
   "metadata": {},
   "outputs": [
    {
     "name": "stdout",
     "output_type": "stream",
     "text": [
      "4\n"
     ]
    }
   ],
   "source": [
    "print(lista[-1])"
   ]
  },
  {
   "cell_type": "markdown",
   "id": "5f98d999",
   "metadata": {},
   "source": [
    "Pristup nepostojećem elementu rezultira greškom."
   ]
  },
  {
   "cell_type": "code",
   "execution_count": 36,
   "id": "723f4def",
   "metadata": {},
   "outputs": [
    {
     "ename": "IndexError",
     "evalue": "list index out of range",
     "output_type": "error",
     "traceback": [
      "\u001b[0;31m---------------------------------------------------------------------------\u001b[0m",
      "\u001b[0;31mIndexError\u001b[0m                                Traceback (most recent call last)",
      "\u001b[0;32m<ipython-input-36-5e10886833eb>\u001b[0m in \u001b[0;36m<module>\u001b[0;34m\u001b[0m\n\u001b[0;32m----> 1\u001b[0;31m \u001b[0mprint\u001b[0m\u001b[0;34m(\u001b[0m\u001b[0mlista\u001b[0m\u001b[0;34m[\u001b[0m\u001b[0;36m10\u001b[0m\u001b[0;34m]\u001b[0m\u001b[0;34m)\u001b[0m\u001b[0;34m\u001b[0m\u001b[0;34m\u001b[0m\u001b[0m\n\u001b[0m",
      "\u001b[0;31mIndexError\u001b[0m: list index out of range"
     ]
    }
   ],
   "source": [
    "print(lista[10])"
   ]
  },
  {
   "cell_type": "markdown",
   "id": "2e9eb24a",
   "metadata": {},
   "source": [
    "### Iteriranje kroz listu"
   ]
  },
  {
   "cell_type": "markdown",
   "id": "845b07ef",
   "metadata": {},
   "source": [
    "Iteriranje kroz listu se realizujem iteracijom element po element ili kreiranjem kolekcija indeksa uz pristup pojedinačnim elementima."
   ]
  },
  {
   "cell_type": "code",
   "execution_count": 37,
   "id": "f52115c3",
   "metadata": {},
   "outputs": [],
   "source": [
    "lista = [1, 2, 3, 4]"
   ]
  },
  {
   "cell_type": "code",
   "execution_count": 38,
   "id": "b5542ec0",
   "metadata": {},
   "outputs": [
    {
     "name": "stdout",
     "output_type": "stream",
     "text": [
      "1\n",
      "2\n",
      "3\n",
      "4\n"
     ]
    }
   ],
   "source": [
    "for element in lista:\n",
    "    print(element)"
   ]
  },
  {
   "cell_type": "code",
   "execution_count": 39,
   "id": "50a4fde2",
   "metadata": {},
   "outputs": [
    {
     "name": "stdout",
     "output_type": "stream",
     "text": [
      "1\n",
      "2\n",
      "3\n",
      "4\n"
     ]
    }
   ],
   "source": [
    "for i in range(len(lista)):\n",
    "    print(lista[i])"
   ]
  },
  {
   "cell_type": "markdown",
   "id": "852451c1",
   "metadata": {},
   "source": [
    "Treba voditi računa o tome da kolekcijska for petlja radi sa kopijama elemenata. U narednom primeru, originalna lista će ostati nepromenjena!"
   ]
  },
  {
   "cell_type": "code",
   "execution_count": 40,
   "id": "a60b81f0",
   "metadata": {},
   "outputs": [
    {
     "name": "stdout",
     "output_type": "stream",
     "text": [
      "[1, 2, 3, 4]\n"
     ]
    }
   ],
   "source": [
    "for element in lista:\n",
    "    element += 1        \n",
    "    \n",
    "print(lista)"
   ]
  },
  {
   "cell_type": "markdown",
   "id": "b92e3d7a",
   "metadata": {},
   "source": [
    "Indeksni pristup omogućava promenu vrednosti elemenata liste."
   ]
  },
  {
   "cell_type": "code",
   "execution_count": 41,
   "id": "1a44ea40",
   "metadata": {},
   "outputs": [
    {
     "name": "stdout",
     "output_type": "stream",
     "text": [
      "[2, 3, 4, 5]\n"
     ]
    }
   ],
   "source": [
    "for i in range(len(lista)):\n",
    "    lista[i] += 1\n",
    "    \n",
    "print(lista)"
   ]
  },
  {
   "cell_type": "code",
   "execution_count": null,
   "id": "d228f402",
   "metadata": {},
   "outputs": [],
   "source": []
  },
  {
   "cell_type": "markdown",
   "id": "d97d7b12",
   "metadata": {},
   "source": [
    "### List comprehension "
   ]
  },
  {
   "cell_type": "markdown",
   "id": "13c18b6a",
   "metadata": {},
   "source": [
    "`List comprehension` je još jedan elegantan način da se kreiraju liste u jeziku Python."
   ]
  },
  {
   "cell_type": "code",
   "execution_count": 42,
   "id": "e11e238f",
   "metadata": {},
   "outputs": [
    {
     "name": "stdout",
     "output_type": "stream",
     "text": [
      "[1, 25, 4, 16, 9]\n"
     ]
    }
   ],
   "source": [
    "lista = [1, 5, 2, 4, 3]\n",
    "kvadrirana_lista = [x**2 for x in lista]    \n",
    "print(kvadrirana_lista)"
   ]
  },
  {
   "cell_type": "code",
   "execution_count": 43,
   "id": "dea3d0ec",
   "metadata": {},
   "outputs": [
    {
     "name": "stdout",
     "output_type": "stream",
     "text": [
      "[1, 3, 5]\n"
     ]
    }
   ],
   "source": [
    "lista = [1, 2, 3, 4, 5]\n",
    "neparni_elementi = [x for x in lista if x%2 == 1]\n",
    "print(neparni_elementi)"
   ]
  },
  {
   "cell_type": "code",
   "execution_count": null,
   "id": "c36b3232",
   "metadata": {},
   "outputs": [],
   "source": []
  },
  {
   "cell_type": "markdown",
   "id": "a5af923c",
   "metadata": {},
   "source": [
    "### Izdvajanje podlisti (slicing operator)"
   ]
  },
  {
   "cell_type": "markdown",
   "id": "a6ace3da",
   "metadata": {},
   "source": [
    "Sintaksa za korišćenje operatora isecanja je `[start:stop:step]` gde `start` označava početni indek isecanja, `stop` završni indeks (koji nije uključen), a `step` korak kretanja od početnog do završnog indeksa. Bilo koja od navedenih vrednosti se može izostaviti - tada se koriste podrazumevane vrednosti: `start = 0`, `stop = len(list)-1`, `step = 1`."
   ]
  },
  {
   "cell_type": "code",
   "execution_count": 44,
   "id": "72de9a20",
   "metadata": {},
   "outputs": [],
   "source": [
    "lista = [51, 7, 15, 40, 8]"
   ]
  },
  {
   "cell_type": "code",
   "execution_count": 45,
   "id": "570c0d33",
   "metadata": {},
   "outputs": [
    {
     "name": "stdout",
     "output_type": "stream",
     "text": [
      "[7, 15]\n"
     ]
    }
   ],
   "source": [
    "print(lista[1:3])"
   ]
  },
  {
   "cell_type": "code",
   "execution_count": 46,
   "id": "17666c8a",
   "metadata": {},
   "outputs": [
    {
     "name": "stdout",
     "output_type": "stream",
     "text": [
      "[51, 15, 8]\n"
     ]
    }
   ],
   "source": [
    "print(lista[::2])"
   ]
  },
  {
   "cell_type": "code",
   "execution_count": 47,
   "id": "8d568c20",
   "metadata": {},
   "outputs": [
    {
     "name": "stdout",
     "output_type": "stream",
     "text": [
      "[7, 15, 40]\n"
     ]
    }
   ],
   "source": [
    "print(lista[-4:-1])"
   ]
  },
  {
   "cell_type": "code",
   "execution_count": 48,
   "id": "38586c95",
   "metadata": {},
   "outputs": [
    {
     "name": "stdout",
     "output_type": "stream",
     "text": [
      "[8, 40, 15, 7, 51]\n"
     ]
    }
   ],
   "source": [
    "print(lista[::-1])"
   ]
  },
  {
   "cell_type": "code",
   "execution_count": 49,
   "id": "c98eb1c2",
   "metadata": {},
   "outputs": [
    {
     "name": "stdout",
     "output_type": "stream",
     "text": [
      "[40, 15, 7]\n"
     ]
    }
   ],
   "source": [
    "print(lista[3:0:-1])"
   ]
  },
  {
   "cell_type": "markdown",
   "id": "88b3f703",
   "metadata": {},
   "source": [
    "### Uparivanje listi (zip)"
   ]
  },
  {
   "cell_type": "markdown",
   "id": "231cbf90",
   "metadata": {},
   "source": [
    "Za uparivanje elemenata listi može se koristiti funkcija `zip`."
   ]
  },
  {
   "cell_type": "code",
   "execution_count": 50,
   "id": "ebf26165",
   "metadata": {},
   "outputs": [],
   "source": [
    "lista1 = [1, 2, 3, 4]\n",
    "lista2 = ['a', 'b', 'c', 'd']"
   ]
  },
  {
   "cell_type": "code",
   "execution_count": 51,
   "id": "e4a64610",
   "metadata": {},
   "outputs": [
    {
     "name": "stdout",
     "output_type": "stream",
     "text": [
      "<zip object at 0x104eb1500>\n"
     ]
    }
   ],
   "source": [
    "uparene_liste = zip(lista1, lista2)\n",
    "print(uparene_liste)"
   ]
  },
  {
   "cell_type": "code",
   "execution_count": 52,
   "id": "c2288228",
   "metadata": {},
   "outputs": [
    {
     "name": "stdout",
     "output_type": "stream",
     "text": [
      "(1, 'a')\n",
      "(2, 'b')\n",
      "(3, 'c')\n",
      "(4, 'd')\n"
     ]
    }
   ],
   "source": [
    "for element in uparene_liste:\n",
    "    print(element)"
   ]
  },
  {
   "cell_type": "markdown",
   "id": "b7e3c283",
   "metadata": {},
   "source": [
    "Ukoliko liste nisu sa jednakim brojem elemenata, uparivanje se prilagođava kraćoj listi."
   ]
  },
  {
   "cell_type": "code",
   "execution_count": null,
   "id": "6a28e920",
   "metadata": {},
   "outputs": [],
   "source": []
  },
  {
   "cell_type": "markdown",
   "id": "74fb0e74",
   "metadata": {},
   "source": [
    "### Konkatenacija listi"
   ]
  },
  {
   "cell_type": "markdown",
   "id": "8b0a6b0b",
   "metadata": {},
   "source": [
    "Konkatenacija (nadovezivanje) listi se može realizovati korišćenjem operatora `+`."
   ]
  },
  {
   "cell_type": "code",
   "execution_count": 53,
   "id": "039aa7f9",
   "metadata": {},
   "outputs": [
    {
     "name": "stdout",
     "output_type": "stream",
     "text": [
      "[1, 2, 3, 4, 5, 6, 7, 8]\n"
     ]
    }
   ],
   "source": [
    "lista1 = [1, 2, 3, 4]\n",
    "lista2 = [5, 6, 7, 8]\n",
    "\n",
    "lista3 = lista1 + lista2\n",
    "\n",
    "print(lista3)"
   ]
  },
  {
   "cell_type": "code",
   "execution_count": null,
   "id": "f8f40087",
   "metadata": {},
   "outputs": [],
   "source": []
  },
  {
   "cell_type": "markdown",
   "id": "6209571e",
   "metadata": {},
   "source": [
    "### Obrtanje listi"
   ]
  },
  {
   "cell_type": "markdown",
   "id": "eaeab6d6",
   "metadata": {},
   "source": [
    "Obrtanje elemenata liste može se postići očitavanjem elemenata s kraja ka početku ili korišćenjem funkcije `reverse`."
   ]
  },
  {
   "cell_type": "code",
   "execution_count": 54,
   "id": "465b1a36",
   "metadata": {},
   "outputs": [
    {
     "name": "stdout",
     "output_type": "stream",
     "text": [
      "[5, 4, 3, 2, 1]\n"
     ]
    }
   ],
   "source": [
    "lista = [1, 2, 3, 4, 5]\n",
    "\n",
    "obrnuta_lista = lista[::-1]\n",
    "\n",
    "print(obrnuta_lista)"
   ]
  },
  {
   "cell_type": "code",
   "execution_count": 55,
   "id": "d0ce22e2",
   "metadata": {},
   "outputs": [
    {
     "name": "stdout",
     "output_type": "stream",
     "text": [
      "[5, 4, 3, 2, 1]\n"
     ]
    }
   ],
   "source": [
    "lista = [1, 2, 3, 4, 5]\n",
    "\n",
    "lista.reverse()                #NAPOMENA: metod reverse() radi u mestu!\n",
    "\n",
    "print(lista)"
   ]
  },
  {
   "cell_type": "code",
   "execution_count": null,
   "id": "854739fb",
   "metadata": {},
   "outputs": [],
   "source": []
  },
  {
   "cell_type": "markdown",
   "id": "13b572fc",
   "metadata": {},
   "source": [
    "### Sortiranje liste"
   ]
  },
  {
   "cell_type": "markdown",
   "id": "622c1bdf",
   "metadata": {},
   "source": [
    "Za sortiranje elemenata liste može se koristiti funkcija `sort`. Argumentom `reverse` se može uticati na poredak elemenata."
   ]
  },
  {
   "cell_type": "code",
   "execution_count": 56,
   "id": "e274a62c",
   "metadata": {},
   "outputs": [
    {
     "name": "stdout",
     "output_type": "stream",
     "text": [
      "[1, 2, 3, 4, 5]\n"
     ]
    }
   ],
   "source": [
    "lista = [4, 1, 5, 3, 2]\n",
    "\n",
    "lista.sort()                  #NAPOMENA: metod sort() radi u mestu!\n",
    "\n",
    "print(lista)"
   ]
  },
  {
   "cell_type": "code",
   "execution_count": 57,
   "id": "ff4afa1f",
   "metadata": {},
   "outputs": [
    {
     "name": "stdout",
     "output_type": "stream",
     "text": [
      "[5, 4, 3, 2, 1]\n"
     ]
    }
   ],
   "source": [
    "lista = [4, 1, 5, 3, 2]\n",
    "\n",
    "lista.sort(reverse=True)      #NAPOMENA: imenovanjem argumenata metoda postizemo da ne moramo\n",
    "                              #da vodimo racuna o redosledu navodjenja argumenata metoda!\n",
    "print(lista)                  "
   ]
  },
  {
   "cell_type": "code",
   "execution_count": null,
   "id": "52b333ea",
   "metadata": {},
   "outputs": [],
   "source": []
  },
  {
   "cell_type": "markdown",
   "id": "f74b9565",
   "metadata": {},
   "source": [
    "### Dodavanje elemenata u listu"
   ]
  },
  {
   "cell_type": "markdown",
   "id": "a797b9ce",
   "metadata": {},
   "source": [
    "#### Dodavanje elmenta na kraj liste"
   ]
  },
  {
   "cell_type": "code",
   "execution_count": 58,
   "id": "a7acfbeb",
   "metadata": {},
   "outputs": [
    {
     "name": "stdout",
     "output_type": "stream",
     "text": [
      "[1, 2, 3, 4, 5]\n"
     ]
    }
   ],
   "source": [
    "lista = [1, 2, 3, 4]\n",
    "\n",
    "lista.append(5)               \n",
    "\n",
    "print(lista)"
   ]
  },
  {
   "cell_type": "markdown",
   "id": "30b0b81b",
   "metadata": {},
   "source": [
    "#### Dodavanje elementa u listu na zadatu poziciju"
   ]
  },
  {
   "cell_type": "code",
   "execution_count": 59,
   "id": "102c730e",
   "metadata": {},
   "outputs": [
    {
     "name": "stdout",
     "output_type": "stream",
     "text": [
      "[1, 2, 3, 111, 4]\n"
     ]
    }
   ],
   "source": [
    "lista = [1, 2, 3, 4]\n",
    "\n",
    "lista.insert(3, 111)          \n",
    "\n",
    "print(lista)"
   ]
  },
  {
   "cell_type": "markdown",
   "id": "73ab8eff",
   "metadata": {},
   "source": [
    "#### Dodavanje elemenata u na kraj i početak liste pomoću konkatenacije listi"
   ]
  },
  {
   "cell_type": "code",
   "execution_count": 60,
   "id": "1c7d6ebd",
   "metadata": {},
   "outputs": [
    {
     "name": "stdout",
     "output_type": "stream",
     "text": [
      "[0, 1, 2, 3, 4]\n",
      "[1, 2, 3, 4, 5]\n"
     ]
    }
   ],
   "source": [
    "lista = [1, 2, 3, 4]\n",
    "\n",
    "l1 = [0] + lista\n",
    "l2 = lista + [5]\n",
    "\n",
    "print(l1)\n",
    "print(l2)"
   ]
  },
  {
   "cell_type": "code",
   "execution_count": null,
   "id": "720fa4a0",
   "metadata": {},
   "outputs": [],
   "source": []
  },
  {
   "cell_type": "markdown",
   "id": "f0353d05",
   "metadata": {},
   "source": [
    "### Uklanjanje elementa iz liste"
   ]
  },
  {
   "cell_type": "markdown",
   "id": "483fc21b",
   "metadata": {},
   "source": [
    "#### Uklanjanje elementa sa kraja liste"
   ]
  },
  {
   "cell_type": "code",
   "execution_count": 61,
   "id": "2bfd71c1",
   "metadata": {},
   "outputs": [
    {
     "name": "stdout",
     "output_type": "stream",
     "text": [
      "[1, 2, 3]\n"
     ]
    }
   ],
   "source": [
    "lista = [1, 2, 3, 4]\n",
    "\n",
    "lista.pop()\n",
    "\n",
    "print(lista)"
   ]
  },
  {
   "cell_type": "markdown",
   "id": "126faa0b",
   "metadata": {},
   "source": [
    "#### Uklanjanje elementa sa datim indeksom"
   ]
  },
  {
   "cell_type": "code",
   "execution_count": 62,
   "id": "f82ef1fb",
   "metadata": {},
   "outputs": [
    {
     "name": "stdout",
     "output_type": "stream",
     "text": [
      "[1, 2, 4]\n"
     ]
    }
   ],
   "source": [
    "lista = [1, 2, 3, 4]\n",
    "\n",
    "lista.pop(2)\n",
    "\n",
    "print(lista)"
   ]
  },
  {
   "cell_type": "markdown",
   "id": "3fea1efb",
   "metadata": {},
   "source": [
    "#### Uklanjanje elementa sa kraja i početka liste pomoću operatora isecanja"
   ]
  },
  {
   "cell_type": "code",
   "execution_count": 64,
   "id": "34fea61c",
   "metadata": {},
   "outputs": [
    {
     "name": "stdout",
     "output_type": "stream",
     "text": [
      "[2, 3, 4]\n",
      "[1, 2, 3]\n"
     ]
    }
   ],
   "source": [
    "lista = [1, 2, 3, 4]\n",
    "\n",
    "l1 = lista[1:]\n",
    "l2 = lista[:-1]\n",
    "\n",
    "print(l1)\n",
    "print(l2)"
   ]
  },
  {
   "cell_type": "markdown",
   "id": "f3da2ad5",
   "metadata": {},
   "source": [
    "#### Uklanjanje elemenata sa datom vrednošću"
   ]
  },
  {
   "cell_type": "code",
   "execution_count": 65,
   "id": "4b550030",
   "metadata": {},
   "outputs": [
    {
     "name": "stdout",
     "output_type": "stream",
     "text": [
      "[0, 1, 3]\n"
     ]
    }
   ],
   "source": [
    "lista = [0, 3, 1, 3]\n",
    "\n",
    "lista.remove(3)                     #NAPOMENA: uklanja se samo prvo pojavljivanje elementa sa datom vrednosti!\n",
    "\n",
    "print(lista)"
   ]
  },
  {
   "cell_type": "code",
   "execution_count": 66,
   "id": "4dd77513",
   "metadata": {},
   "outputs": [
    {
     "name": "stdout",
     "output_type": "stream",
     "text": [
      "[0, 1]\n"
     ]
    }
   ],
   "source": [
    "lista = [0, 3, 1, 3]\n",
    "\n",
    "while lista.count(3) != 0:\n",
    "    lista.remove(3)\n",
    "\n",
    "print(lista)"
   ]
  },
  {
   "cell_type": "markdown",
   "id": "7d23eb3e",
   "metadata": {},
   "source": [
    "Uklanjanje nepostojećeg elementa rezultira greškom."
   ]
  },
  {
   "cell_type": "code",
   "execution_count": 67,
   "id": "812c6ccc",
   "metadata": {},
   "outputs": [
    {
     "ename": "ValueError",
     "evalue": "list.remove(x): x not in list",
     "output_type": "error",
     "traceback": [
      "\u001b[0;31m---------------------------------------------------------------------------\u001b[0m",
      "\u001b[0;31mValueError\u001b[0m                                Traceback (most recent call last)",
      "\u001b[0;32m<ipython-input-67-a56d60b110ac>\u001b[0m in \u001b[0;36m<module>\u001b[0;34m\u001b[0m\n\u001b[1;32m      1\u001b[0m \u001b[0mlista\u001b[0m \u001b[0;34m=\u001b[0m \u001b[0;34m[\u001b[0m\u001b[0;36m0\u001b[0m\u001b[0;34m,\u001b[0m \u001b[0;36m3\u001b[0m\u001b[0;34m,\u001b[0m \u001b[0;36m1\u001b[0m\u001b[0;34m,\u001b[0m \u001b[0;36m3\u001b[0m\u001b[0;34m]\u001b[0m\u001b[0;34m\u001b[0m\u001b[0;34m\u001b[0m\u001b[0m\n\u001b[1;32m      2\u001b[0m \u001b[0;34m\u001b[0m\u001b[0m\n\u001b[0;32m----> 3\u001b[0;31m \u001b[0mlista\u001b[0m\u001b[0;34m.\u001b[0m\u001b[0mremove\u001b[0m\u001b[0;34m(\u001b[0m\u001b[0;36m4\u001b[0m\u001b[0;34m)\u001b[0m\u001b[0;34m\u001b[0m\u001b[0;34m\u001b[0m\u001b[0m\n\u001b[0m\u001b[1;32m      4\u001b[0m \u001b[0;34m\u001b[0m\u001b[0m\n\u001b[1;32m      5\u001b[0m \u001b[0mprint\u001b[0m\u001b[0;34m(\u001b[0m\u001b[0mlista\u001b[0m\u001b[0;34m)\u001b[0m\u001b[0;34m\u001b[0m\u001b[0;34m\u001b[0m\u001b[0m\n",
      "\u001b[0;31mValueError\u001b[0m: list.remove(x): x not in list"
     ]
    }
   ],
   "source": [
    "lista = [0, 3, 1, 3]\n",
    "\n",
    "lista.remove(4)\n",
    "\n",
    "print(lista)"
   ]
  },
  {
   "cell_type": "markdown",
   "id": "63a00683",
   "metadata": {},
   "source": [
    "## Opsezi (tip range)"
   ]
  },
  {
   "cell_type": "markdown",
   "id": "17538756",
   "metadata": {},
   "source": [
    "Tip <code>range</code> predstavlja nepromenljivu (engl. imutabile) sekvencu brojeva. Objekti tipa <code>range</code> se najčešće koriste kod kolekcijske for petlje za iteriranje sekvencom brojeva. "
   ]
  },
  {
   "cell_type": "markdown",
   "id": "9fc7661b",
   "metadata": {},
   "source": [
    "Konstruktori kojima se mogu kreirati opsezi imaju sledeći oblik:\n",
    "- **range(stop)**\n",
    "- **range(start, stop[, step])**"
   ]
  },
  {
   "cell_type": "code",
   "execution_count": 68,
   "id": "96d4e88d",
   "metadata": {},
   "outputs": [
    {
     "data": {
      "text/plain": [
       "range(0, 10)"
      ]
     },
     "execution_count": 68,
     "metadata": {},
     "output_type": "execute_result"
    }
   ],
   "source": [
    "range(10)"
   ]
  },
  {
   "cell_type": "code",
   "execution_count": 69,
   "id": "34b71276",
   "metadata": {},
   "outputs": [
    {
     "data": {
      "text/plain": [
       "[0, 1, 2, 3, 4, 5, 6, 7, 8, 9]"
      ]
     },
     "execution_count": 69,
     "metadata": {},
     "output_type": "execute_result"
    }
   ],
   "source": [
    "list(range(10))"
   ]
  },
  {
   "cell_type": "code",
   "execution_count": 70,
   "id": "28d914c2",
   "metadata": {},
   "outputs": [
    {
     "data": {
      "text/plain": [
       "[1, 2, 3, 4, 5, 6, 7, 8, 9, 10]"
      ]
     },
     "execution_count": 70,
     "metadata": {},
     "output_type": "execute_result"
    }
   ],
   "source": [
    "list(range(1, 11))"
   ]
  },
  {
   "cell_type": "code",
   "execution_count": 71,
   "id": "bb73bfea",
   "metadata": {},
   "outputs": [
    {
     "data": {
      "text/plain": [
       "[0, 2, 4, 6, 8]"
      ]
     },
     "execution_count": 71,
     "metadata": {},
     "output_type": "execute_result"
    }
   ],
   "source": [
    "list(range(0, 10, 2))"
   ]
  },
  {
   "cell_type": "code",
   "execution_count": 72,
   "id": "99faf45d",
   "metadata": {},
   "outputs": [
    {
     "data": {
      "text/plain": [
       "[10, 9, 8, 7, 6, 5, 4, 3, 2, 1]"
      ]
     },
     "execution_count": 72,
     "metadata": {},
     "output_type": "execute_result"
    }
   ],
   "source": [
    "list(range(10, 0, -1))"
   ]
  },
  {
   "cell_type": "code",
   "execution_count": null,
   "id": "387a8c35",
   "metadata": {},
   "outputs": [],
   "source": []
  },
  {
   "cell_type": "markdown",
   "id": "c4e8ac4e",
   "metadata": {},
   "source": [
    "## Matrice (liste listi)"
   ]
  },
  {
   "cell_type": "markdown",
   "id": "69eb3480",
   "metadata": {},
   "source": [
    "Matrice se mogu predstaviti kao liste listi. Videćemo nešto kasnije da je rad sa višedimenzionim nizovima udobnije pokriti uz korišćenje biblioteke `numpy`."
   ]
  },
  {
   "cell_type": "code",
   "execution_count": 73,
   "id": "f7cecb1a",
   "metadata": {},
   "outputs": [],
   "source": [
    "matrica = [[1, 2, 3],\n",
    "           [4, 5, 6],\n",
    "           [7, 8, 9]]"
   ]
  },
  {
   "cell_type": "code",
   "execution_count": 74,
   "id": "2559d389",
   "metadata": {},
   "outputs": [
    {
     "name": "stdout",
     "output_type": "stream",
     "text": [
      "[[1, 2, 3], [4, 5, 6], [7, 8, 9]]\n"
     ]
    }
   ],
   "source": [
    "print(matrica)"
   ]
  },
  {
   "cell_type": "code",
   "execution_count": 75,
   "id": "6420b503",
   "metadata": {},
   "outputs": [
    {
     "name": "stdout",
     "output_type": "stream",
     "text": [
      "[1, 2, 3]\n",
      "[4, 5, 6]\n",
      "[7, 8, 9]\n"
     ]
    }
   ],
   "source": [
    "for vrsta in matrica:\n",
    "    print(vrsta)"
   ]
  },
  {
   "cell_type": "markdown",
   "id": "5ba773b7",
   "metadata": {},
   "source": [
    "Za pristup elementima matrice koristimo dvostruke indekse - prvo indeks vrste, a potom i indeks kolone."
   ]
  },
  {
   "cell_type": "code",
   "execution_count": 76,
   "id": "6b0bdc22",
   "metadata": {},
   "outputs": [
    {
     "name": "stdout",
     "output_type": "stream",
     "text": [
      "9\n"
     ]
    }
   ],
   "source": [
    "print(matrica[2][2])"
   ]
  },
  {
   "cell_type": "markdown",
   "id": "c4f359fd",
   "metadata": {},
   "source": [
    "Izdvajanje vrste:"
   ]
  },
  {
   "cell_type": "code",
   "execution_count": 77,
   "id": "d3c6b027",
   "metadata": {},
   "outputs": [
    {
     "name": "stdout",
     "output_type": "stream",
     "text": [
      "[4, 5, 6]\n"
     ]
    }
   ],
   "source": [
    "print(matrica[1])"
   ]
  },
  {
   "cell_type": "markdown",
   "id": "e78f6446",
   "metadata": {},
   "source": [
    "Izdvajanje kolone:"
   ]
  },
  {
   "cell_type": "code",
   "execution_count": 78,
   "id": "4fd60368",
   "metadata": {},
   "outputs": [
    {
     "name": "stdout",
     "output_type": "stream",
     "text": [
      "[2, 5, 8]\n"
     ]
    }
   ],
   "source": [
    "print([vrsta[1] for vrsta in matrica])"
   ]
  },
  {
   "cell_type": "markdown",
   "id": "a151edd3",
   "metadata": {},
   "source": [
    "## Stringovi"
   ]
  },
  {
   "cell_type": "markdown",
   "id": "92134c27",
   "metadata": {},
   "source": [
    "Stringovi su nepromenljive sekvence Unicode karaktera. Stringovi se u jeziku Pyhton mogu zapisivati ravnopravno korišćenjem jednostrukih ili dvostrukih navodnika (nekada treba voditi računa o ugnježdavanju)."
   ]
  },
  {
   "cell_type": "code",
   "execution_count": 79,
   "id": "614b744c",
   "metadata": {},
   "outputs": [
    {
     "name": "stdout",
     "output_type": "stream",
     "text": [
      "ABCD\n"
     ]
    }
   ],
   "source": [
    "string = 'ABCD'\n",
    "print(string)"
   ]
  },
  {
   "cell_type": "code",
   "execution_count": 80,
   "id": "ece21d69",
   "metadata": {},
   "outputs": [
    {
     "name": "stdout",
     "output_type": "stream",
     "text": [
      "ABCD\n"
     ]
    }
   ],
   "source": [
    "string = \"ABCD\"\n",
    "print(string)"
   ]
  },
  {
   "cell_type": "code",
   "execution_count": 81,
   "id": "917a3943",
   "metadata": {},
   "outputs": [
    {
     "name": "stdout",
     "output_type": "stream",
     "text": [
      "\"ABCD\"\n"
     ]
    }
   ],
   "source": [
    "print('\"ABCD\"')"
   ]
  },
  {
   "cell_type": "code",
   "execution_count": 82,
   "id": "46a96d59",
   "metadata": {},
   "outputs": [
    {
     "name": "stdout",
     "output_type": "stream",
     "text": [
      "'ABCD'\n"
     ]
    }
   ],
   "source": [
    "print(\"'ABCD'\")"
   ]
  },
  {
   "cell_type": "code",
   "execution_count": null,
   "id": "a65cf5d6",
   "metadata": {},
   "outputs": [],
   "source": []
  },
  {
   "cell_type": "markdown",
   "id": "2b27609e",
   "metadata": {},
   "source": [
    "### Konkatenacija stringova"
   ]
  },
  {
   "cell_type": "markdown",
   "id": "3303e9b5",
   "metadata": {},
   "source": [
    "I za nadovezivanje stringova može se koristiti operator `+`."
   ]
  },
  {
   "cell_type": "code",
   "execution_count": 84,
   "id": "cba7646a",
   "metadata": {},
   "outputs": [
    {
     "name": "stdout",
     "output_type": "stream",
     "text": [
      "ABCDEF\n"
     ]
    }
   ],
   "source": [
    "string1 = 'ABC'\n",
    "string2 = 'DEF'\n",
    "\n",
    "string3 = string1 + string2\n",
    "\n",
    "print(string3)"
   ]
  },
  {
   "cell_type": "markdown",
   "id": "c71c932f",
   "metadata": {},
   "source": [
    "### Iteriranje kroz string"
   ]
  },
  {
   "cell_type": "code",
   "execution_count": 85,
   "id": "6599f7f8",
   "metadata": {},
   "outputs": [
    {
     "name": "stdout",
     "output_type": "stream",
     "text": [
      "A\n",
      "B\n",
      "C\n",
      "D\n"
     ]
    }
   ],
   "source": [
    "string = 'ABCD'\n",
    "\n",
    "for c in string:\n",
    "    print(c)"
   ]
  },
  {
   "cell_type": "markdown",
   "id": "05c62acc",
   "metadata": {},
   "source": [
    "### 'Izmena' karaktera stringa"
   ]
  },
  {
   "cell_type": "code",
   "execution_count": 86,
   "id": "452e8b23",
   "metadata": {},
   "outputs": [
    {
     "name": "stdout",
     "output_type": "stream",
     "text": [
      "XBCD\n"
     ]
    }
   ],
   "source": [
    "string = 'ABCD'\n",
    "\n",
    "lista_karaktera = list(string)       \n",
    "lista_karaktera[0] = 'X'\n",
    "\n",
    "string = ''.join(lista_karaktera)\n",
    "print(string)"
   ]
  },
  {
   "cell_type": "markdown",
   "id": "1541800c",
   "metadata": {},
   "source": [
    "Metod <code>join()</code> vrši konkatenaciju elementa kolekcije stringova koju dobija kao argument u jedan string. Prilikom konkatenacije elemenata se string nad kojim se metod poziva umeće između dva nadovezana elementa kolekcije."
   ]
  },
  {
   "cell_type": "code",
   "execution_count": 87,
   "id": "479c7af6",
   "metadata": {},
   "outputs": [
    {
     "data": {
      "text/plain": [
       "'X$B$C$D'"
      ]
     },
     "execution_count": 87,
     "metadata": {},
     "output_type": "execute_result"
    }
   ],
   "source": [
    "'$'.join(lista_karaktera)"
   ]
  },
  {
   "cell_type": "markdown",
   "id": "0eb0f533",
   "metadata": {},
   "source": [
    "## Torke (tuple)"
   ]
  },
  {
   "cell_type": "markdown",
   "id": "1109637f",
   "metadata": {},
   "source": [
    "Torke su, slično kao liste, sekvence objekata. Razlika između torki i listi je u tome što su torke nepromenljivi objekti (kao stringovi) i koriste obične zagrade, dok liste koriste uglaste zagrade. "
   ]
  },
  {
   "cell_type": "code",
   "execution_count": 88,
   "id": "abfaa085",
   "metadata": {},
   "outputs": [
    {
     "name": "stdout",
     "output_type": "stream",
     "text": [
      "(1, 's', 3.4, [5, 6, 7], (8, 9))\n"
     ]
    }
   ],
   "source": [
    "torka = (1, \"s\", 3.4, [5, 6, 7], (8, 9))\n",
    "print(torka)"
   ]
  },
  {
   "cell_type": "code",
   "execution_count": 89,
   "id": "9f8c4a18",
   "metadata": {},
   "outputs": [
    {
     "name": "stdout",
     "output_type": "stream",
     "text": [
      "1\n"
     ]
    }
   ],
   "source": [
    "torka = (1, 2, 3, 4)\n",
    "print(torka[0])"
   ]
  },
  {
   "cell_type": "code",
   "execution_count": 90,
   "id": "0f4dd5e3",
   "metadata": {},
   "outputs": [
    {
     "ename": "TypeError",
     "evalue": "'tuple' object does not support item assignment",
     "output_type": "error",
     "traceback": [
      "\u001b[0;31m---------------------------------------------------------------------------\u001b[0m",
      "\u001b[0;31mTypeError\u001b[0m                                 Traceback (most recent call last)",
      "\u001b[0;32m<ipython-input-90-99c1443f13a7>\u001b[0m in \u001b[0;36m<module>\u001b[0;34m\u001b[0m\n\u001b[0;32m----> 1\u001b[0;31m \u001b[0mtorka\u001b[0m\u001b[0;34m[\u001b[0m\u001b[0;36m0\u001b[0m\u001b[0;34m]\u001b[0m \u001b[0;34m=\u001b[0m \u001b[0;36m10\u001b[0m\u001b[0;34m\u001b[0m\u001b[0;34m\u001b[0m\u001b[0m\n\u001b[0m",
      "\u001b[0;31mTypeError\u001b[0m: 'tuple' object does not support item assignment"
     ]
    }
   ],
   "source": [
    "torka[0] = 10"
   ]
  },
  {
   "cell_type": "code",
   "execution_count": null,
   "id": "369723e7",
   "metadata": {},
   "outputs": [],
   "source": []
  },
  {
   "cell_type": "markdown",
   "id": "ed98bc8a",
   "metadata": {},
   "source": [
    "## Skupovi"
   ]
  },
  {
   "cell_type": "markdown",
   "id": "123361e1",
   "metadata": {},
   "source": [
    "Za razliku od listi i torki, skupovi su kolekcije elemenata istog tipa koje dodatno ne dozvoljavaju ponavljanje elemenata sa istom vrednošću."
   ]
  },
  {
   "cell_type": "code",
   "execution_count": 91,
   "id": "a3085623",
   "metadata": {},
   "outputs": [
    {
     "name": "stdout",
     "output_type": "stream",
     "text": [
      "{1, 2, 3, 4}\n"
     ]
    }
   ],
   "source": [
    "skup = {1, 2, 3, 4}\n",
    "print(skup)"
   ]
  },
  {
   "cell_type": "code",
   "execution_count": 92,
   "id": "0c8c80d8",
   "metadata": {},
   "outputs": [
    {
     "name": "stdout",
     "output_type": "stream",
     "text": [
      "{1, 2, 3, 4}\n"
     ]
    }
   ],
   "source": [
    "skup = {1, 2, 1, 3, 1, 4}\n",
    "print(skup)"
   ]
  },
  {
   "cell_type": "code",
   "execution_count": 93,
   "id": "a00aca7a",
   "metadata": {},
   "outputs": [
    {
     "name": "stdout",
     "output_type": "stream",
     "text": [
      "{1, 2, 3, 4}\n"
     ]
    }
   ],
   "source": [
    "skup = set([1, 2, 3, 4])\n",
    "print(skup)"
   ]
  },
  {
   "cell_type": "markdown",
   "id": "de546e87",
   "metadata": {},
   "source": [
    "### Dodavanje elemenata"
   ]
  },
  {
   "cell_type": "markdown",
   "id": "f28c3c3f",
   "metadata": {},
   "source": [
    "Dodavanje elemenata u skup realizuje se funkcijom `add`."
   ]
  },
  {
   "cell_type": "code",
   "execution_count": 94,
   "id": "d2a7b93d",
   "metadata": {},
   "outputs": [
    {
     "name": "stdout",
     "output_type": "stream",
     "text": [
      "{1, 2, 3, 4}\n"
     ]
    }
   ],
   "source": [
    "skup = {1, 2, 3, 4}\n",
    "\n",
    "skup.add(3)\n",
    "\n",
    "print(skup)"
   ]
  },
  {
   "cell_type": "code",
   "execution_count": 95,
   "id": "af4725f2",
   "metadata": {},
   "outputs": [
    {
     "name": "stdout",
     "output_type": "stream",
     "text": [
      "{1, 2, 3, 4, 5}\n"
     ]
    }
   ],
   "source": [
    "skup = {1, 2, 3, 4}\n",
    "\n",
    "skup.add(5)\n",
    "\n",
    "print(skup)"
   ]
  },
  {
   "cell_type": "markdown",
   "id": "5cae87cf",
   "metadata": {},
   "source": [
    "### Uklanjanje elemenata"
   ]
  },
  {
   "cell_type": "code",
   "execution_count": 96,
   "id": "42cfbe7e",
   "metadata": {},
   "outputs": [
    {
     "name": "stdout",
     "output_type": "stream",
     "text": [
      "{1, 2, 4}\n"
     ]
    }
   ],
   "source": [
    "skup = {1, 2, 3, 4}\n",
    "\n",
    "skup.remove(3)\n",
    "\n",
    "print(skup)"
   ]
  },
  {
   "cell_type": "markdown",
   "id": "70ad8703",
   "metadata": {},
   "source": [
    "### Skupovne operacije"
   ]
  },
  {
   "cell_type": "code",
   "execution_count": 97,
   "id": "fcaf4cb7",
   "metadata": {},
   "outputs": [
    {
     "name": "stdout",
     "output_type": "stream",
     "text": [
      "A | B = {1, 2, 3, 4, 5, 6}\n",
      "A & B = {3, 4}\n",
      "A - B = {1, 2}\n",
      "B - A = {5, 6}\n",
      "A ^ B = {1, 2, 5, 6}\n",
      "A < B = False\n",
      "A > B = False\n"
     ]
    }
   ],
   "source": [
    "A = {1, 2, 3, 4}\n",
    "B = {3, 4, 5, 6}\n",
    "\n",
    "print('A | B = {}'.format(A | B))\n",
    "print('A & B = {}'.format(A & B))\n",
    "print('A - B = {}'.format(A - B))\n",
    "print('B - A = {}'.format(B - A))\n",
    "print('A ^ B = {}'.format(A ^ B))\n",
    "print('A < B = {}'.format(A < B))\n",
    "print('A > B = {}'.format(A > B))"
   ]
  },
  {
   "cell_type": "code",
   "execution_count": 98,
   "id": "6eb4e708",
   "metadata": {},
   "outputs": [
    {
     "name": "stdout",
     "output_type": "stream",
     "text": [
      "{1, 2, 3, 4, 5, 6}\n",
      "{3, 4}\n",
      "{1, 2}\n",
      "{5, 6}\n",
      "{1, 2, 5, 6}\n",
      "False\n",
      "False\n"
     ]
    }
   ],
   "source": [
    "A = {1, 2, 3, 4}\n",
    "B = {3, 4, 5, 6}\n",
    "\n",
    "print(A.union(B))\n",
    "print(A.intersection(B))\n",
    "print(A.difference(B))\n",
    "print(B.difference(A))\n",
    "print(A.symmetric_difference(B))\n",
    "print(A.issubset(B))\n",
    "print(A.issuperset(B))"
   ]
  },
  {
   "cell_type": "markdown",
   "id": "095129c4",
   "metadata": {},
   "source": [
    "## Mape (rečnici)"
   ]
  },
  {
   "cell_type": "markdown",
   "id": "819f9ab7",
   "metadata": {},
   "source": [
    "Mape su kolekcije elemenata koji predstavljaju parove oblika `ključ-vrednost`. Nije dozvoljeno da dva elementa u mapi imaju isti ključ, dok može postojati više elemenata koji imaju istu vrednost."
   ]
  },
  {
   "cell_type": "code",
   "execution_count": 99,
   "id": "d15af22a",
   "metadata": {},
   "outputs": [
    {
     "name": "stdout",
     "output_type": "stream",
     "text": [
      "{'a': 1, 'b': 2}\n"
     ]
    }
   ],
   "source": [
    "mapa = {'a' : 1, 'b' : 2}\n",
    "print(mapa)"
   ]
  },
  {
   "cell_type": "code",
   "execution_count": null,
   "id": "e3afb9a1",
   "metadata": {},
   "outputs": [],
   "source": []
  },
  {
   "cell_type": "markdown",
   "id": "a7512ec9",
   "metadata": {},
   "source": [
    "Elementima mape pristupamo preko vrednosti ključa."
   ]
  },
  {
   "cell_type": "code",
   "execution_count": 100,
   "id": "5b3ae132",
   "metadata": {},
   "outputs": [
    {
     "name": "stdout",
     "output_type": "stream",
     "text": [
      "1\n"
     ]
    }
   ],
   "source": [
    "mapa = {'a' : 1, 'b' : 2}\n",
    "print(mapa['a'])"
   ]
  },
  {
   "cell_type": "markdown",
   "id": "3cd1d8bb",
   "metadata": {},
   "source": [
    "### Dodavanje elemenata"
   ]
  },
  {
   "cell_type": "code",
   "execution_count": 101,
   "id": "468f3f9b",
   "metadata": {},
   "outputs": [
    {
     "name": "stdout",
     "output_type": "stream",
     "text": [
      "{'a': 1, 'b': 2}\n"
     ]
    }
   ],
   "source": [
    "mapa = {}\n",
    "\n",
    "mapa['a'] = 1\n",
    "mapa['b'] = 2\n",
    "\n",
    "print(mapa)"
   ]
  },
  {
   "cell_type": "markdown",
   "id": "7b6a7b91",
   "metadata": {},
   "source": [
    "### Uklanjanje elemenata"
   ]
  },
  {
   "cell_type": "code",
   "execution_count": 102,
   "id": "77c388f1",
   "metadata": {},
   "outputs": [
    {
     "name": "stdout",
     "output_type": "stream",
     "text": [
      "{'b': 2}\n"
     ]
    }
   ],
   "source": [
    "mapa = {'a' : 1, 'b' : 2}\n",
    "\n",
    "del mapa['a']\n",
    "\n",
    "print(mapa)"
   ]
  },
  {
   "cell_type": "markdown",
   "id": "534605a0",
   "metadata": {},
   "source": [
    "### Iteriranje kroz elemente mape"
   ]
  },
  {
   "cell_type": "code",
   "execution_count": 103,
   "id": "3cf2b4ef",
   "metadata": {},
   "outputs": [
    {
     "name": "stdout",
     "output_type": "stream",
     "text": [
      "[('a', 1), ('b', 2)]\n",
      "['a', 'b']\n",
      "[1, 2]\n"
     ]
    }
   ],
   "source": [
    "mapa = {'a' : 1, 'b' : 2}\n",
    "\n",
    "print(list(mapa.items()))\n",
    "print(list(mapa.keys()))\n",
    "print(list(mapa.values()))"
   ]
  },
  {
   "cell_type": "code",
   "execution_count": 104,
   "id": "4f1c1256",
   "metadata": {},
   "outputs": [
    {
     "name": "stdout",
     "output_type": "stream",
     "text": [
      "kljuc = a, vrednost = 1\n",
      "kljuc = b, vrednost = 2\n"
     ]
    }
   ],
   "source": [
    "mapa = {'a' : 1, 'b' : 2}\n",
    "\n",
    "for (kljuc, vrednost) in mapa.items():\n",
    "    print('kljuc = {}, vrednost = {}'.format(kljuc, vrednost))"
   ]
  },
  {
   "cell_type": "code",
   "execution_count": 105,
   "id": "9d88dc49",
   "metadata": {},
   "outputs": [
    {
     "name": "stdout",
     "output_type": "stream",
     "text": [
      "kljuc = a, vrednost = 1\n",
      "kljuc = b, vrednost = 2\n"
     ]
    }
   ],
   "source": [
    "mapa = {'a' : 1, 'b' : 2}\n",
    "\n",
    "for kljuc in mapa.keys():\n",
    "    print('kljuc = {}, vrednost = {}'.format(kljuc, mapa[kljuc]))"
   ]
  },
  {
   "cell_type": "code",
   "execution_count": 106,
   "id": "45932624",
   "metadata": {},
   "outputs": [
    {
     "name": "stdout",
     "output_type": "stream",
     "text": [
      "vrednost = 1\n",
      "vrednost = 2\n"
     ]
    }
   ],
   "source": [
    "mapa = {'a' : 1, 'b' : 2}\n",
    "\n",
    "for vrednost in mapa.values():\n",
    "    print('vrednost = {}'.format(vrednost))"
   ]
  },
  {
   "cell_type": "code",
   "execution_count": null,
   "id": "d5381acc",
   "metadata": {},
   "outputs": [],
   "source": []
  },
  {
   "cell_type": "markdown",
   "id": "91fc9bd1",
   "metadata": {},
   "source": [
    "# Funkcije"
   ]
  },
  {
   "cell_type": "markdown",
   "id": "5049f909",
   "metadata": {},
   "source": [
    "Funkcije se kreiraju uz pomoć rezervisane reči `def` koju prati ime funkcije i lista parametara. Telo funkcije mogu činiti proizvoljne naredbe, dok se povratna vrednost funkcije vraća naredbom `return`."
   ]
  },
  {
   "cell_type": "code",
   "execution_count": 107,
   "id": "0ca9e7a1",
   "metadata": {},
   "outputs": [
    {
     "name": "stdout",
     "output_type": "stream",
     "text": [
      "6\n",
      "3\n"
     ]
    }
   ],
   "source": [
    "def saberi(a, b, c=0):\n",
    "    return a + b + c\n",
    "\n",
    "print(saberi(1, 2, 3))\n",
    "print(saberi(1, 2))"
   ]
  },
  {
   "cell_type": "markdown",
   "id": "6d17fbc5",
   "metadata": {},
   "source": [
    "Prethodni primer ukazuje da argumenti funkcije mogu imati i podrazumevane vrednosti."
   ]
  },
  {
   "cell_type": "code",
   "execution_count": null,
   "id": "8da70db9",
   "metadata": {},
   "outputs": [],
   "source": []
  },
  {
   "cell_type": "markdown",
   "id": "39ec321f",
   "metadata": {},
   "source": [
    "Funkcija može vratiti više povratnih vrednosti kroz objekte tipa <code>tuple</code> ili <code>list</code>."
   ]
  },
  {
   "cell_type": "code",
   "execution_count": 108,
   "id": "6cca3129",
   "metadata": {},
   "outputs": [
    {
     "name": "stdout",
     "output_type": "stream",
     "text": [
      "min = 6.7, max = 10\n"
     ]
    }
   ],
   "source": [
    "def min_i_max(a, b):\n",
    "    mini = min(a, b)\n",
    "    maxi = max(a, b)\n",
    "    return (mini, maxi)\n",
    "\n",
    "a = 10\n",
    "b = 6.7\n",
    "(mini, maxi) = min_i_max(a, b)\n",
    "print('min = {}, max = {}'.format(mini, maxi))"
   ]
  },
  {
   "cell_type": "code",
   "execution_count": 109,
   "id": "996ffeff",
   "metadata": {},
   "outputs": [
    {
     "name": "stdout",
     "output_type": "stream",
     "text": [
      "min = 6.7, max = 10\n"
     ]
    }
   ],
   "source": [
    "def min_i_max(a, b):\n",
    "    mini = min(a, b)\n",
    "    maxi = max(a, b)\n",
    "    return [mini, maxi]\n",
    "\n",
    "a = 10\n",
    "b = 6.7\n",
    "[mini, maxi] = min_i_max(a, b)\n",
    "print('min = {}, max = {}'.format(mini, maxi))"
   ]
  },
  {
   "cell_type": "code",
   "execution_count": null,
   "id": "3449da7c",
   "metadata": {},
   "outputs": [],
   "source": []
  },
  {
   "cell_type": "markdown",
   "id": "5900ed83",
   "metadata": {},
   "source": [
    "# Definisanje tipova (klasa)"
   ]
  },
  {
   "cell_type": "markdown",
   "id": "3b8b8aa0",
   "metadata": {},
   "source": [
    "Svi metodi klase u definiciji kao prvi argument imaju promenljivu <code>self</code> koja predstavlja referencu na objekat nad kojim se metod poziva. Prilikom poziva konstruktora i metoda klase taj argument se ne navodi. "
   ]
  },
  {
   "cell_type": "markdown",
   "id": "e4f4aff0",
   "metadata": {},
   "source": [
    "Ako je promenljiva pridružena <code>self</code> referenci, onda se radi o atributu odgovarajućeg objekta klase (nestatički atribut). Statički atributi klase se navode u definiciji klase van definicija konstruktora i ostalih metoda i pristupa im se preko imena klase."
   ]
  },
  {
   "cell_type": "code",
   "execution_count": 110,
   "id": "d2ff6aca",
   "metadata": {},
   "outputs": [],
   "source": [
    "class Vozilo:\n",
    "    \n",
    "    # staticka promenljiva\n",
    "    broj_vozila = 0\n",
    "\n",
    "    # konstruktor\n",
    "    def __init__(self, registarski_broj):\n",
    "        self.registarski_broj = registarski_broj\n",
    "        print('Napravljeno je novo vozilo sa registarskim brojem {}'.format(\n",
    "            registarski_broj))\n",
    "        Vozilo.broj_vozila += 1\n",
    "\n",
    "    # stringovska reprezentacija objekata klase\n",
    "    def __str__(self):\n",
    "        return 'Vozilo: {}'.format(self.registarski_broj)\n",
    "\n",
    "    # getter\n",
    "    def vrati_registatski_broj(self):\n",
    "        return self.registarski_broj\n",
    "\n",
    "    # setter\n",
    "    def postavi_registatski_broj(self, registarski_broj):\n",
    "        self.registarski_broj = registarski_broj\n",
    "\n",
    "    # virtualni metod - metod koji se ne implementira (~ apstraktni metod)\n",
    "    def vrati_tip_vozila(self):\n",
    "        pass"
   ]
  },
  {
   "cell_type": "markdown",
   "id": "fb1ba0c8",
   "metadata": {},
   "source": [
    "Klase se mogu nasleđivati navođenjem imena roditeljske klase na mesto argumenta."
   ]
  },
  {
   "cell_type": "code",
   "execution_count": 111,
   "id": "3a713361",
   "metadata": {},
   "outputs": [],
   "source": [
    "class Automobil(Vozilo):\n",
    "    def __init__(self, registarski_broj):\n",
    "        super().__init__(registarski_broj)\n",
    "        self.tip_vozila = 'Automobil'\n",
    "\n",
    "    def vrati_tip_vozila(self):\n",
    "        return self.tip_vozila"
   ]
  },
  {
   "cell_type": "code",
   "execution_count": 112,
   "id": "1df6ee81",
   "metadata": {},
   "outputs": [
    {
     "name": "stdout",
     "output_type": "stream",
     "text": [
      "Napravljeno je novo vozilo sa registarskim brojem BG-123-AB\n",
      "Napravljeno je novo vozilo sa registarskim brojem NI-234-SV\n"
     ]
    }
   ],
   "source": [
    "vozilo1 = Vozilo('BG-123-AB')\n",
    "automobil1 = Automobil('NI-234-SV')"
   ]
  },
  {
   "cell_type": "code",
   "execution_count": 113,
   "id": "4bbb127c",
   "metadata": {},
   "outputs": [
    {
     "name": "stdout",
     "output_type": "stream",
     "text": [
      "None\n"
     ]
    }
   ],
   "source": [
    "print(vozilo1.vrati_tip_vozila())               #NONE = Null!"
   ]
  },
  {
   "cell_type": "code",
   "execution_count": 114,
   "id": "7af579ae",
   "metadata": {},
   "outputs": [
    {
     "name": "stdout",
     "output_type": "stream",
     "text": [
      "Automobil\n"
     ]
    }
   ],
   "source": [
    "print(automobil1.vrati_tip_vozila())"
   ]
  },
  {
   "cell_type": "code",
   "execution_count": 115,
   "id": "8ffaf7df",
   "metadata": {},
   "outputs": [
    {
     "name": "stdout",
     "output_type": "stream",
     "text": [
      "2\n"
     ]
    }
   ],
   "source": [
    "print(Vozilo.broj_vozila)"
   ]
  },
  {
   "cell_type": "code",
   "execution_count": null,
   "id": "9a29ea5c",
   "metadata": {},
   "outputs": [],
   "source": []
  },
  {
   "cell_type": "markdown",
   "id": "e6cdee38",
   "metadata": {},
   "source": [
    "# Generisanje pseudoslučajnih brojeva"
   ]
  },
  {
   "cell_type": "markdown",
   "id": "f68290b8",
   "metadata": {},
   "source": [
    "Za generisanje pseudoslučajnih brojeva može se koristit paket `random`."
   ]
  },
  {
   "cell_type": "code",
   "execution_count": 116,
   "id": "b11d74e8",
   "metadata": {},
   "outputs": [],
   "source": [
    "import random"
   ]
  },
  {
   "cell_type": "markdown",
   "id": "4b99f760",
   "metadata": {},
   "source": [
    "Realan broj iz opsega $[0, 1)$ se može dobiti funkcijom `random`."
   ]
  },
  {
   "cell_type": "code",
   "execution_count": 117,
   "id": "e31790fe",
   "metadata": {},
   "outputs": [
    {
     "name": "stdout",
     "output_type": "stream",
     "text": [
      "0.6940699102522667\n"
     ]
    }
   ],
   "source": [
    "x = random.random()                \n",
    "print(x)"
   ]
  },
  {
   "cell_type": "markdown",
   "id": "0104552d",
   "metadata": {},
   "source": [
    "Ceo broj iz nekog specifičnog opsega, na primer $[0, 10)$, se može dobiti funkcijom `randrange`."
   ]
  },
  {
   "cell_type": "code",
   "execution_count": 118,
   "id": "871f7484",
   "metadata": {},
   "outputs": [
    {
     "name": "stdout",
     "output_type": "stream",
     "text": [
      "7\n"
     ]
    }
   ],
   "source": [
    "x = random.randrange(0, 10)       \n",
    "print(x)"
   ]
  },
  {
   "cell_type": "markdown",
   "id": "151e4d1b",
   "metadata": {},
   "source": [
    "Realan broj iz uniformne raspodele može se dobiti pozivom funkcije `uniform`. Granice raspodele se zadaju kao argumenti funkcije. Nadalje se generiše realan broj iz uniformne raspodele $U[2, 5)$."
   ]
  },
  {
   "cell_type": "code",
   "execution_count": 119,
   "id": "cfd15e26",
   "metadata": {},
   "outputs": [
    {
     "name": "stdout",
     "output_type": "stream",
     "text": [
      "2.712815360662038\n"
     ]
    }
   ],
   "source": [
    "x = random.uniform(2, 5)          \n",
    "print(x)"
   ]
  },
  {
   "cell_type": "markdown",
   "id": "c69d1c40",
   "metadata": {},
   "source": [
    "Realan broj iz normalne raspodele $N(\\mu, \\sigma)$ se može dobiti funkcijom `gauss`."
   ]
  },
  {
   "cell_type": "code",
   "execution_count": 120,
   "id": "b9fabfc7",
   "metadata": {},
   "outputs": [
    {
     "name": "stdout",
     "output_type": "stream",
     "text": [
      "14.343107058663783\n"
     ]
    }
   ],
   "source": [
    "mi = 5\n",
    "sigma = 5\n",
    "\n",
    "x = random.gauss(mi, sigma)        \n",
    "print(x)"
   ]
  },
  {
   "cell_type": "code",
   "execution_count": null,
   "id": "f2ce8715",
   "metadata": {},
   "outputs": [],
   "source": []
  },
  {
   "cell_type": "markdown",
   "id": "e57627ba",
   "metadata": {},
   "source": [
    "## Generisanje pseudoslučajnih elemenata kolekcija"
   ]
  },
  {
   "cell_type": "markdown",
   "id": "5fd3f294",
   "metadata": {},
   "source": [
    "Slučajan element neke kolekcije se može dobiti pozivom funkcije `choice`."
   ]
  },
  {
   "cell_type": "code",
   "execution_count": 121,
   "id": "b26186d1",
   "metadata": {},
   "outputs": [
    {
     "name": "stdout",
     "output_type": "stream",
     "text": [
      "1000\n"
     ]
    }
   ],
   "source": [
    "lista = [10, 100, 1000, 10000]\n",
    "\n",
    "izabrani = random.choice(lista)\n",
    "\n",
    "print(izabrani)"
   ]
  },
  {
   "cell_type": "markdown",
   "id": "c8c932ef",
   "metadata": {},
   "source": [
    "Ukoliko je potrebno očitati više nasumičnih elemenata, može se koristiti funkcija `sample`."
   ]
  },
  {
   "cell_type": "code",
   "execution_count": 122,
   "id": "e12d71bf",
   "metadata": {},
   "outputs": [
    {
     "name": "stdout",
     "output_type": "stream",
     "text": [
      "[10000, 100]\n"
     ]
    }
   ],
   "source": [
    "lista = [10, 100, 1000, 10000]\n",
    "\n",
    "podlista = random.sample(lista, 2)\n",
    "\n",
    "print(podlista)"
   ]
  },
  {
   "cell_type": "markdown",
   "id": "4ba86d5d",
   "metadata": {},
   "source": [
    "Za mešanje elemenata kolekcije može se koristit funkcija `shuffle`."
   ]
  },
  {
   "cell_type": "code",
   "execution_count": 123,
   "id": "3ee37a03",
   "metadata": {},
   "outputs": [
    {
     "name": "stdout",
     "output_type": "stream",
     "text": [
      "[1000, 100, 10, 10000]\n"
     ]
    }
   ],
   "source": [
    "lista = [10, 100, 1000, 10000]\n",
    "\n",
    "random.shuffle(lista)     #NAPOMENA: shuffle() funkcija radi u mestu!\n",
    "\n",
    "print(lista)"
   ]
  },
  {
   "cell_type": "code",
   "execution_count": null,
   "id": "2c0a8e9d",
   "metadata": {},
   "outputs": [],
   "source": []
  }
 ],
 "metadata": {
  "kernelspec": {
   "display_name": "Python 3",
   "language": "python",
   "name": "python3"
  },
  "language_info": {
   "codemirror_mode": {
    "name": "ipython",
    "version": 3
   },
   "file_extension": ".py",
   "mimetype": "text/x-python",
   "name": "python",
   "nbconvert_exporter": "python",
   "pygments_lexer": "ipython3",
   "version": "3.7.6"
  },
  "nbTranslate": {
   "displayLangs": [
    "*"
   ],
   "hotkey": "alt-t",
   "langInMainMenu": true,
   "sourceLang": "en",
   "targetLang": "fr",
   "useGoogleTranslate": true
  }
 },
 "nbformat": 4,
 "nbformat_minor": 5
}
