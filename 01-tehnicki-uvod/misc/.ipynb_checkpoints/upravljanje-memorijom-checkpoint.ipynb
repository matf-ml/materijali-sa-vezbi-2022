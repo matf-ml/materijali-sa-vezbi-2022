{
 "cells": [
  {
   "cell_type": "markdown",
   "id": "8081aeb8",
   "metadata": {},
   "source": [
    "# Upravljanje memorijom"
   ]
  },
  {
   "cell_type": "markdown",
   "id": "e3a008c2",
   "metadata": {},
   "source": [
    "Cilj ove sveske je da ukaže na neke zanimljive koncepte biblioteke `numpy` koji se tiču upravljanja memorijom. "
   ]
  },
  {
   "cell_type": "code",
   "execution_count": 1,
   "id": "911df112",
   "metadata": {},
   "outputs": [],
   "source": [
    "import numpy as np"
   ]
  },
  {
   "cell_type": "code",
   "execution_count": null,
   "id": "cb904a78",
   "metadata": {},
   "outputs": [],
   "source": []
  },
  {
   "cell_type": "markdown",
   "id": "cbbb0e3d",
   "metadata": {},
   "source": [
    "![ndarray struktura](assets/memory_management.png)"
   ]
  },
  {
   "cell_type": "code",
   "execution_count": null,
   "id": "c08f9aa0",
   "metadata": {},
   "outputs": [],
   "source": []
  },
  {
   "cell_type": "markdown",
   "id": "896fb12a",
   "metadata": {},
   "source": [
    "Na slici je prikazan jedan višedimenzioni niz oblika 3x3 koji sadrži brojeve od 0 do 8. Njega možemo kreirati pozivom funkcije `array`. Videli smo da broj njegovih dimenzija i sam oblik možemo pročitati svojstvima `ndim` i `shape`, dok sam tip podataka sadržanih u nizu i njihove pojedinačne memorijske zahteve možemo pročitati pomoću svojstava  `dtype` i `itemsize`. "
   ]
  },
  {
   "cell_type": "code",
   "execution_count": 2,
   "id": "06f775cb",
   "metadata": {},
   "outputs": [],
   "source": [
    "M = np.array([\n",
    "    [0, 1, 2],\n",
    "    [3, 4, 5],\n",
    "    [6, 7, 8]\n",
    "])"
   ]
  },
  {
   "cell_type": "code",
   "execution_count": 3,
   "id": "55ace685",
   "metadata": {},
   "outputs": [
    {
     "data": {
      "text/plain": [
       "array([[0, 1, 2],\n",
       "       [3, 4, 5],\n",
       "       [6, 7, 8]])"
      ]
     },
     "execution_count": 3,
     "metadata": {},
     "output_type": "execute_result"
    }
   ],
   "source": [
    "M"
   ]
  },
  {
   "cell_type": "code",
   "execution_count": 4,
   "id": "cfc99bfe",
   "metadata": {},
   "outputs": [
    {
     "name": "stdout",
     "output_type": "stream",
     "text": [
      "Broj dimenzija:  2\n"
     ]
    }
   ],
   "source": [
    "print('Broj dimenzija: ', M.ndim)"
   ]
  },
  {
   "cell_type": "code",
   "execution_count": 5,
   "id": "b269f182",
   "metadata": {},
   "outputs": [
    {
     "name": "stdout",
     "output_type": "stream",
     "text": [
      "Oblik:  (3, 3)\n"
     ]
    }
   ],
   "source": [
    "print('Oblik: ', M.shape)"
   ]
  },
  {
   "cell_type": "code",
   "execution_count": 6,
   "id": "9b672e11",
   "metadata": {},
   "outputs": [
    {
     "name": "stdout",
     "output_type": "stream",
     "text": [
      "Tip podataka:  int64\n"
     ]
    }
   ],
   "source": [
    "print('Tip podataka: ', M.dtype)"
   ]
  },
  {
   "cell_type": "code",
   "execution_count": 7,
   "id": "abd39a2b",
   "metadata": {},
   "outputs": [
    {
     "name": "stdout",
     "output_type": "stream",
     "text": [
      "Memorijski zahtevi pojedinacnih elemenata (u bajtovima):  8\n"
     ]
    }
   ],
   "source": [
    "print('Memorijski zahtevi pojedinacnih elemenata (u bajtovima): ', M.itemsize)"
   ]
  },
  {
   "cell_type": "code",
   "execution_count": null,
   "id": "fe81ba92",
   "metadata": {},
   "outputs": [],
   "source": []
  },
  {
   "cell_type": "markdown",
   "id": "a2e94ce9",
   "metadata": {},
   "source": [
    "Ovom višedimenzionom nizu odgovara i jedan blok memorije u kojem su elementi smešteni uzastopno jedan do drugog. Informacije o memorijskom rasporedu elemenata, kao i o svojstvima fizičkog bloka memorije koji se koristi za čuvanje elemenata mogu se dobiti korišćenjem svojstva `flags`."
   ]
  },
  {
   "cell_type": "code",
   "execution_count": 8,
   "id": "ddf5b5cf",
   "metadata": {},
   "outputs": [
    {
     "data": {
      "text/plain": [
       "  C_CONTIGUOUS : True\n",
       "  F_CONTIGUOUS : False\n",
       "  OWNDATA : True\n",
       "  WRITEABLE : True\n",
       "  ALIGNED : True\n",
       "  WRITEBACKIFCOPY : False\n",
       "  UPDATEIFCOPY : False"
      ]
     },
     "execution_count": 8,
     "metadata": {},
     "output_type": "execute_result"
    }
   ],
   "source": [
    "M.flags"
   ]
  },
  {
   "cell_type": "markdown",
   "id": "b4c8e5b5",
   "metadata": {},
   "source": [
    "Svojstvo `C_CONTIGUOUS` označava da se vrste matrice ređaju u memoriji jedna za drugom (C u imenu svojstva naglasava da je ovo ponašanje nalik ponašanju u jeziku C). Sa druge strane, svojstvo `F_CONTIGUOUS` ukazuje na to da su kolone matrice postavljene u memoriji jedna za drugom (F u imenu svojstva ukazuje na sličnost sa programskim jezikom Fortran). Raspored elemenata je važan za izvođenje operacija na niskom nivou."
   ]
  },
  {
   "cell_type": "markdown",
   "id": "2ae21f00",
   "metadata": {},
   "source": [
    "Ukoliko svojstvo `OWNDATA` ima vrednost `True`, višedimenzioni niz ima svoj fizički blok u memoriji. Ukoliko je vrednost ovog svojstva `False`, višedimenzioni niz predstavlja samo **pogled** na neki postojeći blok. Ovakva organizacija memorije je, takođe, važna zbog brzog i efikasnog izvođenja operacija. "
   ]
  },
  {
   "cell_type": "markdown",
   "id": "2650ec02",
   "metadata": {},
   "source": [
    "Na primer, transponovani višedimenzioni niz polaznog niza `M` ili niz dobijen primenom operatora isecanja su primeri nizova pogleda."
   ]
  },
  {
   "cell_type": "code",
   "execution_count": 9,
   "id": "50a36a89",
   "metadata": {},
   "outputs": [],
   "source": [
    "M_transposed = M.transpose()"
   ]
  },
  {
   "cell_type": "code",
   "execution_count": 10,
   "id": "25ec9690",
   "metadata": {},
   "outputs": [
    {
     "data": {
      "text/plain": [
       "  C_CONTIGUOUS : False\n",
       "  F_CONTIGUOUS : True\n",
       "  OWNDATA : False\n",
       "  WRITEABLE : True\n",
       "  ALIGNED : True\n",
       "  WRITEBACKIFCOPY : False\n",
       "  UPDATEIFCOPY : False"
      ]
     },
     "execution_count": 10,
     "metadata": {},
     "output_type": "execute_result"
    }
   ],
   "source": [
    "M_transposed.flags"
   ]
  },
  {
   "cell_type": "code",
   "execution_count": 11,
   "id": "b1f2b6b6",
   "metadata": {},
   "outputs": [
    {
     "data": {
      "text/plain": [
       "array([[0, 3, 6],\n",
       "       [1, 4, 7],\n",
       "       [2, 5, 8]])"
      ]
     },
     "execution_count": 11,
     "metadata": {},
     "output_type": "execute_result"
    }
   ],
   "source": [
    "M_transposed"
   ]
  },
  {
   "cell_type": "code",
   "execution_count": null,
   "id": "a3aba1d3",
   "metadata": {},
   "outputs": [],
   "source": []
  },
  {
   "cell_type": "code",
   "execution_count": 12,
   "id": "15b39bbf",
   "metadata": {},
   "outputs": [],
   "source": [
    "M_reduced = M[1:3, :]"
   ]
  },
  {
   "cell_type": "code",
   "execution_count": 13,
   "id": "c4e01320",
   "metadata": {},
   "outputs": [
    {
     "data": {
      "text/plain": [
       "  C_CONTIGUOUS : True\n",
       "  F_CONTIGUOUS : False\n",
       "  OWNDATA : False\n",
       "  WRITEABLE : True\n",
       "  ALIGNED : True\n",
       "  WRITEBACKIFCOPY : False\n",
       "  UPDATEIFCOPY : False"
      ]
     },
     "execution_count": 13,
     "metadata": {},
     "output_type": "execute_result"
    }
   ],
   "source": [
    "M_reduced.flags"
   ]
  },
  {
   "cell_type": "code",
   "execution_count": 14,
   "id": "0de5d7e9",
   "metadata": {},
   "outputs": [
    {
     "data": {
      "text/plain": [
       "array([[3, 4, 5],\n",
       "       [6, 7, 8]])"
      ]
     },
     "execution_count": 14,
     "metadata": {},
     "output_type": "execute_result"
    }
   ],
   "source": [
    "M_reduced"
   ]
  },
  {
   "cell_type": "code",
   "execution_count": null,
   "id": "6f1d9552",
   "metadata": {},
   "outputs": [],
   "source": []
  },
  {
   "cell_type": "markdown",
   "id": "d06de465",
   "metadata": {},
   "source": [
    "Zanimljivo je prokomentarisati i promenu vrednosti `C_CONTIGUOUS` i `F_CONTIGUOUS` zastavica u slučaju transponovanja: zarad efikasnijeg izvršavanja, ne dolazi do fizičke reorganizacije elemenata već samo do promene prateće strukture pridružene nizu tako da se sada elementi iz pridruženog memorijskog bloka očitavaju po kolonama, a ne po vrstama.  "
   ]
  },
  {
   "cell_type": "code",
   "execution_count": null,
   "id": "914a047b",
   "metadata": {},
   "outputs": [],
   "source": []
  },
  {
   "cell_type": "markdown",
   "id": "f8932271",
   "metadata": {},
   "source": [
    "Prilikom rada sa bibliotekom `numpy` treba voditi računa o tome da li funkcije koje se koriste kreiraju nove memorijske blokove ili koriste poglede nad postojećim. Na primer, funkcije `flatten` i `ravel` se mogu koristiti za svođenje višedimenzionog niza na vektor vrednosti. "
   ]
  },
  {
   "cell_type": "code",
   "execution_count": 15,
   "id": "239d0cec",
   "metadata": {},
   "outputs": [],
   "source": [
    "M_flatten = M.flatten()"
   ]
  },
  {
   "cell_type": "code",
   "execution_count": 16,
   "id": "5a0a74de",
   "metadata": {},
   "outputs": [
    {
     "data": {
      "text/plain": [
       "array([0, 1, 2, 3, 4, 5, 6, 7, 8])"
      ]
     },
     "execution_count": 16,
     "metadata": {},
     "output_type": "execute_result"
    }
   ],
   "source": [
    "M_flatten"
   ]
  },
  {
   "cell_type": "code",
   "execution_count": 17,
   "id": "20222059",
   "metadata": {},
   "outputs": [
    {
     "data": {
      "text/plain": [
       "  C_CONTIGUOUS : True\n",
       "  F_CONTIGUOUS : True\n",
       "  OWNDATA : True\n",
       "  WRITEABLE : True\n",
       "  ALIGNED : True\n",
       "  WRITEBACKIFCOPY : False\n",
       "  UPDATEIFCOPY : False"
      ]
     },
     "execution_count": 17,
     "metadata": {},
     "output_type": "execute_result"
    }
   ],
   "source": [
    "M_flatten.flags"
   ]
  },
  {
   "cell_type": "code",
   "execution_count": null,
   "id": "2de7b012",
   "metadata": {},
   "outputs": [],
   "source": []
  },
  {
   "cell_type": "code",
   "execution_count": 18,
   "id": "51f061d4",
   "metadata": {},
   "outputs": [],
   "source": [
    "M_ravel = M.ravel()"
   ]
  },
  {
   "cell_type": "code",
   "execution_count": 19,
   "id": "e5acec76",
   "metadata": {},
   "outputs": [
    {
     "data": {
      "text/plain": [
       "array([0, 1, 2, 3, 4, 5, 6, 7, 8])"
      ]
     },
     "execution_count": 19,
     "metadata": {},
     "output_type": "execute_result"
    }
   ],
   "source": [
    "M_ravel"
   ]
  },
  {
   "cell_type": "code",
   "execution_count": 20,
   "id": "2065eb72",
   "metadata": {},
   "outputs": [
    {
     "data": {
      "text/plain": [
       "  C_CONTIGUOUS : True\n",
       "  F_CONTIGUOUS : True\n",
       "  OWNDATA : False\n",
       "  WRITEABLE : True\n",
       "  ALIGNED : True\n",
       "  WRITEBACKIFCOPY : False\n",
       "  UPDATEIFCOPY : False"
      ]
     },
     "execution_count": 20,
     "metadata": {},
     "output_type": "execute_result"
    }
   ],
   "source": [
    "M_ravel.flags"
   ]
  },
  {
   "cell_type": "markdown",
   "id": "33db69d2",
   "metadata": {},
   "source": [
    "Kao što možemo videti efekat primene ovih dveju funkcija je isti uz bitnu razliku da funkcija `flatten` pravi kopiju postojećeg niza, a funkcija `ravel` pogled na njega."
   ]
  },
  {
   "cell_type": "markdown",
   "id": "27e9491b",
   "metadata": {},
   "source": [
    "Funkcijom `shares_memory` se može proveriti da li dva višedimenziona niza dele memoriju ili ne."
   ]
  },
  {
   "cell_type": "code",
   "execution_count": 21,
   "id": "08facdf4",
   "metadata": {},
   "outputs": [
    {
     "data": {
      "text/plain": [
       "False"
      ]
     },
     "execution_count": 21,
     "metadata": {},
     "output_type": "execute_result"
    }
   ],
   "source": [
    "np.shares_memory(M, M_flatten)"
   ]
  },
  {
   "cell_type": "code",
   "execution_count": 22,
   "id": "11c89502",
   "metadata": {},
   "outputs": [
    {
     "data": {
      "text/plain": [
       "True"
      ]
     },
     "execution_count": 22,
     "metadata": {},
     "output_type": "execute_result"
    }
   ],
   "source": [
    "np.shares_memory(M, M_ravel)"
   ]
  },
  {
   "cell_type": "code",
   "execution_count": null,
   "id": "40a4b73e",
   "metadata": {},
   "outputs": [],
   "source": []
  },
  {
   "cell_type": "markdown",
   "id": "718088e3",
   "metadata": {},
   "source": [
    "Eksplicitno kopiranje memorijskog bloka se može postići koristeći funkciju `copy`."
   ]
  },
  {
   "cell_type": "code",
   "execution_count": 23,
   "id": "1449239f",
   "metadata": {},
   "outputs": [],
   "source": [
    "M_copy = np.copy(M)"
   ]
  },
  {
   "cell_type": "code",
   "execution_count": 24,
   "id": "4bfa346a",
   "metadata": {},
   "outputs": [
    {
     "data": {
      "text/plain": [
       "array([[0, 1, 2],\n",
       "       [3, 4, 5],\n",
       "       [6, 7, 8]])"
      ]
     },
     "execution_count": 24,
     "metadata": {},
     "output_type": "execute_result"
    }
   ],
   "source": [
    "M_copy"
   ]
  },
  {
   "cell_type": "code",
   "execution_count": 25,
   "id": "a8d4c6c8",
   "metadata": {},
   "outputs": [
    {
     "data": {
      "text/plain": [
       "  C_CONTIGUOUS : True\n",
       "  F_CONTIGUOUS : False\n",
       "  OWNDATA : True\n",
       "  WRITEABLE : True\n",
       "  ALIGNED : True\n",
       "  WRITEBACKIFCOPY : False\n",
       "  UPDATEIFCOPY : False"
      ]
     },
     "execution_count": 25,
     "metadata": {},
     "output_type": "execute_result"
    }
   ],
   "source": [
    "M_copy.flags"
   ]
  },
  {
   "cell_type": "code",
   "execution_count": null,
   "id": "3ec4eb36",
   "metadata": {},
   "outputs": [],
   "source": []
  },
  {
   "cell_type": "markdown",
   "id": "df30e9c6",
   "metadata": {},
   "source": [
    "Struktura koja je pridružena višedimenzionom nizu ima još jedno zanimljivo svojstvo koje se zove `strides`. Svojstvo `strides` oslikava broj bajtova potrebnih da se pređe sa jednog elementa na drugi duž svake od dimenzija višedimenzionog niza. Tako, na primer, da bi se u višedimenzionom nizu `M` pročitao element sledeće vrste potreban je pomeraj od 24 bajta (24=3x8), a da bi se pročitao element sledeće kolone pomeraj od 8 bajtova (8=1x8) jer je dimenzija niza 3x3, veličina jednog elementa 8 bajtova."
   ]
  },
  {
   "cell_type": "code",
   "execution_count": 26,
   "id": "331f49e5",
   "metadata": {},
   "outputs": [
    {
     "data": {
      "text/plain": [
       "(24, 8)"
      ]
     },
     "execution_count": 26,
     "metadata": {},
     "output_type": "execute_result"
    }
   ],
   "source": [
    "M.strides"
   ]
  },
  {
   "cell_type": "markdown",
   "id": "1c6401e0",
   "metadata": {},
   "source": [
    "Tako se, recimo, prilikom transponovanja višedimenzionog niza uz promene pomenutih  `C_CONTIGUOUS` i `F_CONTIGUOUS` zastavica, razmenjuju vrednosti `strides` svojstva."
   ]
  },
  {
   "cell_type": "code",
   "execution_count": 27,
   "id": "dd94beb3",
   "metadata": {},
   "outputs": [
    {
     "data": {
      "text/plain": [
       "(8, 24)"
      ]
     },
     "execution_count": 27,
     "metadata": {},
     "output_type": "execute_result"
    }
   ],
   "source": [
    "M_transposed.strides"
   ]
  },
  {
   "cell_type": "code",
   "execution_count": null,
   "id": "a1716681",
   "metadata": {},
   "outputs": [],
   "source": []
  },
  {
   "cell_type": "markdown",
   "id": "150f0125",
   "metadata": {},
   "source": [
    "Biblioteka `numpy` raspolaže i posebnim APIjem u okviru kojeg se može koristiti funkcija `as_strided` koja za različita podešavanja oblika i pomeraja kreira poglede. Oblik željenog niza se zadaje argumentom `shape` (on će predstavljati `shape` svojstvo novog niza) dok se pomeraj zadaje argumentom `strides` koji predstavlja `strides` svojstvo novog niza u odnosu na zadati memorijski blok."
   ]
  },
  {
   "cell_type": "markdown",
   "id": "49c583d2",
   "metadata": {},
   "source": [
    "Tako, recimo, očitavanje elemenata prve vrste možemo postići na sledeći način:"
   ]
  },
  {
   "cell_type": "code",
   "execution_count": 28,
   "id": "6c56b3cb",
   "metadata": {},
   "outputs": [],
   "source": [
    "itemsize = M.itemsize"
   ]
  },
  {
   "cell_type": "code",
   "execution_count": 29,
   "id": "9b68b22a",
   "metadata": {},
   "outputs": [
    {
     "data": {
      "text/plain": [
       "array([0, 1, 2])"
      ]
     },
     "execution_count": 29,
     "metadata": {},
     "output_type": "execute_result"
    }
   ],
   "source": [
    "M[0, :]"
   ]
  },
  {
   "cell_type": "code",
   "execution_count": 30,
   "id": "9a92a128",
   "metadata": {},
   "outputs": [
    {
     "data": {
      "text/plain": [
       "array([0, 1, 2])"
      ]
     },
     "execution_count": 30,
     "metadata": {},
     "output_type": "execute_result"
    }
   ],
   "source": [
    "np.lib.stride_tricks.as_strided(M, shape=(3, ), strides=(1*itemsize,))"
   ]
  },
  {
   "cell_type": "code",
   "execution_count": null,
   "id": "d9a3c22d",
   "metadata": {},
   "outputs": [],
   "source": []
  },
  {
   "cell_type": "markdown",
   "id": "4a1ea1e4",
   "metadata": {},
   "source": [
    "Očitavanje svakog drugog elementa prve vrste korišćenjem operatora isecanja možemo da realizujemo sledećom naredbom:"
   ]
  },
  {
   "cell_type": "code",
   "execution_count": 31,
   "id": "81f2870f",
   "metadata": {},
   "outputs": [
    {
     "data": {
      "text/plain": [
       "array([0, 2])"
      ]
     },
     "execution_count": 31,
     "metadata": {},
     "output_type": "execute_result"
    }
   ],
   "source": [
    "M[0, ::2]"
   ]
  },
  {
   "cell_type": "markdown",
   "id": "797394bb",
   "metadata": {},
   "source": [
    "Isti rezultat možemo dobiti korišćenjem funkcije `as_strided` sa sledećim argumentima: "
   ]
  },
  {
   "cell_type": "code",
   "execution_count": 32,
   "id": "4a6b75c4",
   "metadata": {},
   "outputs": [
    {
     "data": {
      "text/plain": [
       "array([0, 2])"
      ]
     },
     "execution_count": 32,
     "metadata": {},
     "output_type": "execute_result"
    }
   ],
   "source": [
    "np.lib.stride_tricks.as_strided(M, shape=(2, ), strides=(2*itemsize,))"
   ]
  },
  {
   "cell_type": "code",
   "execution_count": null,
   "id": "57ee17a3",
   "metadata": {},
   "outputs": [],
   "source": []
  },
  {
   "cell_type": "markdown",
   "id": "21f75cac",
   "metadata": {},
   "source": [
    "Očitavanje dijagonalnih elemenata je moguće ostvariti na sledeći način:"
   ]
  },
  {
   "cell_type": "code",
   "execution_count": 33,
   "id": "490a040c",
   "metadata": {},
   "outputs": [
    {
     "data": {
      "text/plain": [
       "array([0, 4, 8])"
      ]
     },
     "execution_count": 33,
     "metadata": {},
     "output_type": "execute_result"
    }
   ],
   "source": [
    "np.lib.stride_tricks.as_strided(M, shape=(3,), strides=(32,))"
   ]
  },
  {
   "cell_type": "code",
   "execution_count": null,
   "id": "1dd0db14",
   "metadata": {},
   "outputs": [],
   "source": []
  },
  {
   "cell_type": "markdown",
   "id": "1142b005",
   "metadata": {},
   "source": [
    "Još neke zanimljive primere rada sa funkcijom `as_strided` možete pronaći u [ovom](https://towardsdatascience.com/advanced-numpy-master-stride-tricks-with-25-illustrated-exercises-923a9393ab20) članku."
   ]
  },
  {
   "cell_type": "code",
   "execution_count": null,
   "id": "0254d7f8",
   "metadata": {},
   "outputs": [],
   "source": []
  },
  {
   "cell_type": "markdown",
   "id": "163af718",
   "metadata": {},
   "source": [
    "Podsetimo i priče o osama višedimenzionih nizova koje se koriste u nekim funkcija, poput `sum`, `average` ili `max`, za redukciju vrednosti duž određene dimenzije. Interpretacija osa zavisi od broj dimenzija. Na slici možemo videti značenja za nizove dimenzije jedan, dva i tri. Blokovima dimenzije jedan možemo predstavljati, na primer, merenja u vremenu, blokovima dimenzije dva tabelarne podatke ili crno-bele slike, dok blokovima dimenzija tri se, na primer, mogu predstavljati slike u boji ili tekstualni podaci (naučićemo kako). Blokovima dimenzije četiri se mogu prikazivati video zapis i slično. "
   ]
  },
  {
   "cell_type": "markdown",
   "id": "411d3107",
   "metadata": {},
   "source": [
    "![ndarray axis](assets/numpy_axis.png)"
   ]
  },
  {
   "cell_type": "markdown",
   "id": "72b538a3",
   "metadata": {},
   "source": [
    "Tako se, recimo, zbir elemenata matrice M po kolonama može dobiti na sledeći način: "
   ]
  },
  {
   "cell_type": "code",
   "execution_count": 34,
   "id": "98993809",
   "metadata": {},
   "outputs": [
    {
     "data": {
      "text/plain": [
       "array([ 9, 12, 15])"
      ]
     },
     "execution_count": 34,
     "metadata": {},
     "output_type": "execute_result"
    }
   ],
   "source": [
    "np.sum(M, axis=0)"
   ]
  },
  {
   "cell_type": "markdown",
   "id": "efa4c527",
   "metadata": {},
   "source": [
    "Zbir elemenata matrice M po vrstama se može dobiti na sledeći način:"
   ]
  },
  {
   "cell_type": "code",
   "execution_count": 35,
   "id": "1249f0bd",
   "metadata": {},
   "outputs": [
    {
     "data": {
      "text/plain": [
       "array([ 3, 12, 21])"
      ]
     },
     "execution_count": 35,
     "metadata": {},
     "output_type": "execute_result"
    }
   ],
   "source": [
    "np.sum(M, axis=1)"
   ]
  },
  {
   "cell_type": "code",
   "execution_count": null,
   "id": "df7f2e96",
   "metadata": {},
   "outputs": [],
   "source": []
  },
  {
   "cell_type": "markdown",
   "id": "23e358e4",
   "metadata": {},
   "source": [
    "U priči o efikasnom izvođenju operacija, uvek se pominje i `broadcasting`, ponašanje Python interpretera kojim pokušava sa svođenjem na iste dimenzije dva ili više višedimenzionih nizova. Ovo se posebno odnosi na nizove koji imaju različite oblike (svojstvo `shape`) pa izvođenje nekih operacija umesto očekivane greške može rezultirati neočekivanim rezultatom."
   ]
  },
  {
   "cell_type": "markdown",
   "id": "ba3e87e3",
   "metadata": {},
   "source": [
    "Tako je, na primer, moguće: \n",
    "* sabrati višedimenzioni niz i skalar"
   ]
  },
  {
   "cell_type": "code",
   "execution_count": 36,
   "id": "81c67dd7",
   "metadata": {},
   "outputs": [
    {
     "data": {
      "text/plain": [
       "array([5, 6, 7])"
      ]
     },
     "execution_count": 36,
     "metadata": {},
     "output_type": "execute_result"
    }
   ],
   "source": [
    "np.arange(3) + 5"
   ]
  },
  {
   "cell_type": "markdown",
   "id": "fecf569f",
   "metadata": {},
   "source": [
    "* sabirati višedimenzioni niz i vektor sa kompatibilnim brojem elemenata"
   ]
  },
  {
   "cell_type": "code",
   "execution_count": 37,
   "id": "ae410fbe",
   "metadata": {},
   "outputs": [
    {
     "data": {
      "text/plain": [
       "array([[1., 2., 3.],\n",
       "       [1., 2., 3.],\n",
       "       [1., 2., 3.]])"
      ]
     },
     "execution_count": 37,
     "metadata": {},
     "output_type": "execute_result"
    }
   ],
   "source": [
    "np.ones((3, 3)) + np.arange(3)"
   ]
  },
  {
   "cell_type": "markdown",
   "id": "1349f224",
   "metadata": {},
   "source": [
    "* sabrati višedimenzioni niz sa jednom kolonom i vektor sa kompatibilnim brojem elemenata"
   ]
  },
  {
   "cell_type": "code",
   "execution_count": 38,
   "id": "c5bd62d9",
   "metadata": {},
   "outputs": [
    {
     "data": {
      "text/plain": [
       "array([[0, 1, 2],\n",
       "       [1, 2, 3],\n",
       "       [2, 3, 4]])"
      ]
     },
     "execution_count": 38,
     "metadata": {},
     "output_type": "execute_result"
    }
   ],
   "source": [
    "np.arange(3).reshape((3, 1)) + np.arange(3)"
   ]
  },
  {
   "cell_type": "markdown",
   "id": "745a72f0",
   "metadata": {},
   "source": [
    "Vizualizacije koje odgovaraju navedenim primerima su prikazane niže. Bledo siva proširenja se odnose na emitovanje dimenzija prilikom izvođenja operacija. Važno je naglasiti da su ova proširivanja virtuelna tj. da se ne menjaju fizičke dimenzije memorijskih blokova u kojima se vrednosti nalaze."
   ]
  },
  {
   "cell_type": "markdown",
   "id": "0caf063b",
   "metadata": {},
   "source": [
    "![ndarray broadcasting](assets/numpy_broadcasting.png)"
   ]
  },
  {
   "cell_type": "markdown",
   "id": "a3df1cef",
   "metadata": {},
   "source": [
    "Više o ovom svojstvu biblioteke `numpy` se može pročitati u [zvaničnoj dokumentaciji](https://numpy.org/doc/stable/user/basics.broadcasting.html)."
   ]
  },
  {
   "cell_type": "code",
   "execution_count": null,
   "id": "113d06f2",
   "metadata": {},
   "outputs": [],
   "source": []
  }
 ],
 "metadata": {
  "kernelspec": {
   "display_name": "Python 3",
   "language": "python",
   "name": "python3"
  },
  "language_info": {
   "codemirror_mode": {
    "name": "ipython",
    "version": 3
   },
   "file_extension": ".py",
   "mimetype": "text/x-python",
   "name": "python",
   "nbconvert_exporter": "python",
   "pygments_lexer": "ipython3",
   "version": "3.7.6"
  }
 },
 "nbformat": 4,
 "nbformat_minor": 5
}
