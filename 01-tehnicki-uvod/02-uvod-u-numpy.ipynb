{
 "cells": [
  {
   "cell_type": "markdown",
   "metadata": {},
   "source": [
    "# NumPy biblioteka"
   ]
  },
  {
   "cell_type": "markdown",
   "metadata": {},
   "source": [
    "**NumPy** je Python biblioteka koja podržava rad sa višedimenzionalnim nizovima, kao i brojnim matematičkim operacijama koje se mogu primeniti nad njima. Na [ovom](http://www.numpy.org/) linku se nalazi zvanična stranica biblioteke, a [ovde](https://docs.scipy.org/doc/numpy/user/quickstart.html) se može pronaći koristan tutorijal."
   ]
  },
  {
   "cell_type": "code",
   "execution_count": 1,
   "metadata": {},
   "outputs": [],
   "source": [
    "import numpy as np"
   ]
  },
  {
   "cell_type": "code",
   "execution_count": null,
   "metadata": {},
   "outputs": [],
   "source": []
  },
  {
   "cell_type": "markdown",
   "metadata": {},
   "source": [
    "Osnovna struktura kojom raspolaže biblioteka NumPy je `višedimenzioni niz`. Svi elementi višedimenzionog niza moraju biti istog tipa. Sledeći zadatak ukazuje na način kreiranja ovakvih nizova, kao i na neke njihove osnovne osobine."
   ]
  },
  {
   "cell_type": "markdown",
   "metadata": {},
   "source": [
    "**1.** Kreirati niz $a$ od 3 elementa i matricu $M$ dimenzija $2 \\times 3$ čiji su elementi tipa `float32`. Ispisati oblik, veličinu, broj dimenzija i tip elemenata niza $a$, odnosno matrice $M$."
   ]
  },
  {
   "cell_type": "markdown",
   "metadata": {},
   "source": [
    "Višedimenizoni nizovi se kreiraju pozivima funkcije `array`."
   ]
  },
  {
   "cell_type": "code",
   "execution_count": null,
   "metadata": {},
   "outputs": [],
   "source": []
  },
  {
   "cell_type": "code",
   "execution_count": null,
   "metadata": {},
   "outputs": [],
   "source": []
  },
  {
   "cell_type": "code",
   "execution_count": null,
   "metadata": {},
   "outputs": [],
   "source": []
  },
  {
   "cell_type": "code",
   "execution_count": null,
   "metadata": {},
   "outputs": [],
   "source": []
  },
  {
   "cell_type": "markdown",
   "metadata": {},
   "source": [
    "NumPy paket podržava podrazumevane tipove kao što su `int_`, `float_`, `bool_` i `complex_`, ali nudi mogućnost i rada sa tipovima drugačijih opsega i preciznosti poput `int8`, `int16`, `uint8`, `float32`, `float64`, `complex128` i slično."
   ]
  },
  {
   "cell_type": "code",
   "execution_count": null,
   "metadata": {},
   "outputs": [],
   "source": []
  },
  {
   "cell_type": "code",
   "execution_count": null,
   "metadata": {},
   "outputs": [],
   "source": []
  },
  {
   "cell_type": "code",
   "execution_count": null,
   "metadata": {},
   "outputs": [],
   "source": []
  },
  {
   "cell_type": "code",
   "execution_count": null,
   "metadata": {},
   "outputs": [],
   "source": []
  },
  {
   "cell_type": "markdown",
   "metadata": {},
   "source": [
    "U radu su nam često potrebni višedimenzioni nizovi specifičnih oblika. Sledeći zadatak ukazuje na mogućnosti biblioteke u tom domenu."
   ]
  },
  {
   "cell_type": "markdown",
   "metadata": {},
   "source": [
    "**2.** Generisati nizove i matrice na sledeći način:\n"
   ]
  },
  {
   "cell_type": "markdown",
   "metadata": {},
   "source": [
    "* Niz $a_1$ tako što se zadaju početna i krajnja tačka sa odgovarajućim korakom."
   ]
  },
  {
   "cell_type": "markdown",
   "metadata": {},
   "source": [
    "* Niz $a_2$ gde se zadaju početna i krajnja tačka i broj ekvidistantnih elemenata u datom intervalu."
   ]
  },
  {
   "cell_type": "markdown",
   "metadata": {},
   "source": [
    "* Niz $a_3$ koji se sastoji samo od nula."
   ]
  },
  {
   "cell_type": "markdown",
   "metadata": {},
   "source": [
    "* Niz $a_4$ koji sadrži brojeve iz uniformne raspodele [0, 1)."
   ]
  },
  {
   "cell_type": "markdown",
   "metadata": {},
   "source": [
    "* Matricu $M_1$ koja se sastoji samo od jedinica."
   ]
  },
  {
   "cell_type": "markdown",
   "metadata": {},
   "source": [
    "* Jediničnu matricu $M_2$ dimenzije 3."
   ]
  },
  {
   "cell_type": "markdown",
   "metadata": {},
   "source": [
    "* Dijagonalnu matricu $M_3$ na čijoj se glavnoj dijagonali nalaze redom brojevi 4, 3, 2 i 1."
   ]
  },
  {
   "cell_type": "markdown",
   "metadata": {},
   "source": [
    "* Matricu $M_4$ čiji su elementi iz standardne normalne raspodele."
   ]
  },
  {
   "cell_type": "markdown",
   "metadata": {},
   "source": [
    "Funkcija `np.random.randn(...)` vraća proizvoljnu vrednost iz standardne normalne raspodele $N(0, 1)$. Za generisanje proizvoljne vrednosti iz normalne raspodele $N(\\mu, \\sigma^2)$ može se koristiti izraz `sigma * np.random.randn(...) + mu` ili funkcija `np.random.normal(...)` sa parametrima $\\mu$ i $\\sigma$."
   ]
  },
  {
   "cell_type": "code",
   "execution_count": null,
   "metadata": {},
   "outputs": [],
   "source": []
  },
  {
   "cell_type": "code",
   "execution_count": null,
   "metadata": {},
   "outputs": [],
   "source": []
  },
  {
   "cell_type": "code",
   "execution_count": null,
   "metadata": {},
   "outputs": [],
   "source": []
  },
  {
   "cell_type": "markdown",
   "metadata": {},
   "source": [
    "Sledeći zadatak ukazuje na operacije koje se mogu izvoditi nad višedimenzionim nizovima."
   ]
  },
  {
   "cell_type": "markdown",
   "metadata": {},
   "source": [
    "**3.** Date su matrice $M_1=\\begin{bmatrix}1&3&5\\\\7&9&11\\\\13&15&17\\end{bmatrix}$ i $M_2=\\begin{bmatrix}2&4&6\\\\8&10&12\\\\14&16&18\\end{bmatrix}$. \\\\\n",
    "\n",
    "Odrediti vrednosti sledećih matrica:\n",
    "\n",
    "* $M_1 + M_2$, gde operacija $+$ označava sabiranje po koordinatama;"
   ]
  },
  {
   "cell_type": "markdown",
   "metadata": {},
   "source": [
    "* $M_1 \\cdot M_2$, gde operacija $\\cdot$ označava sabiranje po koordinatama;"
   ]
  },
  {
   "cell_type": "markdown",
   "metadata": {},
   "source": [
    "* $M_1 \\times M_2$, gde operacija $\\times$ označava matrično množenje;"
   ]
  },
  {
   "cell_type": "markdown",
   "metadata": {},
   "source": [
    "* transponovanu matricu $M_1^T$ matrice $M_1$;"
   ]
  },
  {
   "cell_type": "markdown",
   "metadata": {},
   "source": [
    "* $\\sin (M_1)$, gde se vrednost funkcije $\\sin x$ računa po koordinatama;"
   ]
  },
  {
   "cell_type": "markdown",
   "metadata": {},
   "source": [
    "* $\\exp (M_2)$, gde se vrednost funkcije $e^x$ računa po koordinatama."
   ]
  },
  {
   "cell_type": "code",
   "execution_count": null,
   "metadata": {},
   "outputs": [],
   "source": []
  },
  {
   "cell_type": "markdown",
   "metadata": {},
   "source": [
    "**4.** Dati su nizovi $x = [1, 2, 3]$ i $y = [5, 6, 7]$. \n",
    "\n",
    "* Nadovezati ih po vertikali i po horizontali."
   ]
  },
  {
   "cell_type": "markdown",
   "metadata": {},
   "source": [
    "* Odrediti njihov skalarni proizvod."
   ]
  },
  {
   "cell_type": "markdown",
   "metadata": {},
   "source": [
    "* Odrediti maksimalni element niza *x*."
   ]
  },
  {
   "cell_type": "markdown",
   "metadata": {},
   "source": [
    "* Odrediti minimalni element niza *y*."
   ]
  },
  {
   "cell_type": "markdown",
   "metadata": {},
   "source": [
    "* Odrediti sve elemente niza *x* koji su veći od 1.5."
   ]
  },
  {
   "cell_type": "code",
   "execution_count": null,
   "metadata": {},
   "outputs": [],
   "source": []
  },
  {
   "cell_type": "markdown",
   "metadata": {},
   "source": [
    "**5.** Date su matrice $A=\\begin{bmatrix}1&2&3\\\\4&5&6\\end{bmatrix}$ i $B=\\begin{bmatrix}1&2&3\\\\4&6&6\\end{bmatrix}$. \n",
    "\n",
    "* Proveriti da li su matrice jednake.\n",
    "* Proveriti da li su matrice jednake po svakoj koordinati.\n",
    "* Izvršiti preraspodelu elemenata matrice *A* tako da se dobije matrica $3 \\times 2$.\n",
    "* Izvršiti sravnjivanje elemenata matrice *A* tj. svodjenje matrice na niz.\n",
    "* Odrediti sumu elemenata matrice *B* koji su jednaki 6."
   ]
  },
  {
   "cell_type": "code",
   "execution_count": null,
   "metadata": {},
   "outputs": [],
   "source": []
  },
  {
   "cell_type": "code",
   "execution_count": null,
   "metadata": {},
   "outputs": [],
   "source": []
  },
  {
   "cell_type": "code",
   "execution_count": null,
   "metadata": {},
   "outputs": [],
   "source": []
  },
  {
   "cell_type": "code",
   "execution_count": null,
   "metadata": {},
   "outputs": [],
   "source": []
  },
  {
   "cell_type": "markdown",
   "metadata": {},
   "source": [
    "**6.** Za $M = \\begin{bmatrix}1&2&3\\\\4&5&6\\end{bmatrix}$ i $x = [10, 20, 30]$ izračunati vrednosti $2M$, $x-3$ i $M+x$. "
   ]
  },
  {
   "cell_type": "markdown",
   "metadata": {},
   "source": [
    "Prethodni slučajevi ukazuju na izvršavanje računskih operacija između struktura koje su različitih dimenzija. Moguće je sabirati niz ili matricu sa skalarom tako što se izvrši sabiranje po svakoj koordinati ili izvršavati sabiranje matrice dimenzije $p \\times q$ i niza od $q$ elemenata. Ova pojava se u Python jeziku naziva *broadcasting* i može se uopštiti i na slučajeve sa više dimenzija. O njoj treba voditi računa jer se neke greške u pogledu neusaglašenosti dimenzija mogu teže otkriti. "
   ]
  },
  {
   "cell_type": "markdown",
   "metadata": {},
   "source": [
    "<img src=\"assets/broadcasting.png\" width=\"500\" align=\"left\">"
   ]
  },
  {
   "cell_type": "code",
   "execution_count": null,
   "metadata": {},
   "outputs": [],
   "source": []
  },
  {
   "cell_type": "code",
   "execution_count": null,
   "metadata": {},
   "outputs": [],
   "source": []
  },
  {
   "cell_type": "code",
   "execution_count": null,
   "metadata": {},
   "outputs": [],
   "source": []
  },
  {
   "cell_type": "markdown",
   "metadata": {},
   "source": [
    "**7.** Odrediti sumu onih elemenata matrice koji su veći od njenog prosečnog elementa."
   ]
  },
  {
   "cell_type": "code",
   "execution_count": null,
   "metadata": {},
   "outputs": [],
   "source": []
  },
  {
   "cell_type": "code",
   "execution_count": null,
   "metadata": {},
   "outputs": [],
   "source": []
  },
  {
   "cell_type": "code",
   "execution_count": null,
   "metadata": {},
   "outputs": [],
   "source": []
  },
  {
   "cell_type": "code",
   "execution_count": null,
   "metadata": {},
   "outputs": [],
   "source": []
  },
  {
   "cell_type": "markdown",
   "metadata": {},
   "source": [
    "**8.** Konstruisati matricu koja na sporednoj dijagonali ima redom elemente 4, 3, 2 i 1, a na osalim pozicijama nule."
   ]
  },
  {
   "cell_type": "code",
   "execution_count": null,
   "metadata": {},
   "outputs": [],
   "source": []
  },
  {
   "cell_type": "code",
   "execution_count": null,
   "metadata": {},
   "outputs": [],
   "source": []
  },
  {
   "cell_type": "code",
   "execution_count": null,
   "metadata": {},
   "outputs": [],
   "source": []
  },
  {
   "cell_type": "code",
   "execution_count": null,
   "metadata": {},
   "outputs": [],
   "source": []
  },
  {
   "cell_type": "markdown",
   "metadata": {},
   "source": [
    "**9.**"
   ]
  },
  {
   "cell_type": "markdown",
   "metadata": {},
   "source": [
    "Neka je $M = \\begin{bmatrix}1&2&3&4\\\\5&6&7&8\\\\9&10&11&12\\end{bmatrix}$. U nastavku su dati neki primeri ispisa elemenata matrice $M$ (enumeracija počinje od 0):"
   ]
  },
  {
   "cell_type": "code",
   "execution_count": null,
   "metadata": {},
   "outputs": [],
   "source": []
  },
  {
   "cell_type": "code",
   "execution_count": null,
   "metadata": {},
   "outputs": [],
   "source": []
  },
  {
   "cell_type": "code",
   "execution_count": null,
   "metadata": {},
   "outputs": [],
   "source": []
  },
  {
   "cell_type": "code",
   "execution_count": null,
   "metadata": {},
   "outputs": [],
   "source": []
  },
  {
   "cell_type": "code",
   "execution_count": null,
   "metadata": {},
   "outputs": [],
   "source": []
  },
  {
   "cell_type": "code",
   "execution_count": null,
   "metadata": {},
   "outputs": [],
   "source": []
  },
  {
   "cell_type": "markdown",
   "metadata": {},
   "source": [
    "Neka je $M = \\begin{bmatrix}1&2&3&4&5\\\\6&7&8&9&10\\\\11&12&13&14&15\\\\16&17&18&19&20\\\\21&22&23&24&25\\end{bmatrix}$. U nastavku su dati neki primeri ispisa elemenata matrice $M$:"
   ]
  },
  {
   "cell_type": "code",
   "execution_count": null,
   "metadata": {},
   "outputs": [],
   "source": []
  },
  {
   "cell_type": "code",
   "execution_count": null,
   "metadata": {},
   "outputs": [],
   "source": []
  },
  {
   "cell_type": "code",
   "execution_count": null,
   "metadata": {},
   "outputs": [],
   "source": []
  },
  {
   "cell_type": "code",
   "execution_count": null,
   "metadata": {},
   "outputs": [],
   "source": []
  },
  {
   "cell_type": "code",
   "execution_count": null,
   "metadata": {},
   "outputs": [],
   "source": []
  },
  {
   "cell_type": "markdown",
   "metadata": {},
   "source": [
    "U radu sa matricama često su nam potrebne i funkcije za pronalaženje maksimuma, minimuma, sume, proizvoda (takozvane funkcije za redukciju višedimenzionog niza). Sledeći primer ukazu je neke takve scenarije. "
   ]
  },
  {
   "cell_type": "markdown",
   "metadata": {},
   "source": [
    "**10.** Odrediti sumu elemenata proizvoljne matrice $M$ po vrstama, po kolonama, kao i svih elemenata."
   ]
  },
  {
   "cell_type": "markdown",
   "metadata": {},
   "source": [
    "Na sledećoj slici možemo ispratiti značenja osa za nizove različitih dimenzija."
   ]
  },
  {
   "cell_type": "markdown",
   "metadata": {},
   "source": [
    "<img src=\"assets/axis.png\" width=\"500\" align=\"left\">"
   ]
  },
  {
   "cell_type": "code",
   "execution_count": null,
   "metadata": {},
   "outputs": [],
   "source": []
  },
  {
   "cell_type": "markdown",
   "metadata": {},
   "source": [
    "### O predstavljanju nizova u memoriji"
   ]
  },
  {
   "cell_type": "markdown",
   "metadata": {},
   "source": [
    "<img src=\"assets/memory_management.png\" width=\"500\" align=\"left\">"
   ]
  },
  {
   "cell_type": "code",
   "execution_count": null,
   "metadata": {},
   "outputs": [],
   "source": []
  }
 ],
 "metadata": {
  "kernelspec": {
   "display_name": "Python 3",
   "language": "python",
   "name": "python3"
  },
  "language_info": {
   "codemirror_mode": {
    "name": "ipython",
    "version": 3
   },
   "file_extension": ".py",
   "mimetype": "text/x-python",
   "name": "python",
   "nbconvert_exporter": "python",
   "pygments_lexer": "ipython3",
   "version": "3.7.6"
  }
 },
 "nbformat": 4,
 "nbformat_minor": 2
}
