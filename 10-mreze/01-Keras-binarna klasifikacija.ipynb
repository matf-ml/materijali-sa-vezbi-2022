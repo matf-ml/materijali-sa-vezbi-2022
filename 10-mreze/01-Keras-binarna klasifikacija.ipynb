{
 "cells": [
  {
   "cell_type": "markdown",
   "metadata": {},
   "source": [
    "# Binarna klasifikacija korišćenjem neuronskih mreža"
   ]
  },
  {
   "cell_type": "markdown",
   "metadata": {},
   "source": [
    "Ova sveska uvodi Keras biblioteku i ilustruje njene osnovne koncepte. Zadatak na kojem ćemo raditi je kreiranje neuronske mreže sa propagacijom unapred (engl. feed forward neural network) koja se može iskoristiti u zadatku binarne klasifikacije pacijenata sa dijabetesom."
   ]
  },
  {
   "cell_type": "code",
   "execution_count": 1,
   "metadata": {},
   "outputs": [],
   "source": [
    "import numpy as np\n",
    "from matplotlib import pyplot as plt\n",
    "import pandas as pd"
   ]
  },
  {
   "cell_type": "code",
   "execution_count": 2,
   "metadata": {},
   "outputs": [],
   "source": [
    "from sklearn.model_selection import train_test_split\n",
    "from sklearn.preprocessing import StandardScaler"
   ]
  },
  {
   "cell_type": "code",
   "execution_count": 3,
   "metadata": {},
   "outputs": [],
   "source": [
    "np.random.seed(7)"
   ]
  },
  {
   "cell_type": "markdown",
   "metadata": {},
   "source": [
    "## Keras biblioteka"
   ]
  },
  {
   "cell_type": "markdown",
   "metadata": {},
   "source": [
    "[Keras](https://keras.io/) je popularna biblioteka koja nudi podršku u radu sa dubokim neuronskim mrežama. Na njenom razvoju radi Google tim, a zajednica koja je koristi je mnogobrojna. Da bismo mogli da je koristimo u okviru Anaconda okruženja, potrebno ju je instalirati komandom `conda install -c conda-forge keras` u skladu sa [zvaničnim smernicama](https://anaconda.org/conda-forge/keras). Kako je njen API visokog nivoa, u pozadini, na niskom nivou, se može koristiti Tensor Flow, Theano ili CNTK (tzv. backend deo biblioteke). Cilj pobrojanih biblioteka je da pokriju zadatke poput efikasnih algebarskih operacija i numeričog difrerenciranja ili paralelilazija jer rad sa neuronskim mrežama obično podrazumeva i rad sa velikom količinom podataka. U našem radu će to biti Tensor Flow pa je potrebno osigurati se da je i on instaliran. Više o instalaciji Tensor Flow biblioteke možete pročitati [ovde](https://anaconda.org/conda-forge/tensorflow).   \n",
    "\n",
    "Keras podržava dve vrste API-ja, `standardni` koji ćemo upoznati u primerima koji slede i `funkcionalni` koji daje nešto više fleksibilnosti za nadgradnje biblioteke. Njega ćemo upoznati u priči o konvolutivnim neuronskim mrežama."
   ]
  },
  {
   "cell_type": "code",
   "execution_count": 4,
   "metadata": {},
   "outputs": [],
   "source": [
    "from tensorflow import keras"
   ]
  },
  {
   "cell_type": "code",
   "execution_count": null,
   "metadata": {},
   "outputs": [],
   "source": []
  },
  {
   "cell_type": "markdown",
   "metadata": {},
   "source": [
    "Za sada ćemo učitati funkcije `Sequential` i `Dense` čije ćemo značenje pojasniti u nastavku."
   ]
  },
  {
   "cell_type": "code",
   "execution_count": 5,
   "metadata": {},
   "outputs": [],
   "source": [
    "from tensorflow.keras.models import Sequential\n",
    "from tensorflow.keras.layers import InputLayer, Dense"
   ]
  },
  {
   "cell_type": "code",
   "execution_count": null,
   "metadata": {},
   "outputs": [],
   "source": []
  },
  {
   "cell_type": "markdown",
   "metadata": {},
   "source": [
    "## Skup podataka - Pima Indians Diabetes"
   ]
  },
  {
   "cell_type": "markdown",
   "metadata": {},
   "source": [
    "Skup podataka \"Pima Indians Diabetes\" se sastoji od 768 instanci. Svaka instanca sadrži vrednosti 8 medicinski relevantnih vrednosti uz pridruženu klasu sa vrednostima 1 ili 0 u zavisnosti od toga da li je pacijentu u poslednjih 5 godina dijagnostifikovan dijabetes ili ne. \n",
    "\n",
    "Svi atributi su numeričkog tipa sa opsegom vrednosti koji varira od atributa do atributa. \n",
    "\n",
    "Skup podataka se može preuzeti sa platforme Kaggle sa [ove](https://www.kaggle.com/uciml/pima-indians-diabetes-database#diabetes.csv) adrese."
   ]
  },
  {
   "cell_type": "code",
   "execution_count": 6,
   "metadata": {},
   "outputs": [],
   "source": [
    "data = pd.read_csv('data/pima_indians_diabetes.csv')"
   ]
  },
  {
   "cell_type": "code",
   "execution_count": 7,
   "metadata": {},
   "outputs": [
    {
     "data": {
      "text/html": [
       "<div>\n",
       "<style scoped>\n",
       "    .dataframe tbody tr th:only-of-type {\n",
       "        vertical-align: middle;\n",
       "    }\n",
       "\n",
       "    .dataframe tbody tr th {\n",
       "        vertical-align: top;\n",
       "    }\n",
       "\n",
       "    .dataframe thead th {\n",
       "        text-align: right;\n",
       "    }\n",
       "</style>\n",
       "<table border=\"1\" class=\"dataframe\">\n",
       "  <thead>\n",
       "    <tr style=\"text-align: right;\">\n",
       "      <th></th>\n",
       "      <th>Pregnancies</th>\n",
       "      <th>Glucose</th>\n",
       "      <th>BloodPressure</th>\n",
       "      <th>SkinThickness</th>\n",
       "      <th>Insulin</th>\n",
       "      <th>BMI</th>\n",
       "      <th>DiabetesPedigreeFunction</th>\n",
       "      <th>Age</th>\n",
       "      <th>Outcome</th>\n",
       "    </tr>\n",
       "  </thead>\n",
       "  <tbody>\n",
       "    <tr>\n",
       "      <th>0</th>\n",
       "      <td>6</td>\n",
       "      <td>148</td>\n",
       "      <td>72</td>\n",
       "      <td>35</td>\n",
       "      <td>0</td>\n",
       "      <td>33.6</td>\n",
       "      <td>0.627</td>\n",
       "      <td>50</td>\n",
       "      <td>1</td>\n",
       "    </tr>\n",
       "    <tr>\n",
       "      <th>1</th>\n",
       "      <td>1</td>\n",
       "      <td>85</td>\n",
       "      <td>66</td>\n",
       "      <td>29</td>\n",
       "      <td>0</td>\n",
       "      <td>26.6</td>\n",
       "      <td>0.351</td>\n",
       "      <td>31</td>\n",
       "      <td>0</td>\n",
       "    </tr>\n",
       "    <tr>\n",
       "      <th>2</th>\n",
       "      <td>8</td>\n",
       "      <td>183</td>\n",
       "      <td>64</td>\n",
       "      <td>0</td>\n",
       "      <td>0</td>\n",
       "      <td>23.3</td>\n",
       "      <td>0.672</td>\n",
       "      <td>32</td>\n",
       "      <td>1</td>\n",
       "    </tr>\n",
       "    <tr>\n",
       "      <th>3</th>\n",
       "      <td>1</td>\n",
       "      <td>89</td>\n",
       "      <td>66</td>\n",
       "      <td>23</td>\n",
       "      <td>94</td>\n",
       "      <td>28.1</td>\n",
       "      <td>0.167</td>\n",
       "      <td>21</td>\n",
       "      <td>0</td>\n",
       "    </tr>\n",
       "    <tr>\n",
       "      <th>4</th>\n",
       "      <td>0</td>\n",
       "      <td>137</td>\n",
       "      <td>40</td>\n",
       "      <td>35</td>\n",
       "      <td>168</td>\n",
       "      <td>43.1</td>\n",
       "      <td>2.288</td>\n",
       "      <td>33</td>\n",
       "      <td>1</td>\n",
       "    </tr>\n",
       "  </tbody>\n",
       "</table>\n",
       "</div>"
      ],
      "text/plain": [
       "   Pregnancies  Glucose  BloodPressure  SkinThickness  Insulin   BMI  \\\n",
       "0            6      148             72             35        0  33.6   \n",
       "1            1       85             66             29        0  26.6   \n",
       "2            8      183             64              0        0  23.3   \n",
       "3            1       89             66             23       94  28.1   \n",
       "4            0      137             40             35      168  43.1   \n",
       "\n",
       "   DiabetesPedigreeFunction  Age  Outcome  \n",
       "0                     0.627   50        1  \n",
       "1                     0.351   31        0  \n",
       "2                     0.672   32        1  \n",
       "3                     0.167   21        0  \n",
       "4                     2.288   33        1  "
      ]
     },
     "execution_count": 7,
     "metadata": {},
     "output_type": "execute_result"
    }
   ],
   "source": [
    "data.head()"
   ]
  },
  {
   "cell_type": "code",
   "execution_count": 8,
   "metadata": {},
   "outputs": [
    {
     "data": {
      "text/plain": [
       "(768, 9)"
      ]
     },
     "execution_count": 8,
     "metadata": {},
     "output_type": "execute_result"
    }
   ],
   "source": [
    "data.shape"
   ]
  },
  {
   "cell_type": "code",
   "execution_count": 9,
   "metadata": {},
   "outputs": [
    {
     "data": {
      "text/html": [
       "<div>\n",
       "<style scoped>\n",
       "    .dataframe tbody tr th:only-of-type {\n",
       "        vertical-align: middle;\n",
       "    }\n",
       "\n",
       "    .dataframe tbody tr th {\n",
       "        vertical-align: top;\n",
       "    }\n",
       "\n",
       "    .dataframe thead th {\n",
       "        text-align: right;\n",
       "    }\n",
       "</style>\n",
       "<table border=\"1\" class=\"dataframe\">\n",
       "  <thead>\n",
       "    <tr style=\"text-align: right;\">\n",
       "      <th></th>\n",
       "      <th>Pregnancies</th>\n",
       "      <th>Glucose</th>\n",
       "      <th>BloodPressure</th>\n",
       "      <th>SkinThickness</th>\n",
       "      <th>Insulin</th>\n",
       "      <th>BMI</th>\n",
       "      <th>DiabetesPedigreeFunction</th>\n",
       "      <th>Age</th>\n",
       "      <th>Outcome</th>\n",
       "    </tr>\n",
       "  </thead>\n",
       "  <tbody>\n",
       "    <tr>\n",
       "      <th>count</th>\n",
       "      <td>768.000000</td>\n",
       "      <td>768.000000</td>\n",
       "      <td>768.000000</td>\n",
       "      <td>768.000000</td>\n",
       "      <td>768.000000</td>\n",
       "      <td>768.000000</td>\n",
       "      <td>768.000000</td>\n",
       "      <td>768.000000</td>\n",
       "      <td>768.000000</td>\n",
       "    </tr>\n",
       "    <tr>\n",
       "      <th>mean</th>\n",
       "      <td>3.845052</td>\n",
       "      <td>120.894531</td>\n",
       "      <td>69.105469</td>\n",
       "      <td>20.536458</td>\n",
       "      <td>79.799479</td>\n",
       "      <td>31.992578</td>\n",
       "      <td>0.471876</td>\n",
       "      <td>33.240885</td>\n",
       "      <td>0.348958</td>\n",
       "    </tr>\n",
       "    <tr>\n",
       "      <th>std</th>\n",
       "      <td>3.369578</td>\n",
       "      <td>31.972618</td>\n",
       "      <td>19.355807</td>\n",
       "      <td>15.952218</td>\n",
       "      <td>115.244002</td>\n",
       "      <td>7.884160</td>\n",
       "      <td>0.331329</td>\n",
       "      <td>11.760232</td>\n",
       "      <td>0.476951</td>\n",
       "    </tr>\n",
       "    <tr>\n",
       "      <th>min</th>\n",
       "      <td>0.000000</td>\n",
       "      <td>0.000000</td>\n",
       "      <td>0.000000</td>\n",
       "      <td>0.000000</td>\n",
       "      <td>0.000000</td>\n",
       "      <td>0.000000</td>\n",
       "      <td>0.078000</td>\n",
       "      <td>21.000000</td>\n",
       "      <td>0.000000</td>\n",
       "    </tr>\n",
       "    <tr>\n",
       "      <th>25%</th>\n",
       "      <td>1.000000</td>\n",
       "      <td>99.000000</td>\n",
       "      <td>62.000000</td>\n",
       "      <td>0.000000</td>\n",
       "      <td>0.000000</td>\n",
       "      <td>27.300000</td>\n",
       "      <td>0.243750</td>\n",
       "      <td>24.000000</td>\n",
       "      <td>0.000000</td>\n",
       "    </tr>\n",
       "    <tr>\n",
       "      <th>50%</th>\n",
       "      <td>3.000000</td>\n",
       "      <td>117.000000</td>\n",
       "      <td>72.000000</td>\n",
       "      <td>23.000000</td>\n",
       "      <td>30.500000</td>\n",
       "      <td>32.000000</td>\n",
       "      <td>0.372500</td>\n",
       "      <td>29.000000</td>\n",
       "      <td>0.000000</td>\n",
       "    </tr>\n",
       "    <tr>\n",
       "      <th>75%</th>\n",
       "      <td>6.000000</td>\n",
       "      <td>140.250000</td>\n",
       "      <td>80.000000</td>\n",
       "      <td>32.000000</td>\n",
       "      <td>127.250000</td>\n",
       "      <td>36.600000</td>\n",
       "      <td>0.626250</td>\n",
       "      <td>41.000000</td>\n",
       "      <td>1.000000</td>\n",
       "    </tr>\n",
       "    <tr>\n",
       "      <th>max</th>\n",
       "      <td>17.000000</td>\n",
       "      <td>199.000000</td>\n",
       "      <td>122.000000</td>\n",
       "      <td>99.000000</td>\n",
       "      <td>846.000000</td>\n",
       "      <td>67.100000</td>\n",
       "      <td>2.420000</td>\n",
       "      <td>81.000000</td>\n",
       "      <td>1.000000</td>\n",
       "    </tr>\n",
       "  </tbody>\n",
       "</table>\n",
       "</div>"
      ],
      "text/plain": [
       "       Pregnancies     Glucose  BloodPressure  SkinThickness     Insulin  \\\n",
       "count   768.000000  768.000000     768.000000     768.000000  768.000000   \n",
       "mean      3.845052  120.894531      69.105469      20.536458   79.799479   \n",
       "std       3.369578   31.972618      19.355807      15.952218  115.244002   \n",
       "min       0.000000    0.000000       0.000000       0.000000    0.000000   \n",
       "25%       1.000000   99.000000      62.000000       0.000000    0.000000   \n",
       "50%       3.000000  117.000000      72.000000      23.000000   30.500000   \n",
       "75%       6.000000  140.250000      80.000000      32.000000  127.250000   \n",
       "max      17.000000  199.000000     122.000000      99.000000  846.000000   \n",
       "\n",
       "              BMI  DiabetesPedigreeFunction         Age     Outcome  \n",
       "count  768.000000                768.000000  768.000000  768.000000  \n",
       "mean    31.992578                  0.471876   33.240885    0.348958  \n",
       "std      7.884160                  0.331329   11.760232    0.476951  \n",
       "min      0.000000                  0.078000   21.000000    0.000000  \n",
       "25%     27.300000                  0.243750   24.000000    0.000000  \n",
       "50%     32.000000                  0.372500   29.000000    0.000000  \n",
       "75%     36.600000                  0.626250   41.000000    1.000000  \n",
       "max     67.100000                  2.420000   81.000000    1.000000  "
      ]
     },
     "execution_count": 9,
     "metadata": {},
     "output_type": "execute_result"
    }
   ],
   "source": [
    "data.describe()"
   ]
  },
  {
   "cell_type": "markdown",
   "metadata": {},
   "source": [
    "Naš cilj je da napravimo model koji će na osnovu pomenutih atributa vršiti predikciju da li pacijentkinja boluje od dijabetesa ili ne."
   ]
  },
  {
   "cell_type": "code",
   "execution_count": null,
   "metadata": {},
   "outputs": [],
   "source": []
  },
  {
   "cell_type": "markdown",
   "metadata": {},
   "source": [
    "## Kreiranje neuronske mreže"
   ]
  },
  {
   "cell_type": "markdown",
   "metadata": {},
   "source": [
    "### Korak 1: Priprema skupa podataka"
   ]
  },
  {
   "cell_type": "markdown",
   "metadata": {},
   "source": [
    "Kolona `Outcome` ukazuje da li pacijentkinja ima dijabetes (vrednost 1) ili ne (vrednost 0) i nju ćemo koristiti kao ciljnu promenljivu. Preostale kolone predstavljaju različite medicinske podatke i njih ćemo koristiti kao atribute nad kojima će model biti obučavan."
   ]
  },
  {
   "cell_type": "code",
   "execution_count": 10,
   "metadata": {},
   "outputs": [],
   "source": [
    "y = data['Outcome']\n",
    "X = data.drop(columns=['Outcome'])"
   ]
  },
  {
   "cell_type": "code",
   "execution_count": null,
   "metadata": {},
   "outputs": [],
   "source": []
  },
  {
   "cell_type": "markdown",
   "metadata": {},
   "source": [
    "Podatke ćemo uobičajeno podeliti funkcijom `train_test_split` biblioteke `scikit-learn`. Prilikom podele skupa podataka vodićemo računa o stratifikaciji. "
   ]
  },
  {
   "cell_type": "code",
   "execution_count": 11,
   "metadata": {},
   "outputs": [],
   "source": [
    "X_train, X_test, y_train, y_test = train_test_split(X, y, test_size=0.2, random_state=7, stratify=y)"
   ]
  },
  {
   "cell_type": "code",
   "execution_count": 12,
   "metadata": {},
   "outputs": [
    {
     "data": {
      "text/plain": [
       "(614, 8)"
      ]
     },
     "execution_count": 12,
     "metadata": {},
     "output_type": "execute_result"
    }
   ],
   "source": [
    "X_train.shape"
   ]
  },
  {
   "cell_type": "code",
   "execution_count": 13,
   "metadata": {},
   "outputs": [
    {
     "data": {
      "text/plain": [
       "(154, 8)"
      ]
     },
     "execution_count": 13,
     "metadata": {},
     "output_type": "execute_result"
    }
   ],
   "source": [
    "X_test.shape"
   ]
  },
  {
   "cell_type": "markdown",
   "metadata": {},
   "source": [
    "Podatke ćemo zbog numeričke stabilnosti mreže kao i do sada standardizovati."
   ]
  },
  {
   "cell_type": "code",
   "execution_count": 14,
   "metadata": {},
   "outputs": [],
   "source": [
    "scaler = StandardScaler()\n",
    "scaler.fit(X_train)\n",
    "X_train = scaler.transform(X_train)\n",
    "X_test = scaler.transform(X_test)"
   ]
  },
  {
   "cell_type": "code",
   "execution_count": null,
   "metadata": {},
   "outputs": [],
   "source": []
  },
  {
   "cell_type": "markdown",
   "metadata": {},
   "source": [
    "### Korak 2: Kreiranje mreže"
   ]
  },
  {
   "cell_type": "markdown",
   "metadata": {},
   "source": [
    "Jedan neuron neuronske mreže agregira vrednosti svih signala koji stižu do njega i proizvodi odgovarajući izlazni signal. Signale koje neuron obrađuje nazivamo ulazima neurona (na slici su ulazi obeleženi sa $x_i$). Kako nisu svi signali od iste važnosti, njih u ovoj matematičkoj apstrakciji prate odgovarajuće numeričke težine (na slici su težine obeležene sa $w_i$). Svaki neuron karakteriše i poseban slobodni član (engl. bias term) kojim se utiče na specifična ponašanja neurona (na slici je ovaj član obeležen slovom $b$). Tako, neuron obrađuje težinsku sumu svojih ulaza (na slici obeleženu sa $\\Sigma$) uvećanu za vrednost slobodnog člana. Posebno, slobodni član se može posmatrati i kao ulaz neurona kojem je pridružena težina 1 zbog jednostavnijih numeričkih zapisa. Ovako dobijena vrednost se dalje propušta kroz aktivacionu funkciju (na slici obeleženu sa $\\phi$) i dobija se izlaz nurona $y$.  "
   ]
  },
  {
   "cell_type": "markdown",
   "metadata": {},
   "source": [
    "<img src=\"assets/neuron-math.png\" width=550>"
   ]
  },
  {
   "cell_type": "markdown",
   "metadata": {},
   "source": [
    "Mreža se sastoji od pojedinačnih slojeva neurona. Možemo reći da su slojevi moduli koji obrađuju podatke i da za zadate ulaze generišu odgovarajuće izlaze. Razlikujemo ulazni, prvi, sloj mreže, izlazni, poslednji, sloj mreže i slojeve između koje nazivamo skrivenim slojevima. <img src='assets/layers.png'> Slojeve karakteriše matrica koeficijenata čije optimalne vrednosti mreža u toku treniranja treba da nauči. Samu matricu koeficijenata zovemo `kernel` matricom. Njene vrednosti se mogu nasumično inicijalizovati, ali se u praksi obično koriste neke bolje tehnike inicijalizacije koje dovode do boljeg treniranja mreže. Trenutno najpoznatije su Gloriot (ili Xaviar) i He, obe nazvane po imenima autora. "
   ]
  },
  {
   "cell_type": "markdown",
   "metadata": {},
   "source": [
    "Potpuno povezani sloj (engl. fully connected layer), kao što ime kaže, povezuju svaki čvor, neuron, ulaznog sloja sa svakim čvorom, neuronom, izlaznog sloja. Funkcija koju izračunava može se opisati formulom `output = activation(dot(input, kernel) + bias)` gde  `kernel` predstavlja matricu sloja, `bias` vektor njegovih slobodnih članova, `dot` matrično množenje, a `activation` aktivacionu funkciju koja se koristi na nivo sloja. \n",
    "<img src='assets/fully_connected_layer_2.png' style='width: 300px'>"
   ]
  },
  {
   "cell_type": "code",
   "execution_count": null,
   "metadata": {},
   "outputs": [],
   "source": []
  },
  {
   "cell_type": "markdown",
   "metadata": {},
   "source": [
    "Mrežu ćemo napraviti mrežu tako da njena arhitektura zadovoljava sledeće specifikacije:\n",
    "\n",
    "* **Sloj 1**: potpuno povezani sloj sa 15 neurona i *ReLu* aktivacionom funkcijom \n",
    "* **Sloj 2**: potpuno povezani sloj sa 8 neurona i *ReLu* aktivacionom funkcijom\n",
    "* **Sloj 3**: potpuno povezani sloj sa jednim neuronom i *sigmoidnom* aktivacionom funkcijom\n"
   ]
  },
  {
   "cell_type": "markdown",
   "metadata": {},
   "source": [
    "Neuronska mreža sa propagacijom unapred kreira se funkcijom `Sequential`. Na ovaj način naglašavamo da ćemo slojeve mreže dodavati jedan za drugim, povezivajući izlaze prethodnog sloja sa ulazima narednog sloja."
   ]
  },
  {
   "cell_type": "code",
   "execution_count": 15,
   "metadata": {},
   "outputs": [],
   "source": [
    "model = Sequential()"
   ]
  },
  {
   "cell_type": "code",
   "execution_count": null,
   "metadata": {},
   "outputs": [],
   "source": []
  },
  {
   "cell_type": "markdown",
   "metadata": {},
   "source": [
    "Ulazni, prvi sloj mreže, možemo kreirati pozivom funkcije `InputLayer`. Njen argument `input_shape` ukazuje na dimenziju ulaza, pa ćemo stoga postaviti da je njegova vrednost `(8, )` jer skup sa kojim radimo ima 8 atributa. Druga dimenzija para je fleksibilna i prilikom treniranja mreže prilagođavaće se veličini paketića koji se koristi. Na nivou Keras biblioteke, pojedinačni slojevi mreže dodaju se funkcijom `add`."
   ]
  },
  {
   "cell_type": "code",
   "execution_count": 16,
   "metadata": {},
   "outputs": [],
   "source": [
    "model.add(InputLayer(input_shape=(8,)))"
   ]
  },
  {
   "cell_type": "code",
   "execution_count": null,
   "metadata": {},
   "outputs": [],
   "source": []
  },
  {
   "cell_type": "markdown",
   "metadata": {},
   "source": [
    "Potpuno povezani sloj (koji se naziva i gusti sloj) kreiramo funkcijom `Dense`. Kroz parametar `units`, čije se ime često i izostavlja jer se novodi prvi u pozivu funkcije, navodi se broj izlaznih neurona. Biblioteka podrazumevano izlaze prethodnih slojeva uparuje sa ulazima narednih slojeva pa nije neophodno navoditi dimenziju ulaza. Za to se inače može koristiti atribut `input_dim`. Ime aktivacione funkcije se navodi parametrom `activation` i to mogu biti sigmoidna funkcija, hiperbolički tanges, linearna funkcija, ReLu, softmax i još neke druge. Ostalim parametrima funkcije `Dense` može se uticati na način inicijalizovanja kernel matrice i vektora slobodnih članova koji se podrazumevano dodaje, kao i na njihove regularizacije."
   ]
  },
  {
   "cell_type": "markdown",
   "metadata": {},
   "source": [
    "Prateći specifikaciju arhitekture, možemo dodati zahtevane slojeve. "
   ]
  },
  {
   "cell_type": "code",
   "execution_count": 17,
   "metadata": {},
   "outputs": [],
   "source": [
    "model.add(Dense(units=15, activation='relu'))\n",
    "model.add(Dense(units=8, activation='relu'))\n",
    "model.add(Dense(units=1, activation='sigmoid'))"
   ]
  },
  {
   "cell_type": "code",
   "execution_count": null,
   "metadata": {},
   "outputs": [],
   "source": []
  },
  {
   "cell_type": "markdown",
   "metadata": {},
   "source": [
    "Opis mreže po slojevima se može dobiti funkcijom `summary`. Ona nam daje uvid i u ukupan broj parametara mreže koje treba naučiti. "
   ]
  },
  {
   "cell_type": "code",
   "execution_count": 18,
   "metadata": {},
   "outputs": [
    {
     "name": "stdout",
     "output_type": "stream",
     "text": [
      "Model: \"sequential\"\n",
      "_________________________________________________________________\n",
      "Layer (type)                 Output Shape              Param #   \n",
      "=================================================================\n",
      "dense (Dense)                (None, 15)                135       \n",
      "_________________________________________________________________\n",
      "dense_1 (Dense)              (None, 8)                 128       \n",
      "_________________________________________________________________\n",
      "dense_2 (Dense)              (None, 1)                 9         \n",
      "=================================================================\n",
      "Total params: 272\n",
      "Trainable params: 272\n",
      "Non-trainable params: 0\n",
      "_________________________________________________________________\n"
     ]
    }
   ],
   "source": [
    "model.summary()"
   ]
  },
  {
   "cell_type": "markdown",
   "metadata": {},
   "source": [
    "Prokomentarišimo kratko da dobijene vrednosti odražavaju prisustvo slobodnog člana u svakom sloju mreže kada je u ulazi ulaznog sloja (135 = 8x15 + 1x15, 128 = 15x8 + 1x8, 9 = 8x1 + 1x1).  "
   ]
  },
  {
   "cell_type": "code",
   "execution_count": null,
   "metadata": {},
   "outputs": [],
   "source": []
  },
  {
   "cell_type": "markdown",
   "metadata": {},
   "source": [
    "Korak zadavanja ulaznog sloja funkcijom `InputLayer` i korak zadavanja prvog gustog sloja funkcijom `Dense` je u praksi moguće objediniti dodavanjem parametar `input_dim` prvom gustom sloju kojim se zadaje dimenzija ulaza. Tako se u prethodnom bloku koda umesto linija \n",
    "\n",
    "`model.add(InputLayer(input_shape=(8,)))\n",
    "model.add(Dense(units=15, activation='relu'))\n",
    "`\n",
    "\n",
    "mogla navesti linija `model.add(Dense(units=15, input_dim=8, activation='relu'))`. \n",
    "Prvi način je ipak čitljiviji i predstavlja novinu koja je uvedena sa novijom verzijom Keras biblioteke.\n"
   ]
  },
  {
   "cell_type": "code",
   "execution_count": null,
   "metadata": {},
   "outputs": [],
   "source": []
  },
  {
   "cell_type": "markdown",
   "metadata": {},
   "source": [
    "### Korak 3: Treniranje mreže"
   ]
  },
  {
   "cell_type": "markdown",
   "metadata": {},
   "source": [
    "Da bismo mogli da traniramo mrežu, neophodno je da se opredelimo za funkciju gubitka koja pristaje zadatku i odgovarajući optimizator. Funkcija gubitka (engl. loss function) izračunava koliko dobro mreža predviđa ono što se od nje očekuje i generiše povratni signal neophodan za samo učenje. Optimizator dalje na osnovu ovako dobijenih vrednosti ažurira vrednosti parametara mreže. Cilj treniranja mreže je minimizovati funkciju gubitka uz očuvanje dobre generalizacije. \n",
    "<img src='assets/training_steps.png'>"
   ]
  },
  {
   "cell_type": "markdown",
   "metadata": {},
   "source": [
    "Mrežu ćemo trenirati prema sledećim smernicama:\n",
    "    \n",
    "* **Funkcija greške**: binarna unakrsna entropija (engl. binary cross entropy)\n",
    "\n",
    "* **Optimizator**: Adam\n",
    "\n",
    "* **Broj epoha**: 50\n",
    "* **Veličina paketića za treniranje (engl. batch size)**: 32"
   ]
  },
  {
   "cell_type": "markdown",
   "metadata": {},
   "source": [
    "Funkcija `compile` se koristi na nivou modela za pridruživanje funkcije gubitka, optimizatora i, opciono, metrike koja će se koristiti za evaluaciju mreže."
   ]
  },
  {
   "cell_type": "code",
   "execution_count": 19,
   "metadata": {},
   "outputs": [],
   "source": [
    "model.compile(loss='binary_crossentropy', optimizer='adam', metrics=['accuracy'])"
   ]
  },
  {
   "cell_type": "code",
   "execution_count": null,
   "metadata": {},
   "outputs": [],
   "source": []
  },
  {
   "cell_type": "markdown",
   "metadata": {},
   "source": [
    "Prilikom treniranja, mreži se prosleđuju takozvani `batch` paketići podataka. Nakon svakog obrađenog paketića, izračunava se vrednost funkcije gubitka, a potom i ažuriraju parametri mreže. Epoha predstavlja jedan prolazak kroz ceo skup podataka.  "
   ]
  },
  {
   "cell_type": "markdown",
   "metadata": {},
   "source": [
    "Funkcijom `fit` se trenira sama mreža. Ona očekuje podatke za treniranje, broj epoha (parametar `epochs`) i veličinu paketića podataka (parametar `batch_size`). Objekat tipa `History` koji se dobija kao rezultat poziva ove funkcije sadrži vrednosti funkcije gubitka i odabrane metrike na kraju svake epohe koje se, dalje, mogu koristiti za praćenje procesa treniranja. Ove vrednosti se nalaze u rečniku sa imenom `history`."
   ]
  },
  {
   "cell_type": "code",
   "execution_count": 20,
   "metadata": {},
   "outputs": [],
   "source": [
    "NUMBER_OF_EPOCHS = 50\n",
    "BATCH_SIZE = 32"
   ]
  },
  {
   "cell_type": "code",
   "execution_count": 21,
   "metadata": {},
   "outputs": [],
   "source": [
    "history = model.fit(X_train, y_train, epochs=NUMBER_OF_EPOCHS, batch_size=BATCH_SIZE, verbose=0)"
   ]
  },
  {
   "cell_type": "code",
   "execution_count": 22,
   "metadata": {},
   "outputs": [
    {
     "data": {
      "image/png": "[encoded data removed]",
      "text/plain": [
       "<Figure size 432x288 with 1 Axes>"
      ]
     },
     "metadata": {
      "needs_background": "light"
     },
     "output_type": "display_data"
    }
   ],
   "source": [
    "plt.title('Treniranje mreže - funkcija gubitka')\n",
    "plt.xlabel('Epoha')\n",
    "plt.ylabel('Funkcija gubitka')\n",
    "plt.plot(history.epoch, history.history['loss'])\n",
    "plt.show()"
   ]
  },
  {
   "cell_type": "markdown",
   "metadata": {},
   "source": [
    "Na primer, na osnovu prvog grafika mogu se izvesti neke intuicije o optimizaciji, veličini koraka učenja i brzini konvergencije. Sledeća slika sumira zaključke i iskustva.  <img src='assets/loss_monitoring.png'>"
   ]
  },
  {
   "cell_type": "code",
   "execution_count": null,
   "metadata": {},
   "outputs": [],
   "source": []
  },
  {
   "cell_type": "code",
   "execution_count": 23,
   "metadata": {},
   "outputs": [
    {
     "data": {
      "image/png": "[encoded data removed]",
      "text/plain": [
       "<Figure size 432x288 with 1 Axes>"
      ]
     },
     "metadata": {
      "needs_background": "light"
     },
     "output_type": "display_data"
    }
   ],
   "source": [
    "plt.title('Treniranje mreže - tačnost modela')\n",
    "plt.xlabel('Epoha')\n",
    "plt.ylabel('Tačnost')\n",
    "plt.plot(history.epoch, history.history['accuracy'])\n",
    "plt.show()"
   ]
  },
  {
   "cell_type": "code",
   "execution_count": null,
   "metadata": {},
   "outputs": [],
   "source": []
  },
  {
   "cell_type": "markdown",
   "metadata": {},
   "source": [
    "U sledećem primeru, nakon uvođenja validacionog skupa, diskutovaćemo još neke analize."
   ]
  },
  {
   "cell_type": "markdown",
   "metadata": {},
   "source": [
    "### Korak 4: Evaluacija mreže"
   ]
  },
  {
   "cell_type": "markdown",
   "metadata": {},
   "source": [
    "Da bismo mogli da ocenimo uspešnost treniranja mreže, potrebne su nam vrednosti relevantnih metrika na skupu za testiranje. I u slučaju neuronskih mreža, baš kao i do sada, prilikom evaluacije modela vodimo računa da ni u jednom trenutku ne dođe do preklapanja skupa za treniranje i skupa za testiranje. Evaluacija modela se radi propuštanjem paketića skupa za testiranje kroz mrežu, beleženjem i uprosečavanjem dobijenih vrednosti."
   ]
  },
  {
   "cell_type": "markdown",
   "metadata": {},
   "source": [
    "U našem slučaju, za zadatak klasifikacije, koristili smo kao metriku tačnost."
   ]
  },
  {
   "cell_type": "code",
   "execution_count": 24,
   "metadata": {},
   "outputs": [
    {
     "data": {
      "text/plain": [
       "['loss', 'accuracy']"
      ]
     },
     "execution_count": 24,
     "metadata": {},
     "output_type": "execute_result"
    }
   ],
   "source": [
    "model.metrics_names"
   ]
  },
  {
   "cell_type": "code",
   "execution_count": null,
   "metadata": {},
   "outputs": [],
   "source": []
  },
  {
   "cell_type": "markdown",
   "metadata": {},
   "source": [
    "Funkcija `evaluate` biblioteke Keras nam omogućava da sprovedemo opisanu proceduru. Njen rezultat je niz koji sadrži izračunate vrednosti za svaku od metrika navedenih u `model.metrics_names` nizu."
   ]
  },
  {
   "cell_type": "code",
   "execution_count": 25,
   "metadata": {},
   "outputs": [
    {
     "name": "stdout",
     "output_type": "stream",
     "text": [
      "5/5 [==============================] - 0s 2ms/step - loss: 0.4693 - accuracy: 0.7857\n",
      "Skup za testiranje accuracy: 0.7857142686843872\n"
     ]
    }
   ],
   "source": [
    "test_scores = model.evaluate(X_test, y_test, batch_size=BATCH_SIZE)\n",
    "print('Skup za testiranje {0}: {1}'.format(model.metrics_names[1], test_scores[1]))"
   ]
  },
  {
   "cell_type": "code",
   "execution_count": null,
   "metadata": {},
   "outputs": [],
   "source": []
  },
  {
   "cell_type": "markdown",
   "metadata": {},
   "source": [
    "Da bi se pratilo preprilagođavanje mreže, obično se relevantne metrike računaju i na skupu za treniranje."
   ]
  },
  {
   "cell_type": "code",
   "execution_count": 26,
   "metadata": {},
   "outputs": [
    {
     "name": "stdout",
     "output_type": "stream",
     "text": [
      "20/20 [==============================] - 0s 1ms/step - loss: 0.4231 - accuracy: 0.7948\n",
      "Skup za treniranje accuracy: 0.7947883009910583\n"
     ]
    }
   ],
   "source": [
    "train_scores = model.evaluate(X_train,y_train)\n",
    "print('Skup za treniranje {0}: {1}'.format(model.metrics_names[1], train_scores[1]))"
   ]
  },
  {
   "cell_type": "code",
   "execution_count": null,
   "metadata": {},
   "outputs": [],
   "source": []
  },
  {
   "cell_type": "markdown",
   "metadata": {},
   "source": [
    "#### Unakrsna validacija "
   ]
  },
  {
   "cell_type": "markdown",
   "metadata": {},
   "source": [
    "Nasumična podela skupa podataka na skup za treniranje i skup za testiranje i kod neuronskih mreža, baš kao i kod drugih modela, može prouzrokovati neobjektivnost ocena. Unakrsnu validaciju je moguće realizovati podelom skupa podataka na grupe funkcijom `KFold` i praćenjem dobijenih vrednosti. Ovde ćemo jednostavnosti radi upoznati omotač `KerasClassifier` koji omogućava unakrsnu validaciju Keras modela u duhu biblioteke `scikit-learn`.  "
   ]
  },
  {
   "cell_type": "code",
   "execution_count": 27,
   "metadata": {},
   "outputs": [],
   "source": [
    "from tensorflow.keras.wrappers.scikit_learn import KerasClassifier\n",
    "from sklearn import model_selection\n",
    "from sklearn.pipeline import Pipeline\n",
    "from sklearn import metrics"
   ]
  },
  {
   "cell_type": "code",
   "execution_count": 28,
   "metadata": {},
   "outputs": [],
   "source": [
    "def baseline_model():\n",
    "    model = Sequential()\n",
    "    model.add(Dense(units=15, input_dim=8, activation='relu'))\n",
    "    model.add(Dense(units=8, activation='relu'))\n",
    "    model.add(Dense(units=1, activation='sigmoid'))\n",
    "    model.compile(loss='binary_crossentropy', optimizer='adam', metrics=['accuracy'])    \n",
    "    return model"
   ]
  },
  {
   "cell_type": "markdown",
   "metadata": {},
   "source": [
    "Funkcija KerasClassifier očekuje model koji treba pokrenuti, broj epoha i veličinu paketića."
   ]
  },
  {
   "cell_type": "code",
   "execution_count": 29,
   "metadata": {},
   "outputs": [],
   "source": [
    "classifier = KerasClassifier(build_fn=baseline_model, nb_epoch=50, batch_size=32, verbose=0)"
   ]
  },
  {
   "cell_type": "code",
   "execution_count": 30,
   "metadata": {},
   "outputs": [],
   "source": [
    "pipeline = Pipeline(steps=[('scaler', StandardScaler()), ('classifier', classifier)])"
   ]
  },
  {
   "cell_type": "code",
   "execution_count": 31,
   "metadata": {},
   "outputs": [
    {
     "name": "stdout",
     "output_type": "stream",
     "text": [
      "WARNING:tensorflow:From /opt/anaconda3/envs/transformer-playground/lib/python3.8/site-packages/tensorflow/python/keras/wrappers/scikit_learn.py:241: Sequential.predict_classes (from tensorflow.python.keras.engine.sequential) is deprecated and will be removed after 2021-01-01.\n",
      "Instructions for updating:\n",
      "Please use instead:* `np.argmax(model.predict(x), axis=-1)`,   if your model does multi-class classification   (e.g. if it uses a `softmax` last-layer activation).* `(model.predict(x) > 0.5).astype(\"int32\")`,   if your model does binary classification   (e.g. if it uses a `sigmoid` last-layer activation).\n"
     ]
    }
   ],
   "source": [
    "accuracy_scores = model_selection.cross_val_score(pipeline, X, y, cv=5, scoring='accuracy')"
   ]
  },
  {
   "cell_type": "code",
   "execution_count": 32,
   "metadata": {},
   "outputs": [
    {
     "data": {
      "text/plain": [
       "array([0.37012987, 0.43506494, 0.43506494, 0.77124183, 0.50326797])"
      ]
     },
     "execution_count": 32,
     "metadata": {},
     "output_type": "execute_result"
    }
   ],
   "source": [
    "accuracy_scores"
   ]
  },
  {
   "cell_type": "code",
   "execution_count": 33,
   "metadata": {},
   "outputs": [
    {
     "data": {
      "text/plain": [
       "0.5029539088362618"
      ]
     },
     "execution_count": 33,
     "metadata": {},
     "output_type": "execute_result"
    }
   ],
   "source": [
    "np.average(accuracy_scores)"
   ]
  },
  {
   "cell_type": "markdown",
   "metadata": {},
   "source": [
    "U radu sa velikim skupovima podataka, zbog vremenske zahtevnosti, ne uzimaju se velike vrednosti `cv` parametra, a vrlo često se ovaj vid evaluacije i preskače."
   ]
  },
  {
   "cell_type": "markdown",
   "metadata": {},
   "source": [
    "### Korak 5: Korišćenje mreže"
   ]
  },
  {
   "cell_type": "markdown",
   "metadata": {},
   "source": [
    "Za predikciju vrednosti modela može se koristiti funkcija `predict`."
   ]
  },
  {
   "cell_type": "code",
   "execution_count": 34,
   "metadata": {},
   "outputs": [],
   "source": [
    "number_of_features = X_train.shape[1]"
   ]
  },
  {
   "cell_type": "code",
   "execution_count": 35,
   "metadata": {},
   "outputs": [],
   "source": [
    "x_new = np.random.random(number_of_features)\n",
    "x_new = scaler.transform(x_new.reshape(1, -1))"
   ]
  },
  {
   "cell_type": "markdown",
   "metadata": {},
   "source": [
    "Vrednost koju naša mreža predviđa je vrednost sigmoidne funkcije poslednjeg sloja pa da bi odredili da li nova instanca pripada klasi ili ne treba uporediti njenu vrednost sa 0.5. Podsetimo se da se ova vrednost može interpretirati i kao verovatnoća pripadanja određenoj klasi."
   ]
  },
  {
   "cell_type": "code",
   "execution_count": 36,
   "metadata": {},
   "outputs": [],
   "source": [
    "y_new_sigmoid = model.predict(x_new)"
   ]
  },
  {
   "cell_type": "code",
   "execution_count": 37,
   "metadata": {},
   "outputs": [
    {
     "data": {
      "text/plain": [
       "array([[1.6917522e-05]], dtype=float32)"
      ]
     },
     "execution_count": 37,
     "metadata": {},
     "output_type": "execute_result"
    }
   ],
   "source": [
    "y_new_sigmoid"
   ]
  },
  {
   "cell_type": "code",
   "execution_count": 38,
   "metadata": {},
   "outputs": [],
   "source": [
    "y_new = 0 if y_new_sigmoid<0.5 else 1"
   ]
  },
  {
   "cell_type": "code",
   "execution_count": 39,
   "metadata": {},
   "outputs": [
    {
     "data": {
      "text/plain": [
       "0"
      ]
     },
     "execution_count": 39,
     "metadata": {},
     "output_type": "execute_result"
    }
   ],
   "source": [
    "y_new"
   ]
  },
  {
   "cell_type": "markdown",
   "metadata": {},
   "source": [
    "Ovaj izraz se može zapisati i na sledeći način:"
   ]
  },
  {
   "cell_type": "code",
   "execution_count": 41,
   "metadata": {},
   "outputs": [],
   "source": [
    "y_new = np.int(y_new_sigmoid<0.5)"
   ]
  },
  {
   "cell_type": "code",
   "execution_count": 42,
   "metadata": {},
   "outputs": [
    {
     "data": {
      "text/plain": [
       "1"
      ]
     },
     "execution_count": 42,
     "metadata": {},
     "output_type": "execute_result"
    }
   ],
   "source": [
    "y_new"
   ]
  },
  {
   "cell_type": "code",
   "execution_count": null,
   "metadata": {},
   "outputs": [],
   "source": []
  },
  {
   "cell_type": "markdown",
   "metadata": {},
   "source": [
    "Još jedan, za nijansu kompaktniji, način koji omogućava očitavanje predikcije je uz korišćenje funkcije `argmax`."
   ]
  },
  {
   "cell_type": "code",
   "execution_count": 40,
   "metadata": {},
   "outputs": [
    {
     "data": {
      "text/plain": [
       "array([0])"
      ]
     },
     "execution_count": 40,
     "metadata": {},
     "output_type": "execute_result"
    }
   ],
   "source": [
    "np.argmax(model.predict(x_new), axis=-1)"
   ]
  },
  {
   "cell_type": "code",
   "execution_count": null,
   "metadata": {},
   "outputs": [],
   "source": []
  },
  {
   "cell_type": "markdown",
   "metadata": {},
   "source": [
    "U praksi se optimalna arhitektura mreže tj. broj slojeva, broj neurona po slojevima, odgovarajuće aktivacione funkcije, broj epoha treniranja i slično određuju kao i do sada pominjani hiperparametri. O tome će biti više reči u nastavku. "
   ]
  },
  {
   "cell_type": "markdown",
   "metadata": {},
   "source": [
    "<div class=\"alert alert-info\">\n",
    "Za vežbu:\n",
    "\n",
    "<ul>\n",
    "    <li>Isprobati različite aktivacione funkcije u slojevima, na primer, sigmoidnu i hiperbolički tanges</li>\n",
    "    <li>Isprobati nešto drugačije arhitekture mreže</li>\n",
    "    <li>Uporediti rezultate treniranja mreže kada se poveća/smanji broj epoha treniranja</li>\n",
    "</ul>\n",
    "</div>"
   ]
  }
 ],
 "metadata": {
  "kernelspec": {
   "display_name": "Python 3",
   "language": "python",
   "name": "python3"
  },
  "language_info": {
   "codemirror_mode": {
    "name": "ipython",
    "version": 3
   },
   "file_extension": ".py",
   "mimetype": "text/x-python",
   "name": "python",
   "nbconvert_exporter": "python",
   "pygments_lexer": "ipython3",
   "version": "3.8.3"
  }
 },
 "nbformat": 4,
 "nbformat_minor": 2
}
