{
 "cells": [
  {
   "cell_type": "markdown",
   "metadata": {},
   "source": [
    "# Korišćenje neuronskih mreža u regresionim zadacima"
   ]
  },
  {
   "cell_type": "markdown",
   "metadata": {},
   "source": [
    "Ovaj primer će demonstrirati korišćenje Keras biblioteke u zadacima regresije. Na osnovu već poznatog skupa podataka Boston Housing koji sadrži informacije o nekretninama, potrebno je napraviti neuronski model koji će predvideti cenu nekretnine. Uz ovo, naučićemo i kako možemo sačuvati naučene modele i kasnije ih upotrebiti. "
   ]
  },
  {
   "cell_type": "markdown",
   "metadata": {},
   "source": [
    "Pre nego li počnemo sa radom, uključićemo sve potrebne biblioteke."
   ]
  },
  {
   "cell_type": "code",
   "execution_count": 1,
   "metadata": {},
   "outputs": [],
   "source": [
    "from tensorflow.keras.models import Sequential\n",
    "from tensorflow.keras.layers import InputLayer, Dense, Activation\n",
    "from tensorflow.keras.losses import MeanSquaredError, MeanAbsoluteError\n",
    "from tensorflow.keras.optimizers import Adam\n",
    "from tensorflow.keras.datasets import boston_housing"
   ]
  },
  {
   "cell_type": "code",
   "execution_count": 2,
   "metadata": {},
   "outputs": [],
   "source": [
    "import numpy as np\n",
    "np.random.seed(7)"
   ]
  },
  {
   "cell_type": "code",
   "execution_count": 3,
   "metadata": {},
   "outputs": [],
   "source": [
    "from matplotlib import pyplot as plt"
   ]
  },
  {
   "cell_type": "code",
   "execution_count": 4,
   "metadata": {},
   "outputs": [],
   "source": [
    "from sklearn import preprocessing"
   ]
  },
  {
   "cell_type": "code",
   "execution_count": 5,
   "metadata": {},
   "outputs": [],
   "source": [
    "from sklearn import preprocessing\n",
    "from sklearn import model_selection"
   ]
  },
  {
   "cell_type": "code",
   "execution_count": null,
   "metadata": {},
   "outputs": [],
   "source": []
  },
  {
   "cell_type": "markdown",
   "metadata": {},
   "source": [
    "### Korak 1: Priprema skupa podataka"
   ]
  },
  {
   "cell_type": "markdown",
   "metadata": {},
   "source": [
    "Prvo ćemo učitati skup podataka. Iskoristićemo *Boston housing* skup podataka Keras biblioteke dostupan kroz `dataset` modul koji objedinjuje nekoliko poznatih skupova podataka. Generisani skupovi za treniranje i testiranje su veću u formi `numpy` nizova."
   ]
  },
  {
   "cell_type": "code",
   "execution_count": 6,
   "metadata": {},
   "outputs": [],
   "source": [
    "(X_train, y_train), (X_test, y_test) = boston_housing.load_data(test_split = 0.33)"
   ]
  },
  {
   "cell_type": "code",
   "execution_count": 7,
   "metadata": {},
   "outputs": [
    {
     "data": {
      "text/plain": [
       "(339, 13)"
      ]
     },
     "execution_count": 7,
     "metadata": {},
     "output_type": "execute_result"
    }
   ],
   "source": [
    "X_train.shape"
   ]
  },
  {
   "cell_type": "code",
   "execution_count": 8,
   "metadata": {},
   "outputs": [
    {
     "data": {
      "text/plain": [
       "(167, 13)"
      ]
     },
     "execution_count": 8,
     "metadata": {},
     "output_type": "execute_result"
    }
   ],
   "source": [
    "X_test.shape"
   ]
  },
  {
   "cell_type": "code",
   "execution_count": null,
   "metadata": {},
   "outputs": [],
   "source": []
  },
  {
   "cell_type": "markdown",
   "metadata": {},
   "source": [
    "Nakon učitavanja, podatke ćemo i standardizovati."
   ]
  },
  {
   "cell_type": "code",
   "execution_count": 9,
   "metadata": {},
   "outputs": [],
   "source": [
    "scaler = preprocessing.StandardScaler()\n",
    "scaler.fit(X_train)\n",
    "X_train = scaler.transform(X_train)\n",
    "X_test = scaler.transform(X_test)"
   ]
  },
  {
   "cell_type": "code",
   "execution_count": null,
   "metadata": {},
   "outputs": [],
   "source": []
  },
  {
   "cell_type": "markdown",
   "metadata": {},
   "source": [
    "### Korak 2: Kreiranje mreže"
   ]
  },
  {
   "cell_type": "markdown",
   "metadata": {},
   "source": [
    "Mreža koju ćemo napraviti će biti mreža sa propagacijom unapred. Imaće ulazni sloj, jedan skriveni sloj sa 100 neurona i izlazni sloj. Broj neurona ulaznog sloja odgovara broju atributa skupa podataka (13). Broj neurona izlaznog sloja je 1 jer mreža treba da predvidi cenu nekretnine. Za aktivacionu funkciju prvog sloja odabraćemo `ReLu`, dok ćemo za drugi, izlazni sloj, ostaviti podrazumevanu linearnu aktivaciju `a(x)=x` koja je standardni izbor u slučajevima regresionih zadataka. Druge aktivacione funkcije bi ograničavale opsege koje mreža može da nauči što je u suprotnosti sa očekivanjima regresionih zadataka. "
   ]
  },
  {
   "cell_type": "code",
   "execution_count": 10,
   "metadata": {},
   "outputs": [],
   "source": [
    "number_of_features = X_train.shape[1]\n",
    "output_size = 1"
   ]
  },
  {
   "cell_type": "code",
   "execution_count": null,
   "metadata": {},
   "outputs": [],
   "source": []
  },
  {
   "cell_type": "code",
   "execution_count": 11,
   "metadata": {},
   "outputs": [],
   "source": [
    "model = Sequential([\n",
    "    InputLayer(input_shape=(number_of_features, )), \n",
    "    Dense(units=100, activation='relu'), \n",
    "    Dense(units=output_size)\n",
    "])"
   ]
  },
  {
   "cell_type": "code",
   "execution_count": 12,
   "metadata": {},
   "outputs": [
    {
     "name": "stdout",
     "output_type": "stream",
     "text": [
      "Model: \"sequential\"\n",
      "_________________________________________________________________\n",
      "Layer (type)                 Output Shape              Param #   \n",
      "=================================================================\n",
      "dense (Dense)                (None, 100)               1400      \n",
      "_________________________________________________________________\n",
      "dense_1 (Dense)              (None, 1)                 101       \n",
      "=================================================================\n",
      "Total params: 1,501\n",
      "Trainable params: 1,501\n",
      "Non-trainable params: 0\n",
      "_________________________________________________________________\n"
     ]
    }
   ],
   "source": [
    "model.summary()"
   ]
  },
  {
   "cell_type": "code",
   "execution_count": null,
   "metadata": {},
   "outputs": [],
   "source": []
  },
  {
   "cell_type": "markdown",
   "metadata": {},
   "source": [
    "### Korak 3: Treniranje mreže"
   ]
  },
  {
   "cell_type": "markdown",
   "metadata": {},
   "source": [
    "Alternativni način zadavanja optimizatora uz finija podešavanja parametara se može postići uključivanjem `optimizer` paketa, a funkcija gubitka uključivanjem `losses` paketa. Zahvaljujući ovim paketima umesto inicijalizacije niskama, potrebne parametre možemo inicijalizovati instancama odgovarajućih klasa. Tako ćemo prilikom treniranja mreže odabrati srednjekvadratnu grešku (engl. mean squared error) predstavljenu klasom `MeanSquaredError` kao funkciju greške, a srednju apsolutnu grešku predstavljenu klasom `MeanAbsoluteError` kao funkciju čiju ćemo vrednost pratiti u toku obučavanja. Kao optimizator ćemo odabrati Adam. On je predstavljen klasom `Adam`. "
   ]
  },
  {
   "cell_type": "code",
   "execution_count": 13,
   "metadata": {},
   "outputs": [],
   "source": [
    "model.compile(optimizer=Adam(learning_rate=0.001), loss=MeanSquaredError(), metrics=[MeanAbsoluteError()])"
   ]
  },
  {
   "cell_type": "code",
   "execution_count": null,
   "metadata": {},
   "outputs": [],
   "source": []
  },
  {
   "cell_type": "markdown",
   "metadata": {},
   "source": [
    "Sada ćemo prilikom treniranja mreže, jedan deo podataka iskoristiti za validaciju. Parametar `validation_split` omogućava da se u zadatoj srazmeri izdvoji deo skupa za treniranje koji će biti korišćen isključivo za validaciju, tj. za monitoring rada mreže. Na kraju svake epohe nad ovim skupom će biti izračunate i sačuvane metrike zadate na nivou modela. Alternativa ovom pristupu bi bilo zadavanje eksplicitno pripremljenog validacionog skupa u formi `(X_validation, y_validation)` preko parametra `validation_data`."
   ]
  },
  {
   "cell_type": "markdown",
   "metadata": {},
   "source": [
    "Mrežu ćemo trenirati u 100 epoha sa paketićima veličine 32 instance. Ovoga puta ćemo postaviti i `verbose` parametar funkcije na vrednost 1 kako bismo mogli da pratimo ispise u toku izvršavanja funkcije."
   ]
  },
  {
   "cell_type": "code",
   "execution_count": 14,
   "metadata": {},
   "outputs": [],
   "source": [
    "NUMBER_OF_EPOCHS = 100\n",
    "BATCH_SIZE = 32"
   ]
  },
  {
   "cell_type": "code",
   "execution_count": 15,
   "metadata": {},
   "outputs": [
    {
     "name": "stdout",
     "output_type": "stream",
     "text": [
      "Epoch 1/100\n",
      "10/10 [==============================] - 0s 20ms/step - loss: 546.3018 - mean_absolute_error: 21.5408 - val_loss: 730.1136 - val_mean_absolute_error: 24.2840\n",
      "Epoch 2/100\n",
      "10/10 [==============================] - 0s 4ms/step - loss: 525.2211 - mean_absolute_error: 21.0775 - val_loss: 704.5977 - val_mean_absolute_error: 23.7781\n",
      "Epoch 3/100\n",
      "10/10 [==============================] - 0s 6ms/step - loss: 503.9104 - mean_absolute_error: 20.7649 - val_loss: 678.8408 - val_mean_absolute_error: 23.2578\n",
      "Epoch 4/100\n",
      "10/10 [==============================] - 0s 6ms/step - loss: 482.9273 - mean_absolute_error: 20.1884 - val_loss: 650.9479 - val_mean_absolute_error: 22.6818\n",
      "Epoch 5/100\n",
      "10/10 [==============================] - 0s 5ms/step - loss: 460.2249 - mean_absolute_error: 19.5344 - val_loss: 621.3339 - val_mean_absolute_error: 22.0584\n",
      "Epoch 6/100\n",
      "10/10 [==============================] - 0s 5ms/step - loss: 436.1780 - mean_absolute_error: 19.2571 - val_loss: 590.1584 - val_mean_absolute_error: 21.3718\n",
      "Epoch 7/100\n",
      "10/10 [==============================] - 0s 5ms/step - loss: 410.9567 - mean_absolute_error: 18.3636 - val_loss: 557.0430 - val_mean_absolute_error: 20.6139\n",
      "Epoch 8/100\n",
      "10/10 [==============================] - 0s 5ms/step - loss: 383.9785 - mean_absolute_error: 17.7182 - val_loss: 523.3770 - val_mean_absolute_error: 19.8109\n",
      "Epoch 9/100\n",
      "10/10 [==============================] - 0s 5ms/step - loss: 356.4869 - mean_absolute_error: 16.9377 - val_loss: 487.5740 - val_mean_absolute_error: 18.9202\n",
      "Epoch 10/100\n",
      "10/10 [==============================] - 0s 5ms/step - loss: 327.9615 - mean_absolute_error: 16.1955 - val_loss: 450.8175 - val_mean_absolute_error: 17.9746\n",
      "Epoch 11/100\n",
      "10/10 [==============================] - 0s 5ms/step - loss: 299.0106 - mean_absolute_error: 15.4804 - val_loss: 413.3889 - val_mean_absolute_error: 16.9626\n",
      "Epoch 12/100\n",
      "10/10 [==============================] - 0s 5ms/step - loss: 270.3167 - mean_absolute_error: 14.4364 - val_loss: 376.4042 - val_mean_absolute_error: 15.8871\n",
      "Epoch 13/100\n",
      "10/10 [==============================] - 0s 4ms/step - loss: 241.5322 - mean_absolute_error: 13.5424 - val_loss: 341.4336 - val_mean_absolute_error: 14.7861\n",
      "Epoch 14/100\n",
      "10/10 [==============================] - 0s 4ms/step - loss: 214.8046 - mean_absolute_error: 12.6224 - val_loss: 308.1420 - val_mean_absolute_error: 13.6540\n",
      "Epoch 15/100\n",
      "10/10 [==============================] - 0s 5ms/step - loss: 189.5853 - mean_absolute_error: 11.8350 - val_loss: 277.7189 - val_mean_absolute_error: 12.5047\n",
      "Epoch 16/100\n",
      "10/10 [==============================] - 0s 4ms/step - loss: 167.2205 - mean_absolute_error: 11.0510 - val_loss: 249.4558 - val_mean_absolute_error: 11.3871\n",
      "Epoch 17/100\n",
      "10/10 [==============================] - 0s 4ms/step - loss: 147.2204 - mean_absolute_error: 10.0540 - val_loss: 224.3073 - val_mean_absolute_error: 10.3150\n",
      "Epoch 18/100\n",
      "10/10 [==============================] - 0s 4ms/step - loss: 128.7196 - mean_absolute_error: 9.2972 - val_loss: 204.1633 - val_mean_absolute_error: 9.5023\n",
      "Epoch 19/100\n",
      "10/10 [==============================] - 0s 4ms/step - loss: 114.3463 - mean_absolute_error: 8.6110 - val_loss: 186.5712 - val_mean_absolute_error: 8.7125\n",
      "Epoch 20/100\n",
      "10/10 [==============================] - 0s 5ms/step - loss: 102.4147 - mean_absolute_error: 8.0123 - val_loss: 171.2560 - val_mean_absolute_error: 8.0711\n",
      "Epoch 21/100\n",
      "10/10 [==============================] - 0s 5ms/step - loss: 91.7388 - mean_absolute_error: 7.6473 - val_loss: 158.5719 - val_mean_absolute_error: 7.7463\n",
      "Epoch 22/100\n",
      "10/10 [==============================] - 0s 4ms/step - loss: 83.0215 - mean_absolute_error: 7.2134 - val_loss: 147.2807 - val_mean_absolute_error: 7.4392\n",
      "Epoch 23/100\n",
      "10/10 [==============================] - 0s 5ms/step - loss: 74.9742 - mean_absolute_error: 6.7506 - val_loss: 137.6941 - val_mean_absolute_error: 7.2053\n",
      "Epoch 24/100\n",
      "10/10 [==============================] - 0s 4ms/step - loss: 68.5359 - mean_absolute_error: 6.4507 - val_loss: 128.5629 - val_mean_absolute_error: 6.9596\n",
      "Epoch 25/100\n",
      "10/10 [==============================] - 0s 4ms/step - loss: 62.5772 - mean_absolute_error: 6.1458 - val_loss: 120.1888 - val_mean_absolute_error: 6.7521\n",
      "Epoch 26/100\n",
      "10/10 [==============================] - 0s 4ms/step - loss: 57.4320 - mean_absolute_error: 5.7638 - val_loss: 112.2208 - val_mean_absolute_error: 6.5429\n",
      "Epoch 27/100\n",
      "10/10 [==============================] - 0s 4ms/step - loss: 52.6954 - mean_absolute_error: 5.5943 - val_loss: 105.3063 - val_mean_absolute_error: 6.3754\n",
      "Epoch 28/100\n",
      "10/10 [==============================] - 0s 6ms/step - loss: 48.6416 - mean_absolute_error: 5.3474 - val_loss: 99.3453 - val_mean_absolute_error: 6.1702\n",
      "Epoch 29/100\n",
      "10/10 [==============================] - 0s 4ms/step - loss: 45.2046 - mean_absolute_error: 5.0609 - val_loss: 93.2418 - val_mean_absolute_error: 6.0454\n",
      "Epoch 30/100\n",
      "10/10 [==============================] - 0s 5ms/step - loss: 41.9933 - mean_absolute_error: 4.7276 - val_loss: 88.0040 - val_mean_absolute_error: 5.9124\n",
      "Epoch 31/100\n",
      "10/10 [==============================] - 0s 5ms/step - loss: 39.2507 - mean_absolute_error: 4.6067 - val_loss: 83.4297 - val_mean_absolute_error: 5.8069\n",
      "Epoch 32/100\n",
      "10/10 [==============================] - 0s 5ms/step - loss: 36.9377 - mean_absolute_error: 4.3978 - val_loss: 79.1921 - val_mean_absolute_error: 5.7000\n",
      "Epoch 33/100\n",
      "10/10 [==============================] - 0s 4ms/step - loss: 34.8736 - mean_absolute_error: 4.2586 - val_loss: 75.7317 - val_mean_absolute_error: 5.5769\n",
      "Epoch 34/100\n",
      "10/10 [==============================] - 0s 4ms/step - loss: 33.2204 - mean_absolute_error: 4.1259 - val_loss: 72.7326 - val_mean_absolute_error: 5.4452\n",
      "Epoch 35/100\n",
      "10/10 [==============================] - 0s 5ms/step - loss: 31.7456 - mean_absolute_error: 4.0315 - val_loss: 69.9344 - val_mean_absolute_error: 5.3501\n",
      "Epoch 36/100\n",
      "10/10 [==============================] - 0s 4ms/step - loss: 30.5075 - mean_absolute_error: 3.8614 - val_loss: 67.3176 - val_mean_absolute_error: 5.2686\n",
      "Epoch 37/100\n",
      "10/10 [==============================] - 0s 4ms/step - loss: 29.5196 - mean_absolute_error: 3.8043 - val_loss: 64.8278 - val_mean_absolute_error: 5.1957\n",
      "Epoch 38/100\n",
      "10/10 [==============================] - 0s 5ms/step - loss: 28.5268 - mean_absolute_error: 3.7011 - val_loss: 62.8731 - val_mean_absolute_error: 5.1417\n",
      "Epoch 39/100\n",
      "10/10 [==============================] - 0s 4ms/step - loss: 27.8276 - mean_absolute_error: 3.6740 - val_loss: 60.9079 - val_mean_absolute_error: 5.0668\n",
      "Epoch 40/100\n",
      "10/10 [==============================] - 0s 4ms/step - loss: 27.1000 - mean_absolute_error: 3.6245 - val_loss: 59.2848 - val_mean_absolute_error: 4.9991\n",
      "Epoch 41/100\n",
      "10/10 [==============================] - 0s 3ms/step - loss: 26.4549 - mean_absolute_error: 3.5443 - val_loss: 57.9674 - val_mean_absolute_error: 4.8871\n",
      "Epoch 42/100\n",
      "10/10 [==============================] - 0s 4ms/step - loss: 25.9764 - mean_absolute_error: 3.4797 - val_loss: 56.5723 - val_mean_absolute_error: 4.8232\n",
      "Epoch 43/100\n",
      "10/10 [==============================] - 0s 3ms/step - loss: 25.4947 - mean_absolute_error: 3.4322 - val_loss: 55.3618 - val_mean_absolute_error: 4.7495\n",
      "Epoch 44/100\n",
      "10/10 [==============================] - 0s 4ms/step - loss: 25.0945 - mean_absolute_error: 3.4918 - val_loss: 54.0909 - val_mean_absolute_error: 4.7030\n",
      "Epoch 45/100\n",
      "10/10 [==============================] - 0s 3ms/step - loss: 24.6952 - mean_absolute_error: 3.4400 - val_loss: 53.0862 - val_mean_absolute_error: 4.6595\n",
      "Epoch 46/100\n",
      "10/10 [==============================] - 0s 3ms/step - loss: 24.3267 - mean_absolute_error: 3.3650 - val_loss: 52.3450 - val_mean_absolute_error: 4.6104\n",
      "Epoch 47/100\n",
      "10/10 [==============================] - 0s 4ms/step - loss: 24.0013 - mean_absolute_error: 3.3808 - val_loss: 51.4254 - val_mean_absolute_error: 4.5488\n",
      "Epoch 48/100\n",
      "10/10 [==============================] - 0s 3ms/step - loss: 23.6590 - mean_absolute_error: 3.3303 - val_loss: 50.7127 - val_mean_absolute_error: 4.5256\n",
      "Epoch 49/100\n",
      "10/10 [==============================] - 0s 4ms/step - loss: 23.3874 - mean_absolute_error: 3.3970 - val_loss: 49.8337 - val_mean_absolute_error: 4.4998\n"
     ]
    },
    {
     "name": "stdout",
     "output_type": "stream",
     "text": [
      "Epoch 50/100\n",
      "10/10 [==============================] - 0s 4ms/step - loss: 23.0832 - mean_absolute_error: 3.3324 - val_loss: 48.9824 - val_mean_absolute_error: 4.4523\n",
      "Epoch 51/100\n",
      "10/10 [==============================] - 0s 3ms/step - loss: 22.8039 - mean_absolute_error: 3.2953 - val_loss: 48.2547 - val_mean_absolute_error: 4.4068\n",
      "Epoch 52/100\n",
      "10/10 [==============================] - 0s 3ms/step - loss: 22.5874 - mean_absolute_error: 3.2581 - val_loss: 47.3538 - val_mean_absolute_error: 4.4021\n",
      "Epoch 53/100\n",
      "10/10 [==============================] - 0s 3ms/step - loss: 22.2793 - mean_absolute_error: 3.2913 - val_loss: 46.7482 - val_mean_absolute_error: 4.3775\n",
      "Epoch 54/100\n",
      "10/10 [==============================] - 0s 3ms/step - loss: 22.0263 - mean_absolute_error: 3.2497 - val_loss: 46.0260 - val_mean_absolute_error: 4.3728\n",
      "Epoch 55/100\n",
      "10/10 [==============================] - 0s 3ms/step - loss: 21.7722 - mean_absolute_error: 3.2802 - val_loss: 45.3655 - val_mean_absolute_error: 4.3224\n",
      "Epoch 56/100\n",
      "10/10 [==============================] - 0s 3ms/step - loss: 21.5461 - mean_absolute_error: 3.2132 - val_loss: 44.7705 - val_mean_absolute_error: 4.2903\n",
      "Epoch 57/100\n",
      "10/10 [==============================] - 0s 4ms/step - loss: 21.3057 - mean_absolute_error: 3.1715 - val_loss: 44.1349 - val_mean_absolute_error: 4.2590\n",
      "Epoch 58/100\n",
      "10/10 [==============================] - 0s 4ms/step - loss: 21.0714 - mean_absolute_error: 3.1545 - val_loss: 43.5311 - val_mean_absolute_error: 4.2567\n",
      "Epoch 59/100\n",
      "10/10 [==============================] - 0s 4ms/step - loss: 20.8533 - mean_absolute_error: 3.2234 - val_loss: 42.9976 - val_mean_absolute_error: 4.2226\n",
      "Epoch 60/100\n",
      "10/10 [==============================] - 0s 4ms/step - loss: 20.6675 - mean_absolute_error: 3.2365 - val_loss: 42.3605 - val_mean_absolute_error: 4.2009\n",
      "Epoch 61/100\n",
      "10/10 [==============================] - 0s 5ms/step - loss: 20.4539 - mean_absolute_error: 3.1253 - val_loss: 41.8768 - val_mean_absolute_error: 4.1236\n",
      "Epoch 62/100\n",
      "10/10 [==============================] - 0s 5ms/step - loss: 20.2113 - mean_absolute_error: 3.2060 - val_loss: 41.3560 - val_mean_absolute_error: 4.1029\n",
      "Epoch 63/100\n",
      "10/10 [==============================] - 0s 4ms/step - loss: 20.0070 - mean_absolute_error: 3.1621 - val_loss: 41.0031 - val_mean_absolute_error: 4.0818\n",
      "Epoch 64/100\n",
      "10/10 [==============================] - 0s 4ms/step - loss: 19.7841 - mean_absolute_error: 3.1105 - val_loss: 40.3820 - val_mean_absolute_error: 4.0745\n",
      "Epoch 65/100\n",
      "10/10 [==============================] - 0s 5ms/step - loss: 19.5918 - mean_absolute_error: 3.0633 - val_loss: 39.7466 - val_mean_absolute_error: 4.0822\n",
      "Epoch 66/100\n",
      "10/10 [==============================] - 0s 4ms/step - loss: 19.3899 - mean_absolute_error: 3.0475 - val_loss: 39.3692 - val_mean_absolute_error: 4.0373\n",
      "Epoch 67/100\n",
      "10/10 [==============================] - 0s 4ms/step - loss: 19.1797 - mean_absolute_error: 3.0623 - val_loss: 38.8990 - val_mean_absolute_error: 4.0208\n",
      "Epoch 68/100\n",
      "10/10 [==============================] - 0s 4ms/step - loss: 19.0194 - mean_absolute_error: 3.1054 - val_loss: 38.5908 - val_mean_absolute_error: 3.9763\n",
      "Epoch 69/100\n",
      "10/10 [==============================] - 0s 4ms/step - loss: 18.8072 - mean_absolute_error: 3.0169 - val_loss: 38.0495 - val_mean_absolute_error: 3.9872\n",
      "Epoch 70/100\n",
      "10/10 [==============================] - 0s 4ms/step - loss: 18.6330 - mean_absolute_error: 3.0435 - val_loss: 37.5742 - val_mean_absolute_error: 3.9589\n",
      "Epoch 71/100\n",
      "10/10 [==============================] - 0s 4ms/step - loss: 18.4260 - mean_absolute_error: 2.9811 - val_loss: 37.3510 - val_mean_absolute_error: 3.9549\n",
      "Epoch 72/100\n",
      "10/10 [==============================] - 0s 5ms/step - loss: 18.2760 - mean_absolute_error: 3.0317 - val_loss: 36.9443 - val_mean_absolute_error: 3.8853\n",
      "Epoch 73/100\n",
      "10/10 [==============================] - 0s 8ms/step - loss: 18.0822 - mean_absolute_error: 2.9633 - val_loss: 36.6666 - val_mean_absolute_error: 3.8840\n",
      "Epoch 74/100\n",
      "10/10 [==============================] - 0s 4ms/step - loss: 17.8986 - mean_absolute_error: 2.9571 - val_loss: 36.4973 - val_mean_absolute_error: 3.8213\n",
      "Epoch 75/100\n",
      "10/10 [==============================] - 0s 4ms/step - loss: 17.7321 - mean_absolute_error: 2.9295 - val_loss: 36.1061 - val_mean_absolute_error: 3.7937\n",
      "Epoch 76/100\n",
      "10/10 [==============================] - 0s 4ms/step - loss: 17.5977 - mean_absolute_error: 2.9433 - val_loss: 35.7474 - val_mean_absolute_error: 3.8143\n",
      "Epoch 77/100\n",
      "10/10 [==============================] - 0s 3ms/step - loss: 17.3995 - mean_absolute_error: 2.9049 - val_loss: 35.2152 - val_mean_absolute_error: 3.7612\n",
      "Epoch 78/100\n",
      "10/10 [==============================] - 0s 5ms/step - loss: 17.1966 - mean_absolute_error: 2.9416 - val_loss: 35.0045 - val_mean_absolute_error: 3.7161\n",
      "Epoch 79/100\n",
      "10/10 [==============================] - 0s 4ms/step - loss: 17.0263 - mean_absolute_error: 2.9259 - val_loss: 34.7160 - val_mean_absolute_error: 3.6850\n",
      "Epoch 80/100\n",
      "10/10 [==============================] - 0s 4ms/step - loss: 16.8272 - mean_absolute_error: 2.8492 - val_loss: 34.0011 - val_mean_absolute_error: 3.7001\n",
      "Epoch 81/100\n",
      "10/10 [==============================] - 0s 4ms/step - loss: 16.6930 - mean_absolute_error: 2.8397 - val_loss: 33.4203 - val_mean_absolute_error: 3.6974\n",
      "Epoch 82/100\n",
      "10/10 [==============================] - 0s 4ms/step - loss: 16.5103 - mean_absolute_error: 2.8123 - val_loss: 33.0909 - val_mean_absolute_error: 3.6733\n",
      "Epoch 83/100\n",
      "10/10 [==============================] - 0s 4ms/step - loss: 16.3720 - mean_absolute_error: 2.8437 - val_loss: 32.6875 - val_mean_absolute_error: 3.6426\n",
      "Epoch 84/100\n",
      "10/10 [==============================] - 0s 4ms/step - loss: 16.1826 - mean_absolute_error: 2.8270 - val_loss: 32.4613 - val_mean_absolute_error: 3.6122\n",
      "Epoch 85/100\n",
      "10/10 [==============================] - 0s 4ms/step - loss: 16.0278 - mean_absolute_error: 2.7796 - val_loss: 32.2123 - val_mean_absolute_error: 3.5988\n",
      "Epoch 86/100\n",
      "10/10 [==============================] - 0s 4ms/step - loss: 15.8822 - mean_absolute_error: 2.8333 - val_loss: 32.0065 - val_mean_absolute_error: 3.5458\n",
      "Epoch 87/100\n",
      "10/10 [==============================] - 0s 4ms/step - loss: 15.7118 - mean_absolute_error: 2.7581 - val_loss: 31.4612 - val_mean_absolute_error: 3.5410\n",
      "Epoch 88/100\n",
      "10/10 [==============================] - 0s 5ms/step - loss: 15.5908 - mean_absolute_error: 2.7303 - val_loss: 31.0844 - val_mean_absolute_error: 3.5410\n",
      "Epoch 89/100\n",
      "10/10 [==============================] - 0s 4ms/step - loss: 15.4200 - mean_absolute_error: 2.7414 - val_loss: 30.7656 - val_mean_absolute_error: 3.5207\n",
      "Epoch 90/100\n",
      "10/10 [==============================] - 0s 4ms/step - loss: 15.2912 - mean_absolute_error: 2.7156 - val_loss: 30.7275 - val_mean_absolute_error: 3.4168\n",
      "Epoch 91/100\n",
      "10/10 [==============================] - 0s 4ms/step - loss: 15.1192 - mean_absolute_error: 2.6739 - val_loss: 30.3809 - val_mean_absolute_error: 3.4284\n",
      "Epoch 92/100\n",
      "10/10 [==============================] - 0s 4ms/step - loss: 14.9716 - mean_absolute_error: 2.7167 - val_loss: 30.2983 - val_mean_absolute_error: 3.4053\n",
      "Epoch 93/100\n",
      "10/10 [==============================] - 0s 5ms/step - loss: 14.8505 - mean_absolute_error: 2.6805 - val_loss: 29.8392 - val_mean_absolute_error: 3.3785\n",
      "Epoch 94/100\n",
      "10/10 [==============================] - 0s 4ms/step - loss: 14.7116 - mean_absolute_error: 2.6441 - val_loss: 29.7873 - val_mean_absolute_error: 3.3288\n",
      "Epoch 95/100\n",
      "10/10 [==============================] - 0s 4ms/step - loss: 14.5646 - mean_absolute_error: 2.6481 - val_loss: 29.2870 - val_mean_absolute_error: 3.3320\n",
      "Epoch 96/100\n",
      "10/10 [==============================] - 0s 5ms/step - loss: 14.4673 - mean_absolute_error: 2.6259 - val_loss: 28.8857 - val_mean_absolute_error: 3.3612\n",
      "Epoch 97/100\n",
      "10/10 [==============================] - 0s 4ms/step - loss: 14.2740 - mean_absolute_error: 2.6624 - val_loss: 28.7558 - val_mean_absolute_error: 3.2939\n",
      "Epoch 98/100\n",
      "10/10 [==============================] - 0s 4ms/step - loss: 14.1532 - mean_absolute_error: 2.5848 - val_loss: 28.4078 - val_mean_absolute_error: 3.3016\n",
      "Epoch 99/100\n"
     ]
    },
    {
     "name": "stdout",
     "output_type": "stream",
     "text": [
      "10/10 [==============================] - 0s 4ms/step - loss: 14.0281 - mean_absolute_error: 2.5624 - val_loss: 28.1455 - val_mean_absolute_error: 3.2744\n",
      "Epoch 100/100\n",
      "10/10 [==============================] - 0s 4ms/step - loss: 13.8874 - mean_absolute_error: 2.5672 - val_loss: 27.9675 - val_mean_absolute_error: 3.2134\n"
     ]
    }
   ],
   "source": [
    "history = model.fit(X_train, y_train, epochs=NUMBER_OF_EPOCHS, batch_size=BATCH_SIZE, verbose=1, validation_split=0.1)"
   ]
  },
  {
   "cell_type": "markdown",
   "metadata": {},
   "source": [
    "Iz ispisa možemo primetiti da se nakon svake epohe računaju vrednosti funkcije gubitka (loss) i srednje apsolutne greške (mean_absolute_error) na skupu za treniranja, kao i njihove vrednosti na skupu za validaciju (val_loss i val_mean_absolute_error)."
   ]
  },
  {
   "cell_type": "code",
   "execution_count": null,
   "metadata": {},
   "outputs": [],
   "source": []
  },
  {
   "cell_type": "markdown",
   "metadata": {},
   "source": [
    "Prvo ćemo prikazati na zajedničkom grafiku funkcije gubitka na skupu za treniranje i validaciju, a potom i srednju apsolutnu grešku."
   ]
  },
  {
   "cell_type": "code",
   "execution_count": 16,
   "metadata": {},
   "outputs": [],
   "source": [
    "epochs = history.epoch"
   ]
  },
  {
   "cell_type": "code",
   "execution_count": 17,
   "metadata": {},
   "outputs": [],
   "source": [
    "loss = history.history['loss']\n",
    "mea = history.history['mean_absolute_error']\n",
    "val_loss = history.history['val_loss']\n",
    "val_mea = history.history['val_mean_absolute_error']"
   ]
  },
  {
   "cell_type": "code",
   "execution_count": 18,
   "metadata": {},
   "outputs": [
    {
     "data": {
      "image/png": "[encoded data removed]",
      "text/plain": [
       "<Figure size 432x288 with 1 Axes>"
      ]
     },
     "metadata": {
      "needs_background": "light"
     },
     "output_type": "display_data"
    }
   ],
   "source": [
    "plt.title('Funkcija gubitka')\n",
    "plt.xlabel('epochs')\n",
    "plt.ylabel('loss')\n",
    "plt.plot(epochs, loss, label='training')\n",
    "plt.plot(epochs, val_loss, label='validation')\n",
    "plt.legend(loc='best')\n",
    "plt.show()"
   ]
  },
  {
   "cell_type": "code",
   "execution_count": 19,
   "metadata": {},
   "outputs": [
    {
     "data": {
      "image/png": "[encoded data removed]",
      "text/plain": [
       "<Figure size 432x288 with 1 Axes>"
      ]
     },
     "metadata": {
      "needs_background": "light"
     },
     "output_type": "display_data"
    }
   ],
   "source": [
    "plt.title('Srednja apsolutna greška')\n",
    "plt.xlabel('epochs')\n",
    "plt.ylabel('mae')\n",
    "plt.plot(epochs, mea)\n",
    "plt.plot(epochs, val_mea)\n",
    "plt.show()"
   ]
  },
  {
   "cell_type": "markdown",
   "metadata": {},
   "source": [
    "Prokomentarišimo još da se funkciji `fit` može proslediti konkretan skup za validaciju preko parametra `validation_data`.  Njena je moguće kreirati na način na koji smo to radili i do sada, pomoću funkcije `train_test_split` biblioteke `scikit-learn`. "
   ]
  },
  {
   "cell_type": "code",
   "execution_count": null,
   "metadata": {},
   "outputs": [],
   "source": []
  },
  {
   "cell_type": "markdown",
   "metadata": {},
   "source": [
    "### Korak 4: Evaluacija mreže"
   ]
  },
  {
   "cell_type": "code",
   "execution_count": 20,
   "metadata": {},
   "outputs": [
    {
     "name": "stdout",
     "output_type": "stream",
     "text": [
      "6/6 [==============================] - 0s 1ms/step - loss: 18.7604 - mean_absolute_error: 3.5520\n",
      "Test MSE: 18.760395050048828, Test MEA: 3.5520451068878174\n"
     ]
    }
   ],
   "source": [
    "test_mse, test_mae = model.evaluate(X_test, y_test)\n",
    "print (\"Test MSE: {}, Test MEA: {}\".format(test_mse, test_mae))"
   ]
  },
  {
   "cell_type": "code",
   "execution_count": 21,
   "metadata": {},
   "outputs": [
    {
     "name": "stdout",
     "output_type": "stream",
     "text": [
      "11/11 [==============================] - 0s 1ms/step - loss: 15.2094 - mean_absolute_error: 2.7004\n",
      "Test MSE: 15.209432601928711, Test MEA: 2.7004189491271973\n"
     ]
    }
   ],
   "source": [
    "train_mse, train_mae = model.evaluate(X_train, y_train)\n",
    "print (\"Test MSE: {}, Test MEA: {}\".format(train_mse, train_mae))"
   ]
  },
  {
   "cell_type": "code",
   "execution_count": null,
   "metadata": {},
   "outputs": [],
   "source": []
  },
  {
   "cell_type": "markdown",
   "metadata": {},
   "source": [
    "Ukoliko su nam potrebne i druge metrike evaluacije, možemo iskoristiti funkcije biblioteke `scikit-learn`."
   ]
  },
  {
   "cell_type": "code",
   "execution_count": 22,
   "metadata": {},
   "outputs": [],
   "source": [
    "from sklearn import metrics"
   ]
  },
  {
   "cell_type": "code",
   "execution_count": 23,
   "metadata": {},
   "outputs": [],
   "source": [
    "y_predicted = model.predict(X_test)"
   ]
  },
  {
   "cell_type": "code",
   "execution_count": 24,
   "metadata": {},
   "outputs": [
    {
     "data": {
      "text/plain": [
       "0.7230361692067216"
      ]
     },
     "execution_count": 24,
     "metadata": {},
     "output_type": "execute_result"
    }
   ],
   "source": [
    "metrics.r2_score(y_predicted, y_test)"
   ]
  },
  {
   "cell_type": "code",
   "execution_count": null,
   "metadata": {},
   "outputs": [],
   "source": []
  },
  {
   "cell_type": "markdown",
   "metadata": {},
   "source": [
    "Keras biblioteka omogućava i definisanje funkcija sa povratnim pozivom (engl. callback functions) kojima se mogu pratiti željene vrednosti na nivou obrade pojedinačnih paketića ili celih epoha. Prilikom opredeljivanja za praćenje ovih metrika treba uzeti u obzir to da li su globalnog ili lokalnog karaktera i da li ih ima smisla uporosečavati u krajnju vrednost ili ne. Na primer, srednjekavadratna greška se može pratiti na nivou paketa i na kraju uprosečiti, dok to ne važi za koeficijent determinacije. "
   ]
  },
  {
   "cell_type": "markdown",
   "metadata": {},
   "source": [
    "Sledeći primer ilustruje definisanje omotača koji koristi predefinisane funkcije `on_train_begin` i `on_batch_end`. Slično njima, postoje i funkcije `on_train_end` i `on_batch_begin`, kao i funkcije koje se tiču praćenja epoha `on_epoch_begin` i `on_epoch_end`. Gde je primenljivo, ove funkcije imaju i pridruženi paketić sa podacima (parametar `batch`). Parametar `logs` koji se pominje je trenutno fiktivnog karaktera i uvek ga treba postaviti na {}."
   ]
  },
  {
   "cell_type": "code",
   "execution_count": 25,
   "metadata": {},
   "outputs": [],
   "source": [
    "from tensorflow.keras import callbacks"
   ]
  },
  {
   "cell_type": "code",
   "execution_count": 26,
   "metadata": {},
   "outputs": [
    {
     "data": {
      "text/plain": [
       "['loss', 'mean_absolute_error']"
      ]
     },
     "execution_count": 26,
     "metadata": {},
     "output_type": "execute_result"
    }
   ],
   "source": [
    "model.metrics_names"
   ]
  },
  {
   "cell_type": "code",
   "execution_count": 27,
   "metadata": {},
   "outputs": [],
   "source": [
    "class RegressionHistory(callbacks.Callback):\n",
    "    # predefinisana funkcija koja ce se izvrsiti na pocetku treniranja\n",
    "    def on_train_begin(self, logs={}):\n",
    "        self.mse = []\n",
    "\n",
    "    # predefinisana funkcija koja ce se izvrsiti na kraju obrade svakog od paketica\n",
    "    def on_batch_end(self, batch, logs={}):\n",
    "        self.mse.append(logs.get('loss'))"
   ]
  },
  {
   "cell_type": "code",
   "execution_count": 28,
   "metadata": {},
   "outputs": [],
   "source": [
    "regression_history = RegressionHistory()"
   ]
  },
  {
   "cell_type": "code",
   "execution_count": 29,
   "metadata": {},
   "outputs": [],
   "source": [
    "history = model.fit(X_train, y_train, epochs=NUMBER_OF_EPOCHS, batch_size=BATCH_SIZE, verbose=0, validation_split=0.1, callbacks=[regression_history])"
   ]
  },
  {
   "cell_type": "markdown",
   "metadata": {},
   "source": [
    "Izračunatu metriku, srednjekvadratnu grešku, na nivou svakog paketića možemo dobiti preko niza `regression_history.mse`. "
   ]
  },
  {
   "cell_type": "code",
   "execution_count": 30,
   "metadata": {},
   "outputs": [
    {
     "data": {
      "text/plain": [
       "1000"
      ]
     },
     "execution_count": 30,
     "metadata": {},
     "output_type": "execute_result"
    }
   ],
   "source": [
    "len(regression_history.mse)"
   ]
  },
  {
   "cell_type": "code",
   "execution_count": 31,
   "metadata": {},
   "outputs": [
    {
     "data": {
      "text/plain": [
       "10.329270200252534"
      ]
     },
     "execution_count": 31,
     "metadata": {},
     "output_type": "execute_result"
    }
   ],
   "source": [
    "np.average(regression_history.mse)"
   ]
  },
  {
   "cell_type": "code",
   "execution_count": null,
   "metadata": {},
   "outputs": [],
   "source": []
  },
  {
   "cell_type": "markdown",
   "metadata": {},
   "source": [
    "Funkcije sa povratnim pozivom se mogu iskoristiti i za nešto drugačije svrhe. Na primer, često je, ukoliko nema progresa prilikom obučavanja mreže, praktično prevremeno prekinuti obučavanje. Za te svrhe se može koristiti funkcija `EarlyStopping`. Ova funkcija dozvoljava da se parametrom `monitor` naznači metrika koju treba pratiti kao i broj epoha koji treba tolerisati za slučaj da nema progresa - za to se upotrebljava parametar `patience`. Sama funkcija se navodi prilikom poziva metode `fit` u okviru `callbacks` niza. "
   ]
  },
  {
   "cell_type": "code",
   "execution_count": 32,
   "metadata": {},
   "outputs": [],
   "source": [
    "from tensorflow.keras.callbacks import EarlyStopping"
   ]
  },
  {
   "cell_type": "code",
   "execution_count": 33,
   "metadata": {},
   "outputs": [],
   "source": [
    "early_stopping_callback = EarlyStopping(monitor='val_loss', patience=3)"
   ]
  },
  {
   "cell_type": "code",
   "execution_count": 34,
   "metadata": {},
   "outputs": [],
   "source": [
    "history = model.fit(X_train, y_train, epochs=NUMBER_OF_EPOCHS, batch_size=BATCH_SIZE, verbose=0, validation_split=0.1, \\\n",
    "                    callbacks=[early_stopping_callback])"
   ]
  },
  {
   "cell_type": "code",
   "execution_count": 35,
   "metadata": {},
   "outputs": [
    {
     "name": "stdout",
     "output_type": "stream",
     "text": [
      "Broj epoha treniranja:  16\n"
     ]
    }
   ],
   "source": [
    "print('Broj epoha treniranja: ', len(history.epoch))"
   ]
  },
  {
   "cell_type": "code",
   "execution_count": null,
   "metadata": {},
   "outputs": [],
   "source": []
  },
  {
   "cell_type": "markdown",
   "metadata": {},
   "source": [
    "### Korak 5: Čuvanje modela"
   ]
  },
  {
   "cell_type": "markdown",
   "metadata": {},
   "source": [
    "Kao što smo napomenuli, za svaki sloj mreže postoji matrica parametara i matrica slobodnih članova. Sve ove matrice se čuvaju u listi `weights` naučenog modela."
   ]
  },
  {
   "cell_type": "code",
   "execution_count": 36,
   "metadata": {},
   "outputs": [],
   "source": [
    "weights = model.weights"
   ]
  },
  {
   "cell_type": "code",
   "execution_count": 37,
   "metadata": {},
   "outputs": [
    {
     "data": {
      "text/plain": [
       "4"
      ]
     },
     "execution_count": 37,
     "metadata": {},
     "output_type": "execute_result"
    }
   ],
   "source": [
    "len(weights)"
   ]
  },
  {
   "cell_type": "code",
   "execution_count": 38,
   "metadata": {},
   "outputs": [
    {
     "name": "stdout",
     "output_type": "stream",
     "text": [
      "(13, 100)\n",
      "(100,)\n",
      "(100, 1)\n",
      "(1,)\n"
     ]
    }
   ],
   "source": [
    "for i in range(0, len(weights)): \n",
    "    print(weights[i].shape)"
   ]
  },
  {
   "cell_type": "markdown",
   "metadata": {},
   "source": [
    "Izračunate matrice parametara je moguće sačuvati funkcijom `save_weights` i kasnije upotrebiti. Za čuvanje se može koristiti hdf5 (Hierarchical Data Format version 5) koji podržava čuvanje velikih, kompleksnih i heterogenih podataka."
   ]
  },
  {
   "cell_type": "code",
   "execution_count": 39,
   "metadata": {},
   "outputs": [],
   "source": [
    "model.save_weights('models/boston_housing_weights.hdf5')"
   ]
  },
  {
   "cell_type": "code",
   "execution_count": null,
   "metadata": {},
   "outputs": [],
   "source": []
  },
  {
   "cell_type": "markdown",
   "metadata": {},
   "source": [
    "Konfiguracija samog modela, se, takođe, može pročitati, sačuvati i po potrebi, kasnije iskoristiti."
   ]
  },
  {
   "cell_type": "code",
   "execution_count": 40,
   "metadata": {},
   "outputs": [
    {
     "data": {
      "text/plain": [
       "{'name': 'sequential',\n",
       " 'layers': [{'class_name': 'InputLayer',\n",
       "   'config': {'batch_input_shape': (None, 13),\n",
       "    'dtype': 'float32',\n",
       "    'sparse': False,\n",
       "    'ragged': False,\n",
       "    'name': 'input_1'}},\n",
       "  {'class_name': 'Dense',\n",
       "   'config': {'name': 'dense',\n",
       "    'trainable': True,\n",
       "    'dtype': 'float32',\n",
       "    'units': 100,\n",
       "    'activation': 'relu',\n",
       "    'use_bias': True,\n",
       "    'kernel_initializer': {'class_name': 'GlorotUniform',\n",
       "     'config': {'seed': None}},\n",
       "    'bias_initializer': {'class_name': 'Zeros', 'config': {}},\n",
       "    'kernel_regularizer': None,\n",
       "    'bias_regularizer': None,\n",
       "    'activity_regularizer': None,\n",
       "    'kernel_constraint': None,\n",
       "    'bias_constraint': None}},\n",
       "  {'class_name': 'Dense',\n",
       "   'config': {'name': 'dense_1',\n",
       "    'trainable': True,\n",
       "    'dtype': 'float32',\n",
       "    'units': 1,\n",
       "    'activation': 'linear',\n",
       "    'use_bias': True,\n",
       "    'kernel_initializer': {'class_name': 'GlorotUniform',\n",
       "     'config': {'seed': None}},\n",
       "    'bias_initializer': {'class_name': 'Zeros', 'config': {}},\n",
       "    'kernel_regularizer': None,\n",
       "    'bias_regularizer': None,\n",
       "    'activity_regularizer': None,\n",
       "    'kernel_constraint': None,\n",
       "    'bias_constraint': None}}]}"
      ]
     },
     "execution_count": 40,
     "metadata": {},
     "output_type": "execute_result"
    }
   ],
   "source": [
    "model.get_config()"
   ]
  },
  {
   "cell_type": "markdown",
   "metadata": {},
   "source": [
    "Ceo model, uključujući i konfiguraciju i matrice parametara, se može sačuvati funkcijom `save`. Ovo je naročito zgodno kada treniranje mreže treba prekinuti i ponovo nastaviti."
   ]
  },
  {
   "cell_type": "code",
   "execution_count": 41,
   "metadata": {},
   "outputs": [],
   "source": [
    "model.save('models/boston_housing.hdf5')"
   ]
  },
  {
   "cell_type": "code",
   "execution_count": null,
   "metadata": {},
   "outputs": [],
   "source": []
  },
  {
   "cell_type": "markdown",
   "metadata": {},
   "source": [
    "Ceo model, uključujući i konfiguraciju i matrice parametara, se može ponovo pročitati i aktivirati funkcijom `load_model` paketa `models`."
   ]
  },
  {
   "cell_type": "code",
   "execution_count": 42,
   "metadata": {},
   "outputs": [],
   "source": [
    "from tensorflow.keras.models import load_model"
   ]
  },
  {
   "cell_type": "code",
   "execution_count": 43,
   "metadata": {},
   "outputs": [],
   "source": [
    "model_revived = load_model('models/boston_housing.hdf5', compile=False)"
   ]
  },
  {
   "cell_type": "code",
   "execution_count": null,
   "metadata": {},
   "outputs": [],
   "source": []
  },
  {
   "cell_type": "markdown",
   "metadata": {},
   "source": [
    "Učitani model se može koristiti na način na koji smo to do sada i radili. "
   ]
  },
  {
   "cell_type": "code",
   "execution_count": 44,
   "metadata": {},
   "outputs": [
    {
     "data": {
      "text/plain": [
       "array([[5.9245605]], dtype=float32)"
      ]
     },
     "execution_count": 44,
     "metadata": {},
     "output_type": "execute_result"
    }
   ],
   "source": [
    "model_revived.predict(np.random.rand(number_of_features).reshape(1, -1))"
   ]
  },
  {
   "cell_type": "code",
   "execution_count": null,
   "metadata": {},
   "outputs": [],
   "source": []
  },
  {
   "cell_type": "markdown",
   "metadata": {},
   "source": [
    "Zajednica koja se bavi mašinskim učenjem ulaže napore da standardizuje formate za čuvanje mreža. Jedan od njih je i [ONNX](https://onnx.ai/) za koji Keras biblioteka nudi [podršku](https://github.com/onnx/onnx-docker/blob/master/onnx-ecosystem/converter_scripts/keras_onnx.ipynb). O ovim temam će svakako biti više reči i u nastavku kursa. \n",
    "<img src='assets/onnx.png'>"
   ]
  },
  {
   "cell_type": "code",
   "execution_count": null,
   "metadata": {},
   "outputs": [],
   "source": []
  },
  {
   "cell_type": "markdown",
   "metadata": {},
   "source": [
    "Ukoliko nam je potreban uvid u samu arhitekturu mreže, možemo generisati i grafički prikaz korišćenjem pomoćnih funkcionalnosti biblioteke keras. Za ova generisanja nam je potrebna i bibliteka `graphviz`."
   ]
  },
  {
   "cell_type": "code",
   "execution_count": 45,
   "metadata": {},
   "outputs": [],
   "source": [
    "from tensorflow.keras import utils"
   ]
  },
  {
   "cell_type": "code",
   "execution_count": 46,
   "metadata": {},
   "outputs": [
    {
     "data": {
      "image/png": "[encoded data removed]",
      "text/plain": [
       "<IPython.core.display.Image object>"
      ]
     },
     "execution_count": 46,
     "metadata": {},
     "output_type": "execute_result"
    }
   ],
   "source": [
    "utils.plot_model(model, to_file='model_keras_regresija.png', show_shapes=True)"
   ]
  },
  {
   "cell_type": "markdown",
   "metadata": {},
   "source": [
    "Na grafiku su prikazana podrazumevana imena slojeva. Adekvatnija imena se mogu zadati svojstvom `name`. "
   ]
  },
  {
   "cell_type": "markdown",
   "metadata": {},
   "source": [
    "Vizuelizacije mreže će biti moguće i kroz alat [TensorBoard](https://www.tensorflow.org/tensorboard) koji ćemo, takođe, upoznati na nekom od narednih časova."
   ]
  },
  {
   "cell_type": "code",
   "execution_count": null,
   "metadata": {},
   "outputs": [],
   "source": []
  }
 ],
 "metadata": {
  "kernelspec": {
   "display_name": "Python 3",
   "language": "python",
   "name": "python3"
  },
  "language_info": {
   "codemirror_mode": {
    "name": "ipython",
    "version": 3
   },
   "file_extension": ".py",
   "mimetype": "text/x-python",
   "name": "python",
   "nbconvert_exporter": "python",
   "pygments_lexer": "ipython3",
   "version": "3.8.3"
  }
 },
 "nbformat": 4,
 "nbformat_minor": 2
}
