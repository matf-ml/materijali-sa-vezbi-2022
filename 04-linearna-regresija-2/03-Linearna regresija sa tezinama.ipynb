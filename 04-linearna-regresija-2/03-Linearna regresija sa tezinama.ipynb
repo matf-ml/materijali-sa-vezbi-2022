{
 "cells": [
  {
   "cell_type": "code",
   "execution_count": 1,
   "id": "dda82082",
   "metadata": {},
   "outputs": [],
   "source": [
    "import numpy as np\n",
    "import matplotlib.pyplot as plt\n",
    "import pandas as pd"
   ]
  },
  {
   "cell_type": "code",
   "execution_count": 2,
   "id": "2476027f",
   "metadata": {},
   "outputs": [],
   "source": [
    "from sklearn import model_selection\n",
    "from sklearn import linear_model\n",
    "from sklearn import metrics"
   ]
  },
  {
   "cell_type": "code",
   "execution_count": 3,
   "id": "2a4b80c1",
   "metadata": {},
   "outputs": [],
   "source": [
    "np.random.seed(7)"
   ]
  },
  {
   "cell_type": "markdown",
   "id": "a06419e4",
   "metadata": {},
   "source": [
    "# Heteroskedastičnost i homoskedastičnost"
   ]
  },
  {
   "cell_type": "markdown",
   "id": "178e27e6",
   "metadata": {},
   "source": [
    "**Heteroskedastičnost** je pojava koja opisuje promenu varijanse ciljne promenljive sa promenom vrednosti atributa. Kada je varijansa ciljne promenljive mala, sigurni smo da postoji model koji će dobro da opisuje podatke, odnosno očekujemo da će dobar model praviti male greške. Medjutim, kada je varijansa velika nije realno očekivati da bilo koji model može dobro da pokrije ceo mogući opseg vrednosti, odnosno tada očekujemo da će model praviti velike greške i to ne nužno zato što je model loš već zbog karakteristika podataka. "
   ]
  },
  {
   "cell_type": "markdown",
   "id": "99805032",
   "metadata": {},
   "source": [
    "<img src=\"assets/hetero_homo_scedascity.png\">"
   ]
  },
  {
   "cell_type": "markdown",
   "id": "550fa8b7",
   "metadata": {},
   "source": [
    "Osnovna pretpostavka u modelovanju linearnom regresijom je da je varijansa ciljne promenljive konstantna, tj. da je skup podataka sa kojim se radi **homoskedastičan**. Ova pretpostavka se može interpretirati i kao osobina da su  greške koje model pravi nezavisne od veličine ciljne promenljive, što se jasno vidi iz oblika funkcije greške koja se minimizuje kod problema linearne regresije:\n",
    "$$\\frac{1}{N} \\sum_{i=1}^{N} (\\beta x_i - y_i)^2$$"
   ]
  },
  {
   "cell_type": "markdown",
   "id": "6f4c2bb5",
   "metadata": {},
   "source": [
    "**Grafik reziduala modela** prikazuje raspodelu grešaka (reziduala) modela u odnosu na vrednosti ciljne promenljive i koristi se za proveru pretpostavke o homoskedastičnosti skupa podataka. Na x-osi grafika predstavljaju se vrednosti ciljne promenljive, a na y-osi razlike tačne vrednosti ciljne promenljive i predviđanja modela (reziduali).\n",
    "\n",
    "Poželjna svojstva grafika reziduala:\n",
    "- simetrično distribuirani reziduali u odnosu na y=0 (konstantna varijansa reziduala)\n",
    "- pretežno grupisani reziduali oko y=0 (očekivana vrednost reziduala 0)\n",
    "- da nemaju nikakav jasni obrazac (nezavisnost od vrednosti ciljne promenljive)\n",
    "\n",
    "<img src=\"assets/residual_plots.png\" width=\"700\" align=center>"
   ]
  },
  {
   "cell_type": "markdown",
   "id": "5a98fa6c",
   "metadata": {},
   "source": [
    "## Generisanje skupa podataka"
   ]
  },
  {
   "cell_type": "markdown",
   "id": "ab2922ca",
   "metadata": {},
   "source": [
    "Skup podataka koji ćemo koristiti za demonstraciju generisaćemo sintetički. Vrednosti atributa ćemo odabrati iz normalne raspodele $N(0, 9)$, a vrednosti ciljne promenljive po formuli  $y = 3 - 2x$ uz dodatak šuma. Šum će imati normalnu raspodelu, ali će za razliku od dosadašnjih primera imati standardnu devijaciju koja zavisi od vrednosti ciljne promenljive. Na ovaj način postići ćemo heteroskedastičnost skupa podataka."
   ]
  },
  {
   "cell_type": "code",
   "execution_count": 4,
   "id": "78c28ad0",
   "metadata": {},
   "outputs": [],
   "source": [
    "N = 100"
   ]
  },
  {
   "cell_type": "code",
   "execution_count": 5,
   "id": "dad590a6",
   "metadata": {},
   "outputs": [],
   "source": [
    "x = np.random.normal(0, 90, N).reshape(N, 1)"
   ]
  },
  {
   "cell_type": "markdown",
   "id": "64e24b54",
   "metadata": {},
   "source": [
    "Šum biramo iz normalne raspodele $N(0, 1+\\frac{1}{2}y^2)$, što znači da će za veće apsolutne vrednosti ciljne promenljive šum biti veći."
   ]
  },
  {
   "cell_type": "code",
   "execution_count": 6,
   "id": "107c7da1",
   "metadata": {},
   "outputs": [],
   "source": [
    "noise = np.random.normal(0, 1 + 0.5*(3 - 2*x)**2)"
   ]
  },
  {
   "cell_type": "code",
   "execution_count": 7,
   "id": "3fa5881b",
   "metadata": {},
   "outputs": [],
   "source": [
    "y = 3 - 2*x + noise"
   ]
  },
  {
   "cell_type": "markdown",
   "id": "a395b736",
   "metadata": {},
   "source": [
    "## Model proste linearne regresije"
   ]
  },
  {
   "cell_type": "markdown",
   "id": "8712c1ef",
   "metadata": {},
   "source": [
    "Naučićemo model proste linearne regresije nad celim skupom podataka (posto ga nećemo evaluirati) i ukazati na sve prethodno navedene probleme korišćenja osnovnog modela linearne regresije u slučaju heteroskedastičnog skupa podataka."
   ]
  },
  {
   "cell_type": "code",
   "execution_count": 8,
   "id": "a1967219",
   "metadata": {},
   "outputs": [],
   "source": [
    "model = linear_model.LinearRegression()"
   ]
  },
  {
   "cell_type": "code",
   "execution_count": 9,
   "id": "9b551ec3",
   "metadata": {},
   "outputs": [
    {
     "data": {
      "text/plain": [
       "LinearRegression()"
      ]
     },
     "execution_count": 9,
     "metadata": {},
     "output_type": "execute_result"
    }
   ],
   "source": [
    "model.fit(x, y)"
   ]
  },
  {
   "cell_type": "code",
   "execution_count": 10,
   "id": "c12b0e4a",
   "metadata": {},
   "outputs": [],
   "source": [
    "beta0 = model.intercept_[0]\n",
    "beta1 = model.coef_[0][0]"
   ]
  },
  {
   "cell_type": "code",
   "execution_count": 11,
   "id": "ddb4e045",
   "metadata": {},
   "outputs": [
    {
     "name": "stdout",
     "output_type": "stream",
     "text": [
      "Koeficijenti modela:  -5079.866756563893 -85.1521555679214\n"
     ]
    }
   ],
   "source": [
    "print('Koeficijenti modela: ', beta0, beta1)"
   ]
  },
  {
   "cell_type": "markdown",
   "id": "7a329339",
   "metadata": {},
   "source": [
    "Prikazaćemo na istom grafiku skup podataka, linearnu funkcija kojom smo generisali skup podataka i dobijeni model linearne regresije."
   ]
  },
  {
   "cell_type": "code",
   "execution_count": 12,
   "id": "9ac6a089",
   "metadata": {},
   "outputs": [
    {
     "data": {
      "image/png": "[encoded data removed]",
      "text/plain": [
       "<Figure size 432x288 with 1 Axes>"
      ]
     },
     "metadata": {
      "needs_background": "light"
     },
     "output_type": "display_data"
    }
   ],
   "source": [
    "plt.scatter(x, y, color='blue')\n",
    "plt.plot(x, 3 - 2*x, color='red', label='prava zavisnost')\n",
    "plt.plot(x, beta0 + beta1*x, color='yellow', label='osnovni model')\n",
    "plt.legend(loc='best')\n",
    "plt.show()"
   ]
  },
  {
   "cell_type": "markdown",
   "id": "dfc7eb45",
   "metadata": {},
   "source": [
    "Prikazaćemo i grafik reziduala."
   ]
  },
  {
   "cell_type": "code",
   "execution_count": 13,
   "id": "5490ff70",
   "metadata": {},
   "outputs": [
    {
     "data": {
      "image/png": "[encoded data removed]",
      "text/plain": [
       "<Figure size 432x288 with 1 Axes>"
      ]
     },
     "metadata": {
      "needs_background": "light"
     },
     "output_type": "display_data"
    }
   ],
   "source": [
    "plt.scatter(y, y - model.predict(x))\n",
    "plt.title('Grafik reziduala')\n",
    "plt.show()"
   ]
  },
  {
   "cell_type": "code",
   "execution_count": null,
   "id": "48eefeec",
   "metadata": {},
   "outputs": [],
   "source": []
  },
  {
   "cell_type": "markdown",
   "id": "c9670009",
   "metadata": {},
   "source": [
    "## Model linearne regresije sa tezinama"
   ]
  },
  {
   "cell_type": "markdown",
   "id": "7eb5c831",
   "metadata": {},
   "source": [
    "Kod modela linearne regresije sa težinama umesto sume kvadrata reziduala minimizuje se njihova težinska suma\n",
    "\n",
    "$$\\frac{1}{N} \\sum_{i=1}^{N} \\omega_i (\\beta x_i - y_i)^2$$\n",
    "\n",
    "Koeficijenti $\\omega_i$ predstavljaju težine koje se pridružuju instancama, odnosno rezidualima. Za vrednosti $\\omega_i = 1$ dobija se osnovni oblik problema linearne regresije. Algebarska forma rešenja problema linearne regresije sa težinama je $\\beta = (X^TWX)^{-1}X^TWy$, gde je matrica $W$ dijagonalna matrica sa vrednostima $\\omega_1$, ..., $\\omega_N$ na glavnoj dijagonali (tzv. matrica težina).\n",
    "\n",
    "Model linearne regresije sa težinama je pogodan u slučaju heteroskedastičnih skupova podataka ili kada želimo da postignemo visoku tačnost modela za pojedine instance skupa podataka, npr. one koje su jako česte ili koje su od posebnog značaja za fenomen koji se modeluje."
   ]
  },
  {
   "cell_type": "markdown",
   "id": "19813713",
   "metadata": {},
   "source": [
    "Model se konstruiše na isti način, funkcijom <code>Linearregression()</code>."
   ]
  },
  {
   "cell_type": "code",
   "execution_count": 14,
   "id": "1b23cf0f",
   "metadata": {},
   "outputs": [],
   "source": [
    "improved_model = linear_model.LinearRegression()"
   ]
  },
  {
   "cell_type": "markdown",
   "id": "ef959952",
   "metadata": {},
   "source": [
    "Prilikom poziva metoda <code>fit()</code> težine pojedinačnih instanci zadaju se parametrom <code>sample_weight</code>. U našem primeru instancama kod kojih je mala varijansa ciljne promenljive treba pridružiti veće težine kako bi model bio sigurniji, a instancama kod kojih je varijansa velika manje težine. To možemo postići uzimanjem reciprocne vrednosti varijanse $\\omega_i = \\frac{1}{\\sigma_i^2}$ za vrednosti težina."
   ]
  },
  {
   "cell_type": "code",
   "execution_count": 15,
   "id": "49912f75",
   "metadata": {},
   "outputs": [],
   "source": [
    "weights = 1 / (1 + 0.5*(3 - 2*x)**2)"
   ]
  },
  {
   "cell_type": "code",
   "execution_count": 16,
   "id": "980944da",
   "metadata": {},
   "outputs": [
    {
     "data": {
      "text/plain": [
       "LinearRegression()"
      ]
     },
     "execution_count": 16,
     "metadata": {},
     "output_type": "execute_result"
    }
   ],
   "source": [
    "improved_model.fit(x, y, sample_weight=weights.ravel())"
   ]
  },
  {
   "cell_type": "code",
   "execution_count": 17,
   "id": "d54d6785",
   "metadata": {},
   "outputs": [],
   "source": [
    "beta0_improved = improved_model.intercept_[0]\n",
    "beta1_improved = improved_model.coef_[0][0]"
   ]
  },
  {
   "cell_type": "code",
   "execution_count": 18,
   "id": "583df408",
   "metadata": {},
   "outputs": [
    {
     "name": "stdout",
     "output_type": "stream",
     "text": [
      "Koeficijenti modela:  1.2357792136826893 -17.005671954066877\n"
     ]
    }
   ],
   "source": [
    "print('Koeficijenti modela: ', beta0_improved, beta1_improved)"
   ]
  },
  {
   "cell_type": "markdown",
   "id": "b0cb5c16",
   "metadata": {},
   "source": [
    "Prikazaćemo na istom grafiku skup podataka, linearnu funkcija kojom smo generisali skup podataka, osnovni i unapređeni model linearne regresije."
   ]
  },
  {
   "cell_type": "code",
   "execution_count": 19,
   "id": "a3146d25",
   "metadata": {},
   "outputs": [
    {
     "data": {
      "image/png": "[encoded data removed]",
      "text/plain": [
       "<Figure size 432x288 with 1 Axes>"
      ]
     },
     "metadata": {
      "needs_background": "light"
     },
     "output_type": "display_data"
    }
   ],
   "source": [
    "plt.scatter(x, y, color='blue')\n",
    "plt.plot(x, 3 - 2*x, color='red', label='prava zavisnost')\n",
    "plt.plot(x, beta0 + beta1*x, color='yellow', label='osnovni model')\n",
    "plt.plot(x, beta0_improved + beta1_improved*x, color='green', label='unapređeni model')\n",
    "plt.legend(loc='best')\n",
    "plt.show()"
   ]
  },
  {
   "cell_type": "markdown",
   "id": "e8915ae1",
   "metadata": {},
   "source": [
    "Primetimo da smo sa otežavanjem instanci postigli da se model bolje prilagodi pravoj zavisnosti u podacima."
   ]
  },
  {
   "cell_type": "markdown",
   "id": "e73bdfeb",
   "metadata": {},
   "source": [
    "Prikazacemo i grafik reziduala pomnoženih odgovarajućim težinama."
   ]
  },
  {
   "cell_type": "code",
   "execution_count": 20,
   "id": "31d9d75b",
   "metadata": {},
   "outputs": [
    {
     "data": {
      "image/png": "[encoded data removed]",
      "text/plain": [
       "<Figure size 432x288 with 1 Axes>"
      ]
     },
     "metadata": {
      "needs_background": "light"
     },
     "output_type": "display_data"
    }
   ],
   "source": [
    "plt.scatter(y, weights * (y - improved_model.predict(x)))\n",
    "plt.title('Grafik otežanih reziduala')\n",
    "plt.show()"
   ]
  },
  {
   "cell_type": "code",
   "execution_count": null,
   "id": "f8d69231",
   "metadata": {},
   "outputs": [],
   "source": []
  }
 ],
 "metadata": {
  "kernelspec": {
   "display_name": "Python 3",
   "language": "python",
   "name": "python3"
  },
  "language_info": {
   "codemirror_mode": {
    "name": "ipython",
    "version": 3
   },
   "file_extension": ".py",
   "mimetype": "text/x-python",
   "name": "python",
   "nbconvert_exporter": "python",
   "pygments_lexer": "ipython3",
   "version": "3.7.6"
  }
 },
 "nbformat": 4,
 "nbformat_minor": 5
}
