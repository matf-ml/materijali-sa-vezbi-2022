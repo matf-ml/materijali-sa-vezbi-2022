{
 "cells": [
  {
   "cell_type": "markdown",
   "metadata": {},
   "source": [
    "# Podsetnik: Linearna algebra "
   ]
  },
  {
   "cell_type": "markdown",
   "metadata": {},
   "source": [
    "### Vektorski prostor"
   ]
  },
  {
   "cell_type": "markdown",
   "metadata": {},
   "source": [
    "Vektorski prostor $(V, +, \\cdot)$ je algebarska struktura sa jednom binarnom operacijom, u oznaci $+$, i jednom spoljnom $K$-operacijom, u oznaci $\\cdot$, nad skupom skalara $K$ za koju važi:\n",
    "- zatvorenost u odnosu na sabiranje tj. ako $u,v \\in V \\text{tada je i } u+v \\in V$\n",
    "- zatvorenost u odnosu na množenje skalarom tj. ako $u \\in V$ i $\\alpha \\in K$, tada $\\alpha \\cdot u \\in V$"
   ]
  },
  {
   "cell_type": "markdown",
   "metadata": {},
   "source": [
    "Neki primeri vektorskih prostora su: \n",
    "* prostor geometrijskih vektora\n",
    "* prostor polinoma u odnosu na sabiranje i množenje skalarom\n",
    "* prostor svih kvadratnih matrica u odnosu na sabiranje i množenje skalarom\n",
    "* prostor svih uređenih parova $(x_1, x_2, \\ldots, x_n)$ u odnosu na sabiranje i množenje skalarom. "
   ]
  },
  {
   "cell_type": "markdown",
   "metadata": {},
   "source": [
    "### Linearna zavisnost"
   ]
  },
  {
   "cell_type": "markdown",
   "metadata": {},
   "source": [
    "Vektori $v_1,v_2,v_3,\\ldots,v_n$ su **linearno zavisni** ako postoje skalari $\\alpha_1, \\alpha_2, \\alpha_2, ..., \\alpha_n$ od kojih je bar jedan različit od nule takvi da je $\\alpha_1v_1 + \\alpha_2v_2 + \\ldots + \\alpha_nv_n = 0$. "
   ]
  },
  {
   "cell_type": "markdown",
   "metadata": {},
   "source": [
    "Vektori $v_1, v_2, v_3, \\ldots , v_n$ su **linearno nezavisni** ako iz $\\alpha_1v_1 + \\alpha_2v_2 + \\ldots + \\alpha_nv_n = 0$ sledi $\\alpha_1 = \\alpha_2 = \\alpha_2 = \\ldots = \\alpha_n = 0$."
   ]
  },
  {
   "cell_type": "code",
   "execution_count": null,
   "metadata": {},
   "outputs": [],
   "source": []
  },
  {
   "cell_type": "markdown",
   "metadata": {},
   "source": [
    "### Sopstveni vektori"
   ]
  },
  {
   "cell_type": "markdown",
   "metadata": {},
   "source": [
    "Za matricu $A \\in R^{n \\times n}$, vektor $x \\in R^{n}, x \\neq 0$ je (desni) **sopstveni vektor** ukoliko važi $Ax=\\lambda x$ za neko $\\lambda \\in R$. Vrednost $\\lambda$ se naziva **sopstvena vrednost** matrice $A$ koja odgovara sopstvenom vektoru $x$.\n",
    "\n",
    "Smisao sopstvenih vektora možemo objasniti grafički: to su vektori koji u transformaciji određenoj matricom $A$ ne menjaju svoj pravac; mogu se izdužiti, skratiti ili promeniti smer, ali uvek zadržavaju svoj pravac. Na slici ispod, ljubičasti i plavi vektor predstavljaju sopstvene vektore. <img src='./assets/eigenvectors.gif'> "
   ]
  },
  {
   "cell_type": "markdown",
   "metadata": {},
   "source": [
    "Sopstvene vrednosti i njima odgovarajući sopstveni vektori se mogu odrediti pomoću nula karakterističnog polinoma matrice $A$ tj. rešavanjem matrične jednačine $det(A-\\lambda I)=0$"
   ]
  },
  {
   "cell_type": "markdown",
   "metadata": {},
   "source": [
    "#### Primer. \n",
    "\n",
    "Za datu matricu\n",
    "$A =\\begin{bmatrix} \n",
    "2 & 1 \\\\\n",
    "1 & 2\n",
    "\\end{bmatrix}$ sopstvene vektore možemo odrediti rešavajuci jednačinu:\n",
    "<br> \n",
    "\n",
    "$ det (A-\\lambda I) = \\begin{vmatrix}\n",
    "2-\\lambda  & 1 \\\\\n",
    "1 & 2-\\lambda\n",
    "\\end{vmatrix} = (2-\\lambda)^2 -1 = \\lambda^2 - 4\\lambda +3$ \n",
    "\n",
    "Rešenja ove kvadratne jednačine su $\\lambda_1 = 1$ i $\\lambda_2 = 3$.\n",
    "\n",
    "Sopstvenoj vrednosti $\\lambda_1 = 1$ odgovara sopstveni vektor $x_1 = \\begin{bmatrix} 1 \\\\ -1 \\end{bmatrix}$ dobijen rešavanjem sistema $\\begin{bmatrix} \n",
    "1 & 1 \\\\\n",
    "1 & 1\n",
    "\\end{bmatrix} \\cdot \\begin{bmatrix} v_1 \\\\ v_2 \\end{bmatrix} = \\begin{bmatrix} 0 \\\\ 0 \\end{bmatrix} $.\n",
    "\n",
    "Sopstvenoj vrednost $\\lambda_2 = 3$ odgovara sopstveni vektor $x_2 = \\begin{bmatrix} 1 \\\\ 1 \\end{bmatrix}$ dobijen rešavanjem sistema $\\begin{bmatrix} \n",
    "-1 & 1 \\\\\n",
    "1 & -1\n",
    "\\end{bmatrix} \\cdot \\begin{bmatrix} v_1 \\\\ v_2 \\end{bmatrix} = \\begin{bmatrix} 0 \\\\ 0 \\end{bmatrix} $.\n",
    "\n"
   ]
  },
  {
   "cell_type": "markdown",
   "metadata": {},
   "source": [
    "U programskom jeziku Python sopstvene vrednosti i odgovarajuće (normirane) sopstvene vektore možemo dobiti korisćenjem funkcije `eig` paketa `linalg` biblioteke `numpy`. "
   ]
  },
  {
   "cell_type": "code",
   "execution_count": 1,
   "metadata": {},
   "outputs": [],
   "source": [
    "import numpy as np"
   ]
  },
  {
   "cell_type": "code",
   "execution_count": 2,
   "metadata": {},
   "outputs": [
    {
     "data": {
      "text/plain": [
       "array([[2, 1],\n",
       "       [1, 2]])"
      ]
     },
     "execution_count": 2,
     "metadata": {},
     "output_type": "execute_result"
    }
   ],
   "source": [
    "A = np.array([[2, 1], [1, 2]])\n",
    "A"
   ]
  },
  {
   "cell_type": "code",
   "execution_count": 3,
   "metadata": {},
   "outputs": [],
   "source": [
    "values, vectors = np.linalg.eig(A)"
   ]
  },
  {
   "cell_type": "code",
   "execution_count": 4,
   "metadata": {},
   "outputs": [
    {
     "name": "stdout",
     "output_type": "stream",
     "text": [
      "Sopstvene vrednosti matrice A su:  [3. 1.]\n"
     ]
    }
   ],
   "source": [
    "print('Sopstvene vrednosti matrice A su: ', values)"
   ]
  },
  {
   "cell_type": "code",
   "execution_count": 5,
   "metadata": {},
   "outputs": [
    {
     "name": "stdout",
     "output_type": "stream",
     "text": [
      "Normirani sopstveni vektori matrice A su kolone rezultujuće matrice:  [0.70710678 0.70710678] [-0.70710678  0.70710678]\n"
     ]
    }
   ],
   "source": [
    "print('Normirani sopstveni vektori matrice A su kolone rezultujuće matrice: ', vectors[:, 0], vectors[:, 1])"
   ]
  },
  {
   "cell_type": "code",
   "execution_count": null,
   "metadata": {},
   "outputs": [],
   "source": []
  },
  {
   "cell_type": "markdown",
   "metadata": {},
   "source": [
    "Sopstveni vektori imaju mnoga zanimljiva matematička svojstva."
   ]
  },
  {
   "cell_type": "markdown",
   "metadata": {},
   "source": [
    "**Teorema.**  "
   ]
  },
  {
   "cell_type": "markdown",
   "metadata": {},
   "source": [
    "Sopstveni vektori koji odgovaraju različitim sopstvenim vrednostima su linearno nezavisni. "
   ]
  },
  {
   "cell_type": "code",
   "execution_count": null,
   "metadata": {},
   "outputs": [],
   "source": []
  },
  {
   "cell_type": "markdown",
   "metadata": {},
   "source": [
    "**Teorema.** "
   ]
  },
  {
   "cell_type": "markdown",
   "metadata": {},
   "source": [
    "Neka je $V_i$ skup svih sopstvenih vektora $x$ koji odgovaraju sopstvenoj vrednosti $\\lambda_i$ tj. za koje važi $Ax=\\lambda_ix$. Ovakav skup obrazuje sopstveni podprostor."
   ]
  },
  {
   "cell_type": "code",
   "execution_count": null,
   "metadata": {},
   "outputs": [],
   "source": []
  },
  {
   "cell_type": "markdown",
   "metadata": {},
   "source": [
    "**Teorema.** "
   ]
  },
  {
   "cell_type": "markdown",
   "metadata": {},
   "source": [
    "Ako je zbir dimenzija podprostora koji odgovaraju sopstvenim vrednostima matrice $A$ jednak dimenziji matrice $A$, tada se $A$ može svesti na dijagonalnu matricu oblika \n",
    "$ D = \\begin{bmatrix} \n",
    "\\lambda_1 & & & & \\\\\n",
    "& ... & & & \\\\\n",
    "& & \\lambda_2 & & \\\\\n",
    "& & & ... &  \\\\\n",
    "& & & & \\lambda_n \\\\\n",
    "\\end{bmatrix}$ tj. važi $AX = DX$ gde je $X$ matrica svih sopstvenih vektora matrice $A$ (po kolonama).  "
   ]
  },
  {
   "cell_type": "code",
   "execution_count": null,
   "metadata": {},
   "outputs": [],
   "source": []
  },
  {
   "cell_type": "markdown",
   "metadata": {},
   "source": [
    "Iz prethodnog sledi da je $D = X^{-1}AX$ tj. da je $X$ matrica transformacija. "
   ]
  },
  {
   "cell_type": "code",
   "execution_count": null,
   "metadata": {},
   "outputs": [],
   "source": []
  },
  {
   "cell_type": "markdown",
   "metadata": {},
   "source": [
    "Matrica $A$ je **ortogonalna** ako važi $AA^T = I$ tj. $A^{-1} = A^T$."
   ]
  },
  {
   "cell_type": "markdown",
   "metadata": {},
   "source": [
    "**Teorema.** "
   ]
  },
  {
   "cell_type": "markdown",
   "metadata": {},
   "source": [
    "Ako je $A$ realna simetrična matrica, matrica njenih sopstvenih vektora je ortogonalna. "
   ]
  },
  {
   "cell_type": "code",
   "execution_count": null,
   "metadata": {},
   "outputs": [],
   "source": []
  },
  {
   "cell_type": "markdown",
   "metadata": {},
   "source": [
    "Sledećom Python funkcijom se može proveriti da li je matrica, do na određenu tačnost, simetrična."
   ]
  },
  {
   "cell_type": "code",
   "execution_count": 6,
   "metadata": {},
   "outputs": [],
   "source": [
    "def is_symmetric(A):\n",
    "    return np.allclose(A, A.T)"
   ]
  },
  {
   "cell_type": "code",
   "execution_count": 7,
   "metadata": {},
   "outputs": [],
   "source": [
    "A = np.array([\n",
    "    [1, 2, 3],\n",
    "    [2, 5, 10.0001],\n",
    "    [3, 10, 4]\n",
    "])"
   ]
  },
  {
   "cell_type": "code",
   "execution_count": 8,
   "metadata": {},
   "outputs": [
    {
     "data": {
      "text/plain": [
       "True"
      ]
     },
     "execution_count": 8,
     "metadata": {},
     "output_type": "execute_result"
    }
   ],
   "source": [
    "is_symmetric(A)"
   ]
  },
  {
   "cell_type": "code",
   "execution_count": null,
   "metadata": {},
   "outputs": [],
   "source": []
  },
  {
   "cell_type": "code",
   "execution_count": null,
   "metadata": {},
   "outputs": [],
   "source": []
  },
  {
   "cell_type": "markdown",
   "metadata": {},
   "source": [
    "### Definitnost matrica"
   ]
  },
  {
   "cell_type": "markdown",
   "metadata": {},
   "source": [
    "Za kvadratnu matricu $A \\in R^{n \\times n}$ kažemo da je **pozitivno semidefinitna** ako važi $x^TAx\\geq0$ za sve $x \\in R^n$."
   ]
  },
  {
   "cell_type": "markdown",
   "metadata": {},
   "source": [
    "#### Primer. \n",
    "\n",
    "Matrica $A =\\begin{bmatrix} \n",
    "1 & 1 \\\\\n",
    "1 & 1\n",
    "\\end{bmatrix}$ je pozitivno semidefinitna jer za proizvoljno $\\begin{bmatrix} x_1 \\\\ x_2 \\end{bmatrix}$ važi: \n",
    "$ \\begin{bmatrix} x_1 x_2 \\end{bmatrix} \\cdot \\begin{bmatrix} \n",
    "1 & 1 \\\\\n",
    "1 & 1\n",
    "\\end{bmatrix} \\cdot \\begin{bmatrix} x_1 \\\\ x_2 \\end{bmatrix} = (x_1 + x_2)^2 \\geq 0$. "
   ]
  },
  {
   "cell_type": "code",
   "execution_count": null,
   "metadata": {},
   "outputs": [],
   "source": []
  },
  {
   "cell_type": "markdown",
   "metadata": {},
   "source": [
    "Za kvadratnu matricu $A \\in R^{n \\times n}$ kažemo da je **pozitivno definitna** ako važi $x^TAx > 0$ za sve $x \\in R^n$ tj. ako je $x^TAx=0$ tada je $x=0$."
   ]
  },
  {
   "cell_type": "markdown",
   "metadata": {},
   "source": [
    "#### Primer. \n",
    "\n",
    "Matrica $A =\\begin{bmatrix} \n",
    "1 & 2 \\\\\n",
    "-2 & 1\n",
    "\\end{bmatrix}$ je pozitivno definitna jer za proizvoljno $\\begin{bmatrix} x_1 \\\\ x_2 \\end{bmatrix}$ vazi: \n",
    "$ \\begin{bmatrix} x_1 x_2 \\end{bmatrix} \\cdot \\begin{bmatrix} \n",
    "1 & 2 \\\\\n",
    "-2 & 1\n",
    "\\end{bmatrix} \\cdot \\begin{bmatrix} x_1 \\\\ x_2 \\end{bmatrix} = x_1^2 + x_2^2 \\geq 0$.\n",
    "\n",
    "Važi $x_1^2 + x_2^2 = 0$ samo ako je $x_1$=$x_2$=0 tj. ako je $x$ nula vektor. "
   ]
  },
  {
   "cell_type": "code",
   "execution_count": null,
   "metadata": {},
   "outputs": [],
   "source": []
  },
  {
   "cell_type": "markdown",
   "metadata": {},
   "source": [
    "Smisao definitnosti, takođe, možemo objasniti geometrijski: ako je matrica $M$ koja definiše preslikavanje pozitivno semidefinitna, novi smer polaznog vektora će se promeniti za najviše $\\frac{\\pi}{2}$.  \n",
    "<img src='assets/positive_semidefinitness.png' style='width: 400px'>"
   ]
  },
  {
   "cell_type": "markdown",
   "metadata": {},
   "source": [
    "Definitnost matrice se može proveriti na par načina."
   ]
  },
  {
   "cell_type": "markdown",
   "metadata": {},
   "source": [
    "**Teorema (Silvestrov kriterijum).** "
   ]
  },
  {
   "cell_type": "markdown",
   "metadata": {},
   "source": [
    "Matrica $Q$ je pozitivno definitna akko je determinanta svih kvadratnih podmatrica koje uključuju element $q_{11}$ pozitivna.  <img src='assets/sylvester_criterion.jpg' style='width: 300px'>"
   ]
  },
  {
   "cell_type": "code",
   "execution_count": null,
   "metadata": {},
   "outputs": [],
   "source": []
  },
  {
   "cell_type": "markdown",
   "metadata": {},
   "source": [
    "Možemo napisati i Python funkciju koja proverava da li matrica zadovoljava Silvestrov kriterijum."
   ]
  },
  {
   "cell_type": "code",
   "execution_count": 9,
   "metadata": {},
   "outputs": [],
   "source": [
    "def silvester(A):\n",
    "    assert A.ndim == 2, 'Fatal Error: invalid dimension.'\n",
    "    assert A.shape[0] == A.shape[1], 'Fatal Error: invalid shape.'\n",
    "    \n",
    "    n = A.shape[0]\n",
    "    for i in range(1, n+1):\n",
    "        tmp_A = A[:i, :i]\n",
    "        if np.linalg.det(tmp_A) <= 0:\n",
    "            return False\n",
    "    return True"
   ]
  },
  {
   "cell_type": "code",
   "execution_count": 10,
   "metadata": {},
   "outputs": [],
   "source": [
    "A = np.array([[1, 0, 0], [0, 3, 0], [0, 0, 5]])"
   ]
  },
  {
   "cell_type": "code",
   "execution_count": 11,
   "metadata": {},
   "outputs": [
    {
     "data": {
      "text/plain": [
       "array([[1, 0, 0],\n",
       "       [0, 3, 0],\n",
       "       [0, 0, 5]])"
      ]
     },
     "execution_count": 11,
     "metadata": {},
     "output_type": "execute_result"
    }
   ],
   "source": [
    "A"
   ]
  },
  {
   "cell_type": "code",
   "execution_count": 12,
   "metadata": {},
   "outputs": [
    {
     "data": {
      "text/plain": [
       "True"
      ]
     },
     "execution_count": 12,
     "metadata": {},
     "output_type": "execute_result"
    }
   ],
   "source": [
    "silvester(A)"
   ]
  },
  {
   "cell_type": "code",
   "execution_count": null,
   "metadata": {},
   "outputs": [],
   "source": []
  },
  {
   "cell_type": "markdown",
   "metadata": {},
   "source": [
    "Matrica A je **dijagonalno dominantna** ako važi $|a_{ii}| \\geq \\sum_{i \\neq j}{|a_{ij}|}$ za sve $i$ tj. ako je apsolutna vrednost svakog elementa na glavnoj dijagonali veća od zbira preostalih elemenata vrste kojoj pripada.  "
   ]
  },
  {
   "cell_type": "markdown",
   "metadata": {},
   "source": [
    "Sledi funkcija koja proverava da li je matrica dijagonalno dominantna."
   ]
  },
  {
   "cell_type": "code",
   "execution_count": 13,
   "metadata": {},
   "outputs": [],
   "source": [
    "def diagonal_dominance(A):\n",
    "    assert A.ndim == 2, 'Fatal Error: invalid dimension.'\n",
    "    assert A.shape[0] == A.shape[1], 'Fatal Error: invalid shape.'\n",
    "\n",
    "    n = A.shape[0]\n",
    "    for i in range(n):\n",
    "        if 2*np.abs(A[i,i]) < np.sum(np.abs(A[i, :])):\n",
    "            return False\n",
    "        \n",
    "    return True"
   ]
  },
  {
   "cell_type": "code",
   "execution_count": 14,
   "metadata": {},
   "outputs": [],
   "source": [
    "A = np.array([\n",
    "    [-4, 20, 1], \n",
    "    [1, 6, 2], \n",
    "    [1, -2, 5]\n",
    "])"
   ]
  },
  {
   "cell_type": "code",
   "execution_count": 15,
   "metadata": {},
   "outputs": [
    {
     "data": {
      "text/plain": [
       "array([[-4, 20,  1],\n",
       "       [ 1,  6,  2],\n",
       "       [ 1, -2,  5]])"
      ]
     },
     "execution_count": 15,
     "metadata": {},
     "output_type": "execute_result"
    }
   ],
   "source": [
    "A"
   ]
  },
  {
   "cell_type": "code",
   "execution_count": 16,
   "metadata": {},
   "outputs": [
    {
     "data": {
      "text/plain": [
       "False"
      ]
     },
     "execution_count": 16,
     "metadata": {},
     "output_type": "execute_result"
    }
   ],
   "source": [
    "diagonal_dominance(A)"
   ]
  },
  {
   "cell_type": "code",
   "execution_count": 17,
   "metadata": {},
   "outputs": [],
   "source": [
    "A = np.array([\n",
    "    [4, -1, 1],\n",
    "    [4, -8, 1],\n",
    "    [-2, 1, 5]\n",
    "])"
   ]
  },
  {
   "cell_type": "code",
   "execution_count": 18,
   "metadata": {},
   "outputs": [
    {
     "data": {
      "text/plain": [
       "True"
      ]
     },
     "execution_count": 18,
     "metadata": {},
     "output_type": "execute_result"
    }
   ],
   "source": [
    "diagonal_dominance(A)"
   ]
  },
  {
   "cell_type": "code",
   "execution_count": null,
   "metadata": {},
   "outputs": [],
   "source": []
  },
  {
   "cell_type": "markdown",
   "metadata": {},
   "source": [
    "**Teorema.** "
   ]
  },
  {
   "cell_type": "markdown",
   "metadata": {},
   "source": [
    "Ako je matrica $A$ dijagonalno dominantna i ako su dijagonalni elementi nenegativni, onda je $A$ pozitivno semidefinitna. "
   ]
  },
  {
   "cell_type": "code",
   "execution_count": null,
   "metadata": {},
   "outputs": [],
   "source": []
  },
  {
   "cell_type": "markdown",
   "metadata": {},
   "source": [
    "**Teorema.** "
   ]
  },
  {
   "cell_type": "markdown",
   "metadata": {},
   "source": [
    "Kvadratna simetrična matrica je pozitivno definitna akko ima pozitivne sopstvene vrednosti. "
   ]
  },
  {
   "cell_type": "code",
   "execution_count": null,
   "metadata": {},
   "outputs": [],
   "source": []
  },
  {
   "cell_type": "code",
   "execution_count": null,
   "metadata": {},
   "outputs": [],
   "source": []
  },
  {
   "cell_type": "markdown",
   "metadata": {},
   "source": [
    "**Teorema (Coleski dekompozicija).** "
   ]
  },
  {
   "cell_type": "markdown",
   "metadata": {},
   "source": [
    "Kvadratna matrica je pozitivno definitna akko postoji gornje trougaona matrica L takva da je $A=LL^T$."
   ]
  },
  {
   "cell_type": "code",
   "execution_count": null,
   "metadata": {},
   "outputs": [],
   "source": []
  },
  {
   "cell_type": "markdown",
   "metadata": {},
   "source": [
    "### Norma"
   ]
  },
  {
   "cell_type": "markdown",
   "metadata": {},
   "source": [
    "Neka je $X \\subset R^n$. **Norma** je svako preslikavanje $||\\cdot||: X \\to R^+$ za koje važi: \n",
    "\n",
    "1) $||x|| = 0$ akko $x=0$\n",
    "\n",
    "2) $||\\lambda x|| = |\\lambda|||x||$, $\\lambda \\in R$\n",
    "\n",
    "3) $||x+y|| \\leq ||x||+||y||$\n"
   ]
  },
  {
   "cell_type": "code",
   "execution_count": null,
   "metadata": {},
   "outputs": [],
   "source": []
  },
  {
   "cell_type": "markdown",
   "metadata": {},
   "source": [
    "Intuitivno, normu povezujemo sa intenzitetom tj. dužinom vektora."
   ]
  },
  {
   "cell_type": "code",
   "execution_count": null,
   "metadata": {},
   "outputs": [],
   "source": []
  },
  {
   "cell_type": "markdown",
   "metadata": {},
   "source": [
    "#### Primer: $l_p$ norme  \n",
    "\n",
    "$||x||_p = \\sqrt[p]{\\sum_{i=1}^{n}{|x_i|^p}}$, $1\\leq p < +\\infty$\n",
    "\n",
    "$||x||_{\\infty} = max(|x_1|, ..., |x_n|)$\n",
    "\n",
    "\n",
    "$l_1$ norma (taxicab, Menhetn norma): $||x||_1 = \\sum_{i=1}^{n}{|x_i|}$\n",
    "\n",
    "$l_2$ norma: $||x||_2 = \\sqrt{\\sum_{i=1}^{n}{x_i^2}}$"
   ]
  },
  {
   "cell_type": "code",
   "execution_count": null,
   "metadata": {},
   "outputs": [],
   "source": []
  },
  {
   "cell_type": "markdown",
   "metadata": {},
   "source": [
    "**Teorema o ekvivalentnosti p-normi:** "
   ]
  },
  {
   "cell_type": "markdown",
   "metadata": {},
   "source": [
    "Za svake dve p-norme $||\\cdot||_a$ i $||\\cdot||_b$ postoje konstante $0<c_1<c_2$ takve da važi $c_1||x||_a \\leq ||x||_b \\leq c_2||x||_a$."
   ]
  },
  {
   "cell_type": "markdown",
   "metadata": {},
   "source": [
    "Ova teorema ukazuje da ako ostvarimo konvergenciju u jednoj p-normi, onda imamo konvergenciju i u drugim p-normama. "
   ]
  },
  {
   "cell_type": "code",
   "execution_count": null,
   "metadata": {},
   "outputs": [],
   "source": []
  },
  {
   "cell_type": "markdown",
   "metadata": {},
   "source": [
    "Vektor $ x \\in X$ je **normiran** ako vazi $||x||=1$. "
   ]
  },
  {
   "cell_type": "markdown",
   "metadata": {},
   "source": [
    "**Normiranjem** nazivamo korak $\\frac{x}{||x||}$ kojim se dobija normirani vektor."
   ]
  },
  {
   "cell_type": "code",
   "execution_count": null,
   "metadata": {},
   "outputs": [],
   "source": []
  },
  {
   "cell_type": "markdown",
   "metadata": {},
   "source": [
    "**Primer.**  Skupovi vektora jedinične norme iz $R^2$ . \n",
    "\n",
    "<img src='./assets/vector_norms.svg'>"
   ]
  },
  {
   "cell_type": "code",
   "execution_count": null,
   "metadata": {},
   "outputs": [],
   "source": []
  },
  {
   "cell_type": "markdown",
   "metadata": {},
   "source": [
    "Norme pronalaze primene u zadacima regularizacije. Regularizacija je vid popravljanja loše uslovljenih problema."
   ]
  },
  {
   "cell_type": "markdown",
   "metadata": {},
   "source": [
    "Za računanje normi se može koristiti funkcija `norm` paketa `linalg` biblioteke `numpy`. "
   ]
  },
  {
   "cell_type": "markdown",
   "metadata": {},
   "source": [
    "Na primer, $l_2$ norma vektora $v$ sa koordinatama (4, 1, -2, 2) se može dobiti na sledeći način:"
   ]
  },
  {
   "cell_type": "code",
   "execution_count": 19,
   "metadata": {},
   "outputs": [],
   "source": [
    "v = np.array([4, 1, -2, 2])"
   ]
  },
  {
   "cell_type": "code",
   "execution_count": 20,
   "metadata": {},
   "outputs": [],
   "source": [
    "v_norm = np.linalg.norm(v)"
   ]
  },
  {
   "cell_type": "code",
   "execution_count": 21,
   "metadata": {},
   "outputs": [
    {
     "data": {
      "text/plain": [
       "5.0"
      ]
     },
     "execution_count": 21,
     "metadata": {},
     "output_type": "execute_result"
    }
   ],
   "source": [
    "v_norm"
   ]
  },
  {
   "cell_type": "markdown",
   "metadata": {},
   "source": [
    "Normirani vektor vektora $v$ se može dobiti deljenjem vektora $v$ i izračunate $v_{norm}$ vrednosti."
   ]
  },
  {
   "cell_type": "code",
   "execution_count": 22,
   "metadata": {},
   "outputs": [],
   "source": [
    "v = v/v_norm"
   ]
  },
  {
   "cell_type": "code",
   "execution_count": 23,
   "metadata": {},
   "outputs": [
    {
     "data": {
      "text/plain": [
       "array([ 0.8,  0.2, -0.4,  0.4])"
      ]
     },
     "execution_count": 23,
     "metadata": {},
     "output_type": "execute_result"
    }
   ],
   "source": [
    "v"
   ]
  },
  {
   "cell_type": "markdown",
   "metadata": {},
   "source": [
    "### Skalarni proizvod "
   ]
  },
  {
   "cell_type": "markdown",
   "metadata": {},
   "source": [
    "Neka je: \n",
    "* $X \\subset R^n$\n",
    "* $<>: X \\times X \\rightarrow R^{+}$\n",
    "* $\\alpha \\in R$ \n",
    "* $+$ operacija sabiranja\n",
    "* $\\cdot$ operacija množenja skalarom\n"
   ]
  },
  {
   "cell_type": "markdown",
   "metadata": {},
   "source": [
    "Ako važi: \n",
    "* $<a, b> = <b, a>$\n",
    "* $<a, b+c> = <a, b> + <a, c> $\n",
    "* $<a, \\alpha b> = \\alpha <a, b>$\n",
    "* $<a, a> \\ge 0$\n",
    "* $<a, a> = 0$ akko $a=0$\n",
    "\n",
    "preslikavanje $<>$ nazivamo **skalarni proizvod**."
   ]
  },
  {
   "cell_type": "code",
   "execution_count": null,
   "metadata": {},
   "outputs": [],
   "source": []
  },
  {
   "cell_type": "markdown",
   "metadata": {},
   "source": [
    "Ugao $\\gamma$ između vektora $a$ i $b$ je u vezi sa skalarnim proizvodom: $<a, b> = ||a||\\cdot||b||\\cdot cos(\\gamma)$"
   ]
  },
  {
   "cell_type": "markdown",
   "metadata": {},
   "source": [
    "Ako je $||a||=||b||=1$ tada je $<a, b> = cos(\\gamma)$"
   ]
  },
  {
   "cell_type": "code",
   "execution_count": null,
   "metadata": {},
   "outputs": [],
   "source": []
  },
  {
   "cell_type": "markdown",
   "metadata": {},
   "source": [
    "Vežbe radi, možemo izračunati ugao između vektora $v_1=(1, 3, 0.5, 2)$ i $v_2=(0.5, 2, 0.5, 1)$."
   ]
  },
  {
   "cell_type": "code",
   "execution_count": 24,
   "metadata": {},
   "outputs": [],
   "source": [
    "v1 = np.array([1, 3, 0.5, 2])\n",
    "v2 = np.array([0.5, 2, 0.5, 1])"
   ]
  },
  {
   "cell_type": "code",
   "execution_count": 25,
   "metadata": {},
   "outputs": [],
   "source": [
    "cos_gamma = np.sum(v1*v2)/(np.linalg.norm(v1)*np.linalg.norm(v2))"
   ]
  },
  {
   "cell_type": "code",
   "execution_count": 26,
   "metadata": {},
   "outputs": [],
   "source": [
    "gamma = np.arccos(cos_gamma)"
   ]
  },
  {
   "cell_type": "code",
   "execution_count": 27,
   "metadata": {},
   "outputs": [
    {
     "data": {
      "text/plain": [
       "0.15266466319075117"
      ]
     },
     "execution_count": 27,
     "metadata": {},
     "output_type": "execute_result"
    }
   ],
   "source": [
    "gamma"
   ]
  },
  {
   "cell_type": "markdown",
   "metadata": {},
   "source": [
    "Trigonometrijske funkcije podrazumevano operišu nad radijanima i izračunaju vrednosti u radijanima. Za konverziju vrednosti iz radijana u stepene može se koristiti funkcija `degrees`. Slično, za konverziju stepena u radijane može se koristiti funkcija `radians`."
   ]
  },
  {
   "cell_type": "code",
   "execution_count": 28,
   "metadata": {},
   "outputs": [
    {
     "data": {
      "text/plain": [
       "8.747040881616254"
      ]
     },
     "execution_count": 28,
     "metadata": {},
     "output_type": "execute_result"
    }
   ],
   "source": [
    "np.degrees(gamma)"
   ]
  },
  {
   "cell_type": "markdown",
   "metadata": {},
   "source": [
    "### Kerneli "
   ]
  },
  {
   "cell_type": "markdown",
   "metadata": {},
   "source": [
    "Neka su dati podskup $X \\subset R^n$ i preslikavanje $K: X \\times X \\rightarrow R$. Ako je matrica čiji su elementi vrednosti $K(x_i, x_j)$ pozitivno semidefinitna za sve izbore $x_1, ..., x_k \\in X$ i prozvoljnu dimenziju $k \\in R^{+}$, preslikavanje $K$ zovemo **pozitivno semidefinitni kernel**.  "
   ]
  },
  {
   "cell_type": "code",
   "execution_count": null,
   "metadata": {},
   "outputs": [],
   "source": []
  },
  {
   "cell_type": "markdown",
   "metadata": {},
   "source": [
    "Intuitivno, kerneli predstavljaju meru sličnosti vektora zato što svakom kernelu odgovara neki skalarni proizvod $<>$ takav da važi $K(x, y) = <\\phi(x), \\phi(y)>$ gde $\\phi$ predstavlja funkciju preslikavanja u neki novi prostor atributa. Često nam nije ni potrebna eksplicitna forma ovog preslikavanja."
   ]
  },
  {
   "cell_type": "markdown",
   "metadata": {},
   "source": [
    "#### Primeri poznatih kernela su: \n",
    "    \n",
    "* linearni kernel: $K(x, y) = x^Ty +c$\n",
    "* polinomijalni kernel: $K(x, y) = (\\alpha x^T y + c)^d$\n",
    "* Gausov kernel: $K(x, y) = e ^{-\\frac{||x-y||^2}{2\\sigma^2}}$\n"
   ]
  },
  {
   "cell_type": "markdown",
   "metadata": {},
   "source": [
    "U mašinskom učenju je poznat takozvani kernel trik čija se jedna primena u zadatku klasifikacije (razdvajanju tačaka na crvene i plave) može videti na slici. "
   ]
  },
  {
   "cell_type": "markdown",
   "metadata": {},
   "source": [
    "<img src = 'assets/kernel_example.png'>"
   ]
  },
  {
   "cell_type": "markdown",
   "metadata": {},
   "source": [
    "Funkcije koje računaju vrednost linearnog i Gausovog kernela su navedene u nastavku."
   ]
  },
  {
   "cell_type": "code",
   "execution_count": 29,
   "metadata": {},
   "outputs": [],
   "source": [
    "def linear_kernel(x, y, c):\n",
    "    assert x.shape == y.shape, 'Fatal Error: invalid dimension'\n",
    "    \n",
    "    return sum(x.T * y) + c"
   ]
  },
  {
   "cell_type": "code",
   "execution_count": 30,
   "metadata": {},
   "outputs": [],
   "source": [
    "def gaussian_kernel(x, y, sigma):\n",
    "    assert x.shape == y.shape, 'Fatal Error: invalid dimension'\n",
    "    \n",
    "    return np.exp(-np.sum((x - y)**2) / (2 * (sigma**2)))"
   ]
  },
  {
   "cell_type": "code",
   "execution_count": 31,
   "metadata": {},
   "outputs": [],
   "source": [
    "x = np.array([1, 2, 3])\n",
    "y = np.array([4, 2, 2])"
   ]
  },
  {
   "cell_type": "code",
   "execution_count": 32,
   "metadata": {},
   "outputs": [
    {
     "data": {
      "text/plain": [
       "24"
      ]
     },
     "execution_count": 32,
     "metadata": {},
     "output_type": "execute_result"
    }
   ],
   "source": [
    "linear_kernel(x, y, 10)"
   ]
  },
  {
   "cell_type": "code",
   "execution_count": 33,
   "metadata": {},
   "outputs": [
    {
     "data": {
      "text/plain": [
       "2.061153622438558e-09"
      ]
     },
     "execution_count": 33,
     "metadata": {},
     "output_type": "execute_result"
    }
   ],
   "source": [
    "gaussian_kernel(x, y, 0.5)"
   ]
  },
  {
   "cell_type": "code",
   "execution_count": null,
   "metadata": {},
   "outputs": [],
   "source": []
  }
 ],
 "metadata": {
  "kernelspec": {
   "display_name": "Python 3",
   "language": "python",
   "name": "python3"
  },
  "language_info": {
   "codemirror_mode": {
    "name": "ipython",
    "version": 3
   },
   "file_extension": ".py",
   "mimetype": "text/x-python",
   "name": "python",
   "nbconvert_exporter": "python",
   "pygments_lexer": "ipython3",
   "version": "3.7.6"
  }
 },
 "nbformat": 4,
 "nbformat_minor": 2
}
