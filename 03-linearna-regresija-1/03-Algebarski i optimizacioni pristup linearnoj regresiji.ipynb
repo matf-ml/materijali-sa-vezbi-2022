{
 "cells": [
  {
   "cell_type": "markdown",
   "metadata": {},
   "source": [
    "# Algebarski i optimizacioni pristup linearnoj regresiji"
   ]
  },
  {
   "cell_type": "markdown",
   "metadata": {},
   "source": [
    "U ovoj svesci ćemo prvo ponoviti kreiranje sintetičkog skupa podataka iz prethodnog primera, a potom ispitati i algebarski i optimizacioni pristup problemu linearne regresije."
   ]
  },
  {
   "cell_type": "code",
   "execution_count": null,
   "metadata": {},
   "outputs": [],
   "source": []
  },
  {
   "cell_type": "code",
   "execution_count": 1,
   "metadata": {},
   "outputs": [],
   "source": [
    "import numpy as np\n",
    "from matplotlib import pyplot as plt "
   ]
  },
  {
   "cell_type": "code",
   "execution_count": 2,
   "metadata": {},
   "outputs": [],
   "source": [
    "from sklearn import linear_model\n",
    "from sklearn import model_selection\n",
    "from sklearn import metrics"
   ]
  },
  {
   "cell_type": "code",
   "execution_count": 3,
   "metadata": {},
   "outputs": [],
   "source": [
    "np.random.seed(7)"
   ]
  },
  {
   "cell_type": "code",
   "execution_count": null,
   "metadata": {},
   "outputs": [],
   "source": []
  },
  {
   "cell_type": "markdown",
   "metadata": {},
   "source": [
    "Nadalje ce biti posmatran problem linearne regresije sa modelom $f(x) = \\beta_0 + \\beta_1x$. Skup podataka sa kojim ćemo raditi će biti sintetički. Vrednosti atributa će biti podeoci ekvidistantne mreže na intervalu [1, 5], a vrednosti ciljne funkcije će biti generisane po formuli $y = 11\\cdot sin(x)$ uz dodatak šuma. "
   ]
  },
  {
   "cell_type": "code",
   "execution_count": 4,
   "metadata": {},
   "outputs": [],
   "source": [
    "N = 100"
   ]
  },
  {
   "cell_type": "code",
   "execution_count": 5,
   "metadata": {},
   "outputs": [],
   "source": [
    "x = np.linspace(1, 5, N).reshape(N, 1)\n",
    "y = 11*np.sin(x) + 1.5* np.random.randn(N, 1)"
   ]
  },
  {
   "cell_type": "code",
   "execution_count": 6,
   "metadata": {},
   "outputs": [
    {
     "data": {
      "image/png": "[encoded data removed]",
      "text/plain": [
       "<Figure size 432x288 with 1 Axes>"
      ]
     },
     "metadata": {
      "needs_background": "light"
     },
     "output_type": "display_data"
    }
   ],
   "source": [
    "plt.plot(x, y, 'o')\n",
    "plt.show()"
   ]
  },
  {
   "cell_type": "code",
   "execution_count": 7,
   "metadata": {},
   "outputs": [],
   "source": [
    "model = linear_model.LinearRegression()"
   ]
  },
  {
   "cell_type": "code",
   "execution_count": 8,
   "metadata": {},
   "outputs": [],
   "source": [
    "x_train, x_test, y_train, y_test = model_selection.train_test_split(x, y, test_size = 0.4, random_state = 7)"
   ]
  },
  {
   "cell_type": "code",
   "execution_count": 9,
   "metadata": {},
   "outputs": [
    {
     "data": {
      "text/plain": [
       "LinearRegression()"
      ]
     },
     "execution_count": 9,
     "metadata": {},
     "output_type": "execute_result"
    }
   ],
   "source": [
    "model.fit(x_train, y_train)"
   ]
  },
  {
   "cell_type": "code",
   "execution_count": null,
   "metadata": {},
   "outputs": [],
   "source": []
  },
  {
   "cell_type": "code",
   "execution_count": 10,
   "metadata": {},
   "outputs": [],
   "source": [
    "b1 = model.coef_[0][0]"
   ]
  },
  {
   "cell_type": "code",
   "execution_count": 11,
   "metadata": {},
   "outputs": [],
   "source": [
    "b0 = model.intercept_[0]"
   ]
  },
  {
   "cell_type": "code",
   "execution_count": 12,
   "metadata": {},
   "outputs": [
    {
     "name": "stdout",
     "output_type": "stream",
     "text": [
      "Koeficijenti modela:  21.09523191378001 -6.888382319483821\n"
     ]
    }
   ],
   "source": [
    "print('Koeficijenti modela: ', b0, b1)"
   ]
  },
  {
   "cell_type": "code",
   "execution_count": null,
   "metadata": {},
   "outputs": [],
   "source": []
  },
  {
   "cell_type": "markdown",
   "metadata": {},
   "source": [
    "## Algebarski pristup linearnoj regresiji\n",
    "\n",
    "Umesto korišćenja ugrađenih funkcija `scikit-learn` biblioteke, do rešenja smo mogli stići i koristeći algebarski aparat rešavajući jednačinu normale."
   ]
  },
  {
   "cell_type": "markdown",
   "metadata": {},
   "source": [
    "### Postavka problema "
   ]
  },
  {
   "cell_type": "markdown",
   "metadata": {},
   "source": [
    "Potrebno je rešiti matričnu jednačinu $X\\beta=Y$  tj. $X^TX\\beta=X^TY$ u kojoj je $X$ matrica podataka, a $Y$ kolona sa vrednostima ciljne promenljive. Da bi se ovaj sistem rešio po nepoznatoj $\\beta$ potrebno je izračunati `Mur-Penrouzov inverz` tj. matricu $(X^TX)^{-1}X^T$. Složenost izračunavanja ovog inverza matrice je $O(k^3)$ gde je $k$ broj atibuta koji se koristi za opisivanje skupa podataka. Matrica $P=X(X^TX)^{-1}X^T$ se zove matrica predikcije jer proizvod $PX$ daje ocene ciljne promenljive $Y$.\n",
    "<br>\n",
    "<br>\n",
    "Neke od osobina koje matrica predikcije ima: \n",
    "<br> \n",
    "* matrica je simetrična\n",
    "* matrica je idempotentna tj. važi PP = P"
   ]
  },
  {
   "cell_type": "code",
   "execution_count": null,
   "metadata": {},
   "outputs": [],
   "source": []
  },
  {
   "cell_type": "markdown",
   "metadata": {},
   "source": [
    "Promenljiva `train_size` će predstavljati veličinu skupa za treniranje."
   ]
  },
  {
   "cell_type": "code",
   "execution_count": 13,
   "metadata": {},
   "outputs": [
    {
     "data": {
      "text/plain": [
       "60"
      ]
     },
     "execution_count": 13,
     "metadata": {},
     "output_type": "execute_result"
    }
   ],
   "source": [
    "train_size = x_train.shape[0]\n",
    "train_size"
   ]
  },
  {
   "cell_type": "markdown",
   "metadata": {},
   "source": [
    "Matrica podataka će imati i jednu dodatnu kolonu sa jedinicama koje odgovaraju množenjima sa slobodnim koeficijentom $\\beta_0$ u skupu parametara $\\beta$."
   ]
  },
  {
   "cell_type": "code",
   "execution_count": 14,
   "metadata": {},
   "outputs": [],
   "source": [
    "M = np.vstack([np.ones(train_size), x_train.ravel()]).transpose()"
   ]
  },
  {
   "cell_type": "code",
   "execution_count": 15,
   "metadata": {},
   "outputs": [
    {
     "data": {
      "text/plain": [
       "(60, 2)"
      ]
     },
     "execution_count": 15,
     "metadata": {},
     "output_type": "execute_result"
    }
   ],
   "source": [
    "M.shape"
   ]
  },
  {
   "cell_type": "code",
   "execution_count": null,
   "metadata": {},
   "outputs": [],
   "source": []
  },
  {
   "cell_type": "markdown",
   "metadata": {},
   "source": [
    "Mur-Prenrouzov inverz se može izračunati koristeći funkciju `pinv` paketa `linalg` biblioteke NumPy."
   ]
  },
  {
   "cell_type": "code",
   "execution_count": 16,
   "metadata": {},
   "outputs": [],
   "source": [
    "coef_pseudo = np.linalg.pinv(M).dot(y_train)"
   ]
  },
  {
   "cell_type": "code",
   "execution_count": 17,
   "metadata": {},
   "outputs": [
    {
     "data": {
      "text/plain": [
       "(2, 1)"
      ]
     },
     "execution_count": 17,
     "metadata": {},
     "output_type": "execute_result"
    }
   ],
   "source": [
    "coef_pseudo.shape"
   ]
  },
  {
   "cell_type": "code",
   "execution_count": 18,
   "metadata": {},
   "outputs": [
    {
     "data": {
      "text/plain": [
       "array([[21.09523191],\n",
       "       [-6.88838232]])"
      ]
     },
     "execution_count": 18,
     "metadata": {},
     "output_type": "execute_result"
    }
   ],
   "source": [
    "coef_pseudo"
   ]
  },
  {
   "cell_type": "code",
   "execution_count": 19,
   "metadata": {},
   "outputs": [
    {
     "name": "stdout",
     "output_type": "stream",
     "text": [
      "Koeficijenti modela:  21.09523191378004 -6.888382319483825\n"
     ]
    }
   ],
   "source": [
    "print('Koeficijenti modela: ', coef_pseudo[0][0], coef_pseudo[1][0])"
   ]
  },
  {
   "cell_type": "markdown",
   "metadata": {},
   "source": [
    "Primetimo da se ovako dobijeni koeficijenti poklapaju sa koeficijentima koje smo dobili bibliotečkim rešavanjem."
   ]
  },
  {
   "cell_type": "code",
   "execution_count": null,
   "metadata": {},
   "outputs": [],
   "source": []
  },
  {
   "cell_type": "markdown",
   "metadata": {},
   "source": [
    "###  Potencijalni problemi primene algebarskog pristupa"
   ]
  },
  {
   "cell_type": "markdown",
   "metadata": {},
   "source": [
    "Prilikom primena algebarskih metoda treba voditi računa o `dimenzionalnosti problema` i o `uslovljenosti` matrice podataka. "
   ]
  },
  {
   "cell_type": "markdown",
   "metadata": {},
   "source": [
    "Dimenzionalnost problema utiče na vremenske i memorijske zahteve, a uslovljenost na numeričku stabilnost rešenja. Ukoliko male promene u podacima vode do velikih promena rešenja, za sisteme kažemo da su numerički nestabilni. Ilustrujmo to malim primerom nad matricom `A` i vektorom `c`."
   ]
  },
  {
   "cell_type": "code",
   "execution_count": 20,
   "metadata": {},
   "outputs": [],
   "source": [
    "A = np.array([[1, 2], [2, 3.999]])\n",
    "c = np.array([4, 7.999])"
   ]
  },
  {
   "cell_type": "markdown",
   "metadata": {},
   "source": [
    "Rešenje sistema `Ax=c` se može pronaći korišćenjem bibliotečke funkcije `lstsq` paketa `linalg`. Izračunato rešenje se može pročitati kao prva povratna vrednost. "
   ]
  },
  {
   "cell_type": "code",
   "execution_count": 21,
   "metadata": {},
   "outputs": [],
   "source": [
    "solution, _, _, _ = np.linalg.lstsq(A, c, rcond=None)"
   ]
  },
  {
   "cell_type": "code",
   "execution_count": 22,
   "metadata": {},
   "outputs": [
    {
     "data": {
      "text/plain": [
       "array([2., 1.])"
      ]
     },
     "execution_count": 22,
     "metadata": {},
     "output_type": "execute_result"
    }
   ],
   "source": [
    "solution"
   ]
  },
  {
   "cell_type": "code",
   "execution_count": null,
   "metadata": {},
   "outputs": [],
   "source": []
  },
  {
   "cell_type": "markdown",
   "metadata": {},
   "source": [
    "Ukoliko malo promenimo vrednost vektora `c`, rešenje će se značajno promeniti."
   ]
  },
  {
   "cell_type": "code",
   "execution_count": 23,
   "metadata": {},
   "outputs": [],
   "source": [
    "c_modified = np.array([4, 7.998])"
   ]
  },
  {
   "cell_type": "code",
   "execution_count": 24,
   "metadata": {},
   "outputs": [],
   "source": [
    "solution_modified, _, _, _ = np.linalg.lstsq(A, c_modified, rcond=None)"
   ]
  },
  {
   "cell_type": "code",
   "execution_count": 25,
   "metadata": {},
   "outputs": [
    {
     "data": {
      "text/plain": [
       "array([-1.98642461e-16,  2.00000000e+00])"
      ]
     },
     "execution_count": 25,
     "metadata": {},
     "output_type": "execute_result"
    }
   ],
   "source": [
    "solution_modified"
   ]
  },
  {
   "cell_type": "code",
   "execution_count": null,
   "metadata": {},
   "outputs": [],
   "source": []
  },
  {
   "cell_type": "markdown",
   "metadata": {},
   "source": [
    "Ovakvo ponašanje je posledica loše uslovljenosti matrice `A`. Uslovljenost matrice predstavlja vrednost $cond(A)=||A||\\cdot||A^{-1}||$ koja se kreće u opsegu od $[1, +\\infty]$ i što je veća matrica je lošije uslovljena."
   ]
  },
  {
   "cell_type": "code",
   "execution_count": 26,
   "metadata": {},
   "outputs": [
    {
     "data": {
      "text/plain": [
       "24992.000960058016"
      ]
     },
     "execution_count": 26,
     "metadata": {},
     "output_type": "execute_result"
    }
   ],
   "source": [
    "np.linalg.cond(A)"
   ]
  },
  {
   "cell_type": "code",
   "execution_count": null,
   "metadata": {},
   "outputs": [],
   "source": []
  },
  {
   "cell_type": "markdown",
   "metadata": {},
   "source": [
    "Ukoliko među podacima imamo korelisane atribute, uslovljenost matrice će biti velika, a samim tim izračunavanje će biti numerički nestabilnije. "
   ]
  },
  {
   "cell_type": "code",
   "execution_count": 27,
   "metadata": {},
   "outputs": [],
   "source": [
    "x1 = np.random.randint(0, 20, 50)\n",
    "x2 = np.random.randint(0, 5, 50)\n",
    "x3 = 2*x1\n",
    "\n",
    "X_train = np.vstack([np.ones(50), x1, x2, x3]).transpose()"
   ]
  },
  {
   "cell_type": "code",
   "execution_count": 28,
   "metadata": {},
   "outputs": [
    {
     "data": {
      "text/plain": [
       "4.536981679385349e+16"
      ]
     },
     "execution_count": 28,
     "metadata": {},
     "output_type": "execute_result"
    }
   ],
   "source": [
    "np.linalg.cond(X_train)"
   ]
  },
  {
   "cell_type": "markdown",
   "metadata": {},
   "source": [
    "Na ovaj problem ćemo se osvrnuti i u svesci koja se tiče korelacije atributa i upoznati neke tehnike kako da ova ponašanja iskontrolišemo. "
   ]
  },
  {
   "cell_type": "code",
   "execution_count": null,
   "metadata": {},
   "outputs": [],
   "source": []
  },
  {
   "cell_type": "markdown",
   "metadata": {},
   "source": [
    "## Optimizacioni pristup problemu linearne regresije"
   ]
  },
  {
   "cell_type": "markdown",
   "metadata": {},
   "source": [
    "`Gradientni spust` je optimizacioni metod kojim se iterativno dolazi do optimuma, minimuma ili maksimuma, funkcije. U slučaju minimizacije funkcije, prate se suprotni pravci gradijenta duž kojih vrednosti funkcije najviše opadaju. \n",
    "<br> \n",
    "\n",
    "Neka je $f(x)$ funkcija jedne pormenljive čiji se minimu traži i neka je $x_0$ proizvoljno odabrana tačka. Korak iteracije gradijentnog spusta određen je sa $x_{k+1} = x_k - \\alpha\\nabla f(x_k)$ za $k=0,1,...$. Parametar $\\alpha$ se naziva `korak učenja`. \n",
    "\n",
    "\n",
    "<br>\n",
    "\n",
    "Važna pitanja u vezi sa gradijentnim spustom su: \n",
    "* Pod kojim uslovima uočeni algoritam konvergira?\n",
    "* Na koji način se bira korak učenja?\n",
    "* Kada zaustaviti algoritam? \n",
    "* Na koji način se bira početna tačka $x_0$?"
   ]
  },
  {
   "cell_type": "markdown",
   "metadata": {},
   "source": [
    "Ukoliko se kao zaustavni kriterijum odaberu maksimalni broj iteracija i tačnost rešenja, za funkciju `f` jedne promenljive sa gradijentom `grad` i početnom tačkom `x`, gradijentni spust se može zapisati na sledeći način."
   ]
  },
  {
   "cell_type": "code",
   "execution_count": 29,
   "metadata": {},
   "outputs": [],
   "source": [
    "def gradient_descent(f, grad, x, alpha, eps, max_iterations):\n",
    "\n",
    "    x_old = x\n",
    "    for i in range(0, max_iterations):\n",
    "        x_new = x_old - alpha * grad(x_old)\n",
    "        if np.abs(f(x_new) - f(x_old)) < eps:\n",
    "            break\n",
    "        x_old = x_new\n",
    "\n",
    "    result = {}\n",
    "    result['converge'] = i != max_iterations\n",
    "    result['number_of_iterations'] = i\n",
    "    result['x_min'] = x_old\n",
    "\n",
    "    return result"
   ]
  },
  {
   "cell_type": "code",
   "execution_count": null,
   "metadata": {},
   "outputs": [],
   "source": []
  },
  {
   "cell_type": "markdown",
   "metadata": {},
   "source": [
    "Pre primene metode gradijentnog spusta na problem linearne regresije, možemo proći kroz jedan mali uvodni primer u kojem je korišćenjem gradijentnog spusta potrebno odrediti minimum funkcije $f(x_1, x_2) = \\frac{1}{2}(x_1^2 + 10x_2^2)$. Za korak učenja možemo uzeti $\\alpha = 0.1$, za preciznost vrednost $eps = 0.01$, a broj iteracija ograničiti na $1000$.  "
   ]
  },
  {
   "cell_type": "markdown",
   "metadata": {},
   "source": [
    "Funkcijom `f` ćemo predstaviti zadatu funkciju $f(x_1, x_2) = \\frac{1}{2}(x_1^2 + 10x_2^2)$."
   ]
  },
  {
   "cell_type": "code",
   "execution_count": 30,
   "metadata": {},
   "outputs": [],
   "source": [
    "def f(x):\n",
    "    x1 = x[0]\n",
    "    x2 = x[1]\n",
    "    return 0.5*(x1**2 + 10*x2**2)"
   ]
  },
  {
   "cell_type": "markdown",
   "metadata": {},
   "source": [
    "Funkcijom `grad` ćemo predstaviti gradijent funkcije $\\nabla f(x_1, x_2) = [x_1, 10x_2]$."
   ]
  },
  {
   "cell_type": "code",
   "execution_count": 31,
   "metadata": {},
   "outputs": [],
   "source": [
    "def grad(x):\n",
    "    x1 = x[0]\n",
    "    x2 = x[1]\n",
    "    return np.array([x1, 10*x2])"
   ]
  },
  {
   "cell_type": "markdown",
   "metadata": {},
   "source": [
    "Za početnu tačku možemo uzeti $(3, 5)$."
   ]
  },
  {
   "cell_type": "code",
   "execution_count": 32,
   "metadata": {},
   "outputs": [],
   "source": [
    "x0 = (3, 5)\n",
    "alpha = 0.1 \n",
    "eps = 0.01 \n",
    "max_iterations = 1000"
   ]
  },
  {
   "cell_type": "code",
   "execution_count": 33,
   "metadata": {},
   "outputs": [],
   "source": [
    "result = gradient_descent(f, grad, x0, alpha, eps, max_iterations)"
   ]
  },
  {
   "cell_type": "code",
   "execution_count": 34,
   "metadata": {},
   "outputs": [
    {
     "data": {
      "text/plain": [
       "{'converge': True,\n",
       " 'number_of_iterations': 22,\n",
       " 'x_min': array([0.29543127, 0.        ])}"
      ]
     },
     "execution_count": 34,
     "metadata": {},
     "output_type": "execute_result"
    }
   ],
   "source": [
    "result"
   ]
  },
  {
   "cell_type": "code",
   "execution_count": 35,
   "metadata": {},
   "outputs": [],
   "source": [
    "f_min = f(result['x_min'])"
   ]
  },
  {
   "cell_type": "code",
   "execution_count": 36,
   "metadata": {},
   "outputs": [
    {
     "data": {
      "text/plain": [
       "0.043639817840438584"
      ]
     },
     "execution_count": 36,
     "metadata": {},
     "output_type": "execute_result"
    }
   ],
   "source": [
    "f_min"
   ]
  },
  {
   "cell_type": "code",
   "execution_count": 37,
   "metadata": {},
   "outputs": [
    {
     "data": {
      "text/plain": [
       "22"
      ]
     },
     "execution_count": 37,
     "metadata": {},
     "output_type": "execute_result"
    }
   ],
   "source": [
    "result['number_of_iterations']"
   ]
  },
  {
   "cell_type": "code",
   "execution_count": null,
   "metadata": {},
   "outputs": [],
   "source": []
  },
  {
   "cell_type": "markdown",
   "metadata": {},
   "source": [
    "U kontekstu razmatranog problema linearne regresije, funkcija koja se minimizuje je funkcija greške. Funkcija greske koja se minimizuje kod linearne regresije srednjekvadratna greska (eng. mean squared loss), odnosno potrebno je odrediti $$\\min_{\\beta_0, \\beta_1} \\frac{1}{N} \\sum_{i=1}^{N} (\\beta_0 + \\beta_1x_i - y_i)^2$$"
   ]
  },
  {
   "cell_type": "markdown",
   "metadata": {},
   "source": [
    "U literaturi se može pronaći i da se u problemu linearne regresije minimizuje kvadratna greška (eng. squared loss) $\\sum_{i} (\\beta_0 + \\beta_1x_i - y_i)^2$. Konstanta $\\frac{1}{N}$ koja se javlja kod minimizacije srednjekvadratne greške ne utiče na vrednost minimuma koji se dobija ovim postupkom. Koristimo je više zbog nekih finijih oblika funkcija koji se dobijaju u nastavku."
   ]
  },
  {
   "cell_type": "code",
   "execution_count": 38,
   "metadata": {},
   "outputs": [],
   "source": [
    "def error_function(beta, x, y):\n",
    "    beta0 = beta[0]\n",
    "    beta1 = beta[1]\n",
    "    \n",
    "    return 0.5*np.average((beta0 + beta1*x - y)**2)"
   ]
  },
  {
   "cell_type": "code",
   "execution_count": null,
   "metadata": {},
   "outputs": [],
   "source": []
  },
  {
   "cell_type": "markdown",
   "metadata": {},
   "source": [
    "Minimizacija funkcije greške se radi po parametrima $\\beta_0$ i $\\beta_1$. Zato će nam biti potreban i gradijent funkcije greške po ovim parametrima. Može se proveriti da je to vektor $[\\frac{1}{N} \\sum_{i=1}^{N}(\\beta_0+\\beta_1x_i-y_i), \\frac{1}{N} \\sum_{i=1}^{N}(\\beta_0+\\beta_1x_i-y_i)\\cdot x_i]$. "
   ]
  },
  {
   "cell_type": "code",
   "execution_count": null,
   "metadata": {},
   "outputs": [],
   "source": []
  },
  {
   "cell_type": "markdown",
   "metadata": {},
   "source": [
    "Sam kod će pratiti prethodni primer uz prilagođavanje izračunavanjima za dve promenljive. Uz ovo, da bismo mogli da vizualizujemo funkciju greške i njenu minimizaciju, čuvaćemo greške koje se dobijaju u pojedinačnim iteracijama."
   ]
  },
  {
   "cell_type": "code",
   "execution_count": 39,
   "metadata": {},
   "outputs": [],
   "source": [
    "def regression_gradient_descent(x, y, error_function, beta, alpha, eps, max_iterations, plot = False):\n",
    "        \n",
    "    result = {} \n",
    "        \n",
    "    beta0_old = beta[0]\n",
    "    beta1_old = beta[1]\n",
    "    \n",
    "    error_old = error_function((beta0_old, beta1_old), x, y)\n",
    "    \n",
    "    errors = np.empty(0)\n",
    "    errors = np.append(errors, error_old)\n",
    "    \n",
    "        \n",
    "    for i in np.arange(0, max_iterations):\n",
    "            \n",
    "        beta0_update = np.average(beta0_old + beta1_old*x -y)\n",
    "        beta1_update = np.average((beta0_old + beta1_old*x -y)*x)\n",
    "                \n",
    "        beta0_new = beta0_old - alpha*beta0_update\n",
    "        beta1_new = beta1_old - alpha*beta1_update\n",
    "            \n",
    "        error_new = error_function((beta0_new, beta1_new), x, y)\n",
    "       \n",
    "        \n",
    "        if np.abs(error_new - error_old) < eps:\n",
    "            break\n",
    "                \n",
    "        beta0_old = beta0_new\n",
    "        beta1_old = beta1_new\n",
    "        \n",
    "        error_old = error_new\n",
    "        \n",
    "        errors = np.append(errors, error_new)\n",
    "    \n",
    "                \n",
    "    result['converge'] = i != max_iterations\n",
    "    result['number_of_iterations'] = i\n",
    "    result['b_min'] = (beta0_old, beta1_old)\n",
    "    \n",
    "    if plot == True:\n",
    "        plt.title('Funkcija greske')\n",
    "        plt.xlabel('Broj iteracija')\n",
    "        plt.ylabel('Srednjekvadratna greska')\n",
    "        plt.plot(np.arange(0, i+1), errors)\n",
    "    \n",
    "    return result\n",
    "            "
   ]
  },
  {
   "cell_type": "code",
   "execution_count": null,
   "metadata": {},
   "outputs": [],
   "source": []
  },
  {
   "cell_type": "markdown",
   "metadata": {},
   "source": [
    "Početno rešenje ćemo odabrati nasumično."
   ]
  },
  {
   "cell_type": "code",
   "execution_count": 40,
   "metadata": {},
   "outputs": [],
   "source": [
    "beta = (3, 1)\n",
    "alpha = 0.1 \n",
    "eps = 0.0001 \n",
    "max_iterations = 1000"
   ]
  },
  {
   "cell_type": "code",
   "execution_count": 41,
   "metadata": {},
   "outputs": [
    {
     "data": {
      "image/png": "[encoded data removed]",
      "text/plain": [
       "<Figure size 432x288 with 1 Axes>"
      ]
     },
     "metadata": {
      "needs_background": "light"
     },
     "output_type": "display_data"
    }
   ],
   "source": [
    "result = regression_gradient_descent(x, y, error_function, beta, alpha, 0.0001, max_iterations, plot=True)"
   ]
  },
  {
   "cell_type": "code",
   "execution_count": 42,
   "metadata": {},
   "outputs": [
    {
     "data": {
      "text/plain": [
       "{'converge': True,\n",
       " 'number_of_iterations': 356,\n",
       " 'b_min': (21.183938032983725, -6.8346663661553615)}"
      ]
     },
     "execution_count": 42,
     "metadata": {},
     "output_type": "execute_result"
    }
   ],
   "source": [
    "result"
   ]
  },
  {
   "cell_type": "markdown",
   "metadata": {},
   "source": [
    "Rešenje koje dobijamo optimizacijom je:"
   ]
  },
  {
   "cell_type": "code",
   "execution_count": 43,
   "metadata": {},
   "outputs": [
    {
     "data": {
      "text/plain": [
       "(21.183938032983725, -6.8346663661553615)"
      ]
     },
     "execution_count": 43,
     "metadata": {},
     "output_type": "execute_result"
    }
   ],
   "source": [
    "result['b_min']"
   ]
  },
  {
   "cell_type": "markdown",
   "metadata": {},
   "source": [
    "Primetimo da se ovako dobijeni koeficijenti poklapaju sa koeficijentima koje smo dobili korišćenjem bibliotečke funkcije i algebarskim pristupom."
   ]
  },
  {
   "cell_type": "code",
   "execution_count": null,
   "metadata": {},
   "outputs": [],
   "source": []
  },
  {
   "cell_type": "markdown",
   "metadata": {},
   "source": [
    "Možemo vizuelizovati i funkciju greške u prostoru i naznačiti početne i krajnje tačke gradijentnog spusta."
   ]
  },
  {
   "cell_type": "code",
   "execution_count": 44,
   "metadata": {},
   "outputs": [],
   "source": [
    "def error_function_plot(beta, x, y):\n",
    "    beta0_array = beta[0]\n",
    "    beta1_array = beta[1]\n",
    "\n",
    "    errors = []\n",
    "    for (beta0, beta1) in zip(beta0_array, beta1_array):\n",
    "        error = np.average((beta0 + beta1 * x - y)**2)\n",
    "        errors.append(error)\n",
    "\n",
    "    return np.array(errors)"
   ]
  },
  {
   "cell_type": "code",
   "execution_count": 45,
   "metadata": {},
   "outputs": [
    {
     "data": {
      "image/png": "[encoded data removed]",
      "text/plain": [
       "<Figure size 720x504 with 1 Axes>"
      ]
     },
     "metadata": {
      "needs_background": "light"
     },
     "output_type": "display_data"
    }
   ],
   "source": [
    "N = 30\n",
    "beta0 = np.linspace(0,  23.0, N)\n",
    "beta1 = np.linspace(-10.0, 5.0, N)\n",
    "\n",
    "BETA0, BETA1 = np.meshgrid(beta0, beta1)\n",
    "beta0_flatten = BETA0.flatten()\n",
    "beta1_flatten = BETA1.flatten()\n",
    "\n",
    "error_function_values = error_function_plot([beta0_flatten, beta1_flatten], x, y)  \n",
    "\n",
    "fig = plt.figure(figsize = (10, 7))\n",
    "ax = plt.axes(projection =\"3d\")                   \n",
    "ax.scatter3D(beta0_flatten, beta1_flatten, error_function_values)     \n",
    "ax.set_xlabel('beta0', color='red')                 \n",
    "ax.set_ylabel('beta1', color='red')\n",
    "ax.set_zlabel('funkcija greške', color='red')\n",
    "\n",
    "# početna tačka\n",
    "ax.scatter3D([beta[0]], [beta[1]], [error_function([beta[0], beta[1]], x, y)], color='red', label='start')   \n",
    "\n",
    "# krajnja tačka tj. minimum\n",
    "ax.scatter3D([result['b_min'][0]], [result['b_min'][1]], [error_function([result['b_min'][0], result['b_min'][1]], x, y)], color='green', label='min')\n",
    "\n",
    "ax.view_init(elev=30, azim=10)\n",
    "\n",
    "plt.legend()\n",
    "plt.show()"
   ]
  },
  {
   "cell_type": "markdown",
   "metadata": {},
   "source": [
    "<div class='alert alert-info'>\n",
    "Zadatak za vežbu. \n",
    "    \n",
    "Pokušajte sa vektorskom implementacijom funkcije za računanje gradijentnog spusta za opšti slučaj linearne regresije.\n",
    "</div>"
   ]
  },
  {
   "cell_type": "code",
   "execution_count": null,
   "metadata": {},
   "outputs": [],
   "source": []
  }
 ],
 "metadata": {
  "kernelspec": {
   "display_name": "Python 3",
   "language": "python",
   "name": "python3"
  },
  "language_info": {
   "codemirror_mode": {
    "name": "ipython",
    "version": 3
   },
   "file_extension": ".py",
   "mimetype": "text/x-python",
   "name": "python",
   "nbconvert_exporter": "python",
   "pygments_lexer": "ipython3",
   "version": "3.7.6"
  }
 },
 "nbformat": 4,
 "nbformat_minor": 2
}
