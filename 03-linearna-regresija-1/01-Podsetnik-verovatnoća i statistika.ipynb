{
 "cells": [
  {
   "cell_type": "markdown",
   "metadata": {},
   "source": [
    "# Verovatnoća i statistika"
   ]
  },
  {
   "cell_type": "markdown",
   "metadata": {},
   "source": [
    "U literaturi koja obrađuje verovatnoću susrećemo se sa pojmovima eksperimenta, prostora ishoda, događa i funkcije verovatnoće. Eksperimentom možemo smatrati proceduru koja se može ponavljati (u istim uslovima) i koja ima dobro definisane ishode. Skup svih ishoda nazivamo **prostorom ishoda**. Podskup prostora ishoda nazivamo **događaj**. Funkciju kojom svakom ishodu pridružujemo verovatnoću nazivamo **funkcijom verovatnoće**.  "
   ]
  },
  {
   "cell_type": "markdown",
   "metadata": {},
   "source": [
    "Na primer, bacanje fer novčića možemo smatrati eksperimentom sa mogućim ishodima pismo (P) ili glava (G). Ako novčić bacamo tri puta, prostor ishoda je skup $\\Omega = \\{PPP, PPG, PGP, PGG, GPP, GPG, GGP, GGG\\}$. Svaki ishod je jednako verovatan, sa verovatnoćom 1/8. Događaj bi mogao biti skup ishoda $E = \\{GGP, GPG, PGG\\}$ u kojima se glava pojavljuje tačno dva puta. Verovatnoća ovog događaja je 3/8. "
   ]
  },
  {
   "cell_type": "code",
   "execution_count": null,
   "metadata": {},
   "outputs": [],
   "source": []
  },
  {
   "cell_type": "markdown",
   "metadata": {},
   "source": [
    "U opštem slučaju prostor ishoda može biti *diskretan* ili *kontinualan*. "
   ]
  },
  {
   "cell_type": "markdown",
   "metadata": {},
   "source": [
    "Formalno, za diskretan prostor ishoda $\\Omega$, funkcija $P: \\Omega \\rightarrow R$ je **funkcija verovatnoće** ukoliko zadovoljava uslove: \n",
    "- $0 \\le P(w) \\le 1$ \n",
    "- $\\sum_{w \\in \\Omega} P(w) = 1 $"
   ]
  },
  {
   "cell_type": "markdown",
   "metadata": {},
   "source": [
    "Za događaje A, L i R koji pripadaju istom prostoru ishoda $\\Omega$ i funkciju verovatnoće $P$ definisanu na njemu važe:\n",
    "- princip komplementarnosti: $P(A^c)= 1-P(A)$\n",
    "- princip uključivanja i isključivanja: $ P(L\\cup R) = P(L) + P (R) - P (L \\cap R)$"
   ]
  },
  {
   "cell_type": "code",
   "execution_count": null,
   "metadata": {},
   "outputs": [],
   "source": []
  },
  {
   "cell_type": "markdown",
   "metadata": {},
   "source": [
    "### Uslovna verovatnoća"
   ]
  },
  {
   "cell_type": "markdown",
   "metadata": {},
   "source": [
    "Neka su $A$ i $B$ događaji koji pripadaju istom prostoru ishoda $\\Omega$. Uslovna verovatnoća događaja $A$ pri uslovu $B$ se definiše kao $ P(A|B) = \\frac{P(A\\cap B)}{P(B)}$, uz ograničenje $P(B) \\ne 0$."
   ]
  },
  {
   "cell_type": "code",
   "execution_count": null,
   "metadata": {},
   "outputs": [],
   "source": []
  },
  {
   "cell_type": "markdown",
   "metadata": {},
   "source": [
    "Posmatrajmo bacanje novčića tri puta. Neka je $A$ događaj koji predstavlja dobitak tri glave $\\{GGG\\}$, a $B$ događaj koji predstavlja da je pri prvom bacanju dobijena glava $\\{GGG, GGP, GPG, GPP\\}$. Kako je $P(A)= \\frac{1}{8}$, $P(B)=\\frac{1}{2}$ i $A \\cap B=A$, možemo izračunati da je $P(A|B) = \\frac{1}{4}$. "
   ]
  },
  {
   "cell_type": "markdown",
   "metadata": {},
   "source": [
    "### Bajesova formula"
   ]
  },
  {
   "cell_type": "markdown",
   "metadata": {},
   "source": [
    "Neka su $A$ i $B$ događaji koji pripadaju istom prostoru ishoda $\\Omega$. Tada važi: $$P(A|B) = \\frac{P(B|A) P(A)}{P(B)}$$ "
   ]
  },
  {
   "cell_type": "code",
   "execution_count": 1,
   "metadata": {},
   "outputs": [],
   "source": [
    "# P(B)*P(A|B) = P(A)*P(B|A) = P(A^B)"
   ]
  },
  {
   "cell_type": "markdown",
   "metadata": {},
   "source": [
    "Ova formula nam praktično pomaže da izračunamo verovatnoće P(B|A) i P(A|B) ukoliko je jedna od njih poznata."
   ]
  },
  {
   "cell_type": "code",
   "execution_count": null,
   "metadata": {},
   "outputs": [],
   "source": []
  },
  {
   "cell_type": "markdown",
   "metadata": {},
   "source": [
    "### Nezavnisnost događaja"
   ]
  },
  {
   "cell_type": "markdown",
   "metadata": {},
   "source": [
    "Neka su $A$ i $B$ događaji koji pripadaju istom prostoru ishoda $\\Omega$. Za njih kažemo da su nezavnisni ako važi $P(A\\cap B) = P(A) P(B)$."
   ]
  },
  {
   "cell_type": "code",
   "execution_count": null,
   "metadata": {},
   "outputs": [],
   "source": []
  },
  {
   "cell_type": "markdown",
   "metadata": {},
   "source": [
    "Posmatrajmo bacanje novčića dva puta. Neka je $A$ događaj koji označava da je pri prvom bacanju dobijena glava, a $B$ događaj koji označava da je pri drugom bacanju dobijena glava. Kako je presek događaja $A$ i $B$ događaj u kojem su glave dobijene oba puta i kako važi $P(A\\cap B) = \\frac{1}{4} = P(A) P(B)$, možemo zaključiti da su događaji $A$ i $B$ nezavisni. "
   ]
  },
  {
   "cell_type": "code",
   "execution_count": null,
   "metadata": {},
   "outputs": [],
   "source": []
  },
  {
   "cell_type": "markdown",
   "metadata": {},
   "source": [
    "Posmatrajmo bacacanje novčića 3 puta. Neka je $A$ događaj koji označava da je prilikom prvog bacanja dobijena glava, a $B$ događaj koji označava da su ukupno pale dve glave. Kako događaj $A$ objedinjuje ishode $\\{GPP, GPG, GGP, GGG\\}$, a dogadjaj $B$ ishode $\\{GGP, GPG, PGG\\}$, to je $A\\cap B$ skup ishoda $\\{GPG, GGP\\}$ i možemo zaključiti da ne važi $P(A\\cap B) = P(A) P(B)$ i da događaji $A$ i $B$ nisu nezavisni.  "
   ]
  },
  {
   "cell_type": "markdown",
   "metadata": {},
   "source": [
    "### Slučajna promenljiva (slučajna veličina)"
   ]
  },
  {
   "cell_type": "markdown",
   "metadata": {},
   "source": [
    "Neka je $\\Omega$ prostor ishoda. Diskretna slučajna promenljiva $X$ je funkcija $X: \\Omega \\rightarrow R$."
   ]
  },
  {
   "cell_type": "code",
   "execution_count": null,
   "metadata": {},
   "outputs": [],
   "source": []
  },
  {
   "cell_type": "markdown",
   "metadata": {},
   "source": [
    "Posmatrajmo bacanje dveju kockica. Neka $i$ označava vrednost dobijenu na prvoj kockici, a $j$ vrednost dobijenu na drugoj kockici. Funkcija $$X(i, j) = \n",
    "\\begin{cases}\n",
    "    500, & \\text{ako je } i+j=7\\\\\n",
    "    -100, & \\text{inace}\n",
    "\\end{cases}$$ je primer jedne slučajne promenljive. "
   ]
  },
  {
   "cell_type": "code",
   "execution_count": null,
   "metadata": {},
   "outputs": [],
   "source": []
  },
  {
   "cell_type": "markdown",
   "metadata": {},
   "source": [
    "###  Matematičko očekivanje"
   ]
  },
  {
   "cell_type": "markdown",
   "metadata": {},
   "source": [
    "Neka je $X$ diskretna slučajna veličina koja uzima vrednosti $x_1$, $x_2$, ..., $x_n$ redom sa verovatnoćama $p_1$, $p_2$, ..., $p_n$. Matematičko očekivanje $E(X)$ slučajne veličine $X$ se definiše kao $$E(X) = \\sum_{i=1}^{n} p_i\\cdot x_i = p_1x_1 + p_2x_2 + \\ldots + p_nx_n$$. "
   ]
  },
  {
   "cell_type": "markdown",
   "metadata": {},
   "source": [
    "Posmatrajmo slučajnu veličinu $X$ koja predstavlja zbir vrednosti prilikom bacanja dveju kockica. Vrednosti koje ova slučajna veličina uzima i njima pripadajuće verovatnoće možemo zapisati tabelarno: \n",
    "\n",
    "| 2 | 3 | 4 | 5 | 6 | 7 | 8 | 9 | 10 | 11 | 12 |\n",
    "|:---:|:---:|:---:|:---:|:---:|:---:|:---:|:---:|:----:|:----:|:----:|\n",
    "|1/36 | 2/36 | 3/36 | 4/36 | 5/36 | 6/36 | 5/36 | 4/36 | 3/36 | 2/36 | 1/36 | "
   ]
  },
  {
   "cell_type": "markdown",
   "metadata": {},
   "source": [
    "Njeno matematičko očekivanje je $E(X) = \n",
    "2\\cdot \\frac{1}{36} + \n",
    "3\\cdot \\frac{2}{36} +\n",
    "4\\cdot \\frac{3}{36} +\n",
    "5\\cdot \\frac{4}{36} +\n",
    "6\\cdot \\frac{5}{36} + \n",
    "7\\cdot \\frac{6}{36} +\n",
    "8\\cdot \\frac{5}{36} +\n",
    "9\\cdot \\frac{4}{36} +\n",
    "10\\cdot \\frac{3}{36} +\n",
    "11\\cdot \\frac{2}{36} +\n",
    "12\\cdot \\frac{1}{36} = 7\n",
    "$. "
   ]
  },
  {
   "cell_type": "code",
   "execution_count": null,
   "metadata": {},
   "outputs": [],
   "source": []
  },
  {
   "cell_type": "markdown",
   "metadata": {},
   "source": [
    "Neka su $X$ i $Y$ dve slučajne veličine definisane na istom prostoru ishoda i $a$ i $b$ konstante. Tada važe osobine:\n",
    "- $E(X+Y) = E(X) + E(Y)$\n",
    "- $E(aX+b) = aE(x) + b$ \n",
    "- Ako je funkcija $h$ definisanu za vrednosti $x_1$, $x_2$, ..., $x_n$ koje uzima slučajna veličina $X$, tada je i $h(X)$ slučajna veličina sa matematičkim očekivanjem $E(h(X)) = \\sum_{i=1}^{n} p_i\\cdot h(x_i)$. "
   ]
  },
  {
   "cell_type": "markdown",
   "metadata": {},
   "source": [
    "Posmatrajmo isti problem bacanja dveju kockica. Neka je $X_1$ slučajna veličina koja predstavlja vrednost dobijenu na prvoj kockici, a $X_2$ slučajna veličina koja predstavlja vrednost dobijenu na drugoj kockici. Za slučajnu veličinu $X$ iz prethodnog primera važi $X = X_1 + X_2$ pa se traženo matematičko očekivanje može dobiti i malo jednostavnije $E(X) = E(X_1) + E(X_2)$. Kako je $E(X_1) = E(X_2) = 3.5$ (proveriti!), dobijamo $E(X)=7$."
   ]
  },
  {
   "cell_type": "code",
   "execution_count": null,
   "metadata": {},
   "outputs": [],
   "source": []
  },
  {
   "cell_type": "markdown",
   "metadata": {},
   "source": [
    "### Varijansa i standardna devijacija diskretne slučajne promenljive"
   ]
  },
  {
   "cell_type": "markdown",
   "metadata": {},
   "source": [
    "Varijansa je mera koja ukazuje na to koliko su vrednosti diskretne slučajne promenljive raspršene (engl. spread) oko srednje vrednosti tj. očekivanja."
   ]
  },
  {
   "cell_type": "markdown",
   "metadata": {},
   "source": [
    "Neka je X slučajna veličina sa očekivanjem $E(X)=\\mu$, `varijansa slučajne veličine` $Var(X)$ se definiše kao $$Var(X)=E((X-\\mu)^2)= \\sum{p(x_i) (x_i-\\mu)^2}$$."
   ]
  },
  {
   "cell_type": "markdown",
   "metadata": {},
   "source": [
    "`Standardna devijacija` $\\sigma$ slučajne veličine X se definiše kao koren varijanse $\\sqrt{Var(X)}$. Ona se izračunava u istim merama kao i slučajna veličina X."
   ]
  },
  {
   "cell_type": "markdown",
   "metadata": {},
   "source": [
    "Varijansa se često obeležava sa $\\sigma^2$."
   ]
  },
  {
   "cell_type": "markdown",
   "metadata": {},
   "source": [
    "Svojstva varijanse:\n",
    "- Ako su $X$ i $Y$ nezavisne slučajne veličine, tada je $Var(X+Y)=Var(X)+Var(Y)$.\n",
    "- Za konstante $a$ i $b$ važi $Var(aX+b) = a^2Var(X)$.\n",
    "- $Var(X) = E(X^2) - E(X)^2$"
   ]
  },
  {
   "cell_type": "code",
   "execution_count": null,
   "metadata": {},
   "outputs": [],
   "source": []
  },
  {
   "cell_type": "markdown",
   "metadata": {},
   "source": [
    "Pretpostavimo da treba izračunati srednju vrednost, varijansu i standardnu devijaciju slučajne veličine $X$ koja uzima vrednosti $1$, $3$ i $5$ redom sa verovatnoćama $1/4$, $1/4$ i $1/2$."
   ]
  },
  {
   "cell_type": "markdown",
   "metadata": {},
   "source": [
    "Kako je $E(X)= 1\\cdot 0.25 + 3 \\cdot 0.25 + 5 \\cdot 0.5 = 3.5$, veličina $X-E(X)$ uzima vrednosti $-2.5$, $0.5$, i $1.5$, a veličina $(X-E(X))^2$ vrednosti $6.25$, $0.25$ i $2.25$. Stoga je varijansa $0.25 \\cdot 6.25 + 0.25 \\cdot 0.25+0.5\\cdot 2.25 = 2.75$, a standardna devijacija $1.65$."
   ]
  },
  {
   "cell_type": "code",
   "execution_count": null,
   "metadata": {},
   "outputs": [],
   "source": []
  },
  {
   "cell_type": "markdown",
   "metadata": {},
   "source": [
    "## Zadaci za vežbu"
   ]
  },
  {
   "cell_type": "markdown",
   "metadata": {},
   "source": [
    "1) U kutiji se nalazi 5 crvenih i 2 zelene loptice. Dve loptice su izvučene jedna za drugom. Koja je verovatnoća da je druga loptica crvena?"
   ]
  },
  {
   "cell_type": "markdown",
   "metadata": {},
   "source": [
    "Rešenje - prvi način: "
   ]
  },
  {
   "cell_type": "code",
   "execution_count": 2,
   "metadata": {},
   "outputs": [],
   "source": [
    "# {C, C, C, C, C, Z, Z}\n",
    "# \n",
    "# _, _"
   ]
  },
  {
   "cell_type": "code",
   "execution_count": 3,
   "metadata": {},
   "outputs": [],
   "source": [
    "# Z, Z, C, C, C, C, C\n",
    "# Z, C, Z, C, C, C, C\n",
    "# _, _, _, _, _, _, _\n",
    "# (1,2), (1,3), (1,4), (1,5), (1,6), (1,7)\n",
    "#        (2,3), (2,4), (2,5), (2,6), (2,7)\n",
    "#               (3,4), (3,5), (3,6), (3,6)\n",
    "#                      (4,5), (4,6), (4,7)\n",
    "#                             (5,6), (5,7)\n",
    "#                                    (6,7)\n",
    "# 21 jednako verov ras\n",
    "# 1-6/21"
   ]
  },
  {
   "cell_type": "code",
   "execution_count": 4,
   "metadata": {},
   "outputs": [
    {
     "data": {
      "text/plain": [
       "0.7142857142857143"
      ]
     },
     "execution_count": 4,
     "metadata": {},
     "output_type": "execute_result"
    }
   ],
   "source": [
    "1 - 6/21"
   ]
  },
  {
   "cell_type": "markdown",
   "metadata": {},
   "source": [
    "Rešenje - drugi način:"
   ]
  },
  {
   "cell_type": "code",
   "execution_count": 5,
   "metadata": {},
   "outputs": [],
   "source": [
    "import random"
   ]
  },
  {
   "cell_type": "code",
   "execution_count": 6,
   "metadata": {},
   "outputs": [
    {
     "name": "stdout",
     "output_type": "stream",
     "text": [
      "0.71558\n"
     ]
    }
   ],
   "source": [
    "n_total = 100000\n",
    "n_valid = 0\n",
    "\n",
    "for _ in range(n_total):\n",
    "    first = random.choice('ZZCCCCC')\n",
    "    if first == 'Z':\n",
    "        second = random.choice('ZCCCCC')\n",
    "    else:\n",
    "        second = random.choice('ZZCCCC')\n",
    "    \n",
    "    if second == 'C':\n",
    "        n_valid += 1\n",
    "        \n",
    "print(n_valid/n_total)"
   ]
  },
  {
   "cell_type": "code",
   "execution_count": null,
   "metadata": {},
   "outputs": [],
   "source": []
  },
  {
   "cell_type": "markdown",
   "metadata": {},
   "source": [
    "2) Zamislimo da bacamo dve kockice. Ukoliko je suma dobijenih vrednosti 2, dobijamo 1000 dinara, u suprotnom gubimo 100 dinara. Koliku dobit očekujemo u proseku?"
   ]
  },
  {
   "cell_type": "code",
   "execution_count": 7,
   "metadata": {},
   "outputs": [],
   "source": [
    "# E = 1/36*1000 + 35/36*100"
   ]
  },
  {
   "cell_type": "code",
   "execution_count": null,
   "metadata": {},
   "outputs": [],
   "source": []
  },
  {
   "cell_type": "code",
   "execution_count": null,
   "metadata": {},
   "outputs": [],
   "source": []
  },
  {
   "cell_type": "code",
   "execution_count": null,
   "metadata": {},
   "outputs": [],
   "source": []
  },
  {
   "cell_type": "markdown",
   "metadata": {},
   "source": [
    "3) Neka je slučajna veličina $Y$ definisana za bacanje dveju kockica sa $Y(i, j)= max(i,j)$. Odrediti matematičko očekivanje i varijansu slučajne veličine $Y$."
   ]
  },
  {
   "cell_type": "code",
   "execution_count": null,
   "metadata": {},
   "outputs": [],
   "source": []
  },
  {
   "cell_type": "code",
   "execution_count": null,
   "metadata": {},
   "outputs": [],
   "source": []
  },
  {
   "cell_type": "code",
   "execution_count": null,
   "metadata": {},
   "outputs": [],
   "source": []
  },
  {
   "cell_type": "code",
   "execution_count": null,
   "metadata": {},
   "outputs": [],
   "source": []
  },
  {
   "cell_type": "markdown",
   "metadata": {},
   "source": [
    "4) Neka su $X$ i $Y$ dve nezavisne slučajne veličine za koje važi $Var(X) = 3$ i $Var(Y) = 5$. Izračunati $Var(3X+4)$ i $Var(X+3Y)$. "
   ]
  },
  {
   "cell_type": "code",
   "execution_count": null,
   "metadata": {},
   "outputs": [],
   "source": []
  },
  {
   "cell_type": "code",
   "execution_count": null,
   "metadata": {},
   "outputs": [],
   "source": []
  },
  {
   "cell_type": "code",
   "execution_count": null,
   "metadata": {},
   "outputs": [],
   "source": []
  },
  {
   "cell_type": "code",
   "execution_count": null,
   "metadata": {},
   "outputs": [],
   "source": []
  }
 ],
 "metadata": {
  "kernelspec": {
   "display_name": "Python 3",
   "language": "python",
   "name": "python3"
  },
  "language_info": {
   "codemirror_mode": {
    "name": "ipython",
    "version": 3
   },
   "file_extension": ".py",
   "mimetype": "text/x-python",
   "name": "python",
   "nbconvert_exporter": "python",
   "pygments_lexer": "ipython3",
   "version": "3.7.6"
  }
 },
 "nbformat": 4,
 "nbformat_minor": 4
}
